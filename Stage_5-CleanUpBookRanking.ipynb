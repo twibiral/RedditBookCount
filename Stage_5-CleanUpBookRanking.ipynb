{
 "cells": [
  {
   "cell_type": "markdown",
   "source": [
    "# Cleanup the book ranking\n",
    "\n",
    "The list contains a bunch of books that are not really books but common phrases (e.g. 'The Book'). They must be removed."
   ],
   "metadata": {
    "collapsed": false
   }
  },
  {
   "cell_type": "code",
   "execution_count": 1,
   "outputs": [],
   "source": [
    "import re\n",
    "import unidecode\n",
    "from pathlib import Path\n",
    "\n",
    "import pandas as pd\n",
    "\n",
    "BOOK_COUNT_DF = Path('./data/book_counts_raw.csv')\n",
    "BOOK_COUNT_CLEANED_DF = Path('./data/book_counts_cleaned.csv')\n",
    "HAND_PICKED_AMBIVALENT_TITLES = Path('./data/faux_book_titles')\n",
    "NON_ALPHANUMERIC = re.compile(r'[\\W_]+')\n",
    "\n",
    "def normalize_text(title: str) -> str:\n",
    "    \"\"\"\n",
    "    Removes special characters, makes the string lowercase and returns the new string.\n",
    "    \"\"\"\n",
    "    text = unidecode.unidecode(title)\n",
    "    text = text.lower()\n",
    "    text = re.sub(NON_ALPHANUMERIC, '', text)\n",
    "    text = text.strip()\n",
    "\n",
    "    if title[:4].lower() == 'the ':     # Starts with 'The ', 'A ' or 'An '\n",
    "        text = text[3:]\n",
    "    elif title[:3].lower() == 'an ':\n",
    "        text = text[2:]\n",
    "    elif title[:2].lower() == 'a ':\n",
    "        text = text[1:]\n",
    "\n",
    "    return text"
   ],
   "metadata": {
    "collapsed": false
   }
  },
  {
   "cell_type": "code",
   "execution_count": 2,
   "metadata": {
    "collapsed": true
   },
   "outputs": [
    {
     "data": {
      "text/plain": "       Year                     Title     Normalized Title Post or Comment  \\\n0      2021                  The Heir                 heir            post   \n1      2020                  The Heir                 heir            post   \n2      2022                  The Heir                 heir            post   \n3      2022                  The Heir                 heir         comment   \n4      2018                  The Heir                 heir            post   \n...     ...                       ...                  ...             ...   \n83564  2021   All the President's Men  allthepresidentsmen            post   \n83565  2021             Show-Stopper!          showstopper            post   \n83566  2021    The Angel of the Crows      angelofthecrows            post   \n83567  2021  The Witness for the Dead    witnessforthedead            post   \n83568  2015                 Greyhound            greyhound            post   \n\n       Occurrences  \n0             4084  \n1             3237  \n2             3153  \n3             3151  \n4             2221  \n...            ...  \n83564            1  \n83565            1  \n83566            1  \n83567            1  \n83568            1  \n\n[83569 rows x 5 columns]",
      "text/html": "<div>\n<style scoped>\n    .dataframe tbody tr th:only-of-type {\n        vertical-align: middle;\n    }\n\n    .dataframe tbody tr th {\n        vertical-align: top;\n    }\n\n    .dataframe thead th {\n        text-align: right;\n    }\n</style>\n<table border=\"1\" class=\"dataframe\">\n  <thead>\n    <tr style=\"text-align: right;\">\n      <th></th>\n      <th>Year</th>\n      <th>Title</th>\n      <th>Normalized Title</th>\n      <th>Post or Comment</th>\n      <th>Occurrences</th>\n    </tr>\n  </thead>\n  <tbody>\n    <tr>\n      <th>0</th>\n      <td>2021</td>\n      <td>The Heir</td>\n      <td>heir</td>\n      <td>post</td>\n      <td>4084</td>\n    </tr>\n    <tr>\n      <th>1</th>\n      <td>2020</td>\n      <td>The Heir</td>\n      <td>heir</td>\n      <td>post</td>\n      <td>3237</td>\n    </tr>\n    <tr>\n      <th>2</th>\n      <td>2022</td>\n      <td>The Heir</td>\n      <td>heir</td>\n      <td>post</td>\n      <td>3153</td>\n    </tr>\n    <tr>\n      <th>3</th>\n      <td>2022</td>\n      <td>The Heir</td>\n      <td>heir</td>\n      <td>comment</td>\n      <td>3151</td>\n    </tr>\n    <tr>\n      <th>4</th>\n      <td>2018</td>\n      <td>The Heir</td>\n      <td>heir</td>\n      <td>post</td>\n      <td>2221</td>\n    </tr>\n    <tr>\n      <th>...</th>\n      <td>...</td>\n      <td>...</td>\n      <td>...</td>\n      <td>...</td>\n      <td>...</td>\n    </tr>\n    <tr>\n      <th>83564</th>\n      <td>2021</td>\n      <td>All the President's Men</td>\n      <td>allthepresidentsmen</td>\n      <td>post</td>\n      <td>1</td>\n    </tr>\n    <tr>\n      <th>83565</th>\n      <td>2021</td>\n      <td>Show-Stopper!</td>\n      <td>showstopper</td>\n      <td>post</td>\n      <td>1</td>\n    </tr>\n    <tr>\n      <th>83566</th>\n      <td>2021</td>\n      <td>The Angel of the Crows</td>\n      <td>angelofthecrows</td>\n      <td>post</td>\n      <td>1</td>\n    </tr>\n    <tr>\n      <th>83567</th>\n      <td>2021</td>\n      <td>The Witness for the Dead</td>\n      <td>witnessforthedead</td>\n      <td>post</td>\n      <td>1</td>\n    </tr>\n    <tr>\n      <th>83568</th>\n      <td>2015</td>\n      <td>Greyhound</td>\n      <td>greyhound</td>\n      <td>post</td>\n      <td>1</td>\n    </tr>\n  </tbody>\n</table>\n<p>83569 rows × 5 columns</p>\n</div>"
     },
     "execution_count": 2,
     "metadata": {},
     "output_type": "execute_result"
    }
   ],
   "source": [
    "book_ranking = pd.read_csv(BOOK_COUNT_DF, index_col=0)\n",
    "book_ranking['Title'] = book_ranking['Title'].astype(str).str.strip('\"')\n",
    "book_ranking"
   ]
  },
  {
   "cell_type": "code",
   "execution_count": 3,
   "outputs": [
    {
     "name": "stdout",
     "output_type": "stream",
     "text": [
      "Collected 855 titles that have an ambivalent meaning and cannot be distinguished from normal phrases or sentences. They are removed from the ranking.\n"
     ]
    }
   ],
   "source": [
    "# Ambivalent book titles that should be removed:\n",
    "faux_titles = {normalize_text(title) for title in HAND_PICKED_AMBIVALENT_TITLES.read_text().splitlines(keepends=False)}\n",
    "print(f'Collected {len(faux_titles):,} titles that have an ambivalent meaning and cannot be distinguished from normal phrases or sentences. They are removed from the ranking.')"
   ],
   "metadata": {
    "collapsed": false
   }
  },
  {
   "cell_type": "code",
   "execution_count": 4,
   "outputs": [
    {
     "data": {
      "text/plain": "       Year                         Title           Normalized Title  \\\n1      2012              The Hunger Games                hungergames   \n2      2020                          1984                       1984   \n3      2021                          Dune                       dune   \n4      2021                          1984                       1984   \n5      2020                          Dune                       dune   \n...     ...                           ...                        ...   \n83300  2011                      Anábasis                   anabasis   \n83301  2011                  The oresteia                   oresteia   \n83302  2011  Existentialism is a humanism  existentialismisahumanism   \n83303  2015          Here comes everybody         herecomeseverybody   \n83304  2015                     Greyhound                  greyhound   \n\n      Post or Comment  Occurrences  \n1                post          326  \n2                post          310  \n3                post          310  \n4                post          297  \n5                post          286  \n...               ...          ...  \n83300            post            1  \n83301            post            1  \n83302            post            1  \n83303            post            1  \n83304            post            1  \n\n[83304 rows x 5 columns]",
      "text/html": "<div>\n<style scoped>\n    .dataframe tbody tr th:only-of-type {\n        vertical-align: middle;\n    }\n\n    .dataframe tbody tr th {\n        vertical-align: top;\n    }\n\n    .dataframe thead th {\n        text-align: right;\n    }\n</style>\n<table border=\"1\" class=\"dataframe\">\n  <thead>\n    <tr style=\"text-align: right;\">\n      <th></th>\n      <th>Year</th>\n      <th>Title</th>\n      <th>Normalized Title</th>\n      <th>Post or Comment</th>\n      <th>Occurrences</th>\n    </tr>\n  </thead>\n  <tbody>\n    <tr>\n      <th>1</th>\n      <td>2012</td>\n      <td>The Hunger Games</td>\n      <td>hungergames</td>\n      <td>post</td>\n      <td>326</td>\n    </tr>\n    <tr>\n      <th>2</th>\n      <td>2020</td>\n      <td>1984</td>\n      <td>1984</td>\n      <td>post</td>\n      <td>310</td>\n    </tr>\n    <tr>\n      <th>3</th>\n      <td>2021</td>\n      <td>Dune</td>\n      <td>dune</td>\n      <td>post</td>\n      <td>310</td>\n    </tr>\n    <tr>\n      <th>4</th>\n      <td>2021</td>\n      <td>1984</td>\n      <td>1984</td>\n      <td>post</td>\n      <td>297</td>\n    </tr>\n    <tr>\n      <th>5</th>\n      <td>2020</td>\n      <td>Dune</td>\n      <td>dune</td>\n      <td>post</td>\n      <td>286</td>\n    </tr>\n    <tr>\n      <th>...</th>\n      <td>...</td>\n      <td>...</td>\n      <td>...</td>\n      <td>...</td>\n      <td>...</td>\n    </tr>\n    <tr>\n      <th>83300</th>\n      <td>2011</td>\n      <td>Anábasis</td>\n      <td>anabasis</td>\n      <td>post</td>\n      <td>1</td>\n    </tr>\n    <tr>\n      <th>83301</th>\n      <td>2011</td>\n      <td>The oresteia</td>\n      <td>oresteia</td>\n      <td>post</td>\n      <td>1</td>\n    </tr>\n    <tr>\n      <th>83302</th>\n      <td>2011</td>\n      <td>Existentialism is a humanism</td>\n      <td>existentialismisahumanism</td>\n      <td>post</td>\n      <td>1</td>\n    </tr>\n    <tr>\n      <th>83303</th>\n      <td>2015</td>\n      <td>Here comes everybody</td>\n      <td>herecomeseverybody</td>\n      <td>post</td>\n      <td>1</td>\n    </tr>\n    <tr>\n      <th>83304</th>\n      <td>2015</td>\n      <td>Greyhound</td>\n      <td>greyhound</td>\n      <td>post</td>\n      <td>1</td>\n    </tr>\n  </tbody>\n</table>\n<p>83304 rows × 5 columns</p>\n</div>"
     },
     "execution_count": 4,
     "metadata": {},
     "output_type": "execute_result"
    }
   ],
   "source": [
    "filtered_book_ranking = book_ranking[~book_ranking['Normalized Title'].isin(faux_titles)]\n",
    "filtered_book_ranking = pd.DataFrame(filtered_book_ranking.sort_values('Occurrences', ascending=False, ignore_index=True))\n",
    "filtered_book_ranking.index = filtered_book_ranking.index + 1\n",
    "\n",
    "filtered_book_ranking"
   ],
   "metadata": {
    "collapsed": false
   }
  },
  {
   "cell_type": "code",
   "execution_count": 5,
   "outputs": [
    {
     "name": "stderr",
     "output_type": "stream",
     "text": [
      "C:\\Users\\timwi\\AppData\\Local\\Temp\\ipykernel_21832\\103150657.py:2: FutureWarning: The default value of numeric_only in DataFrameGroupBy.sum is deprecated. In a future version, numeric_only will default to False. Either specify numeric_only or select only columns which should be valid for the function.\n",
      "  absolute_rank = pd.DataFrame(filtered_book_ranking.groupby(['Title', 'Normalized Title']).sum()).sort_values('Occurrences', ascending=False)\n"
     ]
    },
    {
     "data": {
      "text/plain": "                  Title Normalized Title  Occurrences\n0                  Dune             dune         2306\n1                  1984             1984         2229\n2      The Hunger Games      hungergames         1176\n3         Infinite jest     infinitejest         1045\n4            The Hobbit           hobbit          999\n...                 ...              ...          ...\n21333      Chasing Fire      chasingfire            1\n21334       Silent prey       silentprey            1\n21335   Silent messages   silentmessages            1\n21336     Silent killer     silentkiller            1\n21337                返祖            fanzu            1\n\n[21338 rows x 3 columns]",
      "text/html": "<div>\n<style scoped>\n    .dataframe tbody tr th:only-of-type {\n        vertical-align: middle;\n    }\n\n    .dataframe tbody tr th {\n        vertical-align: top;\n    }\n\n    .dataframe thead th {\n        text-align: right;\n    }\n</style>\n<table border=\"1\" class=\"dataframe\">\n  <thead>\n    <tr style=\"text-align: right;\">\n      <th></th>\n      <th>Title</th>\n      <th>Normalized Title</th>\n      <th>Occurrences</th>\n    </tr>\n  </thead>\n  <tbody>\n    <tr>\n      <th>0</th>\n      <td>Dune</td>\n      <td>dune</td>\n      <td>2306</td>\n    </tr>\n    <tr>\n      <th>1</th>\n      <td>1984</td>\n      <td>1984</td>\n      <td>2229</td>\n    </tr>\n    <tr>\n      <th>2</th>\n      <td>The Hunger Games</td>\n      <td>hungergames</td>\n      <td>1176</td>\n    </tr>\n    <tr>\n      <th>3</th>\n      <td>Infinite jest</td>\n      <td>infinitejest</td>\n      <td>1045</td>\n    </tr>\n    <tr>\n      <th>4</th>\n      <td>The Hobbit</td>\n      <td>hobbit</td>\n      <td>999</td>\n    </tr>\n    <tr>\n      <th>...</th>\n      <td>...</td>\n      <td>...</td>\n      <td>...</td>\n    </tr>\n    <tr>\n      <th>21333</th>\n      <td>Chasing Fire</td>\n      <td>chasingfire</td>\n      <td>1</td>\n    </tr>\n    <tr>\n      <th>21334</th>\n      <td>Silent prey</td>\n      <td>silentprey</td>\n      <td>1</td>\n    </tr>\n    <tr>\n      <th>21335</th>\n      <td>Silent messages</td>\n      <td>silentmessages</td>\n      <td>1</td>\n    </tr>\n    <tr>\n      <th>21336</th>\n      <td>Silent killer</td>\n      <td>silentkiller</td>\n      <td>1</td>\n    </tr>\n    <tr>\n      <th>21337</th>\n      <td>返祖</td>\n      <td>fanzu</td>\n      <td>1</td>\n    </tr>\n  </tbody>\n</table>\n<p>21338 rows × 3 columns</p>\n</div>"
     },
     "execution_count": 5,
     "metadata": {},
     "output_type": "execute_result"
    }
   ],
   "source": [
    "# Absolute ranking:\n",
    "absolute_rank = pd.DataFrame(filtered_book_ranking.groupby(['Title', 'Normalized Title']).sum()).sort_values('Occurrences', ascending=False)\n",
    "absolute_rank[['Occurrences']].reset_index()"
   ],
   "metadata": {
    "collapsed": false
   }
  },
  {
   "cell_type": "code",
   "execution_count": 6,
   "outputs": [],
   "source": [
    "filtered_book_ranking.to_csv(BOOK_COUNT_CLEANED_DF)"
   ],
   "metadata": {
    "collapsed": false
   }
  },
  {
   "cell_type": "markdown",
   "source": [],
   "metadata": {
    "collapsed": false
   }
  }
 ],
 "metadata": {
  "kernelspec": {
   "display_name": "Python 3",
   "language": "python",
   "name": "python3"
  },
  "language_info": {
   "codemirror_mode": {
    "name": "ipython",
    "version": 2
   },
   "file_extension": ".py",
   "mimetype": "text/x-python",
   "name": "python",
   "nbconvert_exporter": "python",
   "pygments_lexer": "ipython2",
   "version": "2.7.6"
  }
 },
 "nbformat": 4,
 "nbformat_minor": 0
}
