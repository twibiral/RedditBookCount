{
 "cells": [
  {
   "cell_type": "markdown",
   "source": [
    "# Cleanup the book ranking\n",
    "\n",
    "The list contains a bunch of books that are not really books but common phrases (e.g. 'The Book'). They must be removed."
   ],
   "metadata": {
    "collapsed": false
   }
  },
  {
   "cell_type": "code",
   "execution_count": 1,
   "outputs": [],
   "source": [
    "import re\n",
    "import unidecode\n",
    "from pathlib import Path\n",
    "\n",
    "import pandas as pd\n",
    "\n",
    "BOOK_COUNT_DF = Path('./data/book_counts_raw.csv')\n",
    "BOOK_COUNT_CLEANED_DF = Path('./data/book_counts_cleaned.csv')\n",
    "HAND_PICKED_AMBIVALENT_TITLES = Path('./data/faux_book_titles')\n",
    "NON_ALPHANUMERIC = re.compile(r'[\\W_]+')\n",
    "\n",
    "def normalize_text(title: str) -> str:\n",
    "    \"\"\"\n",
    "    Removes special characters, makes the string lowercase and returns the new string.\n",
    "    \"\"\"\n",
    "    text = unidecode.unidecode(title)\n",
    "    text = text.lower()\n",
    "    text = re.sub(NON_ALPHANUMERIC, '', text)\n",
    "    text = text.strip()\n",
    "\n",
    "    if title[:4].lower() == 'the ':     # Starts with 'The ', 'A ' or 'An '\n",
    "        text = text[3:]\n",
    "    elif title[:3].lower() == 'an ':\n",
    "        text = text[2:]\n",
    "    elif title[:2].lower() == 'a ':\n",
    "        text = text[1:]\n",
    "\n",
    "    return text"
   ],
   "metadata": {
    "collapsed": false
   }
  },
  {
   "cell_type": "code",
   "execution_count": 2,
   "metadata": {
    "collapsed": true
   },
   "outputs": [
    {
     "data": {
      "text/plain": "        Year                    Title      Normalized Title Post or Comment  \\\n0       2020                    Dread                 dread            post   \n1       2021                    Dread                 dread            post   \n2       2018                    Dread                 dread            post   \n3       2022                    Dread                 dread            post   \n4       2022                    Dread                 dread         comment   \n...      ...                      ...                   ...             ...   \n101553  2021          Small Victories        smallvictories            post   \n101554  2021                Dark days              darkdays            post   \n101555  2021  Africa's Tarnished Name  africastarnishedname            post   \n101556  2021        Perfect strangers      perfectstrangers            post   \n101557  2015               The fresco                fresco            post   \n\n        Occurrences  \n0              6361  \n1              5834  \n2              3411  \n3              3235  \n4              3224  \n...             ...  \n101553            1  \n101554            1  \n101555            1  \n101556            1  \n101557            1  \n\n[101558 rows x 5 columns]",
      "text/html": "<div>\n<style scoped>\n    .dataframe tbody tr th:only-of-type {\n        vertical-align: middle;\n    }\n\n    .dataframe tbody tr th {\n        vertical-align: top;\n    }\n\n    .dataframe thead th {\n        text-align: right;\n    }\n</style>\n<table border=\"1\" class=\"dataframe\">\n  <thead>\n    <tr style=\"text-align: right;\">\n      <th></th>\n      <th>Year</th>\n      <th>Title</th>\n      <th>Normalized Title</th>\n      <th>Post or Comment</th>\n      <th>Occurrences</th>\n    </tr>\n  </thead>\n  <tbody>\n    <tr>\n      <th>0</th>\n      <td>2020</td>\n      <td>Dread</td>\n      <td>dread</td>\n      <td>post</td>\n      <td>6361</td>\n    </tr>\n    <tr>\n      <th>1</th>\n      <td>2021</td>\n      <td>Dread</td>\n      <td>dread</td>\n      <td>post</td>\n      <td>5834</td>\n    </tr>\n    <tr>\n      <th>2</th>\n      <td>2018</td>\n      <td>Dread</td>\n      <td>dread</td>\n      <td>post</td>\n      <td>3411</td>\n    </tr>\n    <tr>\n      <th>3</th>\n      <td>2022</td>\n      <td>Dread</td>\n      <td>dread</td>\n      <td>post</td>\n      <td>3235</td>\n    </tr>\n    <tr>\n      <th>4</th>\n      <td>2022</td>\n      <td>Dread</td>\n      <td>dread</td>\n      <td>comment</td>\n      <td>3224</td>\n    </tr>\n    <tr>\n      <th>...</th>\n      <td>...</td>\n      <td>...</td>\n      <td>...</td>\n      <td>...</td>\n      <td>...</td>\n    </tr>\n    <tr>\n      <th>101553</th>\n      <td>2021</td>\n      <td>Small Victories</td>\n      <td>smallvictories</td>\n      <td>post</td>\n      <td>1</td>\n    </tr>\n    <tr>\n      <th>101554</th>\n      <td>2021</td>\n      <td>Dark days</td>\n      <td>darkdays</td>\n      <td>post</td>\n      <td>1</td>\n    </tr>\n    <tr>\n      <th>101555</th>\n      <td>2021</td>\n      <td>Africa's Tarnished Name</td>\n      <td>africastarnishedname</td>\n      <td>post</td>\n      <td>1</td>\n    </tr>\n    <tr>\n      <th>101556</th>\n      <td>2021</td>\n      <td>Perfect strangers</td>\n      <td>perfectstrangers</td>\n      <td>post</td>\n      <td>1</td>\n    </tr>\n    <tr>\n      <th>101557</th>\n      <td>2015</td>\n      <td>The fresco</td>\n      <td>fresco</td>\n      <td>post</td>\n      <td>1</td>\n    </tr>\n  </tbody>\n</table>\n<p>101558 rows × 5 columns</p>\n</div>"
     },
     "execution_count": 2,
     "metadata": {},
     "output_type": "execute_result"
    }
   ],
   "source": [
    "book_ranking = pd.read_csv(BOOK_COUNT_DF, index_col=0)\n",
    "book_ranking['Title'] = book_ranking['Title'].astype(str).str.strip('\"')\n",
    "book_ranking"
   ]
  },
  {
   "cell_type": "code",
   "execution_count": 3,
   "outputs": [
    {
     "name": "stdout",
     "output_type": "stream",
     "text": [
      "Collected 1,043 titles that have an ambivalent meaning and cannot be distinguished from normal phrases or sentences. They are removed from the ranking.\n"
     ]
    }
   ],
   "source": [
    "# Ambivalent book titles that should be removed:\n",
    "faux_titles = {normalize_text(title) for title in HAND_PICKED_AMBIVALENT_TITLES.read_text(encoding='utf-8').splitlines(keepends=False)}\n",
    "print(f'Collected {len(faux_titles):,} titles that have an ambivalent meaning and cannot be distinguished from normal phrases or sentences. They are removed from the ranking.')"
   ],
   "metadata": {
    "collapsed": false
   }
  },
  {
   "cell_type": "code",
   "execution_count": 4,
   "outputs": [
    {
     "data": {
      "text/plain": "       Year                   Title    Normalized Title Post or Comment  \\\n1      2016            Harry Potter         harrypotter            post   \n2      2012        The Hunger Games         hungergames            post   \n3      2020                    1984                1984            post   \n4      2015            Harry Potter         harrypotter            post   \n5      2021                    1984                1984            post   \n...     ...                     ...                 ...             ...   \n98801  2011     The origin of Satan       originofsatan            post   \n98802  2011  Smilla's sense of snow  smillassenseofsnow            post   \n98803  2011     Little Women and me    littlewomenandme            post   \n98804  2011        The honest truth         honesttruth            post   \n98805  2015              The fresco              fresco            post   \n\n       Occurrences  \n1              390  \n2              326  \n3              310  \n4              310  \n5              297  \n...            ...  \n98801            1  \n98802            1  \n98803            1  \n98804            1  \n98805            1  \n\n[98805 rows x 5 columns]",
      "text/html": "<div>\n<style scoped>\n    .dataframe tbody tr th:only-of-type {\n        vertical-align: middle;\n    }\n\n    .dataframe tbody tr th {\n        vertical-align: top;\n    }\n\n    .dataframe thead th {\n        text-align: right;\n    }\n</style>\n<table border=\"1\" class=\"dataframe\">\n  <thead>\n    <tr style=\"text-align: right;\">\n      <th></th>\n      <th>Year</th>\n      <th>Title</th>\n      <th>Normalized Title</th>\n      <th>Post or Comment</th>\n      <th>Occurrences</th>\n    </tr>\n  </thead>\n  <tbody>\n    <tr>\n      <th>1</th>\n      <td>2016</td>\n      <td>Harry Potter</td>\n      <td>harrypotter</td>\n      <td>post</td>\n      <td>390</td>\n    </tr>\n    <tr>\n      <th>2</th>\n      <td>2012</td>\n      <td>The Hunger Games</td>\n      <td>hungergames</td>\n      <td>post</td>\n      <td>326</td>\n    </tr>\n    <tr>\n      <th>3</th>\n      <td>2020</td>\n      <td>1984</td>\n      <td>1984</td>\n      <td>post</td>\n      <td>310</td>\n    </tr>\n    <tr>\n      <th>4</th>\n      <td>2015</td>\n      <td>Harry Potter</td>\n      <td>harrypotter</td>\n      <td>post</td>\n      <td>310</td>\n    </tr>\n    <tr>\n      <th>5</th>\n      <td>2021</td>\n      <td>1984</td>\n      <td>1984</td>\n      <td>post</td>\n      <td>297</td>\n    </tr>\n    <tr>\n      <th>...</th>\n      <td>...</td>\n      <td>...</td>\n      <td>...</td>\n      <td>...</td>\n      <td>...</td>\n    </tr>\n    <tr>\n      <th>98801</th>\n      <td>2011</td>\n      <td>The origin of Satan</td>\n      <td>originofsatan</td>\n      <td>post</td>\n      <td>1</td>\n    </tr>\n    <tr>\n      <th>98802</th>\n      <td>2011</td>\n      <td>Smilla's sense of snow</td>\n      <td>smillassenseofsnow</td>\n      <td>post</td>\n      <td>1</td>\n    </tr>\n    <tr>\n      <th>98803</th>\n      <td>2011</td>\n      <td>Little Women and me</td>\n      <td>littlewomenandme</td>\n      <td>post</td>\n      <td>1</td>\n    </tr>\n    <tr>\n      <th>98804</th>\n      <td>2011</td>\n      <td>The honest truth</td>\n      <td>honesttruth</td>\n      <td>post</td>\n      <td>1</td>\n    </tr>\n    <tr>\n      <th>98805</th>\n      <td>2015</td>\n      <td>The fresco</td>\n      <td>fresco</td>\n      <td>post</td>\n      <td>1</td>\n    </tr>\n  </tbody>\n</table>\n<p>98805 rows × 5 columns</p>\n</div>"
     },
     "execution_count": 4,
     "metadata": {},
     "output_type": "execute_result"
    }
   ],
   "source": [
    "filtered_book_ranking = book_ranking[~book_ranking['Normalized Title'].isin(faux_titles)]\n",
    "filtered_book_ranking = pd.DataFrame(filtered_book_ranking.sort_values('Occurrences', ascending=False, ignore_index=True))\n",
    "filtered_book_ranking.index = filtered_book_ranking.index + 1\n",
    "\n",
    "filtered_book_ranking"
   ],
   "metadata": {
    "collapsed": false
   }
  },
  {
   "cell_type": "code",
   "execution_count": 5,
   "outputs": [
    {
     "name": "stderr",
     "output_type": "stream",
     "text": [
      "C:\\Users\\timwi\\AppData\\Local\\Temp\\ipykernel_5056\\103150657.py:2: FutureWarning: The default value of numeric_only in DataFrameGroupBy.sum is deprecated. In a future version, numeric_only will default to False. Either specify numeric_only or select only columns which should be valid for the function.\n",
      "  absolute_rank = pd.DataFrame(filtered_book_ranking.groupby(['Title', 'Normalized Title']).sum()).sort_values('Occurrences', ascending=False)\n"
     ]
    },
    {
     "data": {
      "text/plain": "                            Title        Normalized Title  Occurrences\n0                    Harry Potter             harrypotter         3151\n1                            1984                    1984         2232\n2           The Lord of the Rings          lordoftherings         1225\n3                The Hunger Games             hungergames         1176\n4                           Bible                   bible         1067\n...                           ...                     ...          ...\n23482  Black holes and time warps  blackholesandtimewarps            1\n23483               Black heather            blackheather            1\n23484                  Scar night               scarnight            1\n23485                Scared Stiff             scaredstiff            1\n23486                          返祖                   fanzu            1\n\n[23487 rows x 3 columns]",
      "text/html": "<div>\n<style scoped>\n    .dataframe tbody tr th:only-of-type {\n        vertical-align: middle;\n    }\n\n    .dataframe tbody tr th {\n        vertical-align: top;\n    }\n\n    .dataframe thead th {\n        text-align: right;\n    }\n</style>\n<table border=\"1\" class=\"dataframe\">\n  <thead>\n    <tr style=\"text-align: right;\">\n      <th></th>\n      <th>Title</th>\n      <th>Normalized Title</th>\n      <th>Occurrences</th>\n    </tr>\n  </thead>\n  <tbody>\n    <tr>\n      <th>0</th>\n      <td>Harry Potter</td>\n      <td>harrypotter</td>\n      <td>3151</td>\n    </tr>\n    <tr>\n      <th>1</th>\n      <td>1984</td>\n      <td>1984</td>\n      <td>2232</td>\n    </tr>\n    <tr>\n      <th>2</th>\n      <td>The Lord of the Rings</td>\n      <td>lordoftherings</td>\n      <td>1225</td>\n    </tr>\n    <tr>\n      <th>3</th>\n      <td>The Hunger Games</td>\n      <td>hungergames</td>\n      <td>1176</td>\n    </tr>\n    <tr>\n      <th>4</th>\n      <td>Bible</td>\n      <td>bible</td>\n      <td>1067</td>\n    </tr>\n    <tr>\n      <th>...</th>\n      <td>...</td>\n      <td>...</td>\n      <td>...</td>\n    </tr>\n    <tr>\n      <th>23482</th>\n      <td>Black holes and time warps</td>\n      <td>blackholesandtimewarps</td>\n      <td>1</td>\n    </tr>\n    <tr>\n      <th>23483</th>\n      <td>Black heather</td>\n      <td>blackheather</td>\n      <td>1</td>\n    </tr>\n    <tr>\n      <th>23484</th>\n      <td>Scar night</td>\n      <td>scarnight</td>\n      <td>1</td>\n    </tr>\n    <tr>\n      <th>23485</th>\n      <td>Scared Stiff</td>\n      <td>scaredstiff</td>\n      <td>1</td>\n    </tr>\n    <tr>\n      <th>23486</th>\n      <td>返祖</td>\n      <td>fanzu</td>\n      <td>1</td>\n    </tr>\n  </tbody>\n</table>\n<p>23487 rows × 3 columns</p>\n</div>"
     },
     "execution_count": 5,
     "metadata": {},
     "output_type": "execute_result"
    }
   ],
   "source": [
    "# Absolute ranking:\n",
    "absolute_rank = pd.DataFrame(filtered_book_ranking.groupby(['Title', 'Normalized Title']).sum()).sort_values('Occurrences', ascending=False)\n",
    "absolute_rank[['Occurrences']].reset_index()"
   ],
   "metadata": {
    "collapsed": false
   }
  },
  {
   "cell_type": "code",
   "execution_count": 6,
   "outputs": [],
   "source": [
    "filtered_book_ranking.to_csv(BOOK_COUNT_CLEANED_DF)"
   ],
   "metadata": {
    "collapsed": false
   }
  },
  {
   "cell_type": "markdown",
   "source": [],
   "metadata": {
    "collapsed": false
   }
  }
 ],
 "metadata": {
  "kernelspec": {
   "display_name": "Python 3",
   "language": "python",
   "name": "python3"
  },
  "language_info": {
   "codemirror_mode": {
    "name": "ipython",
    "version": 2
   },
   "file_extension": ".py",
   "mimetype": "text/x-python",
   "name": "python",
   "nbconvert_exporter": "python",
   "pygments_lexer": "ipython2",
   "version": "2.7.6"
  }
 },
 "nbformat": 4,
 "nbformat_minor": 0
}
