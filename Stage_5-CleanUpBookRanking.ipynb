{
 "cells": [
  {
   "cell_type": "markdown",
   "source": [
    "# Cleanup the book ranking\n",
    "\n",
    "The list contains a bunch of books that are not really books but common phrases (e.g. 'The Book'). They must be removed."
   ],
   "metadata": {
    "collapsed": false
   }
  },
  {
   "cell_type": "code",
   "execution_count": 25,
   "outputs": [],
   "source": [
    "import re\n",
    "import unidecode\n",
    "from pathlib import Path\n",
    "\n",
    "import pandas as pd\n",
    "\n",
    "BOOK_COUNT_DF = Path('./data/book_counts_raw.csv')\n",
    "BOOK_COUNT_CLEANED_DF = Path('./data/book_counts_cleaned.csv')\n",
    "HAND_PICKED_AMBIVALENT_TITLES = Path('./data/faux_book_titles')\n",
    "NON_ALPHANUMERIC = re.compile(r'[\\W_]+')\n",
    "\n",
    "def normalize_text(title: str) -> str:\n",
    "    \"\"\"\n",
    "    Removes special characters, makes the string lowercase and returns the new string.\n",
    "    \"\"\"\n",
    "    text = unidecode.unidecode(title)\n",
    "    text = text.lower()\n",
    "    text = re.sub(NON_ALPHANUMERIC, '', text)\n",
    "    text = text.strip()\n",
    "\n",
    "    if title[:4].lower() == 'the ':     # Starts with 'The ', 'A ' or 'An '\n",
    "        text = text[3:]\n",
    "    elif title[:3].lower() == 'an ':\n",
    "        text = text[2:]\n",
    "    elif title[:2].lower() == 'a ':\n",
    "        text = text[1:]\n",
    "\n",
    "    return text"
   ],
   "metadata": {
    "collapsed": false
   }
  },
  {
   "cell_type": "code",
   "execution_count": 26,
   "metadata": {
    "collapsed": true
   },
   "outputs": [
    {
     "data": {
      "text/plain": "       Year                     Title       Normalized Title Post or Comment  \\\n0      2021                  The Heir                   heir            post   \n1      2020                  The Heir                   heir            post   \n2      2022                  The Heir                   heir            post   \n3      2022                  The Heir                   heir         comment   \n4      2018                  The Heir                   heir            post   \n...     ...                       ...                    ...             ...   \n83440  2021              Song of Kali             songofkali            post   \n83441  2021               Stravaganza            stravaganza            post   \n83442  2021          The heartbreaker           heartbreaker            post   \n83443  2021  Life is what you make it    lifeiswhatyoumakeit            post   \n83444  2015  Killing Yourself to Live  killingyourselftolive            post   \n\n       Occurrences  \n0             4084  \n1             3237  \n2             3153  \n3             3039  \n4             2221  \n...            ...  \n83440            1  \n83441            1  \n83442            1  \n83443            1  \n83444            1  \n\n[83445 rows x 5 columns]",
      "text/html": "<div>\n<style scoped>\n    .dataframe tbody tr th:only-of-type {\n        vertical-align: middle;\n    }\n\n    .dataframe tbody tr th {\n        vertical-align: top;\n    }\n\n    .dataframe thead th {\n        text-align: right;\n    }\n</style>\n<table border=\"1\" class=\"dataframe\">\n  <thead>\n    <tr style=\"text-align: right;\">\n      <th></th>\n      <th>Year</th>\n      <th>Title</th>\n      <th>Normalized Title</th>\n      <th>Post or Comment</th>\n      <th>Occurrences</th>\n    </tr>\n  </thead>\n  <tbody>\n    <tr>\n      <th>0</th>\n      <td>2021</td>\n      <td>The Heir</td>\n      <td>heir</td>\n      <td>post</td>\n      <td>4084</td>\n    </tr>\n    <tr>\n      <th>1</th>\n      <td>2020</td>\n      <td>The Heir</td>\n      <td>heir</td>\n      <td>post</td>\n      <td>3237</td>\n    </tr>\n    <tr>\n      <th>2</th>\n      <td>2022</td>\n      <td>The Heir</td>\n      <td>heir</td>\n      <td>post</td>\n      <td>3153</td>\n    </tr>\n    <tr>\n      <th>3</th>\n      <td>2022</td>\n      <td>The Heir</td>\n      <td>heir</td>\n      <td>comment</td>\n      <td>3039</td>\n    </tr>\n    <tr>\n      <th>4</th>\n      <td>2018</td>\n      <td>The Heir</td>\n      <td>heir</td>\n      <td>post</td>\n      <td>2221</td>\n    </tr>\n    <tr>\n      <th>...</th>\n      <td>...</td>\n      <td>...</td>\n      <td>...</td>\n      <td>...</td>\n      <td>...</td>\n    </tr>\n    <tr>\n      <th>83440</th>\n      <td>2021</td>\n      <td>Song of Kali</td>\n      <td>songofkali</td>\n      <td>post</td>\n      <td>1</td>\n    </tr>\n    <tr>\n      <th>83441</th>\n      <td>2021</td>\n      <td>Stravaganza</td>\n      <td>stravaganza</td>\n      <td>post</td>\n      <td>1</td>\n    </tr>\n    <tr>\n      <th>83442</th>\n      <td>2021</td>\n      <td>The heartbreaker</td>\n      <td>heartbreaker</td>\n      <td>post</td>\n      <td>1</td>\n    </tr>\n    <tr>\n      <th>83443</th>\n      <td>2021</td>\n      <td>Life is what you make it</td>\n      <td>lifeiswhatyoumakeit</td>\n      <td>post</td>\n      <td>1</td>\n    </tr>\n    <tr>\n      <th>83444</th>\n      <td>2015</td>\n      <td>Killing Yourself to Live</td>\n      <td>killingyourselftolive</td>\n      <td>post</td>\n      <td>1</td>\n    </tr>\n  </tbody>\n</table>\n<p>83445 rows × 5 columns</p>\n</div>"
     },
     "execution_count": 26,
     "metadata": {},
     "output_type": "execute_result"
    }
   ],
   "source": [
    "book_ranking = pd.read_csv(BOOK_COUNT_DF, index_col=0)\n",
    "book_ranking['Title'] = book_ranking['Title'].astype(str).str.strip('\"')\n",
    "book_ranking"
   ]
  },
  {
   "cell_type": "code",
   "execution_count": 27,
   "outputs": [
    {
     "name": "stdout",
     "output_type": "stream",
     "text": [
      "Collected 858 titles that have an ambivalent meaning and cannot be distinguished from normal phrases or sentences. They are removed from the ranking.\n"
     ]
    }
   ],
   "source": [
    "# Ambivalent book titles that should be removed:\n",
    "faux_titles = {normalize_text(title) for title in HAND_PICKED_AMBIVALENT_TITLES.read_text().splitlines(keepends=False)}\n",
    "print(f'Collected {len(faux_titles):,} titles that have an ambivalent meaning and cannot be distinguished from normal phrases or sentences. They are removed from the ranking.')"
   ],
   "metadata": {
    "collapsed": false
   }
  },
  {
   "cell_type": "code",
   "execution_count": 28,
   "outputs": [
    {
     "data": {
      "text/plain": "       Year                     Title       Normalized Title Post or Comment  \\\n1      2012          The Hunger Games            hungergames            post   \n2      2020                      1984                   1984            post   \n3      2021                      Dune                   dune            post   \n4      2021                      1984                   1984            post   \n5      2020                      Dune                   dune            post   \n...     ...                       ...                    ...             ...   \n83163  2012         A Gift from Earth          giftfromearth            post   \n83164  2012       Flight of the Horse       flightofthehorse            post   \n83165  2012          Achilles' choice         achilleschoice            post   \n83166  2012             Foreign Agent           foreignagent            post   \n83167  2015  Killing Yourself to Live  killingyourselftolive            post   \n\n       Occurrences  \n1              326  \n2              310  \n3              310  \n4              297  \n5              286  \n...            ...  \n83163            1  \n83164            1  \n83165            1  \n83166            1  \n83167            1  \n\n[83167 rows x 5 columns]",
      "text/html": "<div>\n<style scoped>\n    .dataframe tbody tr th:only-of-type {\n        vertical-align: middle;\n    }\n\n    .dataframe tbody tr th {\n        vertical-align: top;\n    }\n\n    .dataframe thead th {\n        text-align: right;\n    }\n</style>\n<table border=\"1\" class=\"dataframe\">\n  <thead>\n    <tr style=\"text-align: right;\">\n      <th></th>\n      <th>Year</th>\n      <th>Title</th>\n      <th>Normalized Title</th>\n      <th>Post or Comment</th>\n      <th>Occurrences</th>\n    </tr>\n  </thead>\n  <tbody>\n    <tr>\n      <th>1</th>\n      <td>2012</td>\n      <td>The Hunger Games</td>\n      <td>hungergames</td>\n      <td>post</td>\n      <td>326</td>\n    </tr>\n    <tr>\n      <th>2</th>\n      <td>2020</td>\n      <td>1984</td>\n      <td>1984</td>\n      <td>post</td>\n      <td>310</td>\n    </tr>\n    <tr>\n      <th>3</th>\n      <td>2021</td>\n      <td>Dune</td>\n      <td>dune</td>\n      <td>post</td>\n      <td>310</td>\n    </tr>\n    <tr>\n      <th>4</th>\n      <td>2021</td>\n      <td>1984</td>\n      <td>1984</td>\n      <td>post</td>\n      <td>297</td>\n    </tr>\n    <tr>\n      <th>5</th>\n      <td>2020</td>\n      <td>Dune</td>\n      <td>dune</td>\n      <td>post</td>\n      <td>286</td>\n    </tr>\n    <tr>\n      <th>...</th>\n      <td>...</td>\n      <td>...</td>\n      <td>...</td>\n      <td>...</td>\n      <td>...</td>\n    </tr>\n    <tr>\n      <th>83163</th>\n      <td>2012</td>\n      <td>A Gift from Earth</td>\n      <td>giftfromearth</td>\n      <td>post</td>\n      <td>1</td>\n    </tr>\n    <tr>\n      <th>83164</th>\n      <td>2012</td>\n      <td>Flight of the Horse</td>\n      <td>flightofthehorse</td>\n      <td>post</td>\n      <td>1</td>\n    </tr>\n    <tr>\n      <th>83165</th>\n      <td>2012</td>\n      <td>Achilles' choice</td>\n      <td>achilleschoice</td>\n      <td>post</td>\n      <td>1</td>\n    </tr>\n    <tr>\n      <th>83166</th>\n      <td>2012</td>\n      <td>Foreign Agent</td>\n      <td>foreignagent</td>\n      <td>post</td>\n      <td>1</td>\n    </tr>\n    <tr>\n      <th>83167</th>\n      <td>2015</td>\n      <td>Killing Yourself to Live</td>\n      <td>killingyourselftolive</td>\n      <td>post</td>\n      <td>1</td>\n    </tr>\n  </tbody>\n</table>\n<p>83167 rows × 5 columns</p>\n</div>"
     },
     "execution_count": 28,
     "metadata": {},
     "output_type": "execute_result"
    }
   ],
   "source": [
    "filtered_book_ranking = book_ranking[~book_ranking['Normalized Title'].isin(faux_titles)]\n",
    "filtered_book_ranking = pd.DataFrame(filtered_book_ranking.sort_values('Occurrences', ascending=False, ignore_index=True))\n",
    "filtered_book_ranking.index = filtered_book_ranking.index + 1\n",
    "\n",
    "filtered_book_ranking"
   ],
   "metadata": {
    "collapsed": false
   }
  },
  {
   "cell_type": "code",
   "execution_count": 29,
   "outputs": [
    {
     "name": "stderr",
     "output_type": "stream",
     "text": [
      "C:\\Users\\timwi\\AppData\\Local\\Temp\\ipykernel_3604\\103150657.py:2: FutureWarning: The default value of numeric_only in DataFrameGroupBy.sum is deprecated. In a future version, numeric_only will default to False. Either specify numeric_only or select only columns which should be valid for the function.\n",
      "  absolute_rank = pd.DataFrame(filtered_book_ranking.groupby(['Title', 'Normalized Title']).sum()).sort_values('Occurrences', ascending=False)\n"
     ]
    },
    {
     "data": {
      "text/plain": "                      Title    Normalized Title  Occurrences\n0                      Dune                dune         2303\n1                      1984                1984         2228\n2          The Hunger Games         hungergames         1173\n3             Infinite jest        infinitejest         1045\n4                The Hobbit              hobbit          992\n...                     ...                 ...          ...\n21330           Silent Kill          silentkill            1\n21331        Silence fallen       silencefallen            1\n21332         Signs of love         signsoflove            1\n21333  Signore Degli Anelli  signoredeglianelli            1\n21334                    返祖               fanzu            1\n\n[21335 rows x 3 columns]",
      "text/html": "<div>\n<style scoped>\n    .dataframe tbody tr th:only-of-type {\n        vertical-align: middle;\n    }\n\n    .dataframe tbody tr th {\n        vertical-align: top;\n    }\n\n    .dataframe thead th {\n        text-align: right;\n    }\n</style>\n<table border=\"1\" class=\"dataframe\">\n  <thead>\n    <tr style=\"text-align: right;\">\n      <th></th>\n      <th>Title</th>\n      <th>Normalized Title</th>\n      <th>Occurrences</th>\n    </tr>\n  </thead>\n  <tbody>\n    <tr>\n      <th>0</th>\n      <td>Dune</td>\n      <td>dune</td>\n      <td>2303</td>\n    </tr>\n    <tr>\n      <th>1</th>\n      <td>1984</td>\n      <td>1984</td>\n      <td>2228</td>\n    </tr>\n    <tr>\n      <th>2</th>\n      <td>The Hunger Games</td>\n      <td>hungergames</td>\n      <td>1173</td>\n    </tr>\n    <tr>\n      <th>3</th>\n      <td>Infinite jest</td>\n      <td>infinitejest</td>\n      <td>1045</td>\n    </tr>\n    <tr>\n      <th>4</th>\n      <td>The Hobbit</td>\n      <td>hobbit</td>\n      <td>992</td>\n    </tr>\n    <tr>\n      <th>...</th>\n      <td>...</td>\n      <td>...</td>\n      <td>...</td>\n    </tr>\n    <tr>\n      <th>21330</th>\n      <td>Silent Kill</td>\n      <td>silentkill</td>\n      <td>1</td>\n    </tr>\n    <tr>\n      <th>21331</th>\n      <td>Silence fallen</td>\n      <td>silencefallen</td>\n      <td>1</td>\n    </tr>\n    <tr>\n      <th>21332</th>\n      <td>Signs of love</td>\n      <td>signsoflove</td>\n      <td>1</td>\n    </tr>\n    <tr>\n      <th>21333</th>\n      <td>Signore Degli Anelli</td>\n      <td>signoredeglianelli</td>\n      <td>1</td>\n    </tr>\n    <tr>\n      <th>21334</th>\n      <td>返祖</td>\n      <td>fanzu</td>\n      <td>1</td>\n    </tr>\n  </tbody>\n</table>\n<p>21335 rows × 3 columns</p>\n</div>"
     },
     "execution_count": 29,
     "metadata": {},
     "output_type": "execute_result"
    }
   ],
   "source": [
    "# Absolute ranking:\n",
    "absolute_rank = pd.DataFrame(filtered_book_ranking.groupby(['Title', 'Normalized Title']).sum()).sort_values('Occurrences', ascending=False)\n",
    "absolute_rank[['Occurrences']].reset_index()"
   ],
   "metadata": {
    "collapsed": false
   }
  },
  {
   "cell_type": "code",
   "execution_count": 30,
   "outputs": [],
   "source": [
    "filtered_book_ranking.to_csv(BOOK_COUNT_CLEANED_DF)"
   ],
   "metadata": {
    "collapsed": false
   }
  },
  {
   "cell_type": "markdown",
   "source": [],
   "metadata": {
    "collapsed": false
   }
  }
 ],
 "metadata": {
  "kernelspec": {
   "display_name": "Python 3",
   "language": "python",
   "name": "python3"
  },
  "language_info": {
   "codemirror_mode": {
    "name": "ipython",
    "version": 2
   },
   "file_extension": ".py",
   "mimetype": "text/x-python",
   "name": "python",
   "nbconvert_exporter": "python",
   "pygments_lexer": "ipython2",
   "version": "2.7.6"
  }
 },
 "nbformat": 4,
 "nbformat_minor": 0
}
