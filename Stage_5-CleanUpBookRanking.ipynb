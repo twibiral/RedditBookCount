{
 "cells": [
  {
   "cell_type": "markdown",
   "source": [
    "# Cleanup the book ranking\n",
    "\n",
    "The list contains a bunch of books that are not really books but common phrases (e.g. 'The Book'). They must be removed."
   ],
   "metadata": {
    "collapsed": false
   }
  },
  {
   "cell_type": "code",
   "execution_count": 134,
   "outputs": [],
   "source": [
    "import re\n",
    "import unidecode\n",
    "from pathlib import Path\n",
    "\n",
    "import pandas as pd\n",
    "\n",
    "BOOK_COUNT_DF = Path('./data/book_counts_raw.csv')\n",
    "BOOK_COUNT_CLEANED_DF = Path('./data/book_counts_cleaned.csv')\n",
    "HAND_PICKED_AMBIVALENT_TITLES = Path('./data/faux_book_titles')\n",
    "NON_ALPHANUMERIC = re.compile(r'[\\W_]+')\n",
    "\n",
    "def normalize_text(title: str) -> str:\n",
    "    \"\"\"\n",
    "    Removes special characters, makes the string lowercase and returns the new string.\n",
    "    \"\"\"\n",
    "    text = unidecode.unidecode(title)\n",
    "    text = text.lower()\n",
    "    text = re.sub(NON_ALPHANUMERIC, '', text)\n",
    "    text = text.strip()\n",
    "\n",
    "    if title[:4].lower() == 'the ':     # Starts with 'The ', 'A ' or 'An '\n",
    "        text = text[3:]\n",
    "    elif title[:3].lower() == 'an ':\n",
    "        text = text[2:]\n",
    "    elif title[:2].lower() == 'a ':\n",
    "        text = text[1:]\n",
    "\n",
    "    return text"
   ],
   "metadata": {
    "collapsed": false
   }
  },
  {
   "cell_type": "code",
   "execution_count": 135,
   "metadata": {
    "collapsed": true
   },
   "outputs": [
    {
     "data": {
      "text/plain": "       Year                    Title      Normalized Title Post or Comment  \\\n0      2021                 The Heir                  heir            post   \n1      2020                 The Heir                  heir            post   \n2      2022                 The Heir                  heir            post   \n3      2022                 The Heir                  heir         comment   \n4      2021                     IONI                  ioni            post   \n...     ...                      ...                   ...             ...   \n89779  2021  Skeletons on the Zahara  skeletonsonthezahara            post   \n89780  2021               White Gold             whitegold            post   \n89781  2021         The church mouse           churchmouse            post   \n89782  2021           Vampire's kiss          vampireskiss            post   \n89783  2015              Sightseeing           sightseeing            post   \n\n       Occurrences  \n0             4080  \n1             3236  \n2             3153  \n3             3130  \n4             2615  \n...            ...  \n89779            1  \n89780            1  \n89781            1  \n89782            1  \n89783            1  \n\n[89784 rows x 5 columns]",
      "text/html": "<div>\n<style scoped>\n    .dataframe tbody tr th:only-of-type {\n        vertical-align: middle;\n    }\n\n    .dataframe tbody tr th {\n        vertical-align: top;\n    }\n\n    .dataframe thead th {\n        text-align: right;\n    }\n</style>\n<table border=\"1\" class=\"dataframe\">\n  <thead>\n    <tr style=\"text-align: right;\">\n      <th></th>\n      <th>Year</th>\n      <th>Title</th>\n      <th>Normalized Title</th>\n      <th>Post or Comment</th>\n      <th>Occurrences</th>\n    </tr>\n  </thead>\n  <tbody>\n    <tr>\n      <th>0</th>\n      <td>2021</td>\n      <td>The Heir</td>\n      <td>heir</td>\n      <td>post</td>\n      <td>4080</td>\n    </tr>\n    <tr>\n      <th>1</th>\n      <td>2020</td>\n      <td>The Heir</td>\n      <td>heir</td>\n      <td>post</td>\n      <td>3236</td>\n    </tr>\n    <tr>\n      <th>2</th>\n      <td>2022</td>\n      <td>The Heir</td>\n      <td>heir</td>\n      <td>post</td>\n      <td>3153</td>\n    </tr>\n    <tr>\n      <th>3</th>\n      <td>2022</td>\n      <td>The Heir</td>\n      <td>heir</td>\n      <td>comment</td>\n      <td>3130</td>\n    </tr>\n    <tr>\n      <th>4</th>\n      <td>2021</td>\n      <td>IONI</td>\n      <td>ioni</td>\n      <td>post</td>\n      <td>2615</td>\n    </tr>\n    <tr>\n      <th>...</th>\n      <td>...</td>\n      <td>...</td>\n      <td>...</td>\n      <td>...</td>\n      <td>...</td>\n    </tr>\n    <tr>\n      <th>89779</th>\n      <td>2021</td>\n      <td>Skeletons on the Zahara</td>\n      <td>skeletonsonthezahara</td>\n      <td>post</td>\n      <td>1</td>\n    </tr>\n    <tr>\n      <th>89780</th>\n      <td>2021</td>\n      <td>White Gold</td>\n      <td>whitegold</td>\n      <td>post</td>\n      <td>1</td>\n    </tr>\n    <tr>\n      <th>89781</th>\n      <td>2021</td>\n      <td>The church mouse</td>\n      <td>churchmouse</td>\n      <td>post</td>\n      <td>1</td>\n    </tr>\n    <tr>\n      <th>89782</th>\n      <td>2021</td>\n      <td>Vampire's kiss</td>\n      <td>vampireskiss</td>\n      <td>post</td>\n      <td>1</td>\n    </tr>\n    <tr>\n      <th>89783</th>\n      <td>2015</td>\n      <td>Sightseeing</td>\n      <td>sightseeing</td>\n      <td>post</td>\n      <td>1</td>\n    </tr>\n  </tbody>\n</table>\n<p>89784 rows × 5 columns</p>\n</div>"
     },
     "execution_count": 135,
     "metadata": {},
     "output_type": "execute_result"
    }
   ],
   "source": [
    "book_ranking = pd.read_csv(BOOK_COUNT_DF, index_col=0)\n",
    "book_ranking['Title'] = book_ranking['Title'].astype(str).str.strip('\"')\n",
    "book_ranking"
   ]
  },
  {
   "cell_type": "code",
   "execution_count": 136,
   "outputs": [
    {
     "name": "stdout",
     "output_type": "stream",
     "text": [
      "Collected 852 titles that have an ambivalent meaning and cannot be distinguished from normal phrases or sentences. They are removed from the ranking.\n"
     ]
    }
   ],
   "source": [
    "# Ambivalent book titles that should be removed:\n",
    "faux_titles = {normalize_text(title) for title in HAND_PICKED_AMBIVALENT_TITLES.read_text().splitlines(keepends=False)}\n",
    "print(f'Collected {len(faux_titles):,} titles that have an ambivalent meaning and cannot be distinguished from normal phrases or sentences. They are removed from the ranking.')"
   ],
   "metadata": {
    "collapsed": false
   }
  },
  {
   "cell_type": "code",
   "execution_count": 137,
   "outputs": [
    {
     "data": {
      "text/plain": "       Year                 Title Normalized Title Post or Comment  \\\n1      2012      The Hunger Games      hungergames            post   \n2      2021                  Dune             dune            post   \n3      2020                  1984             1984            post   \n4      2021                  1984             1984            post   \n5      2020                  Dune             dune            post   \n...     ...                   ...              ...             ...   \n83037  2011  A Giraffe and a Half  giraffeandahalf            post   \n83038  2012       Childhood's End    childhoodsend            post   \n83039  2015     Tales of Nevèrÿon  talesofneveryon            post   \n83040  2012          Fifth Avenue      fifthavenue            post   \n83041  2015           Sightseeing      sightseeing            post   \n\n       Occurrences  \n1              326  \n2              311  \n3              310  \n4              297  \n5              286  \n...            ...  \n83037            1  \n83038            1  \n83039            1  \n83040            1  \n83041            1  \n\n[83041 rows x 5 columns]",
      "text/html": "<div>\n<style scoped>\n    .dataframe tbody tr th:only-of-type {\n        vertical-align: middle;\n    }\n\n    .dataframe tbody tr th {\n        vertical-align: top;\n    }\n\n    .dataframe thead th {\n        text-align: right;\n    }\n</style>\n<table border=\"1\" class=\"dataframe\">\n  <thead>\n    <tr style=\"text-align: right;\">\n      <th></th>\n      <th>Year</th>\n      <th>Title</th>\n      <th>Normalized Title</th>\n      <th>Post or Comment</th>\n      <th>Occurrences</th>\n    </tr>\n  </thead>\n  <tbody>\n    <tr>\n      <th>1</th>\n      <td>2012</td>\n      <td>The Hunger Games</td>\n      <td>hungergames</td>\n      <td>post</td>\n      <td>326</td>\n    </tr>\n    <tr>\n      <th>2</th>\n      <td>2021</td>\n      <td>Dune</td>\n      <td>dune</td>\n      <td>post</td>\n      <td>311</td>\n    </tr>\n    <tr>\n      <th>3</th>\n      <td>2020</td>\n      <td>1984</td>\n      <td>1984</td>\n      <td>post</td>\n      <td>310</td>\n    </tr>\n    <tr>\n      <th>4</th>\n      <td>2021</td>\n      <td>1984</td>\n      <td>1984</td>\n      <td>post</td>\n      <td>297</td>\n    </tr>\n    <tr>\n      <th>5</th>\n      <td>2020</td>\n      <td>Dune</td>\n      <td>dune</td>\n      <td>post</td>\n      <td>286</td>\n    </tr>\n    <tr>\n      <th>...</th>\n      <td>...</td>\n      <td>...</td>\n      <td>...</td>\n      <td>...</td>\n      <td>...</td>\n    </tr>\n    <tr>\n      <th>83037</th>\n      <td>2011</td>\n      <td>A Giraffe and a Half</td>\n      <td>giraffeandahalf</td>\n      <td>post</td>\n      <td>1</td>\n    </tr>\n    <tr>\n      <th>83038</th>\n      <td>2012</td>\n      <td>Childhood's End</td>\n      <td>childhoodsend</td>\n      <td>post</td>\n      <td>1</td>\n    </tr>\n    <tr>\n      <th>83039</th>\n      <td>2015</td>\n      <td>Tales of Nevèrÿon</td>\n      <td>talesofneveryon</td>\n      <td>post</td>\n      <td>1</td>\n    </tr>\n    <tr>\n      <th>83040</th>\n      <td>2012</td>\n      <td>Fifth Avenue</td>\n      <td>fifthavenue</td>\n      <td>post</td>\n      <td>1</td>\n    </tr>\n    <tr>\n      <th>83041</th>\n      <td>2015</td>\n      <td>Sightseeing</td>\n      <td>sightseeing</td>\n      <td>post</td>\n      <td>1</td>\n    </tr>\n  </tbody>\n</table>\n<p>83041 rows × 5 columns</p>\n</div>"
     },
     "execution_count": 137,
     "metadata": {},
     "output_type": "execute_result"
    }
   ],
   "source": [
    "filtered_book_ranking = book_ranking[~book_ranking['Normalized Title'].isin(faux_titles)]\n",
    "filtered_book_ranking = pd.DataFrame(filtered_book_ranking.sort_values('Occurrences', ascending=False, ignore_index=True))\n",
    "filtered_book_ranking.index = filtered_book_ranking.index + 1\n",
    "\n",
    "filtered_book_ranking"
   ],
   "metadata": {
    "collapsed": false
   }
  },
  {
   "cell_type": "code",
   "execution_count": 138,
   "outputs": [
    {
     "data": {
      "text/plain": "                                   Title           Normalized Title  \\\n0                                   Dune                       dune   \n1                                   1984                       1984   \n2                       The Hunger Games                hungergames   \n3                          Infinite jest               infinitejest   \n4                             The Hobbit                     hobbit   \n...                                  ...                        ...   \n21293  The 22 immutable laws of branding  22immutablelawsofbranding   \n21294      The 22 Murders of Madison May      22murdersofmadisonmay   \n21295              The 2-hour job search             2hourjobsearch   \n21296                    The 13th valley                 13thvalley   \n21297                                 返祖                      fanzu   \n\n       Occurrences  \n0             2306  \n1             2230  \n2             1174  \n3             1040  \n4              999  \n...            ...  \n21293            1  \n21294            1  \n21295            1  \n21296            1  \n21297            1  \n\n[21298 rows x 3 columns]",
      "text/html": "<div>\n<style scoped>\n    .dataframe tbody tr th:only-of-type {\n        vertical-align: middle;\n    }\n\n    .dataframe tbody tr th {\n        vertical-align: top;\n    }\n\n    .dataframe thead th {\n        text-align: right;\n    }\n</style>\n<table border=\"1\" class=\"dataframe\">\n  <thead>\n    <tr style=\"text-align: right;\">\n      <th></th>\n      <th>Title</th>\n      <th>Normalized Title</th>\n      <th>Occurrences</th>\n    </tr>\n  </thead>\n  <tbody>\n    <tr>\n      <th>0</th>\n      <td>Dune</td>\n      <td>dune</td>\n      <td>2306</td>\n    </tr>\n    <tr>\n      <th>1</th>\n      <td>1984</td>\n      <td>1984</td>\n      <td>2230</td>\n    </tr>\n    <tr>\n      <th>2</th>\n      <td>The Hunger Games</td>\n      <td>hungergames</td>\n      <td>1174</td>\n    </tr>\n    <tr>\n      <th>3</th>\n      <td>Infinite jest</td>\n      <td>infinitejest</td>\n      <td>1040</td>\n    </tr>\n    <tr>\n      <th>4</th>\n      <td>The Hobbit</td>\n      <td>hobbit</td>\n      <td>999</td>\n    </tr>\n    <tr>\n      <th>...</th>\n      <td>...</td>\n      <td>...</td>\n      <td>...</td>\n    </tr>\n    <tr>\n      <th>21293</th>\n      <td>The 22 immutable laws of branding</td>\n      <td>22immutablelawsofbranding</td>\n      <td>1</td>\n    </tr>\n    <tr>\n      <th>21294</th>\n      <td>The 22 Murders of Madison May</td>\n      <td>22murdersofmadisonmay</td>\n      <td>1</td>\n    </tr>\n    <tr>\n      <th>21295</th>\n      <td>The 2-hour job search</td>\n      <td>2hourjobsearch</td>\n      <td>1</td>\n    </tr>\n    <tr>\n      <th>21296</th>\n      <td>The 13th valley</td>\n      <td>13thvalley</td>\n      <td>1</td>\n    </tr>\n    <tr>\n      <th>21297</th>\n      <td>返祖</td>\n      <td>fanzu</td>\n      <td>1</td>\n    </tr>\n  </tbody>\n</table>\n<p>21298 rows × 3 columns</p>\n</div>"
     },
     "execution_count": 138,
     "metadata": {},
     "output_type": "execute_result"
    }
   ],
   "source": [
    "# Absolute ranking:\n",
    "absolute_rank = pd.DataFrame(filtered_book_ranking.groupby(['Title', 'Normalized Title']).sum()).sort_values('Occurrences', ascending=False)\n",
    "absolute_rank[['Occurrences']].reset_index()"
   ],
   "metadata": {
    "collapsed": false
   }
  },
  {
   "cell_type": "code",
   "execution_count": 139,
   "outputs": [],
   "source": [
    "filtered_book_ranking.to_csv(BOOK_COUNT_CLEANED_DF)"
   ],
   "metadata": {
    "collapsed": false
   }
  }
 ],
 "metadata": {
  "kernelspec": {
   "display_name": "Python 3",
   "language": "python",
   "name": "python3"
  },
  "language_info": {
   "codemirror_mode": {
    "name": "ipython",
    "version": 2
   },
   "file_extension": ".py",
   "mimetype": "text/x-python",
   "name": "python",
   "nbconvert_exporter": "python",
   "pygments_lexer": "ipython2",
   "version": "2.7.6"
  }
 },
 "nbformat": 4,
 "nbformat_minor": 0
}
