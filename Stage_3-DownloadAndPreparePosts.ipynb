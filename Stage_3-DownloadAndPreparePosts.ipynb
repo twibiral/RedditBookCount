{
 "cells": [
  {
   "cell_type": "markdown",
   "source": [
    "# Extract Book Titles from The Posts\n",
    "\n",
    "For every post id: get the actual version of the post, normalize it and search for book titles."
   ],
   "metadata": {
    "collapsed": false
   }
  },
  {
   "cell_type": "code",
   "execution_count": 1,
   "outputs": [
    {
     "name": "stdout",
     "output_type": "stream",
     "text": [
      "time: 0 ns (started: 2022-10-12 20:55:28 +02:00)\n"
     ]
    }
   ],
   "source": [
    "import datetime as dt\n",
    "import multiprocessing\n",
    "import re\n",
    "from functools import partial\n",
    "from pathlib import Path\n",
    "\n",
    "import pandas as pd\n",
    "import praw\n",
    "import yaml\n",
    "from tqdm.contrib.concurrent import process_map\n",
    "\n",
    "from BookList.Functions import download_and_prepare_posts\n",
    "\n",
    "NON_ALPHANUMERIC = re.compile(r'[\\W_]+')\n",
    "EXTRACTED_BOOKS_PATH = './data/books.csv'\n",
    "SUBREDDIT_NAME = 'books'\n",
    "IDS_PATH = './data/post_ids.csv'\n",
    "STORED_POSTS_DF = './data/stored_posts.csv'\n",
    "\n",
    "%load_ext autotime"
   ],
   "metadata": {
    "collapsed": false
   }
  },
  {
   "cell_type": "markdown",
   "source": [
    "### Connect  to API"
   ],
   "metadata": {
    "collapsed": false
   }
  },
  {
   "cell_type": "code",
   "execution_count": 2,
   "outputs": [
    {
     "name": "stdout",
     "output_type": "stream",
     "text": [
      "time: 0 ns (started: 2022-10-12 20:55:28 +02:00)\n"
     ]
    }
   ],
   "source": [
    "with open('./keys', 'r') as file:\n",
    "    keys = yaml.safe_load(file)\n",
    "\n",
    "reddit = praw.Reddit(client_id=keys['client_id'],\n",
    "                     client_secret=keys['client_secret'],\n",
    "                     user_agent=keys['user_agent'])"
   ],
   "metadata": {
    "collapsed": false
   }
  },
  {
   "cell_type": "code",
   "execution_count": 3,
   "outputs": [
    {
     "data": {
      "text/plain": "'The /r/books Book Club Selection + AMA for October is \"Lakewood\" by Megan Giddings'"
     },
     "execution_count": 3,
     "metadata": {},
     "output_type": "execute_result"
    },
    {
     "name": "stdout",
     "output_type": "stream",
     "text": [
      "time: 2.5 s (started: 2022-10-12 20:55:29 +02:00)\n"
     ]
    }
   ],
   "source": [
    "list(reddit.subreddit('books').hot())[0].title"
   ],
   "metadata": {
    "collapsed": false
   }
  },
  {
   "cell_type": "markdown",
   "source": [
    "### Prepare Post IDs"
   ],
   "metadata": {
    "collapsed": false
   }
  },
  {
   "cell_type": "code",
   "execution_count": 4,
   "outputs": [
    {
     "data": {
      "text/plain": "            ID   Timestamp\n0       xsdsa9  1664574931\n1       xsds3u  1664574919\n2       xsdi3s  1664574204\n3       xsdb2g  1664573697\n4       xsd3qe  1664573185\n...        ...         ...\n546214   66nzq  1201327097\n546215   66nbv  1201305939\n546216   66mal  1201286647\n546217   66lvc  1201279981\n546218   66luu  1201279763\n\n[546219 rows x 2 columns]",
      "text/html": "<div>\n<style scoped>\n    .dataframe tbody tr th:only-of-type {\n        vertical-align: middle;\n    }\n\n    .dataframe tbody tr th {\n        vertical-align: top;\n    }\n\n    .dataframe thead th {\n        text-align: right;\n    }\n</style>\n<table border=\"1\" class=\"dataframe\">\n  <thead>\n    <tr style=\"text-align: right;\">\n      <th></th>\n      <th>ID</th>\n      <th>Timestamp</th>\n    </tr>\n  </thead>\n  <tbody>\n    <tr>\n      <th>0</th>\n      <td>xsdsa9</td>\n      <td>1664574931</td>\n    </tr>\n    <tr>\n      <th>1</th>\n      <td>xsds3u</td>\n      <td>1664574919</td>\n    </tr>\n    <tr>\n      <th>2</th>\n      <td>xsdi3s</td>\n      <td>1664574204</td>\n    </tr>\n    <tr>\n      <th>3</th>\n      <td>xsdb2g</td>\n      <td>1664573697</td>\n    </tr>\n    <tr>\n      <th>4</th>\n      <td>xsd3qe</td>\n      <td>1664573185</td>\n    </tr>\n    <tr>\n      <th>...</th>\n      <td>...</td>\n      <td>...</td>\n    </tr>\n    <tr>\n      <th>546214</th>\n      <td>66nzq</td>\n      <td>1201327097</td>\n    </tr>\n    <tr>\n      <th>546215</th>\n      <td>66nbv</td>\n      <td>1201305939</td>\n    </tr>\n    <tr>\n      <th>546216</th>\n      <td>66mal</td>\n      <td>1201286647</td>\n    </tr>\n    <tr>\n      <th>546217</th>\n      <td>66lvc</td>\n      <td>1201279981</td>\n    </tr>\n    <tr>\n      <th>546218</th>\n      <td>66luu</td>\n      <td>1201279763</td>\n    </tr>\n  </tbody>\n</table>\n<p>546219 rows × 2 columns</p>\n</div>"
     },
     "execution_count": 4,
     "metadata": {},
     "output_type": "execute_result"
    },
    {
     "name": "stdout",
     "output_type": "stream",
     "text": [
      "time: 187 ms (started: 2022-10-12 20:55:32 +02:00)\n"
     ]
    }
   ],
   "source": [
    "post_ids_df = pd.read_csv(IDS_PATH, index_col=0)\n",
    "post_ids_df"
   ],
   "metadata": {
    "collapsed": false
   }
  },
  {
   "cell_type": "code",
   "execution_count": 5,
   "outputs": [
    {
     "name": "stdout",
     "output_type": "stream",
     "text": [
      "time: 328 ms (started: 2022-10-12 20:55:33 +02:00)\n"
     ]
    }
   ],
   "source": [
    "all_post_ids = set(zip(post_ids_df.ID, [dt.datetime.fromtimestamp(ts).year for ts in post_ids_df.Timestamp]))\n",
    "del post_ids_df"
   ],
   "metadata": {
    "collapsed": false
   }
  },
  {
   "cell_type": "markdown",
   "source": [
    "### Prepare Existing Downloaded Posts"
   ],
   "metadata": {
    "collapsed": false
   }
  },
  {
   "cell_type": "code",
   "execution_count": 6,
   "outputs": [
    {
     "name": "stdout",
     "output_type": "stream",
     "text": [
      "Loaded 289581 stored posts.\n"
     ]
    },
    {
     "name": "stderr",
     "output_type": "stream",
     "text": [
      "C:\\Users\\timwi\\AppData\\Local\\Temp\\ipykernel_25620\\1511048554.py:2: DtypeWarning: Columns (5) have mixed types. Specify dtype option on import or set low_memory=False.\n",
      "  stored_posts_df = pd.read_csv(STORED_POSTS_DF, index_col=0)[['ID', 'Year', 'Post Text', 'Comment Text']]\n"
     ]
    },
    {
     "data": {
      "text/plain": "            ID  Year                                          Post Text  \\\n0        7cexh  2008                               funnyparodysffcovers   \n1        72bqq  2008  pirateshortfictionfromfantasymagazineshimmerfr...   \n2        6sr73  2008                            reviewihatedavidsedaris   \n3        6dpea  2008    sevendeadlywordsofbookreviewingnewyorktimesblog   \n4        7mbbb  2008                                    2008discoveries   \n...        ...   ...                                                ...   \n289576  x3c279  2022  the2022hugoawardwinnerstobeannouncedonsunday4s...   \n289577  tozgxo  2022  juststartedthevegetarianandiwishthehusbandallt...   \n289578  xagcox  2022  neverjudgeabookbyitsauthorsfatherearlierthisye...   \n289579  xe8nhv  2022  somebriefthoughtsonthewomenofthecoppercountrya...   \n289580  vpm27k  2022              howreadingfantasybooksmakesyousmarter   \n\n       Comment Text  \n0               NaN  \n1               NaN  \n2               NaN  \n3               NaN  \n4               NaN  \n...             ...  \n289576          NaN  \n289577          NaN  \n289578          NaN  \n289579          NaN  \n289580          NaN  \n\n[289581 rows x 4 columns]",
      "text/html": "<div>\n<style scoped>\n    .dataframe tbody tr th:only-of-type {\n        vertical-align: middle;\n    }\n\n    .dataframe tbody tr th {\n        vertical-align: top;\n    }\n\n    .dataframe thead th {\n        text-align: right;\n    }\n</style>\n<table border=\"1\" class=\"dataframe\">\n  <thead>\n    <tr style=\"text-align: right;\">\n      <th></th>\n      <th>ID</th>\n      <th>Year</th>\n      <th>Post Text</th>\n      <th>Comment Text</th>\n    </tr>\n  </thead>\n  <tbody>\n    <tr>\n      <th>0</th>\n      <td>7cexh</td>\n      <td>2008</td>\n      <td>funnyparodysffcovers</td>\n      <td>NaN</td>\n    </tr>\n    <tr>\n      <th>1</th>\n      <td>72bqq</td>\n      <td>2008</td>\n      <td>pirateshortfictionfromfantasymagazineshimmerfr...</td>\n      <td>NaN</td>\n    </tr>\n    <tr>\n      <th>2</th>\n      <td>6sr73</td>\n      <td>2008</td>\n      <td>reviewihatedavidsedaris</td>\n      <td>NaN</td>\n    </tr>\n    <tr>\n      <th>3</th>\n      <td>6dpea</td>\n      <td>2008</td>\n      <td>sevendeadlywordsofbookreviewingnewyorktimesblog</td>\n      <td>NaN</td>\n    </tr>\n    <tr>\n      <th>4</th>\n      <td>7mbbb</td>\n      <td>2008</td>\n      <td>2008discoveries</td>\n      <td>NaN</td>\n    </tr>\n    <tr>\n      <th>...</th>\n      <td>...</td>\n      <td>...</td>\n      <td>...</td>\n      <td>...</td>\n    </tr>\n    <tr>\n      <th>289576</th>\n      <td>x3c279</td>\n      <td>2022</td>\n      <td>the2022hugoawardwinnerstobeannouncedonsunday4s...</td>\n      <td>NaN</td>\n    </tr>\n    <tr>\n      <th>289577</th>\n      <td>tozgxo</td>\n      <td>2022</td>\n      <td>juststartedthevegetarianandiwishthehusbandallt...</td>\n      <td>NaN</td>\n    </tr>\n    <tr>\n      <th>289578</th>\n      <td>xagcox</td>\n      <td>2022</td>\n      <td>neverjudgeabookbyitsauthorsfatherearlierthisye...</td>\n      <td>NaN</td>\n    </tr>\n    <tr>\n      <th>289579</th>\n      <td>xe8nhv</td>\n      <td>2022</td>\n      <td>somebriefthoughtsonthewomenofthecoppercountrya...</td>\n      <td>NaN</td>\n    </tr>\n    <tr>\n      <th>289580</th>\n      <td>vpm27k</td>\n      <td>2022</td>\n      <td>howreadingfantasybooksmakesyousmarter</td>\n      <td>NaN</td>\n    </tr>\n  </tbody>\n</table>\n<p>289581 rows × 4 columns</p>\n</div>"
     },
     "execution_count": 6,
     "metadata": {},
     "output_type": "execute_result"
    },
    {
     "name": "stdout",
     "output_type": "stream",
     "text": [
      "time: 859 ms (started: 2022-10-12 20:55:36 +02:00)\n"
     ]
    }
   ],
   "source": [
    "if Path(STORED_POSTS_DF).is_file():\n",
    "    stored_posts_df = pd.read_csv(STORED_POSTS_DF, index_col=0)[['ID', 'Year', 'Post Text', 'Comment Text']]\n",
    "else:\n",
    "    stored_posts_df = pd.DataFrame(columns=['ID', 'Year', 'Post Text', 'Comment Text'])\n",
    "\n",
    "stored_posts_ids = set(zip(stored_posts_df.ID, stored_posts_df.Year))\n",
    "print(f'Loaded {len(stored_posts_ids):,} stored posts.')\n",
    "stored_posts_df"
   ],
   "metadata": {
    "collapsed": false
   }
  },
  {
   "cell_type": "code",
   "execution_count": 7,
   "outputs": [
    {
     "name": "stdout",
     "output_type": "stream",
     "text": [
      "256638 left.\n",
      "time: 125 ms (started: 2022-10-12 20:55:38 +02:00)\n"
     ]
    }
   ],
   "source": [
    "all_post_ids = list(all_post_ids - stored_posts_ids)\n",
    "print(f'{len(all_post_ids):,} left.')"
   ],
   "metadata": {
    "collapsed": false
   }
  },
  {
   "cell_type": "markdown",
   "source": [
    "### Download Posts and Comments and Normalize Them"
   ],
   "metadata": {
    "collapsed": false
   }
  },
  {
   "cell_type": "code",
   "execution_count": 47,
   "outputs": [
    {
     "name": "stdout",
     "output_type": "stream",
     "text": [
      "time: 0 ns (started: 2022-10-12 20:34:16 +02:00)\n"
     ]
    }
   ],
   "source": [
    "# https://www.reddit.com/r/redditdev/comments/rsz7za/getting_submissions_from_praw_extremely_slow/\n",
    "# https://www.reddit.com/r/redditdev/comments/atrt4i/praw_is_there_a_way_to_get_an_objects/\n",
    "\n",
    "# retrieved_posts = set()\n",
    "#\n",
    "# fullnames = [f't3_{p_id}' for p_id, year in all_post_ids]\n",
    "# deleted = {'[removed]', '[deleted]', '[deleted by user]'}\n",
    "#\n",
    "# for submission, (p_id, year) in (pbar := tqdm(zip(reddit.info(fullnames=fullnames), all_post_ids), total=len(all_post_ids), unit='post(s)')):\n",
    "#     pbar.set_description(f'Process post with id: {p_id}', refresh=True)\n",
    "#     title = submission.title\n",
    "#     post_text = submission.selftext\n",
    "#\n",
    "#     if post_text not in deleted:\n",
    "#         comments_fullnames = [f't3_{c_id}' for c_id in submission.comments.list()]\n",
    "#         all_comments = [text for comment in reddit.info(fullnames=comments_fullnames) if (text := comment.selftext) not in deleted]\n",
    "#         comments_text = normalize_text(''.join(all_comments))\n",
    "#\n",
    "#         retrieved_posts.add((p_id, year, normalize_text(title + post_text), comments_text))\n",
    "#\n",
    "# print(retrieved_posts)"
   ],
   "metadata": {
    "collapsed": false
   }
  },
  {
   "cell_type": "code",
   "execution_count": 48,
   "outputs": [
    {
     "name": "stdout",
     "output_type": "stream",
     "text": [
      "time: 0 ns (started: 2022-10-12 20:34:16 +02:00)\n"
     ]
    }
   ],
   "source": [
    "def split(list_to_split, number_of_resulting_parts):\n",
    "    k, m = divmod(len(list_to_split), number_of_resulting_parts)\n",
    "    return [list_to_split[i*k+min(i, m):(i+1)*k+min(i+1, m)] for i in range(number_of_resulting_parts)]"
   ],
   "metadata": {
    "collapsed": false
   }
  },
  {
   "cell_type": "code",
   "execution_count": 12,
   "outputs": [
    {
     "name": "stdout",
     "output_type": "stream",
     "text": [
      "time: 0 ns (started: 2022-10-12 20:56:03 +02:00)\n"
     ]
    }
   ],
   "source": [
    "# Split into chunks with size=100. This maximizes throughput for the reddit api.\n",
    "all_post_ids_splitted = [all_post_ids[i:i+100] for i in range(0, len(all_post_ids), 100)]"
   ],
   "metadata": {
    "collapsed": false
   }
  },
  {
   "cell_type": "code",
   "execution_count": 13,
   "outputs": [
    {
     "name": "stderr",
     "output_type": "stream",
     "text": [
      "C:\\Users\\timwi\\AppData\\Local\\Temp\\ipykernel_25620\\376337851.py:1: TqdmWarning: Iterable length 2567 > 1000 but `chunksize` is not set. This may seriously degrade multiprocess performance. Set `chunksize=1` or more.\n",
      "  results = process_map(\n"
     ]
    },
    {
     "data": {
      "text/plain": "  0%|          | 0/2567 [00:00<?, ?it/s]",
      "application/vnd.jupyter.widget-view+json": {
       "version_major": 2,
       "version_minor": 0,
       "model_id": "7ebb12f2dd2e47a2839c754ed1287118"
      }
     },
     "metadata": {},
     "output_type": "display_data"
    },
    {
     "name": "stdout",
     "output_type": "stream",
     "text": [
      "Downloaded 2567 posts. Discarded 254071 posts.\n",
      "time: 5min 45s (started: 2022-10-12 20:56:03 +02:00)\n"
     ]
    }
   ],
   "source": [
    "results = process_map(\n",
    "    partial(download_and_prepare_posts, praw_client_id=keys['client_id'], praw_client_secret=keys['client_secret'], praw_client_ua=keys['user_agent']),\n",
    "    all_post_ids_splitted,\n",
    "    max_workers=multiprocessing.cpu_count(),\n",
    ")\n",
    "\n",
    "print(f'Downloaded {len(results)} posts. Discarded {len(all_post_ids) - len(results)} posts.')"
   ],
   "metadata": {
    "collapsed": false
   }
  },
  {
   "cell_type": "code",
   "execution_count": 14,
   "outputs": [
    {
     "name": "stdout",
     "output_type": "stream",
     "text": [
      "time: 0 ns (started: 2022-10-12 21:01:49 +02:00)\n"
     ]
    }
   ],
   "source": [
    "retrieved_posts = set().union(*results)"
   ],
   "metadata": {
    "collapsed": false
   }
  },
  {
   "cell_type": "code",
   "execution_count": 15,
   "outputs": [
    {
     "data": {
      "text/plain": "Empty DataFrame\nColumns: [ID, Year, Post Text, Comment Text]\nIndex: []",
      "text/html": "<div>\n<style scoped>\n    .dataframe tbody tr th:only-of-type {\n        vertical-align: middle;\n    }\n\n    .dataframe tbody tr th {\n        vertical-align: top;\n    }\n\n    .dataframe thead th {\n        text-align: right;\n    }\n</style>\n<table border=\"1\" class=\"dataframe\">\n  <thead>\n    <tr style=\"text-align: right;\">\n      <th></th>\n      <th>ID</th>\n      <th>Year</th>\n      <th>Post Text</th>\n      <th>Comment Text</th>\n    </tr>\n  </thead>\n  <tbody>\n  </tbody>\n</table>\n</div>"
     },
     "execution_count": 15,
     "metadata": {},
     "output_type": "execute_result"
    },
    {
     "name": "stdout",
     "output_type": "stream",
     "text": [
      "time: 0 ns (started: 2022-10-12 21:01:49 +02:00)\n"
     ]
    }
   ],
   "source": [
    "result_df = pd.DataFrame(retrieved_posts, columns=['ID', 'Year', 'Post Text', 'Comment Text'])\n",
    "result_df"
   ],
   "metadata": {
    "collapsed": false
   }
  },
  {
   "cell_type": "code",
   "execution_count": 23,
   "outputs": [
    {
     "data": {
      "text/plain": "            ID  Year                                          Post Text  \\\n0        7cexh  2008                               funnyparodysffcovers   \n1        78vn1  2008                       fantasticnameforabookcompany   \n2        71mzs  2008  picturedthebeautifulfarmgirlwhoinspiredthomash...   \n3        7evr9  2008  askbooksredditwhatbookpublishedrecentlywillsti...   \n4        683c2  2008                     thegreatnessguidebyrobinsharma   \n...        ...   ...                                                ...   \n289576  rxfm21  2022                                  checkbookregister   \n289577  swbabz  2022                        oneitaliansummerareviewbydi   \n289578  szb557  2022  hardcopyvsaudiobooktheinvisiblelifeofaddielaru...   \n289579  vyia8f  2022  intexaswomencrimeauthorshavefinallyescapedthes...   \n289580  vpm27k  2022              howreadingfantasybooksmakesyousmarter   \n\n       Comment Text  \n0                    \n1                    \n2                    \n3                    \n4                    \n...             ...  \n289576               \n289577               \n289578               \n289579               \n289580               \n\n[289581 rows x 4 columns]",
      "text/html": "<div>\n<style scoped>\n    .dataframe tbody tr th:only-of-type {\n        vertical-align: middle;\n    }\n\n    .dataframe tbody tr th {\n        vertical-align: top;\n    }\n\n    .dataframe thead th {\n        text-align: right;\n    }\n</style>\n<table border=\"1\" class=\"dataframe\">\n  <thead>\n    <tr style=\"text-align: right;\">\n      <th></th>\n      <th>ID</th>\n      <th>Year</th>\n      <th>Post Text</th>\n      <th>Comment Text</th>\n    </tr>\n  </thead>\n  <tbody>\n    <tr>\n      <th>0</th>\n      <td>7cexh</td>\n      <td>2008</td>\n      <td>funnyparodysffcovers</td>\n      <td></td>\n    </tr>\n    <tr>\n      <th>1</th>\n      <td>78vn1</td>\n      <td>2008</td>\n      <td>fantasticnameforabookcompany</td>\n      <td></td>\n    </tr>\n    <tr>\n      <th>2</th>\n      <td>71mzs</td>\n      <td>2008</td>\n      <td>picturedthebeautifulfarmgirlwhoinspiredthomash...</td>\n      <td></td>\n    </tr>\n    <tr>\n      <th>3</th>\n      <td>7evr9</td>\n      <td>2008</td>\n      <td>askbooksredditwhatbookpublishedrecentlywillsti...</td>\n      <td></td>\n    </tr>\n    <tr>\n      <th>4</th>\n      <td>683c2</td>\n      <td>2008</td>\n      <td>thegreatnessguidebyrobinsharma</td>\n      <td></td>\n    </tr>\n    <tr>\n      <th>...</th>\n      <td>...</td>\n      <td>...</td>\n      <td>...</td>\n      <td>...</td>\n    </tr>\n    <tr>\n      <th>289576</th>\n      <td>rxfm21</td>\n      <td>2022</td>\n      <td>checkbookregister</td>\n      <td></td>\n    </tr>\n    <tr>\n      <th>289577</th>\n      <td>swbabz</td>\n      <td>2022</td>\n      <td>oneitaliansummerareviewbydi</td>\n      <td></td>\n    </tr>\n    <tr>\n      <th>289578</th>\n      <td>szb557</td>\n      <td>2022</td>\n      <td>hardcopyvsaudiobooktheinvisiblelifeofaddielaru...</td>\n      <td></td>\n    </tr>\n    <tr>\n      <th>289579</th>\n      <td>vyia8f</td>\n      <td>2022</td>\n      <td>intexaswomencrimeauthorshavefinallyescapedthes...</td>\n      <td></td>\n    </tr>\n    <tr>\n      <th>289580</th>\n      <td>vpm27k</td>\n      <td>2022</td>\n      <td>howreadingfantasybooksmakesyousmarter</td>\n      <td></td>\n    </tr>\n  </tbody>\n</table>\n<p>289581 rows × 4 columns</p>\n</div>"
     },
     "execution_count": 23,
     "metadata": {},
     "output_type": "execute_result"
    },
    {
     "name": "stdout",
     "output_type": "stream",
     "text": [
      "time: 234 ms (started: 2022-10-12 21:04:44 +02:00)\n"
     ]
    }
   ],
   "source": [
    "new_stored = pd.concat([stored_posts_df, result_df], ignore_index=True)\n",
    "new_stored.replace(pd.NA, '', inplace=True)\n",
    "new_stored.sort_values('Year', inplace=True, ignore_index=True)\n",
    "new_stored.reset_index(inplace=True)\n",
    "new_stored = new_stored[['ID', 'Year', 'Post Text', 'Comment Text']]\n",
    "new_stored"
   ],
   "metadata": {
    "collapsed": false
   }
  },
  {
   "cell_type": "code",
   "execution_count": 24,
   "outputs": [
    {
     "name": "stdout",
     "output_type": "stream",
     "text": [
      "Stored 289,581 posts\n",
      "time: 1.47 s (started: 2022-10-12 21:04:57 +02:00)\n"
     ]
    }
   ],
   "source": [
    "new_stored.to_csv(STORED_POSTS_DF, encoding='utf-8')\n",
    "\n",
    "print(f'Stored {len(new_stored):,} posts')"
   ],
   "metadata": {
    "collapsed": false
   }
  }
 ],
 "metadata": {
  "kernelspec": {
   "display_name": "Python 3",
   "language": "python",
   "name": "python3"
  },
  "language_info": {
   "codemirror_mode": {
    "name": "ipython",
    "version": 2
   },
   "file_extension": ".py",
   "mimetype": "text/x-python",
   "name": "python",
   "nbconvert_exporter": "python",
   "pygments_lexer": "ipython2",
   "version": "2.7.6"
  }
 },
 "nbformat": 4,
 "nbformat_minor": 0
}
