{
 "cells": [
  {
   "cell_type": "markdown",
   "metadata": {},
   "source": [
    "# Extract Book Titles from The Posts\n",
    "\n",
    "For every post id: get the actual version of the post, normalize it and search for book titles."
   ]
  },
  {
   "cell_type": "code",
   "execution_count": 1,
   "metadata": {},
   "outputs": [
    {
     "name": "stdout",
     "output_type": "stream",
     "text": [
      "time: 282 µs (started: 2022-10-27 13:44:21 +02:00)\n"
     ]
    }
   ],
   "source": [
    "import multiprocessing\n",
    "import re\n",
    "from collections import Counter\n",
    "from functools import partial\n",
    "from pathlib import Path\n",
    "\n",
    "import pandas as pd\n",
    "from tqdm.contrib.concurrent import process_map\n",
    "\n",
    "from Functions import normalize_text, get_occurrences_for_post\n",
    "\n",
    "NON_ALPHANUMERIC = re.compile(r'[\\W_]+')\n",
    "SUBREDDIT_NAME = 'books'\n",
    "EXTRACTED_BOOKS_PATH = './data/books.csv'\n",
    "IDS_PATH = './data/post_ids.csv'\n",
    "STORED_POSTS_PATH = './data/stored_posts.csv'\n",
    "FAUX_TITLES_PATH = Path('./data/faux_book_titles')\n",
    "BOOK_COUNT_DF = './data/book_counts_raw.csv'\n",
    "\n",
    "%load_ext autotime"
   ]
  },
  {
   "cell_type": "markdown",
   "metadata": {},
   "source": [
    "### Prepare Book Titles\n",
    "\n",
    "And compile them into a regex."
   ]
  },
  {
   "cell_type": "code",
   "execution_count": 2,
   "metadata": {},
   "outputs": [
    {
     "data": {
      "text/plain": "                                                    Title  \\\n0                                          006 and a Half   \n1                                                01-01-00   \n2                                                   05:58   \n3       08 the Planet of the Tortoise Driver Little Pr...   \n4                           10,000 ways to say I love you   \n...                                                   ...   \n110477                         Zvezdy--kholodnye igrushki   \n110478                                           Zvirahwe   \n110479                                   The Z Was Zapped   \n110480  Zweite Auflage im Altertum; kulturgeschichtlic...   \n110481                           Zyj wystarczajaco dobrze   \n\n                                               Normalized  \n0                                             006andahalf  \n1                                                  010100  \n2                                                    0558  \n3              08theplanetofthetortoisedriverlittleprince  \n4                                  10000waystosayiloveyou  \n...                                                   ...  \n110477                            zvezdykholodnyeigrushki  \n110478                                           zvirahwe  \n110479                                         zwaszapped  \n110480  zweiteauflageimaltertumkulturgeschichtlichestu...  \n110481                             zyjwystarczajacodobrze  \n\n[110482 rows x 2 columns]",
      "text/html": "<div>\n<style scoped>\n    .dataframe tbody tr th:only-of-type {\n        vertical-align: middle;\n    }\n\n    .dataframe tbody tr th {\n        vertical-align: top;\n    }\n\n    .dataframe thead th {\n        text-align: right;\n    }\n</style>\n<table border=\"1\" class=\"dataframe\">\n  <thead>\n    <tr style=\"text-align: right;\">\n      <th></th>\n      <th>Title</th>\n      <th>Normalized</th>\n    </tr>\n  </thead>\n  <tbody>\n    <tr>\n      <th>0</th>\n      <td>006 and a Half</td>\n      <td>006andahalf</td>\n    </tr>\n    <tr>\n      <th>1</th>\n      <td>01-01-00</td>\n      <td>010100</td>\n    </tr>\n    <tr>\n      <th>2</th>\n      <td>05:58</td>\n      <td>0558</td>\n    </tr>\n    <tr>\n      <th>3</th>\n      <td>08 the Planet of the Tortoise Driver Little Pr...</td>\n      <td>08theplanetofthetortoisedriverlittleprince</td>\n    </tr>\n    <tr>\n      <th>4</th>\n      <td>10,000 ways to say I love you</td>\n      <td>10000waystosayiloveyou</td>\n    </tr>\n    <tr>\n      <th>...</th>\n      <td>...</td>\n      <td>...</td>\n    </tr>\n    <tr>\n      <th>110477</th>\n      <td>Zvezdy--kholodnye igrushki</td>\n      <td>zvezdykholodnyeigrushki</td>\n    </tr>\n    <tr>\n      <th>110478</th>\n      <td>Zvirahwe</td>\n      <td>zvirahwe</td>\n    </tr>\n    <tr>\n      <th>110479</th>\n      <td>The Z Was Zapped</td>\n      <td>zwaszapped</td>\n    </tr>\n    <tr>\n      <th>110480</th>\n      <td>Zweite Auflage im Altertum; kulturgeschichtlic...</td>\n      <td>zweiteauflageimaltertumkulturgeschichtlichestu...</td>\n    </tr>\n    <tr>\n      <th>110481</th>\n      <td>Zyj wystarczajaco dobrze</td>\n      <td>zyjwystarczajacodobrze</td>\n    </tr>\n  </tbody>\n</table>\n<p>110482 rows × 2 columns</p>\n</div>"
     },
     "execution_count": 2,
     "metadata": {},
     "output_type": "execute_result"
    },
    {
     "name": "stdout",
     "output_type": "stream",
     "text": [
      "time: 645 ms (started: 2022-10-27 13:44:21 +02:00)\n"
     ]
    }
   ],
   "source": [
    "book_titles_df = pd.read_csv(EXTRACTED_BOOKS_PATH, index_col=0)\n",
    "book_titles_df"
   ]
  },
  {
   "cell_type": "code",
   "execution_count": 3,
   "metadata": {},
   "outputs": [
    {
     "name": "stdout",
     "output_type": "stream",
     "text": [
      "Found 110,256 book titles.\n",
      "time: 125 ms (started: 2022-10-27 13:44:21 +02:00)\n"
     ]
    }
   ],
   "source": [
    "title_dict = dict(zip(book_titles_df.Normalized, book_titles_df.Title))\n",
    "if FAUX_TITLES_PATH.exists():\n",
    "    faux_titles = {normalize_text(faux_title) for faux_title in FAUX_TITLES_PATH.read_text().splitlines(keepends=False)}\n",
    "else:\n",
    "    faux_titles = set()\n",
    "\n",
    "all_normalized_titles = list(set(book_titles_df.Normalized) - faux_titles)\n",
    "all_normalized_titles.sort(reverse=True, key=lambda x: len(x))\n",
    "print(f'Found {len(all_normalized_titles):,} book titles.')"
   ]
  },
  {
   "cell_type": "code",
   "execution_count": 4,
   "metadata": {},
   "outputs": [
    {
     "name": "stderr",
     "output_type": "stream",
     "text": [
      "/scratch/slurm_tmpdir/job_21154187/ipykernel_753005/3677812895.py:1: DtypeWarning: Columns (4) have mixed types. Specify dtype option on import or set low_memory=False.\n",
      "  posts_df = pd.read_csv(STORED_POSTS_PATH, index_col=0)\n"
     ]
    },
    {
     "data": {
      "text/plain": "            ID  Year                                          Post Text  \\\n0        7cexh  2008                               funnyparodysffcovers   \n1        72bqq  2008  pirateshortfictionfromfantasymagazineshimmerfr...   \n2        6sr73  2008                            reviewihatedavidsedaris   \n3        6dpea  2008    sevendeadlywordsofbookreviewingnewyorktimesblog   \n4        7mbbb  2008                                    2008discoveries   \n...        ...   ...                                                ...   \n289576  x3c279  2022  the2022hugoawardwinnerstobeannouncedonsunday4s...   \n289577  tozgxo  2022  juststartedthevegetarianandiwishthehusbandallt...   \n289578  xagcox  2022  neverjudgeabookbyitsauthorsfatherearlierthisye...   \n289579  xe8nhv  2022  somebriefthoughtsonthewomenofthecoppercountrya...   \n289580  vpm27k  2022              howreadingfantasybooksmakesyousmarter   \n\n       Comment Text  \n0                    \n1                    \n2                    \n3                    \n4                    \n...             ...  \n289576               \n289577               \n289578               \n289579               \n289580               \n\n[289581 rows x 4 columns]",
      "text/html": "<div>\n<style scoped>\n    .dataframe tbody tr th:only-of-type {\n        vertical-align: middle;\n    }\n\n    .dataframe tbody tr th {\n        vertical-align: top;\n    }\n\n    .dataframe thead th {\n        text-align: right;\n    }\n</style>\n<table border=\"1\" class=\"dataframe\">\n  <thead>\n    <tr style=\"text-align: right;\">\n      <th></th>\n      <th>ID</th>\n      <th>Year</th>\n      <th>Post Text</th>\n      <th>Comment Text</th>\n    </tr>\n  </thead>\n  <tbody>\n    <tr>\n      <th>0</th>\n      <td>7cexh</td>\n      <td>2008</td>\n      <td>funnyparodysffcovers</td>\n      <td></td>\n    </tr>\n    <tr>\n      <th>1</th>\n      <td>72bqq</td>\n      <td>2008</td>\n      <td>pirateshortfictionfromfantasymagazineshimmerfr...</td>\n      <td></td>\n    </tr>\n    <tr>\n      <th>2</th>\n      <td>6sr73</td>\n      <td>2008</td>\n      <td>reviewihatedavidsedaris</td>\n      <td></td>\n    </tr>\n    <tr>\n      <th>3</th>\n      <td>6dpea</td>\n      <td>2008</td>\n      <td>sevendeadlywordsofbookreviewingnewyorktimesblog</td>\n      <td></td>\n    </tr>\n    <tr>\n      <th>4</th>\n      <td>7mbbb</td>\n      <td>2008</td>\n      <td>2008discoveries</td>\n      <td></td>\n    </tr>\n    <tr>\n      <th>...</th>\n      <td>...</td>\n      <td>...</td>\n      <td>...</td>\n      <td>...</td>\n    </tr>\n    <tr>\n      <th>289576</th>\n      <td>x3c279</td>\n      <td>2022</td>\n      <td>the2022hugoawardwinnerstobeannouncedonsunday4s...</td>\n      <td></td>\n    </tr>\n    <tr>\n      <th>289577</th>\n      <td>tozgxo</td>\n      <td>2022</td>\n      <td>juststartedthevegetarianandiwishthehusbandallt...</td>\n      <td></td>\n    </tr>\n    <tr>\n      <th>289578</th>\n      <td>xagcox</td>\n      <td>2022</td>\n      <td>neverjudgeabookbyitsauthorsfatherearlierthisye...</td>\n      <td></td>\n    </tr>\n    <tr>\n      <th>289579</th>\n      <td>xe8nhv</td>\n      <td>2022</td>\n      <td>somebriefthoughtsonthewomenofthecoppercountrya...</td>\n      <td></td>\n    </tr>\n    <tr>\n      <th>289580</th>\n      <td>vpm27k</td>\n      <td>2022</td>\n      <td>howreadingfantasybooksmakesyousmarter</td>\n      <td></td>\n    </tr>\n  </tbody>\n</table>\n<p>289581 rows × 4 columns</p>\n</div>"
     },
     "execution_count": 4,
     "metadata": {},
     "output_type": "execute_result"
    },
    {
     "name": "stdout",
     "output_type": "stream",
     "text": [
      "time: 1.33 s (started: 2022-10-27 13:44:21 +02:00)\n"
     ]
    }
   ],
   "source": [
    "posts_df = pd.read_csv(STORED_POSTS_PATH, index_col=0)\n",
    "posts_df.fillna('', inplace=True)\n",
    "posts_df"
   ]
  },
  {
   "cell_type": "code",
   "execution_count": 5,
   "outputs": [
    {
     "name": "stdout",
     "output_type": "stream",
     "text": [
      "time: 483 ms (started: 2022-10-27 13:44:23 +02:00)\n"
     ]
    }
   ],
   "source": [
    "posts = list(posts_df.sample(frac=1).itertuples(index=False, name=None))    # shuffle for better time estimate for the process bar"
   ],
   "metadata": {
    "collapsed": false
   }
  },
  {
   "cell_type": "markdown",
   "metadata": {},
   "source": [
    "### Compile the Book Titles to RegEx\n",
    "\n",
    "The longest book title is first, the shortest is last. The resulting RegEx always returns the longest non-overlapping matches. This way, we always match on the longest title, even if a shorter title is a substring of the long title. (e.g. Only match for 'Pride and Prejudice and Zombies' and not for 'Pride and Prejudice' in the string: 'My favourite book is \"Pride and Prejudice and Zombies\"')"
   ]
  },
  {
   "cell_type": "code",
   "execution_count": 6,
   "metadata": {},
   "outputs": [
    {
     "name": "stdout",
     "output_type": "stream",
     "text": [
      "time: 4.43 s (started: 2022-10-27 13:44:23 +02:00)\n"
     ]
    }
   ],
   "source": [
    "title_regex = '|'.join(all_normalized_titles)\n",
    "title_regex = re.compile(title_regex)"
   ]
  },
  {
   "cell_type": "markdown",
   "metadata": {},
   "source": [
    "### Search Posts for Book Titles"
   ]
  },
  {
   "cell_type": "code",
   "execution_count": 7,
   "outputs": [
    {
     "data": {
      "text/plain": "  0%|          | 0/289581 [00:00<?, ?it/s]",
      "application/vnd.jupyter.widget-view+json": {
       "version_major": 2,
       "version_minor": 0,
       "model_id": "dc7e8c4ed6cf4e5794a1c91be30a8e24"
      }
     },
     "metadata": {},
     "output_type": "display_data"
    },
    {
     "name": "stdout",
     "output_type": "stream",
     "text": [
      "time: 2h 45min (started: 2022-10-27 13:44:28 +02:00)\n"
     ]
    }
   ],
   "source": [
    "results = process_map(\n",
    "    partial(get_occurrences_for_post, title_regex=title_regex),\n",
    "    posts,\n",
    "    max_workers=multiprocessing.cpu_count()//2,\n",
    "    chunksize=250\n",
    ")"
   ],
   "metadata": {
    "collapsed": false
   }
  },
  {
   "cell_type": "code",
   "execution_count": 8,
   "outputs": [
    {
     "name": "stdout",
     "output_type": "stream",
     "text": [
      "time: 2min 20s (started: 2022-10-27 16:29:28 +02:00)\n"
     ]
    }
   ],
   "source": [
    "year, post_occ, comment_occ = zip(*results)\n",
    "\n",
    "per_year_posts = dict()\n",
    "per_year_comments = dict()\n",
    "\n",
    "for y in set(year):\n",
    "    per_year_posts[y] = dict()\n",
    "    per_year_comments[y] = dict()\n",
    "\n",
    "for y, p, c in results:\n",
    "    if p:\n",
    "        per_year_posts[y] = Counter(per_year_posts[y]) + Counter(p)\n",
    "    if c:\n",
    "        per_year_comments[y] = Counter(per_year_posts[y]) + Counter(p)"
   ],
   "metadata": {
    "collapsed": false
   }
  },
  {
   "cell_type": "code",
   "execution_count": 9,
   "metadata": {},
   "outputs": [
    {
     "name": "stdout",
     "output_type": "stream",
     "text": [
      "time: 542 µs (started: 2022-10-27 16:31:48 +02:00)\n"
     ]
    }
   ],
   "source": [
    "# print(\"Ranked from posts:\", sorted(list(post_occ.items()), key=lambda x: x[1], reverse=True))\n",
    "# print(\"Ranked from comments:\", sorted(list(post_occ.items()), key=lambda x: x[1], reverse=True))\n",
    "# print(\"Ranked from posts and comments:\",\n",
    "#       sorted(list((Counter(comment_occ) + Counter(post_occ))\n",
    "#                   .items()), key=lambda x: x[1], reverse=True))"
   ]
  },
  {
   "cell_type": "code",
   "execution_count": 10,
   "outputs": [
    {
     "name": "stdout",
     "output_type": "stream",
     "text": [
      "time: 113 ms (started: 2022-10-27 16:31:48 +02:00)\n"
     ]
    }
   ],
   "source": [
    "book_ranking = []\n",
    "for y in set(year):\n",
    "    book_ranking.extend([(y, title_dict[book_title], book_title, 'post', occurrences)\n",
    "                    for book_title, occurrences in per_year_posts[y].items()])\n",
    "    book_ranking.extend([(y, title_dict[book_title], book_title, 'comment', occurrences)\n",
    "                         for book_title, occurrences in per_year_comments[y].items()])"
   ],
   "metadata": {
    "collapsed": false
   }
  },
  {
   "cell_type": "code",
   "execution_count": 11,
   "outputs": [
    {
     "data": {
      "text/plain": "[(2016, 'The Hat Book', 'hatbook', 'post', 620),\n (2016, 'The personal touch', 'personaltouch', 'post', 2),\n (2016, 'The Library Book', 'librarybook', 'post', 40),\n (2016, 'The stand-in', 'standin', 'post', 306),\n (2016, 'Infinite jest', 'infinitejest', 'post', 173),\n (2016, 'The halfway house', 'halfwayhouse', 'post', 1),\n (2016, 'The art of the con', 'artofthecon', 'post', 2),\n (2016, 'Mein Kampf', 'meinkampf', 'post', 32),\n (2016, 'Range of Motion', 'rangeofmotion', 'post', 1),\n (2016, 'The Heir', 'heir', 'post', 1962),\n (2016, 'East of Eden', 'eastofeden', 'post', 79),\n (2016, 'Housekeeping', 'housekeeping', 'post', 1),\n (2016, 'Bodybuilding', 'bodybuilding', 'post', 8),\n (2016, 'Join Me', 'joinme', 'post', 18),\n (2016, 'Dune', 'dune', 'post', 226),\n (2016, 'Leave Me Alone', 'leavemealone', 'post', 1),\n (2016, 'Headaches', 'headaches', 'post', 4),\n (2016, 'The Sandman - Overture', 'sandmanoverture', 'post', 2),\n (2016, 'The selfish gene', 'selfishgene', 'post', 8),\n (2016, 'What is life?', 'whatislife', 'post', 1),\n (2016,\n  'The ultimate guide to SAT grammar',\n  'ultimateguidetosatgrammar',\n  'post',\n  1),\n (2016, 'The Sicilian', 'sicilian', 'post', 8),\n (2016, 'The Godfather', 'godfather', 'post', 16),\n (2016, 'The Robe', 'robe', 'post', 378),\n (2016, 'The Affinities', 'affinities', 'post', 3),\n (2016, 'The Diamond Age', 'diamondage', 'post', 5),\n (2016, 'Submarine', 'submarine', 'post', 5),\n (2016, 'Bewilderment', 'bewilderment', 'post', 1),\n (2016,\n  'Sams teach yourself C++ in 21 days',\n  'samsteachyourselfcin21days',\n  'post',\n  1),\n (2016, 'The unremembered', 'unremembered', 'post', 1),\n (2016, 'Friend Request', 'friendrequest', 'post', 2),\n (2016, 'The watcher', 'watcher', 'post', 2),\n (2016, 'The one tree', 'onetree', 'post', 2),\n (2016, 'Gossip Girl', 'gossipgirl', 'post', 1),\n (2016, 'Person Of Interest', 'personofinterest', 'post', 1),\n (2016, 'Fireworks', 'fireworks', 'post', 4),\n (2016, 'Wind-Up Bird Chronicle', 'windupbirdchronicle', 'post', 24),\n (2016, 'The other side', 'otherside', 'post', 25),\n (2016, 'The Alchemist', 'alchemist', 'post', 36),\n (2016, 'The Success Principles', 'successprinciples', 'post', 5),\n (2016, 'AngularJS', 'angularjs', 'post', 31),\n (2016, 'Jogging', 'jogging', 'post', 2),\n (2016, 'No country for old men', 'nocountryforoldmen', 'post', 12),\n (2016, 'Remembrance', 'remembrance', 'post', 12),\n (2016, 'The Tain', 'tain', 'post', 1242),\n (2016, 'The chosen one', 'chosenone', 'post', 7),\n (2016, 'The lice', 'lice', 'post', 179),\n (2016, 'Bandits', 'bandits', 'post', 7),\n (2016, 'Gone too far', 'gonetoofar', 'post', 4),\n (2016, \"Tess of the d'Urbervilles\", 'tessofthedurbervilles', 'post', 4),\n (2016, 'To Be A Man', 'tobeaman', 'post', 2),\n (2016, 'Enchantment', 'enchantment', 'post', 5),\n (2016, 'Daemon', 'daemon', 'post', 5),\n (2016, \"The tiger's child\", 'tigerschild', 'post', 1),\n (2016, 'Saturday Night', 'saturdaynight', 'post', 3),\n (2016, 'Sex, Drugs, and Cocoa Puffs', 'sexdrugsandcocoapuffs', 'post', 4),\n (2016, 'LikeWar', 'likewar', 'post', 5),\n (2016, 'Virtual reality', 'virtualreality', 'post', 24),\n (2016, 'About time', 'abouttime', 'post', 10),\n (2016, 'The Dark Net', 'darknet', 'post', 2),\n (2016, 'THE TARTAR STEPPE', 'tartarsteppe', 'post', 1),\n (2016, 'The Fulfillment', 'fulfillment', 'post', 12),\n (2016, 'The Omen', 'omen', 'post', 1132),\n (2016, 'Rio 2', 'rio2', 'post', 15),\n (2016, 'The narrows', 'narrows', 'post', 4),\n (2016, 'Two novels', 'twonovels', 'post', 16),\n (2016, 'Chindi', 'chindi', 'post', 7),\n (2016, 'Colonial America', 'colonialamerica', 'post', 1),\n (2016, 'American War', 'americanwar', 'post', 1),\n (2016, 'Linguistics', 'linguistics', 'post', 4),\n (2016, 'Drach', 'drach', 'post', 19),\n (2016, 'Life, after', 'lifeafter', 'post', 13),\n (2016, 'The Princess Bride', 'princessbride', 'post', 17),\n (2016, 'The One I Want', 'oneiwant', 'post', 5),\n (2016,\n  'Sideways Stories from Wayside School',\n  'sidewaysstoriesfromwaysideschool',\n  'post',\n  1),\n (2016, 'Ajin', 'ajin', 'post', 8),\n (2016,\n  \"Miss Peregrine's Home for Peculiar Children\",\n  'missperegrineshomeforpeculiarchildren',\n  'post',\n  19),\n (2016, 'Fall on Your Knees', 'fallonyourknees', 'post', 1),\n (2016, \"Ender's Game\", 'endersgame', 'post', 34),\n (2016, '11/22/63', '112263', 'post', 76),\n (2016, 'Dark Towers', 'darktowers', 'post', 74),\n (2016, 'A Tale of Two Cities', 'taleoftwocities', 'post', 18),\n (2016, 'Oliver Twist', 'olivertwist', 'post', 4),\n (2016, 'The Gladiator', 'gladiator', 'post', 25),\n (2016, 'Slaughterhouse-Five', 'slaughterhousefive', 'post', 39),\n (2016, 'Ready to Read', 'readytoread', 'post', 4),\n (2016, 'A Marked Man', 'markedman', 'post', 1),\n (2016, 'Avatars', 'avatars', 'post', 3),\n (2016, 'Tangled', 'tangled', 'post', 18),\n (2016, 'Human knowledge', 'humanknowledge', 'post', 3),\n (2016, 'Barking', 'barking', 'post', 13),\n (2016, 'Lemons', 'lemons', 'post', 8),\n (2016, 'Clockwork angel', 'clockworkangel', 'post', 2),\n (2016, 'Inversions', 'inversions', 'post', 2),\n (2016, 'Hoax', 'hoax', 'post', 6),\n (2016, 'Lovestruck', 'lovestruck', 'post', 3),\n (2016, 'Through the woods', 'throughthewoods', 'post', 5),\n (2016, 'South Korea', 'southkorea', 'post', 6),\n (2016, 'Spellcaster', 'spellcaster', 'post', 4),\n (2016, \"George Orwell's 1984\", 'georgeorwells1984', 'post', 6),\n (2016, 'What I Loved', 'whatiloved', 'post', 6),\n (2016, \"The Philosopher's Stone\", 'philosophersstone', 'post', 6),\n (2016, 'Howards End', 'howardsend', 'post', 1),\n (2016, 'Keigo', 'keigo', 'post', 9),\n (2016, 'The Black Tower', 'blacktower', 'post', 3),\n (2016, 'Tapestry', 'tapestry', 'post', 3),\n (2016, 'Tutunamayanlar', 'tutunamayanlar', 'post', 2),\n (2016, 'Breaking News', 'breakingnews', 'post', 3),\n (2016, 'Making Money', 'makingmoney', 'post', 13),\n (2016, 'That Cat!', 'thatcat', 'post', 16),\n (2016, 'Blood promise', 'bloodpromise', 'post', 1),\n (2016, 'Vampire Academy', 'vampireacademy', 'post', 4),\n (2016, 'Vow To Protect', 'vowtoprotect', 'post', 1),\n (2016, 'Her best friend', 'herbestfriend', 'post', 5),\n (2016, 'The ends of the earth', 'endsoftheearth', 'post', 1),\n (2016, 'When the time comes', 'whenthetimecomes', 'post', 3),\n (2016, 'Unguarded', 'unguarded', 'post', 1),\n (2016, 'Long gone', 'longgone', 'post', 2),\n (2016, 'So little time', 'solittletime', 'post', 3),\n (2016, 'Backpack', 'backpack', 'post', 15),\n (2016, 'Fugitive', 'fugitive', 'post', 3),\n (2016, 'In Search of Lost Time', 'insearchoflosttime', 'post', 15),\n (2016, 'Taipei', 'taipei', 'post', 2),\n (2016, '1421', '1421', 'post', 2),\n (2016, 'That is all', 'thatisall', 'post', 6),\n (2016, 'Badlands', 'badlands', 'post', 4),\n (2016, 'Solar system', 'solarsystem', 'post', 7),\n (2016, 'Fight club', 'fightclub', 'post', 51),\n (2016, 'Oral history', 'oralhistory', 'post', 7),\n (2016,\n  'Harry potter and the cursed child',\n  'harrypotterandthecursedchild',\n  'post',\n  59),\n (2016, 'Never let me go', 'neverletmego', 'post', 29),\n (2016, 'Between the lines', 'betweenthelines', 'post', 5),\n (2016,\n  'Adventures of Huckleberry Finn',\n  'adventuresofhuckleberryfinn',\n  'post',\n  13),\n (2016, 'A drinking life', 'drinkinglife', 'post', 1),\n (2016, 'Bloodwar', 'bloodwar', 'post', 2),\n (2016, 'End-game', 'endgame', 'post', 3),\n (2016, 'Blood ties', 'bloodties', 'post', 3),\n (2016, 'Outlander', 'outlander', 'post', 19),\n (2016, 'Asura', 'asura', 'post', 12),\n (2016, 'Uncontrollable', 'uncontrollable', 'post', 3),\n (2016, 'Shadow of the Wind', 'shadowofthewind', 'post', 14),\n (2016, \"DUMPLIN'\", 'dumplin', 'post', 5),\n (2016, 'The space between', 'spacebetween', 'post', 2),\n (2016, 'Neem', 'neem', 'post', 7),\n (2016, 'Lurking', 'lurking', 'post', 16),\n (2016, 'Necessary Words', 'necessarywords', 'post', 1),\n (2016, 'Show Me', 'showme', 'post', 12),\n (2016, 'Kiss the Girls', 'kissthegirls', 'post', 2),\n (2016, 'Option B', 'optionb', 'post', 6),\n (2016, 'The magician', 'magician', 'post', 53),\n (2016, 'A Little Life', 'littlelife', 'post', 24),\n (2016, 'Troika', 'troika', 'post', 4),\n (2016, 'Fates and furies', 'fatesandfuries', 'post', 7),\n (2016, 'Making Connections', 'makingconnections', 'post', 1),\n (2016, 'Atlas Shrugged', 'atlasshrugged', 'post', 26),\n (2016, 'Shella', 'shella', 'post', 6),\n (2016, 'Hard drive', 'harddrive', 'post', 3),\n (2016, 'The Complacent Class', 'complacentclass', 'post', 1),\n (2016, 'Seinfeldia', 'seinfeldia', 'post', 2),\n (2016, 'Breakfast of Champions', 'breakfastofchampions', 'post', 20),\n (2016, '15minute Meals', '15minutemeals', 'post', 2),\n (2016, 'Payback', 'payback', 'post', 5),\n (2016, 'Lose Weight', 'loseweight', 'post', 15),\n (2016, 'Full disclosure', 'fulldisclosure', 'post', 4),\n (2016, 'In My Hands', 'inmyhands', 'post', 10),\n (2016, 'The Colour of Magic', 'colourofmagic', 'post', 11),\n (2016, 'The Comedians', 'comedians', 'post', 5),\n (2016, \"Thieves' world\", 'thievesworld', 'post', 3),\n (2016, 'Second best', 'secondbest', 'post', 1),\n (2016, 'On literature', 'onliterature', 'post', 9),\n (2016, 'Catcher in the Rye', 'catcherintherye', 'post', 87),\n (2016, 'To Kill a Mockingbird', 'tokillamockingbird', 'post', 83),\n (2016, '\"1984\"', '1984', 'post', 149),\n (2016,\n  'The Perks of Being a Wallflower',\n  'perksofbeingawallflower',\n  'post',\n  20),\n (2016, 'The Great Gatsby', 'greatgatsby', 'post', 50),\n (2016, 'Flowers for Algernon', 'flowersforalgernon', 'post', 26),\n (2016, 'The Hobbit', 'hobbit', 'post', 65),\n (2016, 'Catch-22', 'catch22', 'post', 92),\n (2016,\n  \"The hitchhiker's guide to the galaxy\",\n  'hitchhikersguidetothegalaxy',\n  'post',\n  61),\n (2016, 'Brave New World', 'bravenewworld', 'post', 61),\n (2016, 'The Fountainhead', 'fountainhead', 'post', 23),\n (2016, 'The Bell Jar', 'belljar', 'post', 18),\n (2016, 'Of Mice and Men', 'ofmiceandmen', 'post', 33),\n (2016, 'Crime and Punishment', 'crimeandpunishment', 'post', 43),\n (2016, 'Lord of the Flies', 'lordoftheflies', 'post', 27),\n (2016, 'The Things They Carried', 'thingstheycarried', 'post', 12),\n (2016, 'Hatchet', 'hatchet', 'post', 4),\n (2016, 'Brothers Karamazov', 'brotherskaramazov', 'post', 37),\n (2016, 'Stranger in a Strange Land', 'strangerinastrangeland', 'post', 17),\n (2016,\n  'Fear and Loathing in Las Vegas',\n  'fearandloathinginlasvegas',\n  'post',\n  16),\n (2016, 'Jonathan Livingston Seagull', 'jonathanlivingstonseagull', 'post', 5),\n (2016, 'The Grapes of Wrath', 'grapesofwrath', 'post', 35),\n (2016, 'Looking for Alaska', 'lookingforalaska', 'post', 19),\n (2016, 'His Dark Materials', 'hisdarkmaterials', 'post', 36),\n (2016, 'Things Fall Apart', 'thingsfallapart', 'post', 11),\n (2016, 'Les Misérables', 'lesmiserables', 'post', 21),\n (2016,\n  \"One Flew Over the Cuckoo's Nest\",\n  'oneflewoverthecuckoosnest',\n  'post',\n  22),\n (2016, 'Starship Troopers', 'starshiptroopers', 'post', 10),\n (2016, 'SEPARATE PEACE', 'separatepeace', 'post', 4),\n (2016, 'The power of one', 'powerofone', 'post', 2),\n (2016, 'Animal Farm', 'animalfarm', 'post', 50),\n (2016, 'The Little Prince', 'littleprince', 'post', 13),\n (2016, 'The Count of Monte Cristo', 'countofmontecristo', 'post', 65),\n (2016, 'Kite Runner', 'kiterunner', 'post', 18),\n (2016, 'Ham on Rye', 'hamonrye', 'post', 6),\n (2016, \"Sophie's World\", 'sophiesworld', 'post', 6),\n (2016, 'Demian', 'demian', 'post', 3),\n (2016, 'A Clockwork Orange', 'clockworkorange', 'post', 35),\n (2016, 'The Tao of Pooh', 'taoofpooh', 'post', 2),\n (2016, 'A Tree Grows in Brooklyn', 'treegrowsinbrooklyn', 'post', 7),\n (2016, 'My side of the mountain', 'mysideofthemountain', 'post', 1),\n (2016,\n  'A Series of Unfortunate Events',\n  'seriesofunfortunateevents',\n  'post',\n  35),\n (2016, 'Go Ask Alice', 'goaskalice', 'post', 2),\n (2016, 'Calvin and Hobbes', 'calvinandhobbes', 'post', 6),\n (2016, 'Tuesdays with Morrie', 'tuesdayswithmorrie', 'post', 3),\n (2016, 'Norwegian wood', 'norwegianwood', 'post', 32),\n (2016, 'A Confederacy of Dunces', 'confederacyofdunces', 'post', 17),\n (2016, 'Candide', 'candide', 'post', 9),\n (2016,\n  'The Autobiography of Malcolm X',\n  'autobiographyofmalcolmx',\n  'post',\n  1),\n (2016, 'The World According to Garp', 'worldaccordingtogarp', 'post', 5),\n (2016, 'Into the Wild', 'intothewild', 'post', 13),\n (2016, 'The Dharma Bums', 'dharmabums', 'post', 3),\n (2016, 'The dark tower', 'darktower', 'post', 80),\n (2016, 'The Book Thief', 'bookthief', 'post', 34),\n (2016, 'Watchmen', 'watchmen', 'post', 7),\n (2016, 'The Sirens of Titan', 'sirensoftitan', 'post', 18),\n (2016, 'Bridge to Terabithia', 'bridgetoterabithia', 'post', 9),\n (2016, \"The Handmaid's Tale\", 'handmaidstale', 'post', 38),\n (2016, 'Green Eggs and Ham', 'greeneggsandham', 'post', 4),\n (2016, 'The Martian Chronicles', 'martianchronicles', 'post', 1),\n (2016,\n  \"Are You There God? It's Me, Margaret.\",\n  'areyoutheregoditsmemargaret',\n  'post',\n  3),\n (2016, 'Unbearable Lightness', 'unbearablelightness', 'post', 19),\n (2016, 'The CIDER HOUSE RULES', 'ciderhouserules', 'post', 5),\n (2016, 'In Cold Blood', 'incoldblood', 'post', 18),\n (2016, 'A Book of Five Rings', 'bookoffiverings', 'post', 1),\n (2016, 'Watership Down', 'watershipdown', 'post', 43),\n (2016, 'A Wrinkle in Time', 'wrinkleintime', 'post', 26),\n (2016,\n  'How to Win Friends and Influence People',\n  'howtowinfriendsandinfluencepeople',\n  'post',\n  21),\n (2016, 'Space Odyssey', 'spaceodyssey', 'post', 8),\n (2016, 'Shantaram', 'shantaram', 'post', 10),\n (2016, 'God Delusion', 'goddelusion', 'post', 7),\n (2016, 'The old man and the sea', 'oldmanandthesea', 'post', 33),\n (2016, 'Island of the Blue Dolphins', 'islandofthebluedolphins', 'post', 2),\n (2016, 'A child called \"It\"', 'childcalledit', 'post', 1),\n (2016, 'The Scarlet Letter', 'scarletletter', 'post', 8),\n (2016, 'Tuck Everlasting', 'tuckeverlasting', 'post', 3),\n (2016,\n  'I Know Why the Caged Bird Sings',\n  'iknowwhythecagedbirdsings',\n  'post',\n  3),\n (2016, \"Cat's Cradle\", 'catscradle', 'post', 37),\n (2016, 'The Bluest Eye', 'bluesteye', 'post', 5),\n (2016, 'Mrs. Dalloway', 'mrsdalloway', 'post', 4),\n (2016, '2 Guns', '2guns', 'post', 1),\n (2016, 'Redwall', 'redwall', 'post', 18),\n (2016, 'The Amber Spyglass', 'amberspyglass', 'post', 10),\n (2016, 'Grendel', 'grendel', 'post', 2),\n (2016, 'Paradise Lost', 'paradiselost', 'post', 34),\n (2016, 'Blue Like Jazz', 'bluelikejazz', 'post', 1),\n (2016, 'The Chrysalids', 'chrysalids', 'post', 2),\n (2016, 'Art of War', 'artofwar', 'post', 15),\n (2016, \"She's Come Undone\", 'shescomeundone', 'post', 1),\n (2016, 'The Winter of Our Discontent', 'winterofourdiscontent', 'post', 1),\n (2016, 'American Psycho', 'americanpsycho', 'post', 43),\n (2016, 'Rabbit, Run', 'rabbitrun', 'post', 5),\n (2016, \"Gravity's Rainbow\", 'gravitysrainbow', 'post', 38),\n (2016, 'Less than Zero', 'lessthanzero', 'post', 7),\n (2016, 'The Dragons of Eden', 'dragonsofeden', 'post', 1),\n (2016, 'This Side of Paradise', 'thissideofparadise', 'post', 5),\n (2016, 'Namesake', 'namesake', 'post', 10),\n (2016, 'Fools Die', 'foolsdie', 'post', 1),\n (2016,\n  'One Hundred Years of Solitude',\n  'onehundredyearsofsolitude',\n  'post',\n  21),\n (2016, 'Walk Two Moons', 'walktwomoons', 'post', 4),\n (2016, 'The wasp factory', 'waspfactory', 'post', 8),\n (2016, 'Still Life with Woodpecker', 'stilllifewithwoodpecker', 'post', 5),\n (2016, \"Childhood's End\", 'childhoodsend', 'post', 10),\n (2016, 'A Farewell to Arms', 'farewelltoarms', 'post', 34),\n (2016, 'From Here to Eternity', 'fromheretoeternity', 'post', 1),\n (2016,\n  'Percy Jackson and the Lightning Thief',\n  'percyjacksonandthelightningthief',\n  'post',\n  2),\n (2016, 'Flowers in the Attic', 'flowersintheattic', 'post', 2),\n (2016, 'Cannery Row', 'canneryrow', 'post', 14),\n (2016, 'Their Eyes Were Watching God', 'theireyeswerewatchinggod', 'post', 7),\n (2016, 'We need to talk about Kevin', 'weneedtotalkaboutkevin', 'post', 4),\n (2016, '13 reasons why', '13reasonswhy', 'post', 2),\n (2016, 'Where the Red Fern Grows', 'wheretheredferngrows', 'post', 8),\n (2016, \"Angela's Ashes\", 'angelasashes', 'post', 2),\n (2016, 'Neuromancer', 'neuromancer', 'post', 21),\n (2016, 'Death be not proud', 'deathbenotproud', 'post', 1),\n (2016, 'The communist manifesto', 'communistmanifesto', 'post', 3),\n (2016, 'Ready Player One', 'readyplayerone', 'post', 71),\n (2016, 'Benchmarking', 'benchmarking', 'post', 1),\n (2016, 'Blade Runner', 'bladerunner', 'post', 11),\n (2016,\n  'Do Androids Dream of Electric Sheep?',\n  'doandroidsdreamofelectricsheep',\n  'post',\n  28),\n (2016, 'Money online', 'moneyonline', 'post', 3),\n (2016, 'The Raft', 'raft', 'post', 382),\n (2016, 'Lifeblood', 'lifeblood', 'post', 3),\n (2016, 'Rule #1', 'rule1', 'post', 3),\n (2016, 'At all costs', 'atallcosts', 'post', 4),\n (2016, 'Everybody dies', 'everybodydies', 'post', 2),\n (2016, 'StrengthsFinder 2.0', 'strengthsfinder20', 'post', 2),\n (2016,\n  'Fierce Invalids Home from Hot Climates',\n  'fierceinvalidshomefromhotclimates',\n  'post',\n  2),\n (2016, 'The One Device', 'onedevice', 'post', 3),\n (2016, 'The Witcher', 'witcher', 'post', 13),\n (2016, 'The Name of the Wind', 'nameofthewind', 'post', 45),\n (2016, \"Assassin's Creed\", 'assassinscreed', 'post', 4),\n (2016, 'Book of the New Sun', 'bookofthenewsun', 'post', 9),\n (2016, 'Ancients', 'ancients', 'post', 9),\n (2016, '2030', '2030', 'post', 8),\n (2016, 'Bunnies', 'bunnies', 'post', 1),\n (2016, 'Future shock', 'futureshock', 'post', 2),\n (2016, 'The Picture of Dorian Gray', 'pictureofdoriangray', 'post', 16),\n (2016, 'A rebours', 'rebours', 'post', 1),\n (2016, 'Against Nature', 'againstnature', 'post', 5),\n (2016, 'The Satyricon', 'satyricon', 'post', 6),\n (2016, 'Egito', 'egito', 'post', 3),\n (2016, 'Aphrodite', 'aphrodite', 'post', 6),\n (2016, 'Civil engineering', 'civilengineering', 'post', 6),\n (2016, 'Back Pain', 'backpain', 'post', 5),\n (2016, 'Precious gems', 'preciousgems', 'post', 3),\n (2016, 'North and South', 'northandsouth', 'post', 3),\n (2016, 'Pride and Prejudice', 'prideandprejudice', 'post', 44),\n (2016, 'Love At First Sight', 'loveatfirstsight', 'post', 4),\n (2016, 'Social Inequality', 'socialinequality', 'post', 1),\n (2016, \"A king's story\", 'kingsstory', 'post', 1),\n (2016, 'For the Greater Good', 'forthegreatergood', 'post', 1),\n (2016, 'Swiped', 'swiped', 'post', 6),\n (2016, 'Reincarnation', 'reincarnation', 'post', 5),\n (2016, \"Salem's Lot\", 'salemslot', 'post', 24),\n (2016, 'Auden', 'auden', 'post', 6),\n (2016, 'Catholicism', 'catholicism', 'post', 2),\n (2016, 'Social Media Marketing', 'socialmediamarketing', 'post', 11),\n (2016, 'Cyber security', 'cybersecurity', 'post', 10),\n (2016, 'Doubles', 'doubles', 'post', 11),\n (2016, 'American Tabloid', 'americantabloid', 'post', 1),\n (2016, 'Kennedys', 'kennedys', 'post', 3),\n (2016, 'Oblivion', 'oblivion', 'post', 5),\n (2016, 'Accelerate', 'accelerate', 'post', 6),\n (2016, 'Dragonfly in Amber', 'dragonflyinamber', 'post', 1),\n (2016, 'Mafia', 'mafia', 'post', 13),\n (2016, 'The inferno', 'inferno', 'post', 31),\n (2016, 'The Lost Symbol', 'lostsymbol', 'post', 4),\n (2016, 'Everyday life.', 'everydaylife', 'post', 9),\n (2016, 'Ice Station', 'icestation', 'post', 1),\n (2016, 'The Revenant', 'revenant', 'post', 10),\n (2016, 'Left Behind', 'leftbehind', 'post', 18),\n (2016, 'Go Set A Watchman', 'gosetawatchman', 'post', 17),\n (2016, 'The Stormlight Archive', 'stormlightarchive', 'post', 24),\n (2016, 'Words of Radiance', 'wordsofradiance', 'post', 8),\n (2016, 'Gates of fire', 'gatesoffire', 'post', 2),\n (2016, 'The Spartans', 'spartans', 'post', 1),\n (2016, 'At the beach', 'atthebeach', 'post', 8),\n (2016, 'The Sense of Touch', 'senseoftouch', 'post', 1),\n (2016, 'Gone With the Wind', 'gonewiththewind', 'post', 18),\n (2016, 'The visitant', 'visitant', 'post', 1),\n (2016, 'Venetia', 'venetia', 'post', 5),\n (2016, 'Ghost story', 'ghoststory', 'post', 13),\n (2016, 'Object-oriented programming', 'objectorientedprogramming', 'post', 5),\n (2016, 'Senlin Ascends', 'senlinascends', 'post', 2),\n (2016, 'Risk Management', 'riskmanagement', 'post', 15),\n (2016, 'Shortcut', 'shortcut', 'post', 4),\n (2016, 'Rusty', 'rusty', 'post', 11),\n (2016, 'I Am Legend', 'iamlegend', 'post', 12),\n (2016, 'Gone Girl', 'gonegirl', 'post', 47),\n (2016, 'The Children of Men', 'childrenofmen', 'post', 2),\n (2016, 'State of wonder', 'stateofwonder', 'post', 3),\n (2016, 'Bel Canto', 'belcanto', 'post', 3),\n (2016, 'The Rapture', 'rapture', 'post', 6),\n (2016, 'Just Enough', 'justenough', 'post', 2),\n (2016, 'Into the Unknown', 'intotheunknown', 'post', 5),\n (2016, 'The Meaning of It All', 'meaningofitall', 'post', 2),\n (2016, 'Postmodernism', 'postmodernism', 'post', 11),\n (2016, 'Out of This World', 'outofthisworld', 'post', 2),\n (2016, 'Hellfire', 'hellfire', 'post', 2),\n (2016,\n  'The Walking Dead, Compendium One',\n  'walkingdeadcompendiumone',\n  'post',\n  1),\n (2016, 'Public administration', 'publicadministration', 'post', 2),\n (2016, 'The Odyssey', 'odyssey', 'post', 42),\n (2016, 'Iliada', 'iliada', 'post', 10),\n (2016, 'The real deal', 'realdeal', 'post', 4),\n (2016, 'Wais', 'wais', 'post', 2),\n (2016, 'Electric Machines', 'electricmachines', 'post', 3),\n (2016, 'Broken Vows', 'brokenvows', 'post', 1),\n (2016, 'The prosecution', 'prosecution', 'post', 8),\n (2016, 'HTML and CSS', 'htmlandcss', 'post', 2),\n (2016, 'Wayward', 'wayward', 'post', 5),\n (2016, 'The girl on the train', 'girlonthetrain', 'post', 42),\n (2016, 'Eleni', 'eleni', 'post', 9),\n (2016, 'We were soldiers', 'weweresoldiers', 'post', 3),\n (2016, 'Through My Eyes', 'throughmyeyes', 'post', 1),\n (2016, 'Ever after', 'everafter', 'post', 13),\n (2016, 'Word of Advice', 'wordofadvice', 'post', 1),\n (2016,\n  'A Constellation of Vital Phenomena',\n  'constellationofvitalphenomena',\n  'post',\n  5),\n (2016, 'Rising Sun', 'risingsun', 'post', 5),\n (2016, 'Crescendo', 'crescendo', 'post', 2),\n (2016, 'Dark Tales', 'darktales', 'post', 4),\n (2016, 'Finding hope', 'findinghope', 'post', 1),\n (2016,\n  'The history of the devil and the idea of evil',\n  'historyofthedevilandtheideaofevil',\n  'post',\n  1),\n (2016, 'The secret history', 'secrethistory', 'post', 8),\n (2016,\n  'Dark matter and the dinosaurs',\n  'darkmatterandthedinosaurs',\n  'post',\n  1),\n (2016, 'The physics of Star trek', 'physicsofstartrek', 'post', 1),\n (2016, 'The First Three Minutes', 'firstthreeminutes', 'post', 1),\n (2016, 'House of dolls', 'houseofdolls', 'post', 1),\n (2016, 'What It Takes', 'whatittakes', 'post', 11),\n (2016, 'House of Leaves', 'houseofleaves', 'post', 56),\n (2016, 'The Skylark of Space', 'skylarkofspace', 'post', 1),\n (2016, 'A higher standard', 'higherstandard', 'post', 1),\n (2016, 'Orbus', 'orbus', 'post', 29),\n (2016, 'Werke', 'werke', 'post', 7),\n (2016, 'Behemoth', 'behemoth', 'post', 7),\n (2016, 'The Bazaar of Bad Dreams', 'bazaarofbaddreams', 'post', 11),\n (2016, 'Imago', 'imago', 'post', 4),\n (2016, 'Inherent vice', 'inherentvice', 'post', 11),\n (2016, 'The crying of lot 49', 'cryingoflot49', 'post', 21),\n (2016, 'The Love Season', 'loveseason', 'post', 2),\n (2016, \"L'Ogre\", 'logre', 'post', 11),\n (2016, 'The light between oceans', 'lightbetweenoceans', 'post', 3),\n (2016, 'The lighthouse', 'lighthouse', 'post', 4),\n (2016, 'The evolution of God', 'evolutionofgod', 'post', 2),\n (2016, 'Poemas', 'poemas', 'post', 9),\n (2016, 'Abara', 'abara', 'post', 3),\n (2016, 'Music Is . . .', 'musicis', 'post', 7),\n (2016, 'The hermit crab', 'hermitcrab', 'post', 1),\n (2016, 'Software Testing', 'softwaretesting', 'post', 2),\n (2016, 'Does It Matter?', 'doesitmatter', 'post', 5),\n (2016, 'The Underneath', 'underneath', 'post', 11),\n (2016, 'Social Justice', 'socialjustice', 'post', 2),\n (2016, 'Running wild', 'runningwild', 'post', 1),\n (2016, 'Ibuk', 'ibuk', 'post', 24),\n (2016, 'The Final Empire', 'finalempire', 'post', 7),\n (2016, 'The Well of Ascension', 'wellofascension', 'post', 5),\n (2016, 'Firefight', 'firefight', 'post', 7),\n (2016, 'Wuthering Heights', 'wutheringheights', 'post', 20),\n (2016, 'A walk in the woods', 'walkinthewoods', 'post', 5),\n (2016, 'The Tipping Point', 'tippingpoint', 'post', 6),\n (2016, 'Too busy', 'toobusy', 'post', 2),\n (2016, \"You're Not Alone\", 'yourenotalone', 'post', 2),\n (2016, 'A Slender Thread', 'slenderthread', 'post', 1),\n (2016, 'My pen', 'mypen', 'post', 2),\n (2016, 'The Photo Book', 'photobook', 'post', 3),\n (2016, 'One Child', 'onechild', 'post', 3),\n (2016, 'Unrequited', 'unrequited', 'post', 6),\n (2016, 'Scattered', 'scattered', 'post', 22),\n (2016, 'Me Before You', 'mebeforeyou', 'post', 22),\n (2016, 'Push back', 'pushback', 'post', 2),\n (2016, 'Strong opinions', 'strongopinions', 'post', 1),\n (2016, 'Charmed', 'charmed', 'post', 2),\n (2016, 'Valis', 'valis', 'post', 13),\n (2016, 'A breath away', 'breathaway', 'post', 2),\n (2016, 'Recipe For Love', 'recipeforlove', 'post', 1),\n (2016, 'Everville', 'everville', 'post', 2),\n (2016, 'Side by side', 'sidebyside', 'post', 5),\n (2016, 'The bronze horseman', 'bronzehorseman', 'post', 3),\n (2016, 'Apples', 'apples', 'post', 9),\n (2016, 'Atheism', 'atheism', 'post', 7),\n (2016, 'Njama', 'njama', 'post', 2),\n (2016, 'Release It!', 'releaseit', 'post', 5),\n (2016, 'Paddington', 'paddington', 'post', 1),\n (2016, 'Penguins', 'penguins', 'post', 12),\n (2016, 'State of Fear', 'stateoffear', 'post', 4),\n (2016, 'Global warming', 'globalwarming', 'post', 3),\n (2016, 'The Cobweb', 'cobweb', 'post', 3),\n (2016, 'The Scottish Bride', 'scottishbride', 'post', 1),\n (2016, 'Good Omens', 'goodomens', 'post', 22),\n (2016, 'Extinction', 'extinction', 'post', 6),\n (2016, 'Sassy', 'sassy', 'post', 3),\n (2016, 'Thud!', 'thud', 'post', 54),\n (2016, 'Unseen', 'unseen', 'post', 15),\n (2016, 'Law of attraction', 'lawofattraction', 'post', 10),\n (2016, 'A little princess', 'littleprincess', 'post', 5),\n (2016, 'Future bright', 'futurebright', 'post', 1),\n (2016, 'Quiet, Please', 'quietplease', 'post', 1),\n (2016, \"Giovanni's Room\", 'giovannisroom', 'post', 4),\n (2016, 'Dungeon', 'dungeon', 'post', 5),\n (2016, 'Out of the dark', 'outofthedark', 'post', 1),\n (2016, 'The Sound and the Fury', 'soundandthefury', 'post', 21),\n (2016, 'In The Dust', 'inthedust', 'post', 10),\n (2016, 'Triggers', 'triggers', 'post', 3),\n (2016, 'Ella Enchanted', 'ellaenchanted', 'post', 5),\n (2016, 'Study Guide', 'studyguide', 'post', 8),\n (2016, 'The Sun is also a Star', 'sunisalsoastar', 'post', 3),\n (2016, \"Caliban's war\", 'calibanswar', 'post', 4),\n (2016, \"Abaddon's Gate\", 'abaddonsgate', 'post', 2),\n (2016, 'Bare bones', 'barebones', 'post', 3),\n (2016, 'I CAN ONLY IMAGINE', 'icanonlyimagine', 'post', 6),\n (2016, 'True stories', 'truestories', 'post', 4),\n (2016, 'Far out', 'farout', 'post', 3),\n (2016, 'East of the sun', 'eastofthesun', 'post', 2),\n (2016, 'The Outpost', 'outpost', 'post', 7),\n (2016, 'How to Live', 'howtolive', 'post', 6),\n (2016, 'The king and us', 'kingandus', 'post', 2),\n (2016,\n  'Fantastic Beasts and Where to Find Them',\n  'fantasticbeastsandwheretofindthem',\n  'post',\n  7),\n (2016, 'The Heart Goes Last', 'heartgoeslast', 'post', 6),\n (2016, 'Indian art', 'indianart', 'post', 1),\n (2016, 'Against the rules', 'againsttherules', 'post', 18),\n (2016, 'Primer', 'primer', 'post', 24),\n (2016,\n  'Teenage Mutant Ninja Turtles',\n  'teenagemutantninjaturtles',\n  'post',\n  1),\n (2016, 'Out Of The Shadows', 'outoftheshadows', 'post', 5),\n (2016, 'Basic Chinese', 'basicchinese', 'post', 10),\n (2016, 'The Last Mile', 'lastmile', 'post', 5),\n (2016,\n  'The association of small bombs',\n  'associationofsmallbombs',\n  'post',\n  6),\n (2016, 'Fools', 'fools', 'post', 13),\n (2016, 'What the Heart Wants', 'whattheheartwants', 'post', 1),\n (2016, 'New Dinos', 'newdinos', 'post', 2),\n (2016, 'Symptoms of Being Human', 'symptomsofbeinghuman', 'post', 2),\n (2016, 'Planetfall', 'planetfall', 'post', 11),\n (2016, 'Beyond Earth', 'beyondearth', 'post', 1),\n (2016, 'Overpopulation', 'overpopulation', 'post', 3),\n (2016, 'The Wise Man’s Fear', 'wisemansfear', 'post', 14),\n (2016, 'Rescued', 'rescued', 'post', 14),\n (2016, 'The other hand', 'otherhand', 'post', 44),\n (2016, 'The Judas goat', 'judasgoat', 'post', 5),\n (2016, 'The Drawing of the Three', 'drawingofthethree', 'post', 10),\n (2016, 'Gunslinger', 'gunslinger', 'post', 55),\n (2016, 'The Winds of Winter', 'windsofwinter', 'post', 32),\n (2016, 'The House of Hades', 'houseofhades', 'post', 2),\n (2016, 'Azadi', 'azadi', 'post', 1),\n (2016, 'The Voynich Manuscript', 'voynichmanuscript', 'post', 10),\n (2016, 'Necromance', 'necromance', 'post', 4),\n (2016, 'The fall of the House of Cabal', 'fallofthehouseofcabal', 'post', 1),\n (2016, 'Purim', 'purim', 'post', 1),\n (2016, 'Sleeping Beauty', 'sleepingbeauty', 'post', 3),\n (2016, 'Your skin', 'yourskin', 'post', 11),\n (2016, 'The Semai', 'semai', 'post', 12),\n (2016, 'Madame Bovary', 'madamebovary', 'post', 11),\n (2016, 'Through the Lens', 'throughthelens', 'post', 3),\n (2016, 'Daniel X', 'danielx', 'post', 1),\n (2016, 'Lights out', 'lightsout', 'post', 5),\n (2016, 'How it ends', 'howitends', 'post', 3),\n (2016, 'Read me a story', 'readmeastory', 'post', 1),\n (2016,\n  'Wherever You Go, There You Are',\n  'whereveryougothereyouare',\n  'post',\n  1),\n (2016, 'Letters from a Stoic', 'lettersfromastoic', 'post', 3),\n (2016, 'The Third Time', 'thirdtime', 'post', 11),\n (2016,\n  'Peter Pan in Kensington Gardens',\n  'peterpaninkensingtongardens',\n  'post',\n  3),\n (2016, 'Lean Out', 'leanout', 'post', 2),\n (2016, 'Safe House', 'safehouse', 'post', 1),\n (2016, 'The sanctuary', 'sanctuary', 'post', 14),\n (2016, \"Wit'ch War\", 'witchwar', 'post', 1),\n (2016, 'Jealousy', 'jealousy', 'post', 12),\n (2016, 'A Visit from the Goon Squad', 'visitfromthegoonsquad', 'post', 6),\n (2016, 'Crossing the threshold', 'crossingthethreshold', 'post', 1),\n (2016, 'Fahrenheit 451', 'fahrenheit451', 'post', 42),\n (2016, 'Intellectuals', 'intellectuals', 'post', 5),\n (2016, 'Body Language', 'bodylanguage', 'post', 8),\n (2016,\n  'A Portrait of the Artist as a Young Man',\n  'portraitoftheartistasayoungman',\n  'post',\n  8),\n (2016, 'A Canticle for Leibowitz', 'canticleforleibowitz', 'post', 9),\n (2016, 'Sometimes a Great Notion', 'sometimesagreatnotion', 'post', 5),\n (2016, 'Love in the Time of Cholera', 'loveinthetimeofcholera', 'post', 7),\n (2016, 'Middlemarch', 'middlemarch', 'post', 13),\n (2016, 'Opening up', 'openingup', 'post', 1),\n (2016, 'Black Swan Green', 'blackswangreen', 'post', 3),\n (2016, 'Cuore', 'cuore', 'post', 2),\n (2016, 'The Power of Habit', 'powerofhabit', 'post', 5),\n (2016, 'The Berlin Wall', 'berlinwall', 'post', 2),\n (2016, 'Snow Crash', 'snowcrash', 'post', 20),\n (2016, 'In danger', 'indanger', 'post', 5),\n (2016, 'Screwed', 'screwed', 'post', 9),\n (2016, 'The War of the Worlds', 'waroftheworlds', 'post', 10),\n (2016, 'Park Bench', 'parkbench', 'post', 2),\n (2016, 'Amnesiascope', 'amnesiascope', 'post', 2),\n (2016, 'Tarot', 'tarot', 'post', 15),\n (2016, 'Hereafter', 'hereafter', 'post', 5),\n (2016, 'Be Prepared', 'beprepared', 'post', 13),\n (2016,\n  'I Have No Mouth and I Must Scream',\n  'ihavenomouthandimustscream',\n  'post',\n  5),\n (2016, 'The Iceman', 'iceman', 'post', 7),\n (2016, 'Diamond in the Rough', 'diamondintherough', 'post', 1),\n (2016, 'Twelve against the gods', 'twelveagainstthegods', 'post', 4),\n (2016, 'Sold out', 'soldout', 'post', 5),\n (2016, 'Divergent', 'divergent', 'post', 14),\n (2016, '1Q84', '1q84', 'post', 22),\n (2016, 'American Gods', 'americangods', 'post', 54),\n (2016, 'Mediasi', 'mediasi', 'post', 4),\n (2016, 'The Flirt', 'flirt', 'post', 10),\n (2016, 'Totalitarianism', 'totalitarianism', 'post', 3),\n (2016, 'Fear less', 'fearless', 'post', 5),\n (2016, 'Cavalcade', 'cavalcade', 'post', 1),\n (2016, 'How to make money', 'howtomakemoney', 'post', 44),\n (2016, 'Death by Meeting', 'deathbymeeting', 'post', 1),\n (2016, 'How late it was, how late', 'howlateitwashowlate', 'post', 1),\n (2016, 'Effortless', 'effortless', 'post', 4),\n (2016, 'Fault lines', 'faultlines', 'post', 1),\n (2016, 'A prayer for Owen Meany', 'prayerforowenmeany', 'post', 8),\n (2016, 'Child of Sin', 'childofsin', 'post', 1),\n (2016, 'Internet of things', 'internetofthings', 'post', 6),\n (2016, 'Waking Up', 'wakingup', 'post', 6),\n (2016, 'Company man', 'companyman', 'post', 5),\n (2016, 'How to love', 'howtolove', 'post', 1),\n (2016, 'Sudden death', 'suddendeath', 'post', 4),\n (2016, 'When Breath Becomes Air', 'whenbreathbecomesair', 'post', 11),\n (2016, 'Blinded', 'blinded', 'post', 6),\n (2016, 'Obedience', 'obedience', 'post', 6),\n (2016, 'Caixa de Passaros', 'caixadepassaros', 'post', 1),\n (2016, 'Pandemonium', 'pandemonium', 'post', 3),\n (2016, 'Delirium', 'delirium', 'post', 4),\n (2016, 'Jane, the Fox and Me', 'janethefoxandme', 'post', 2),\n (2016, 'No friends', 'nofriends', 'post', 2),\n (2016, 'The Light In The Darkness', 'lightinthedarkness', 'post', 1),\n (2016, 'The Iliad of Homer', 'iliadofhomer', 'post', 2),\n (2016, 'Letting Go', 'lettinggo', 'post', 4),\n (2016, 'Marxism', 'marxism', 'post', 3),\n (2016, 'Limbo', 'limbo', 'post', 7),\n (2016, 'Computer networking', 'computernetworking', 'post', 3),\n (2016, 'Make money online', 'makemoneyonline', 'post', 12),\n (2016, 'The uprooted', 'uprooted', 'post', 10),\n (2016, 'Echo Park', 'echopark', 'post', 2),\n (2016, 'No one knows', 'nooneknows', 'post', 8),\n (2016, 'The best of me', 'bestofme', 'post', 1),\n (2016, 'The Goldfinch', 'goldfinch', 'post', 17),\n (2016, 'Whirlwind', 'whirlwind', 'post', 6),\n (2016, 'Little Women', 'littlewomen', 'post', 11),\n (2016, 'The chronicles of Narnia', 'chroniclesofnarnia', 'post', 14),\n (2016, 'The Phantom Tollbooth', 'phantomtollbooth', 'post', 3),\n (2016, 'Pride/Prejudice', 'prideprejudice', 'post', 9),\n (2016, 'Bright Idea', 'brightidea', 'post', 1),\n (2016, 'The Rivalry', 'rivalry', 'post', 2),\n (2016, 'Failing Forward', 'failingforward', 'post', 1),\n (2016, 'Computer Networks', 'computernetworks', 'post', 1),\n (2016,\n  'Business Intelligence And Analytics Systems For Decision Support',\n  'businessintelligenceandanalyticssystemsfordecisionsupport',\n  'post',\n  1),\n (2016, 'Data base systems', 'databasesystems', 'post', 1),\n (2016, 'Submerged', 'submerged', 'post', 2),\n (2016, 'Pinot Noir', 'pinotnoir', 'post', 1),\n (2016, 'Buddies', 'buddies', 'post', 4),\n (2016, 'Titch', 'titch', 'post', 11),\n (2016, 'Ubuntu!', 'ubuntu', 'post', 3),\n (2016, 'Evil Thing', 'evilthing', 'post', 2),\n (2016, 'Under the Sea', 'underthesea', 'post', 3),\n (2016, 'The first stone', 'firststone', 'post', 2),\n (2016, 'Blood of elves', 'bloodofelves', 'post', 2),\n (2016, 'The Last Child', 'lastchild', 'post', 1),\n (2016, 'Shelter Dogs', 'shelterdogs', 'post', 2),\n (2016, 'Uarda', 'uarda', 'post', 1),\n (2016, 'Our Kind', 'ourkind', 'post', 11),\n (2016, 'Infinity', 'infinity', 'post', 9),\n (2016, 'The sixes', 'sixes', 'post', 2),\n (2016, 'Is this normal?', 'isthisnormal', 'post', 8),\n (2016, 'I think, I am!', 'ithinkiam', 'post', 5),\n (2016, 'Besat', 'besat', 'post', 3),\n (2016, 'Jurassic Park', 'jurassicpark', 'post', 28),\n (2016, 'On the fence', 'onthefence', 'post', 10),\n (2016, 'Ravage', 'ravage', 'post', 7),\n (2016, 'Inequality', 'inequality', 'post', 7),\n (2016, 'Fever dream', 'feverdream', 'post', 6),\n (2016, 'Dark secret', 'darksecret', 'post', 2),\n (2016, 'The Aeneid', 'aeneid', 'post', 5),\n (2016, 'Venture capital', 'venturecapital', 'post', 2),\n (2016, 'Himalaya', 'himalaya', 'post', 6),\n (2016, 'Little Flower', 'littleflower', 'post', 1),\n (2016, 'Doing Good Better', 'doinggoodbetter', 'post', 2),\n (2016, 'Freakonomics', 'freakonomics', 'post', 2),\n (2016, 'Altruism', 'altruism', 'post', 1),\n (2016, 'The Regiment', 'regiment', 'post', 5),\n (2016, 'Talion', 'talion', 'post', 2),\n (2016, 'Vimy', 'vimy', 'post', 4),\n (2016, \"The cat's meow\", 'catsmeow', 'post', 1),\n (2016, 'Hairstyles', 'hairstyles', 'post', 9),\n (2016, 'Broken wings', 'brokenwings', 'post', 3),\n (2016, 'Forgiveness', 'forgiveness', 'post', 9),\n (2016, 'Memorial Day', 'memorialday', 'post', 2),\n (2016, \"L'occasion\", 'loccasion', 'post', 6),\n (2016, 'Chesapeake', 'chesapeake', 'post', 1),\n (2016, 'Caravans', 'caravans', 'post', 1),\n (2016, 'World of Science', 'worldofscience', 'post', 1),\n (2016, 'One Shot', 'oneshot', 'post', 2),\n (2016, 'The Temptress', 'temptress', 'post', 2),\n (2016, 'The Five-Star Review', 'fivestarreview', 'post', 2),\n (2016, 'Our Stars', 'ourstars', 'post', 4),\n (2016, 'Person to person', 'persontoperson', 'post', 2),\n (2016, 'What I See', 'whatisee', 'post', 3),\n (2016, 'LYDIE', 'lydie', 'post', 15),\n (2016, 'The Once and Future King', 'onceandfutureking', 'post', 12),\n (2016, 'The sword in the stone', 'swordinthestone', 'post', 1),\n (2016, 'Stand up!', 'standup', 'post', 13),\n (2016, 'Warm bodies', 'warmbodies', 'post', 3),\n (2016, 'Green Earth', 'greenearth', 'post', 1),\n (2016, 'The fury', 'fury', 'post', 10),\n (2016, 'The Human Condition', 'humancondition', 'post', 13),\n (2016, 'Double Standards', 'doublestandards', 'post', 2),\n (2016, 'Relapse', 'relapse', 'post', 5),\n (2016, \"Le Morte d'Arthur\", 'lemortedarthur', 'post', 2),\n (2016, 'Unfaithful', 'unfaithful', 'post', 4),\n (2016, 'Time and Time Again', 'timeandtimeagain', 'post', 4),\n (2016, 'Love lines', 'lovelines', 'post', 1),\n (2016, 'Omnibus', 'omnibus', 'post', 19),\n (2016, 'In the Meantime', 'inthemeantime', 'post', 14),\n (2016, 'The mists of Avalon', 'mistsofavalon', 'post', 5),\n (2016, \"Life's a beach\", 'lifesabeach', 'post', 1),\n (2016, 'Deliver us from evil', 'deliverusfromevil', 'post', 3),\n (2016, 'Vagina', 'vagina', 'post', 24),\n (2016, 'Horrorstör', 'horrorstor', 'post', 11),\n (2016, 'Horror Stories', 'horrorstories', 'post', 12),\n (2016, 'Someone Knows', 'someoneknows', 'post', 1),\n (2016, 'Ghost boy', 'ghostboy', 'post', 2),\n (2016, 'Managing people', 'managingpeople', 'post', 1),\n (2016, 'Lower Ed', 'lowered', 'post', 3),\n (2016, 'The library at Mount Char', 'libraryatmountchar', 'post', 6),\n (2016, 'The Crucible', 'crucible', 'post', 5),\n (2016, 'Romeo and', 'romeoand', 'post', 14),\n (2016, 'A Raisin in the Sun', 'raisininthesun', 'post', 3),\n (2016, 'Death of a Salesman', 'deathofasalesman', 'post', 2),\n (2016, 'The postmortal', 'postmortal', 'post', 2),\n (2016, 'Shadow Hunter', 'shadowhunter', 'post', 17),\n (2016,\n  'A short history of nearly everything',\n  'shorthistoryofnearlyeverything',\n  'post',\n  9),\n (2016, 'Baptism of fire', 'baptismoffire', 'post', 2),\n (2016, 'Forensic Science', 'forensicscience', 'post', 2),\n (2016, 'About a Boy', 'aboutaboy', 'post', 6),\n (2016, 'Food security', 'foodsecurity', 'post', 1),\n (2016, 'Street food', 'streetfood', 'post', 1),\n (2016, 'The Internet book', 'internetbook', 'post', 2),\n (2016, 'Be cool', 'becool', 'post', 10),\n (2016, 'Zero K', 'zerok', 'post', 27),\n (2016, 'Point Omega', 'pointomega', 'post', 1),\n (2016, 'Powerless', 'powerless', 'post', 9),\n (2016, 'State of mind', 'stateofmind', 'post', 9),\n (2016, 'Falling Man', 'fallingman', 'post', 5),\n (2016, 'Painless', 'painless', 'post', 4),\n (2016, 'Regeneration', 'regeneration', 'post', 10),\n (2016, 'His 2', 'his2', 'post', 13),\n (2016, 'A First Look', 'firstlook', 'post', 11),\n (2016, 'Lungs', 'lungs', 'post', 4),\n (2016,\n  'Hunger Makes Me a Modern Girl',\n  'hungermakesmeamoderngirl',\n  'post',\n  1),\n (2016, 'Destroyer', 'destroyer', 'post', 15),\n (2016, 'Civil Rights', 'civilrights', 'post', 12),\n (2016, 'Tactile', 'tactile', 'post', 3),\n (2016, 'Harlem', 'harlem', 'post', 3),\n (2016, 'Ringworld', 'ringworld', 'post', 11),\n (2016,\n  'The Best of All Possible Worlds',\n  'bestofallpossibleworlds',\n  'post',\n  1),\n (2016, 'A Modest Proposal', 'modestproposal', 'post', 1),\n (2016, 'The Man in the High Castle', 'maninthehighcastle', 'post', 25),\n (2016, 'Squabbles', 'squabbles', 'post', 1),\n (2016, 'The time machine', 'timemachine', 'post', 12),\n (2016, 'The Day of the Locust', 'dayofthelocust', 'post', 1),\n (2016, 'Midnight Cowboy', 'midnightcowboy', 'post', 3),\n (2016, 'No logo', 'nologo', 'post', 1),\n (2016, 'After 9/11', 'after911', 'post', 3),\n (2016, 'The Sellout', 'sellout', 'post', 17),\n (2016, 'Between the World and Me', 'betweentheworldandme', 'post', 7),\n (2016, 'Cold Hearted', 'coldhearted', 'post', 4),\n (2016, 'Nightfall', 'nightfall', 'post', 5),\n (2016, 'The Mandibles', 'mandibles', 'post', 3),\n (2016, 'The Soddit', 'soddit', 'post', 1),\n (2016, 'Paranoia', 'paranoia', 'post', 9),\n (2016, 'The Plot Against America', 'plotagainstamerica', 'post', 2),\n (2016, 'Terrific', 'terrific', 'post', 12),\n (2016, 'Dorsai!', 'dorsai', 'post', 1),\n (2016, 'Esinam', 'esinam', 'post', 7),\n (2016, 'Choke', 'choke', 'post', 16),\n (2016, 'Nostromo', 'nostromo', 'post', 1),\n (2016, 'MetaMaus', 'metamaus', 'post', 1),\n (2016, 'Sin City', 'sincity', 'post', 5),\n (2016,\n  \"Can't We Talk About Something More Pleasant?\",\n  'cantwetalkaboutsomethingmorepleasant',\n  'post',\n  1),\n (2016, 'Our dumb century', 'ourdumbcentury', 'post', 1),\n (2016, 'Hyperbole and a Half', 'hyperboleandahalf', 'post', 4),\n (2016, 'The Unsung Hero', 'unsunghero', 'post', 1),\n (2016, 'Diary of a Wimpy Kid', 'diaryofawimpykid', 'post', 17),\n (2016, 'Breakdowns', 'breakdowns', 'post', 1),\n (2016, 'Fan art', 'fanart', 'post', 10),\n (2016,\n  'How to Tell If Your Cat Is Plotting to Kill You',\n  'howtotellifyourcatisplottingtokillyou',\n  'post',\n  1),\n (2016, 'Misery', 'misery', 'post', 36),\n (2016, 'Dirty Pleasures', 'dirtypleasures', 'post', 1),\n (2016, 'Luminous', 'luminous', 'post', 4),\n (2016, 'The Diary of a Young Girl', 'diaryofayounggirl', 'post', 4),\n (2016, 'Revelation Space', 'revelationspace', 'post', 5),\n (2016, 'Chasm City', 'chasmcity', 'post', 2),\n (2016, 'Amoras', 'amoras', 'post', 8),\n (2016, \"D'Shai\", 'dshai', 'post', 1),\n (2016, 'Vanish', 'vanish', 'post', 8),\n (2016, 'Bruiser', 'bruiser', 'post', 1),\n (2016,\n  'The Spy Who Came in from the Cold',\n  'spywhocameinfromthecold',\n  'post',\n  4),\n (2016, 'A walk on the wild side', 'walkonthewildside', 'post', 1),\n (2016, 'Wildside', 'wildside', 'post', 2),\n (2016, 'Who Moved My Cheese?', 'whomovedmycheese', 'post', 1),\n (2016, 'Hot pursuit', 'hotpursuit', 'post', 5),\n (2016, 'The World of Ā', 'worldofa', 'post', 7),\n (2016, 'Hurry up!', 'hurryup', 'post', 3),\n (2016, 'Why Me', 'whyme', 'post', 7),\n (2016, 'Big Data', 'bigdata', 'post', 13),\n (2016, 'Transformations', 'transformations', 'post', 6),\n (2016, \"A winter's tale\", 'winterstale', 'post', 2),\n (2016, 'The Merchant of Venice', 'merchantofvenice', 'post', 1),\n (2016, 'Taming of the Shrew', 'tamingoftheshrew', 'post', 4),\n (2016, 'King Lear', 'kinglear', 'post', 10),\n (2016, 'Life in parts', 'lifeinparts', 'post', 3),\n (2016, 'Embroidery', 'embroidery', 'post', 4),\n (2016, 'Zeus', 'zeus', 'post', 11),\n (2016, 'Corporation law', 'corporationlaw', 'post', 1),\n (2016, 'Reapers', 'reapers', 'post', 5),\n (2016, 'Valor', 'valor', 'post', 7),\n (2016, 'Handprints', 'handprints', 'post', 1),\n (2016, 'Locked in', 'lockedin', 'post', 8),\n (2016, 'Calibre', 'calibre', 'post', 15),\n (2016, 'Bad Boy', 'badboy', 'post', 21),\n (2016, 'After dark', 'afterdark', 'post', 10),\n (2016, 'Billionaires', 'billionaires', 'post', 26),\n (2016, 'Bull Mountain', 'bullmountain', 'post', 2),\n (2016, 'Did you ever have a family', 'didyoueverhaveafamily', 'post', 2),\n (2016, 'Never Say Goodbye', 'neversaygoodbye', 'post', 1),\n (2016, 'Ultrasound', 'ultrasound', 'post', 1),\n (2016, 'HVAC', 'hvac', 'post', 3),\n (2016, 'Steering the Craft', 'steeringthecraft', 'post', 1),\n (2016, 'The wave in the mind', 'waveinthemind', 'post', 1),\n (2016, 'The art of fiction', 'artoffiction', 'post', 7),\n (2016, 'Plotted', 'plotted', 'post', 5),\n (2016, \"Gerald's Game\", 'geraldsgame', 'post', 2),\n (2016, 'Empire Falls', 'empirefalls', 'post', 3),\n (2016, 'Straight Man', 'straightman', 'post', 2),\n (2016, \"Nobody's fool\", 'nobodysfool', 'post', 2),\n (2016, 'The last Templar', 'lasttemplar', 'post', 5),\n (2016, 'Sinners', 'sinners', 'post', 6),\n (2016, 'The Long Run', 'longrun', 'post', 9),\n (2016, 'Malgudi days', 'malgudidays', 'post', 1),\n (2016, 'Make It Stick', 'makeitstick', 'post', 2),\n (2016, 'Zero to One', 'zerotoone', 'post', 4),\n (2016, 'Watching t.v', 'watchingtv', 'post', 4),\n (2016, 'Ninja', 'ninja', 'post', 16),\n (2016, 'Popular culture', 'popularculture', 'post', 8),\n (2016, \"The Mind's I\", 'mindsi', 'post', 7),\n (2016, 'Hip-hop', 'hiphop', 'post', 19),\n (2016,\n  \"I'm Thinking of Ending Things\",\n  'imthinkingofendingthings',\n  'post',\n  2),\n (2016, 'Fabrications', 'fabrications', 'post', 3),\n (2016, 'Human Is?', 'humanis', 'post', 8),\n (2016, 'Dreamscapes', 'dreamscapes', 'post', 2),\n (2016, 'Skeleton crew', 'skeletoncrew', 'post', 2),\n (2016, 'Full Dark, No Stars', 'fulldarknostars', 'post', 2),\n (2016, 'Me and Me', 'meandme', 'post', 5),\n (2016, 'Tapas', 'tapas', 'post', 7),\n (2016, 'The Age of Darkness', 'ageofdarkness', 'post', 1),\n (2016, 'Captivate', 'captivate', 'post', 17),\n (2016,\n  'The Wordsmiths and the Warguild',\n  'wordsmithsandthewarguild',\n  'post',\n  1),\n (2016, 'History of Philosophy', 'historyofphilosophy', 'post', 1),\n (2016, '\"Pulp Fiction\"', 'pulpfiction', 'post', 11),\n (2016, 'Onward', 'onward', 'post', 11),\n (2016, 'Loch', 'loch', 'post', 9),\n (2016,\n  'Something Wicked This Way Comes',\n  'somethingwickedthiswaycomes',\n  'post',\n  3),\n (2016, \"Rosemary's Baby\", 'rosemarysbaby', 'post', 6),\n (2016, 'What ho!', 'whatho', 'post', 5),\n (2016, 'How Do I Love Thee', 'howdoilovethee', 'post', 2),\n (2016, 'The Bands of Mourning', 'bandsofmourning', 'post', 4),\n (2016, 'So Yesterday', 'soyesterday', 'post', 1),\n (2016, 'Chained', 'chained', 'post', 5),\n (2016, 'The Grand Delusion', 'granddelusion', 'post', 1),\n (2016, 'A House for Mr. Biswas', 'houseformrbiswas', 'post', 1),\n (2016, 'Grouped', 'grouped', 'post', 3),\n (2016, 'The beautiful tree', 'beautifultree', 'post', 3),\n (2016, 'The Underground Railroad', 'undergroundrailroad', 'post', 13),\n (2016, 'How To Talk To Anyone', 'howtotalktoanyone', 'post', 2),\n (2016, 'The Immortals', 'immortals', 'post', 8),\n (2016, 'Employment Law', 'employmentlaw', 'post', 2),\n (2016, 'Overdue', 'overdue', 'post', 15),\n (2016, 'The end of summer', 'endofsummer', 'post', 2),\n (2016, 'Beach Read', 'beachread', 'post', 14),\n (2016, 'World order', 'worldorder', 'post', 2),\n (2016, 'Greyhound', 'greyhound', 'post', 3),\n (2016, 'Exquisite', 'exquisite', 'post', 18),\n (2016, 'Real Friends', 'realfriends', 'post', 1),\n (2016, 'Cures', 'cures', 'post', 9),\n (2016, 'Multitude', 'multitude', 'post', 10),\n (2016,\n  'Epistulae morales ad Lucilium',\n  'epistulaemoralesadlucilium',\n  'post',\n  1),\n (2016, 'Backlash', 'backlash', 'post', 11),\n (2016, 'Palm Beach', 'palmbeach', 'post', 3),\n (2016, 'The years of rice and salt', 'yearsofriceandsalt', 'post', 1),\n (2016, 'Dead End', 'deadend', 'post', 3),\n (2016, 'Gun Fu', 'gunfu', 'post', 1),\n (2016, 'Stay with me', 'staywithme', 'post', 3),\n (2016, 'Popular Fiction', 'popularfiction', 'post', 6),\n (2016, 'Girl With the Dragon Tattoo', 'girlwiththedragontattoo', 'post', 14),\n (2016, 'The Hunchback of Notre Dame', 'hunchbackofnotredame', 'post', 4),\n (2016, 'The gambling man', 'gamblingman', 'post', 1),\n (2016, 'Imbeciles', 'imbeciles', 'post', 1),\n (2016, 'Mistresses', 'mistresses', 'post', 3),\n (2016, 'Faith Versus Fact', 'faithversusfact', 'post', 1),\n (2016, 'Boot Camp', 'bootcamp', 'post', 8),\n (2016, 'Pawns', 'pawns', 'post', 4),\n (2016, 'Live Longer', 'livelonger', 'post', 12),\n (2016, 'Law dictionary', 'lawdictionary', 'post', 2),\n (2016, 'The Polar Express', 'polarexpress', 'post', 1),\n (2016, 'Reading Harry Potter', 'readingharrypotter', 'post', 11),\n (2016, 'What language is', 'whatlanguageis', 'post', 1),\n (2016, 'My man', 'myman', 'post', 6),\n (2016, 'Invisible Monsters', 'invisiblemonsters', 'post', 8),\n (2016, 'As Old As Time', 'asoldastime', 'post', 2),\n (2016, 'In Search of Lost Times', 'insearchoflosttimes', 'post', 2),\n (2016, 'Performance management', 'performancemanagement', 'post', 1),\n (2016, 'Passions', 'passions', 'post', 9),\n (2016, 'Gomorrah', 'gomorrah', 'post', 4),\n (2016, 'Rogues', 'rogues', 'post', 10),\n (2016, 'Killing spree', 'killingspree', 'post', 1),\n (2016, 'WhatsApp', 'whatsapp', 'post', 11),\n (2016, 'Rise of the Machines', 'riseofthemachines', 'post', 3),\n (2016, 'How to get your man', 'howtogetyourman', 'post', 1),\n (2016, 'The Buried Giant', 'buriedgiant', 'post', 16),\n (2016, 'Beowulf', 'beowulf', 'post', 21),\n (2016, 'Lessons learned', 'lessonslearned', 'post', 5),\n (2016, 'Procrastination', 'procrastination', 'post', 8),\n (2016, 'Super Power', 'superpower', 'post', 2),\n (2016, 'Family Happiness', 'familyhappiness', 'post', 7),\n (2016, '2312', '2312', 'post', 3),\n (2016, 'Writing stories', 'writingstories', 'post', 2),\n (2016, 'Second Chances', 'secondchances', 'post', 4),\n (2016, 'A Touch of Magic', 'touchofmagic', 'post', 1),\n (2016, 'Double life', 'doublelife', 'post', 2),\n (2016, 'The Ultimates', 'ultimates', 'post', 12),\n (2016, 'High Rise', 'highrise', 'post', 10),\n (2016, 'Concrete island', 'concreteisland', 'post', 2),\n (2016, 'The Sense of an Ending', 'senseofanending', 'post', 10),\n (2016, 'The Wallflower', 'wallflower', 'post', 1),\n (2016, 'Jilted', 'jilted', 'post', 2),\n (2016, 'Persistence', 'persistence', 'post', 3),\n (2016, 'Another day', 'anotherday', 'post', 4),\n (2016, 'Vengeance', 'vengeance', 'post', 9),\n (2016, 'Curtains', 'curtains', 'post', 7),\n (2016, 'That night', 'thatnight', 'post', 8),\n (2016, 'The Coven', 'coven', 'post', 6),\n (2016, 'Incidences', 'incidences', 'post', 6),\n (2016, 'Out of Order', 'outoforder', 'post', 14),\n (2016, 'Memory Man', 'memoryman', 'post', 3),\n (2016, 'Five Point Someone', 'fivepointsomeone', 'post', 3),\n (2016, 'Radiance', 'radiance', 'post', 16),\n (2016, 'Deathless', 'deathless', 'post', 2),\n (2016, 'Palimpsest', 'palimpsest', 'post', 2),\n (2016, 'Orphans', 'orphans', 'post', 8),\n (2016, 'On Pluto', 'onpluto', 'post', 1),\n (2016, 'Gujarat Files', 'gujaratfiles', 'post', 1),\n (2016, 'The Secret Diary', 'secretdiary', 'post', 1),\n (2016, 'My Family and other Animals', 'myfamilyandotheranimals', 'post', 4),\n (2016, 'Preaching', 'preaching', 'post', 10),\n (2016, 'Avatar, the last airbender', 'avatarthelastairbender', 'post', 3),\n (2016, 'Steven Universe', 'stevenuniverse', 'post', 2),\n (2016, 'Warlord', 'warlord', 'post', 6),\n (2016, 'Goddesses', 'goddesses', 'post', 2),\n (2016, 'Out of the blue', 'outoftheblue', 'post', 4),\n (2016, 'The whale rider', 'whalerider', 'post', 1),\n (2016, 'Bible Review', 'biblereview', 'post', 2),\n (2016, 'The outlaws', 'outlaws', 'post', 7),\n (2016, 'More Than Anything', 'morethananything', 'post', 10),\n (2016, 'The Water Knife', 'waterknife', 'post', 12),\n (2016, 'The People in the Trees', 'peopleinthetrees', 'post', 3),\n (2016, 'Off Season', 'offseason', 'post', 6),\n (2016, 'Fireflies', 'fireflies', 'post', 3),\n (2016, 'Intimations', 'intimations', 'post', 2),\n (2016, 'Home Fire', 'homefire', 'post', 1),\n (2016, 'Big Girl', 'biggirl', 'post', 1),\n (2016, 'Audition', 'audition', 'post', 1),\n (2016, 'Liar, liar', 'liarliar', 'post', 1),\n (2016, 'Elemental', 'elemental', 'post', 8),\n (2016, 'Geek love', 'geeklove', 'post', 9),\n (2016, 'Rabbits', 'rabbits', 'post', 8),\n (2016, 'Feeling sad', 'feelingsad', 'post', 2),\n (2016, 'Public opinion', 'publicopinion', 'post', 1),\n (2016, 'The Trojan War', 'trojanwar', 'post', 1),\n (2016, 'High Stakes', 'highstakes', 'post', 2),\n (2016, 'Now is the Time', 'nowisthetime', 'post', 2),\n (2016, 'Go For It!', 'goforit', 'post', 5),\n (2016, 'The Great Escape', 'greatescape', 'post', 1),\n (2016, 'Think and grow rich', 'thinkandgrowrich', 'post', 5),\n (2016, 'Auditing', 'auditing', 'post', 12),\n (2016,\n  \"Ratanlal & Dhirajlal's the law of torts\",\n  'ratanlaldhirajlalsthelawoftorts',\n  'post',\n  1),\n (2016, 'Smartphones', 'smartphones', 'post', 13),\n (2016, 'the trials of apollo', 'trialsofapollo', 'post', 1),\n (2016, 'Heroes of Olympus', 'heroesofolympus', 'post', 8),\n (2016, 'The Baron in the Trees', 'baroninthetrees', 'post', 3),\n (2016, 'Eternally', 'eternally', 'post', 4),\n (2016, 'Sacrifices', 'sacrifices', 'post', 9),\n (2016, \"Here's how\", 'hereshow', 'post', 18),\n (2016, 'Mail Order Bride', 'mailorderbride', 'post', 11),\n (2016, 'The Mail-Order Brides', 'mailorderbrides', 'post', 9),\n (2016, 'Red Rising', 'redrising', 'post', 47),\n (2016, 'On dialogue', 'ondialogue', 'post', 2),\n (2016, 'Golden Son', 'goldenson', 'post', 14),\n (2016, 'The Mother Tongue', 'mothertongue', 'post', 5),\n (2016, 'Down here', 'downhere', 'post', 1),\n (2016, 'The Grump', 'grump', 'post', 8),\n (2016, 'The Sword of Summer', 'swordofsummer', 'post', 4),\n (2016, \"What's eating Gilbert Grape\", 'whatseatinggilbertgrape', 'post', 2),\n (2016, 'The insides', 'insides', 'post', 10),\n (2016, 'Forbidden Fruit', 'forbiddenfruit', 'post', 2),\n (2016, 'Kafka on the Shore', 'kafkaontheshore', 'post', 24),\n (2016, 'Daybreak', 'daybreak', 'post', 2),\n (2016, 'Lego City', 'legocity', 'post', 1),\n (2016, 'Fight this fire!', 'fightthisfire', 'post', 1),\n (2016, 'Lust for Life', 'lustforlife', 'post', 1),\n (2016,\n  'My Father, the Pornographer: A Memoir',\n  'myfatherthepornographeramemoir',\n  'post',\n  1),\n (2016, 'Prediction I', 'predictioni', 'post', 2),\n (2016, 'Overthrow', 'overthrow', 'post', 5),\n (2016, 'Political Ideologies', 'politicalideologies', 'post', 1),\n (2016, 'Salesforce', 'salesforce', 'post', 22),\n (2016, 'Bumi', 'bumi', 'post', 7),\n (2016, 'Aliya', 'aliya', 'post', 1),\n (2016,\n  'Harry Potter and the Half-Blood Prince',\n  'harrypotterandthehalfbloodprince',\n  'post',\n  4),\n (2016, 'The Way of Kings', 'wayofkings', 'post', 27),\n (2016, 'Hiyas', 'hiyas', 'post', 1),\n (2016, 'With all my heart', 'withallmyheart', 'post', 1),\n (2016, 'Best of the best', 'bestofthebest', 'post', 2),\n (2016, 'The World Trade Center', 'worldtradecenter', 'post', 1),\n (2016, \"Don't look down\", 'dontlookdown', 'post', 1),\n (2016, 'Tintin', 'tintin', 'post', 11),\n (2016, 'Leviathan wakes', 'leviathanwakes', 'post', 13),\n (2016, 'Soldier Spy', 'soldierspy', 'post', 1),\n (2016, 'Even more parts', 'evenmoreparts', 'post', 1),\n (2016,\n  'Our husband has gone mad again',\n  'ourhusbandhasgonemadagain',\n  'post',\n  1),\n (2016, 'A night without stars', 'nightwithoutstars', 'post', 3),\n (2016, 'Amethyst', 'amethyst', 'post', 2),\n (2016, 'Angel Catbird', 'angelcatbird', 'post', 2),\n (2016, 'Behind the scenes', 'behindthescenes', 'post', 9),\n (2016, 'The fixer upper', 'fixerupper', 'post', 2),\n (2016, 'Lentil', 'lentil', 'post', 1),\n ...]"
     },
     "execution_count": 11,
     "metadata": {},
     "output_type": "execute_result"
    },
    {
     "name": "stdout",
     "output_type": "stream",
     "text": [
      "time: 55.5 ms (started: 2022-10-27 16:31:48 +02:00)\n"
     ]
    }
   ],
   "source": [
    "book_ranking"
   ],
   "metadata": {
    "collapsed": false
   }
  },
  {
   "cell_type": "code",
   "execution_count": 12,
   "outputs": [
    {
     "data": {
      "text/plain": "       Year                     Title       Normalized Title Post or Comment  \\\n0      2021                  The Heir                   heir            post   \n1      2020                  The Heir                   heir            post   \n2      2022                  The Heir                   heir            post   \n3      2022                  The Heir                   heir         comment   \n4      2018                  The Heir                   heir            post   \n...     ...                       ...                    ...             ...   \n83440  2021              Song of Kali             songofkali            post   \n83441  2021               Stravaganza            stravaganza            post   \n83442  2021          The heartbreaker           heartbreaker            post   \n83443  2021  Life is what you make it    lifeiswhatyoumakeit            post   \n83444  2015  Killing Yourself to Live  killingyourselftolive            post   \n\n       Occurrences  \n0             4084  \n1             3237  \n2             3153  \n3             3039  \n4             2221  \n...            ...  \n83440            1  \n83441            1  \n83442            1  \n83443            1  \n83444            1  \n\n[83445 rows x 5 columns]",
      "text/html": "<div>\n<style scoped>\n    .dataframe tbody tr th:only-of-type {\n        vertical-align: middle;\n    }\n\n    .dataframe tbody tr th {\n        vertical-align: top;\n    }\n\n    .dataframe thead th {\n        text-align: right;\n    }\n</style>\n<table border=\"1\" class=\"dataframe\">\n  <thead>\n    <tr style=\"text-align: right;\">\n      <th></th>\n      <th>Year</th>\n      <th>Title</th>\n      <th>Normalized Title</th>\n      <th>Post or Comment</th>\n      <th>Occurrences</th>\n    </tr>\n  </thead>\n  <tbody>\n    <tr>\n      <th>0</th>\n      <td>2021</td>\n      <td>The Heir</td>\n      <td>heir</td>\n      <td>post</td>\n      <td>4084</td>\n    </tr>\n    <tr>\n      <th>1</th>\n      <td>2020</td>\n      <td>The Heir</td>\n      <td>heir</td>\n      <td>post</td>\n      <td>3237</td>\n    </tr>\n    <tr>\n      <th>2</th>\n      <td>2022</td>\n      <td>The Heir</td>\n      <td>heir</td>\n      <td>post</td>\n      <td>3153</td>\n    </tr>\n    <tr>\n      <th>3</th>\n      <td>2022</td>\n      <td>The Heir</td>\n      <td>heir</td>\n      <td>comment</td>\n      <td>3039</td>\n    </tr>\n    <tr>\n      <th>4</th>\n      <td>2018</td>\n      <td>The Heir</td>\n      <td>heir</td>\n      <td>post</td>\n      <td>2221</td>\n    </tr>\n    <tr>\n      <th>...</th>\n      <td>...</td>\n      <td>...</td>\n      <td>...</td>\n      <td>...</td>\n      <td>...</td>\n    </tr>\n    <tr>\n      <th>83440</th>\n      <td>2021</td>\n      <td>Song of Kali</td>\n      <td>songofkali</td>\n      <td>post</td>\n      <td>1</td>\n    </tr>\n    <tr>\n      <th>83441</th>\n      <td>2021</td>\n      <td>Stravaganza</td>\n      <td>stravaganza</td>\n      <td>post</td>\n      <td>1</td>\n    </tr>\n    <tr>\n      <th>83442</th>\n      <td>2021</td>\n      <td>The heartbreaker</td>\n      <td>heartbreaker</td>\n      <td>post</td>\n      <td>1</td>\n    </tr>\n    <tr>\n      <th>83443</th>\n      <td>2021</td>\n      <td>Life is what you make it</td>\n      <td>lifeiswhatyoumakeit</td>\n      <td>post</td>\n      <td>1</td>\n    </tr>\n    <tr>\n      <th>83444</th>\n      <td>2015</td>\n      <td>Killing Yourself to Live</td>\n      <td>killingyourselftolive</td>\n      <td>post</td>\n      <td>1</td>\n    </tr>\n  </tbody>\n</table>\n<p>83445 rows × 5 columns</p>\n</div>"
     },
     "execution_count": 12,
     "metadata": {},
     "output_type": "execute_result"
    },
    {
     "name": "stdout",
     "output_type": "stream",
     "text": [
      "time: 1.96 s (started: 2022-10-27 16:31:49 +02:00)\n"
     ]
    }
   ],
   "source": [
    "merged_frame = pd.DataFrame(book_ranking, columns=['Year', 'Title', 'Normalized Title', 'Post or Comment', 'Occurrences'])\n",
    "merged_frame.sort_values('Occurrences', inplace=True, ascending=False, ignore_index=False)\n",
    "merged_frame.reset_index(drop='index', inplace=True)\n",
    "merged_frame"
   ],
   "metadata": {
    "collapsed": false
   }
  },
  {
   "cell_type": "code",
   "execution_count": 13,
   "outputs": [
    {
     "name": "stdout",
     "output_type": "stream",
     "text": [
      "time: 266 ms (started: 2022-10-27 16:31:51 +02:00)\n"
     ]
    }
   ],
   "source": [
    "merged_frame.to_csv(BOOK_COUNT_DF)"
   ],
   "metadata": {
    "collapsed": false
   }
  }
 ],
 "metadata": {
  "kernelspec": {
   "display_name": "Python 3 (ipykernel)",
   "language": "python",
   "name": "python3"
  },
  "language_info": {
   "codemirror_mode": {
    "name": "ipython",
    "version": 2
   },
   "file_extension": ".py",
   "mimetype": "text/x-python",
   "name": "python",
   "nbconvert_exporter": "python",
   "pygments_lexer": "ipython2",
   "version": "2.7.6"
  }
 },
 "nbformat": 4,
 "nbformat_minor": 1
}
