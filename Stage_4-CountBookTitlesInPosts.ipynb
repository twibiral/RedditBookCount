{
 "cells": [
  {
   "cell_type": "markdown",
   "metadata": {},
   "source": [
    "# Extract Book Titles from The Posts\n",
    "\n",
    "For every post id: get the actual version of the post, normalize it and search for book titles."
   ]
  },
  {
   "cell_type": "code",
   "execution_count": 1,
   "metadata": {},
   "outputs": [
    {
     "name": "stdout",
     "output_type": "stream",
     "text": [
      "time: 552 µs (started: 2022-10-30 11:57:04 +01:00)\n"
     ]
    }
   ],
   "source": [
    "import multiprocessing\n",
    "import re\n",
    "from collections import Counter\n",
    "from functools import partial\n",
    "from pathlib import Path\n",
    "\n",
    "import pandas as pd\n",
    "from tqdm.contrib.concurrent import process_map\n",
    "\n",
    "from Functions import normalize_text, get_occurrences_for_post\n",
    "\n",
    "NON_ALPHANUMERIC = re.compile(r'[\\W_]+')\n",
    "SUBREDDIT_NAME = 'books'\n",
    "EXTRACTED_BOOKS_PATH = './data/books.csv'\n",
    "IDS_PATH = './data/post_ids.csv'\n",
    "STORED_POSTS_PATH = './data/stored_posts.csv'\n",
    "FAUX_TITLES_PATH = Path('./data/faux_book_titles')\n",
    "BOOK_COUNT_DF = './data/book_counts_raw.csv'\n",
    "\n",
    "%load_ext autotime"
   ]
  },
  {
   "cell_type": "markdown",
   "metadata": {},
   "source": [
    "### Prepare Book Titles\n",
    "\n",
    "And compile them into a regex."
   ]
  },
  {
   "cell_type": "code",
   "execution_count": 2,
   "metadata": {},
   "outputs": [
    {
     "data": {
      "text/plain": "                                                    Title  \\\n0                                          006 and a Half   \n1                                                01-01-00   \n2                                                   05:58   \n3       08 the Planet of the Tortoise Driver Little Pr...   \n4                           10,000 ways to say I love you   \n...                                                   ...   \n113485                         Zvezdy--kholodnye igrushki   \n113486                                           Zvirahwe   \n113487                                   The Z Was Zapped   \n113488  Zweite Auflage im Altertum; kulturgeschichtlic...   \n113489                           Zyj wystarczajaco dobrze   \n\n                                               Normalized  \n0                                             006andahalf  \n1                                                  010100  \n2                                                    0558  \n3              08theplanetofthetortoisedriverlittleprince  \n4                                  10000waystosayiloveyou  \n...                                                   ...  \n113485                            zvezdykholodnyeigrushki  \n113486                                           zvirahwe  \n113487                                         zwaszapped  \n113488  zweiteauflageimaltertumkulturgeschichtlichestu...  \n113489                             zyjwystarczajacodobrze  \n\n[113490 rows x 2 columns]",
      "text/html": "<div>\n<style scoped>\n    .dataframe tbody tr th:only-of-type {\n        vertical-align: middle;\n    }\n\n    .dataframe tbody tr th {\n        vertical-align: top;\n    }\n\n    .dataframe thead th {\n        text-align: right;\n    }\n</style>\n<table border=\"1\" class=\"dataframe\">\n  <thead>\n    <tr style=\"text-align: right;\">\n      <th></th>\n      <th>Title</th>\n      <th>Normalized</th>\n    </tr>\n  </thead>\n  <tbody>\n    <tr>\n      <th>0</th>\n      <td>006 and a Half</td>\n      <td>006andahalf</td>\n    </tr>\n    <tr>\n      <th>1</th>\n      <td>01-01-00</td>\n      <td>010100</td>\n    </tr>\n    <tr>\n      <th>2</th>\n      <td>05:58</td>\n      <td>0558</td>\n    </tr>\n    <tr>\n      <th>3</th>\n      <td>08 the Planet of the Tortoise Driver Little Pr...</td>\n      <td>08theplanetofthetortoisedriverlittleprince</td>\n    </tr>\n    <tr>\n      <th>4</th>\n      <td>10,000 ways to say I love you</td>\n      <td>10000waystosayiloveyou</td>\n    </tr>\n    <tr>\n      <th>...</th>\n      <td>...</td>\n      <td>...</td>\n    </tr>\n    <tr>\n      <th>113485</th>\n      <td>Zvezdy--kholodnye igrushki</td>\n      <td>zvezdykholodnyeigrushki</td>\n    </tr>\n    <tr>\n      <th>113486</th>\n      <td>Zvirahwe</td>\n      <td>zvirahwe</td>\n    </tr>\n    <tr>\n      <th>113487</th>\n      <td>The Z Was Zapped</td>\n      <td>zwaszapped</td>\n    </tr>\n    <tr>\n      <th>113488</th>\n      <td>Zweite Auflage im Altertum; kulturgeschichtlic...</td>\n      <td>zweiteauflageimaltertumkulturgeschichtlichestu...</td>\n    </tr>\n    <tr>\n      <th>113489</th>\n      <td>Zyj wystarczajaco dobrze</td>\n      <td>zyjwystarczajacodobrze</td>\n    </tr>\n  </tbody>\n</table>\n<p>113490 rows × 2 columns</p>\n</div>"
     },
     "execution_count": 2,
     "metadata": {},
     "output_type": "execute_result"
    },
    {
     "name": "stdout",
     "output_type": "stream",
     "text": [
      "time: 680 ms (started: 2022-10-30 11:57:04 +01:00)\n"
     ]
    }
   ],
   "source": [
    "book_titles_df = pd.read_csv(EXTRACTED_BOOKS_PATH, index_col=0)\n",
    "book_titles_df"
   ]
  },
  {
   "cell_type": "code",
   "execution_count": 3,
   "metadata": {},
   "outputs": [
    {
     "name": "stdout",
     "output_type": "stream",
     "text": [
      "Found 113,231 book titles.\n",
      "time: 167 ms (started: 2022-10-30 11:57:05 +01:00)\n"
     ]
    }
   ],
   "source": [
    "title_dict = dict(zip(book_titles_df.Normalized, book_titles_df.Title))\n",
    "if FAUX_TITLES_PATH.exists():\n",
    "    faux_titles = {normalize_text(faux_title) for faux_title in FAUX_TITLES_PATH.read_text().splitlines(keepends=False)}\n",
    "else:\n",
    "    faux_titles = set()\n",
    "\n",
    "all_normalized_titles = list(set(book_titles_df.Normalized) - faux_titles)\n",
    "all_normalized_titles.sort(reverse=True, key=lambda x: len(x))\n",
    "print(f'Found {len(all_normalized_titles):,} book titles.')"
   ]
  },
  {
   "cell_type": "code",
   "execution_count": 4,
   "metadata": {},
   "outputs": [
    {
     "name": "stderr",
     "output_type": "stream",
     "text": [
      "/scratch/slurm_tmpdir/job_21168239/ipykernel_3756691/3677812895.py:1: DtypeWarning: Columns (4) have mixed types. Specify dtype option on import or set low_memory=False.\n",
      "  posts_df = pd.read_csv(STORED_POSTS_PATH, index_col=0)\n"
     ]
    },
    {
     "data": {
      "text/plain": "            ID  Year                                          Post Text  \\\n0        7cexh  2008                               funnyparodysffcovers   \n1        72bqq  2008  pirateshortfictionfromfantasymagazineshimmerfr...   \n2        6sr73  2008                            reviewihatedavidsedaris   \n3        6dpea  2008    sevendeadlywordsofbookreviewingnewyorktimesblog   \n4        7mbbb  2008                                    2008discoveries   \n...        ...   ...                                                ...   \n289576  x3c279  2022  the2022hugoawardwinnerstobeannouncedonsunday4s...   \n289577  tozgxo  2022  juststartedthevegetarianandiwishthehusbandallt...   \n289578  xagcox  2022  neverjudgeabookbyitsauthorsfatherearlierthisye...   \n289579  xe8nhv  2022  somebriefthoughtsonthewomenofthecoppercountrya...   \n289580  vpm27k  2022              howreadingfantasybooksmakesyousmarter   \n\n       Comment Text  \n0                    \n1                    \n2                    \n3                    \n4                    \n...             ...  \n289576               \n289577               \n289578               \n289579               \n289580               \n\n[289581 rows x 4 columns]",
      "text/html": "<div>\n<style scoped>\n    .dataframe tbody tr th:only-of-type {\n        vertical-align: middle;\n    }\n\n    .dataframe tbody tr th {\n        vertical-align: top;\n    }\n\n    .dataframe thead th {\n        text-align: right;\n    }\n</style>\n<table border=\"1\" class=\"dataframe\">\n  <thead>\n    <tr style=\"text-align: right;\">\n      <th></th>\n      <th>ID</th>\n      <th>Year</th>\n      <th>Post Text</th>\n      <th>Comment Text</th>\n    </tr>\n  </thead>\n  <tbody>\n    <tr>\n      <th>0</th>\n      <td>7cexh</td>\n      <td>2008</td>\n      <td>funnyparodysffcovers</td>\n      <td></td>\n    </tr>\n    <tr>\n      <th>1</th>\n      <td>72bqq</td>\n      <td>2008</td>\n      <td>pirateshortfictionfromfantasymagazineshimmerfr...</td>\n      <td></td>\n    </tr>\n    <tr>\n      <th>2</th>\n      <td>6sr73</td>\n      <td>2008</td>\n      <td>reviewihatedavidsedaris</td>\n      <td></td>\n    </tr>\n    <tr>\n      <th>3</th>\n      <td>6dpea</td>\n      <td>2008</td>\n      <td>sevendeadlywordsofbookreviewingnewyorktimesblog</td>\n      <td></td>\n    </tr>\n    <tr>\n      <th>4</th>\n      <td>7mbbb</td>\n      <td>2008</td>\n      <td>2008discoveries</td>\n      <td></td>\n    </tr>\n    <tr>\n      <th>...</th>\n      <td>...</td>\n      <td>...</td>\n      <td>...</td>\n      <td>...</td>\n    </tr>\n    <tr>\n      <th>289576</th>\n      <td>x3c279</td>\n      <td>2022</td>\n      <td>the2022hugoawardwinnerstobeannouncedonsunday4s...</td>\n      <td></td>\n    </tr>\n    <tr>\n      <th>289577</th>\n      <td>tozgxo</td>\n      <td>2022</td>\n      <td>juststartedthevegetarianandiwishthehusbandallt...</td>\n      <td></td>\n    </tr>\n    <tr>\n      <th>289578</th>\n      <td>xagcox</td>\n      <td>2022</td>\n      <td>neverjudgeabookbyitsauthorsfatherearlierthisye...</td>\n      <td></td>\n    </tr>\n    <tr>\n      <th>289579</th>\n      <td>xe8nhv</td>\n      <td>2022</td>\n      <td>somebriefthoughtsonthewomenofthecoppercountrya...</td>\n      <td></td>\n    </tr>\n    <tr>\n      <th>289580</th>\n      <td>vpm27k</td>\n      <td>2022</td>\n      <td>howreadingfantasybooksmakesyousmarter</td>\n      <td></td>\n    </tr>\n  </tbody>\n</table>\n<p>289581 rows × 4 columns</p>\n</div>"
     },
     "execution_count": 4,
     "metadata": {},
     "output_type": "execute_result"
    },
    {
     "name": "stdout",
     "output_type": "stream",
     "text": [
      "time: 1.26 s (started: 2022-10-30 11:57:05 +01:00)\n"
     ]
    }
   ],
   "source": [
    "posts_df = pd.read_csv(STORED_POSTS_PATH, index_col=0)\n",
    "posts_df.fillna('', inplace=True)\n",
    "posts_df"
   ]
  },
  {
   "cell_type": "code",
   "execution_count": 5,
   "outputs": [
    {
     "name": "stdout",
     "output_type": "stream",
     "text": [
      "time: 448 ms (started: 2022-10-30 11:57:06 +01:00)\n"
     ]
    }
   ],
   "source": [
    "posts = list(posts_df.sample(frac=1).itertuples(index=False, name=None))    # shuffle for better time estimate for the process bar"
   ],
   "metadata": {
    "collapsed": false
   }
  },
  {
   "cell_type": "markdown",
   "metadata": {},
   "source": [
    "### Compile the Book Titles to RegEx\n",
    "\n",
    "The longest book title is first, the shortest is last. The resulting RegEx always returns the longest non-overlapping matches. This way, we always match on the longest title, even if a shorter title is a substring of the long title. (e.g. Only match for 'Pride and Prejudice and Zombies' and not for 'Pride and Prejudice' in the string: 'My favourite book is \"Pride and Prejudice and Zombies\"')"
   ]
  },
  {
   "cell_type": "code",
   "execution_count": 6,
   "metadata": {},
   "outputs": [
    {
     "name": "stdout",
     "output_type": "stream",
     "text": [
      "time: 4.3 s (started: 2022-10-30 11:57:07 +01:00)\n"
     ]
    }
   ],
   "source": [
    "title_regex = '|'.join(all_normalized_titles)\n",
    "title_regex = re.compile(title_regex)"
   ]
  },
  {
   "cell_type": "markdown",
   "metadata": {},
   "source": [
    "### Search Posts for Book Titles"
   ]
  },
  {
   "cell_type": "code",
   "execution_count": 7,
   "outputs": [
    {
     "data": {
      "text/plain": "  0%|          | 0/289581 [00:00<?, ?it/s]",
      "application/vnd.jupyter.widget-view+json": {
       "version_major": 2,
       "version_minor": 0,
       "model_id": "0c89bc9d80c9411a982af006f6067f0d"
      }
     },
     "metadata": {},
     "output_type": "display_data"
    },
    {
     "name": "stdout",
     "output_type": "stream",
     "text": [
      "time: 2h 44min 2s (started: 2022-10-30 11:57:11 +01:00)\n"
     ]
    }
   ],
   "source": [
    "results = process_map(\n",
    "    partial(get_occurrences_for_post, title_regex=title_regex),\n",
    "    posts,\n",
    "    max_workers=multiprocessing.cpu_count()//2,\n",
    "    chunksize=250\n",
    ")"
   ],
   "metadata": {
    "collapsed": false
   }
  },
  {
   "cell_type": "code",
   "execution_count": 8,
   "outputs": [
    {
     "name": "stdout",
     "output_type": "stream",
     "text": [
      "time: 3min 44s (started: 2022-10-30 14:41:14 +01:00)\n"
     ]
    }
   ],
   "source": [
    "year, post_occ, comment_occ = zip(*results)\n",
    "\n",
    "per_year_posts = dict()\n",
    "per_year_comments = dict()\n",
    "\n",
    "for y in set(year):\n",
    "    per_year_posts[y] = dict()\n",
    "    per_year_comments[y] = dict()\n",
    "\n",
    "for y, p, c in results:\n",
    "    if p:\n",
    "        per_year_posts[y] = Counter(per_year_posts[y]) + Counter(p)\n",
    "    if c:\n",
    "        per_year_comments[y] = Counter(per_year_posts[y]) + Counter(p)"
   ],
   "metadata": {
    "collapsed": false
   }
  },
  {
   "cell_type": "code",
   "execution_count": 9,
   "metadata": {},
   "outputs": [
    {
     "name": "stdout",
     "output_type": "stream",
     "text": [
      "time: 385 µs (started: 2022-10-30 14:44:58 +01:00)\n"
     ]
    }
   ],
   "source": [
    "# print(\"Ranked from posts:\", sorted(list(post_occ.items()), key=lambda x: x[1], reverse=True))\n",
    "# print(\"Ranked from comments:\", sorted(list(post_occ.items()), key=lambda x: x[1], reverse=True))\n",
    "# print(\"Ranked from posts and comments:\",\n",
    "#       sorted(list((Counter(comment_occ) + Counter(post_occ))\n",
    "#                   .items()), key=lambda x: x[1], reverse=True))"
   ]
  },
  {
   "cell_type": "code",
   "execution_count": 10,
   "outputs": [
    {
     "name": "stdout",
     "output_type": "stream",
     "text": [
      "time: 106 ms (started: 2022-10-30 14:44:58 +01:00)\n"
     ]
    }
   ],
   "source": [
    "book_ranking = []\n",
    "for y in set(year):\n",
    "    book_ranking.extend([(y, title_dict[book_title], book_title, 'post', occurrences)\n",
    "                    for book_title, occurrences in per_year_posts[y].items()])\n",
    "    book_ranking.extend([(y, title_dict[book_title], book_title, 'comment', occurrences)\n",
    "                         for book_title, occurrences in per_year_comments[y].items()])"
   ],
   "metadata": {
    "collapsed": false
   }
  },
  {
   "cell_type": "code",
   "execution_count": 11,
   "outputs": [
    {
     "data": {
      "text/plain": "[(2016, 'New Moon', 'newmoon', 'post', 5),\n (2016, 'Auden', 'auden', 'post', 6),\n (2016, 'Emile', 'emile', 'post', 16),\n (2016, 'Komarr', 'komarr', 'post', 1),\n (2016, 'The apprentice', 'apprentice', 'post', 9),\n (2016, 'Mirror Dance', 'mirrordance', 'post', 1),\n (2016, 'On Man', 'onman', 'post', 44),\n (2016, 'The Long Run', 'longrun', 'post', 9),\n (2016, 'Mater', 'mater', 'post', 215),\n (2016, 'Fluff', 'fluff', 'post', 11),\n (2016, 'Critical Mass', 'criticalmass', 'post', 2),\n (2016, 'Spaced Out', 'spacedout', 'post', 3),\n (2016, 'Sting', 'sting', 'post', 1654),\n (2016, 'Hungry for more', 'hungryformore', 'post', 1),\n (2016, 'Everyman', 'everyman', 'post', 18),\n (2016, 'The girl of his dreams', 'girlofhisdreams', 'post', 1),\n (2016, 'At-Risk', 'atrisk', 'post', 4),\n (2016, 'Unwell', 'unwell', 'post', 2),\n (2016, 'Dread', 'dread', 'post', 2217),\n (2016, 'The triple package', 'triplepackage', 'post', 1),\n (2016, 'The Chinaman', 'chinaman', 'post', 5),\n (2016, 'Obsidian', 'obsidian', 'post', 5),\n (2016, 'For Me?', 'forme', 'post', 947),\n (2016, 'Untouched', 'untouched', 'post', 6),\n (2016, 'Harry Potter', 'harrypotter', 'post', 390),\n (2016, 'Trump', 'trump', 'post', 121),\n (2016, 'Catcher in the Rye', 'catcherintherye', 'post', 87),\n (2016, 'The Hat Book', 'hatbook', 'post', 620),\n (2016, 'Primer', 'primer', 'post', 24),\n (2016, 'The Right Time', 'righttime', 'post', 15),\n (2016, 'Libra', 'libra', 'post', 954),\n (2016, 'The Spire', 'spire', 'post', 204),\n (2016, \"The Emperor's New Mind\", 'emperorsnewmind', 'post', 1),\n (2016, 'Gödel, Escher, Bach', 'godelescherbach', 'post', 4),\n (2016, 'The Library Book', 'librarybook', 'post', 40),\n (2016, 'The flavor bible', 'flavorbible', 'post', 2),\n (2016, 'The Companions of Jehu', 'companionsofjehu', 'post', 3),\n (2016, 'Napoléon', 'napoleon', 'post', 39),\n (2016, 'Caesar', 'caesar', 'post', 6),\n (2016, 'Nevers', 'nevers', 'post', 124),\n (2016, 'Second Time Around', 'secondtimearound', 'post', 7),\n (2016, 'My Life', 'mylife', 'post', 204),\n (2016, 'The shattering', 'shattering', 'post', 3),\n (2016, 'Uncontrollable', 'uncontrollable', 'post', 3),\n (2016, 'Embers', 'embers', 'post', 139),\n (2016, 'The Wall Street journal', 'wallstreetjournal', 'post', 11),\n (2016, 'Walt Whitman', 'waltwhitman', 'post', 33),\n (2016, 'Venus', 'venus', 'post', 24),\n (2016, 'Swell', 'swell', 'post', 570),\n (2016, 'Emma Watson', 'emmawatson', 'post', 10),\n (2016, 'Ready Player One', 'readyplayerone', 'post', 56),\n (2016, 'Warren Buffet', 'warrenbuffet', 'post', 3),\n (2016, 'Millionaires', 'millionaires', 'post', 11),\n (2016, 'Jack the Ripper', 'jacktheripper', 'post', 2),\n (2016, 'The last Templar', 'lasttemplar', 'post', 5),\n (2016, 'Fullmetal Alchemist', 'fullmetalalchemist', 'post', 1),\n (2016, 'The Expanse', 'expanse', 'post', 26),\n (2016, 'The Picture of Dorian Gray', 'pictureofdoriangray', 'post', 16),\n (2016,\n  'The Curious Incident of the Dog in the Night-Time',\n  'curiousincidentofthedoginthenighttime',\n  'post',\n  11),\n (2016, 'The Hound of the Baskervilles', 'houndofthebaskervilles', 'post', 2),\n (2016, 'From the Heart', 'fromtheheart', 'post', 3),\n (2016,\n  \"Dirk Gently's Holistic Detective Agency\",\n  'dirkgentlysholisticdetectiveagency',\n  'post',\n  2),\n (2016, 'Lucky You', 'luckyyou', 'post', 2),\n (2016, 'Out of Order', 'outoforder', 'post', 14),\n (2016, 'Finders Keepers', 'finderskeepers', 'post', 11),\n (2016, 'M train', 'mtrain', 'post', 105),\n (2016, 'Pandora', 'pandora', 'post', 11),\n (2016, 'Accelerate', 'accelerate', 'post', 6),\n (2016, 'Persuader', 'persuader', 'post', 1),\n (2016, 'Change Your Mind', 'changeyourmind', 'post', 4),\n (2016,\n  'Fear and Loathing in Las Vegas',\n  'fearandloathinginlasvegas',\n  'post',\n  16),\n (2016, 'The American dream', 'americandream', 'post', 7),\n (2016, 'On literature', 'onliterature', 'post', 9),\n (2016, 'Ethan', 'ethan', 'post', 728),\n (2016, 'Norma', 'norma', 'post', 270),\n (2016, 'Shapeshifter', 'shapeshifter', 'post', 8),\n (2016, 'Second Chances', 'secondchances', 'post', 4),\n (2016, 'American Gods', 'americangods', 'post', 54),\n (2016, 'Mahabharata', 'mahabharata', 'post', 7),\n (2016, 'Ramayana', 'ramayana', 'post', 4),\n (2016, 'Dark Matter', 'darkmatter', 'post', 17),\n (2016, 'On Killing', 'onkilling', 'post', 1),\n (2016, 'Sparta', 'sparta', 'post', 11),\n (2016, 'The climax', 'climax', 'post', 33),\n (2016, 'Shane', 'shane', 'post', 9),\n (2016, 'Spark', 'spark', 'post', 87),\n (2016, 'Cosmos', 'cosmos', 'post', 21),\n (2016,\n  'The Perks of Being a Wallflower',\n  'perksofbeingawallflower',\n  'post',\n  20),\n (2016, 'The bookshop', 'bookshop', 'post', 113),\n (2016, 'Trust Me', 'trustme', 'post', 11),\n (2016, 'Two novels', 'twonovels', 'post', 16),\n (2016, 'The gazebo', 'gazebo', 'post', 1),\n (2016, 'Kite Runner', 'kiterunner', 'post', 18),\n (2016, 'The Medici', 'medici', 'post', 48),\n (2016, 'Popular Fiction', 'popularfiction', 'post', 6),\n (2016, 'Fables', 'fables', 'post', 10),\n (2016, 'Teamwork', 'teamwork', 'post', 1),\n (2016, 'Stranger Things', 'strangerthings', 'post', 15),\n (2016, 'The United States', 'unitedstates', 'post', 39),\n (2016, 'Ship it!', 'shipit', 'post', 10),\n (2016, 'LYDIE', 'lydie', 'post', 15),\n (2016, 'Doing Good Better', 'doinggoodbetter', 'post', 2),\n (2016, 'Freakonomics', 'freakonomics', 'post', 2),\n (2016, 'Altruism', 'altruism', 'post', 1),\n (2016, 'Left out', 'leftout', 'post', 10),\n (2016, 'Clive', 'clive', 'post', 22),\n (2016, 'Imajica', 'imajica', 'post', 2),\n (2016, 'The Lord of the Rings', 'lordoftherings', 'post', 108),\n (2016, 'Bible', 'bible', 'post', 130),\n (2016, 'The Ultimates', 'ultimates', 'post', 12),\n (2016, 'Name of the Rose', 'nameoftherose', 'post', 21),\n (2016, 'Sherlock Holmes', 'sherlockholmes', 'post', 41),\n (2016, 'The monastery', 'monastery', 'post', 5),\n (2016, 'The Abbot', 'abbot', 'post', 12),\n (2016, 'To Kill a Mockingbird', 'tokillamockingbird', 'post', 83),\n (2016, 'Drift', 'drift', 'post', 23),\n (2016, 'Tamas', 'tamas', 'post', 8),\n (2016, 'The millionaire mind', 'millionairemind', 'post', 1),\n (2016, 'The Oath of the Vayuputras', 'oathofthevayuputras', 'post', 1),\n (2016, 'Infinite jest', 'infinitejest', 'post', 173),\n (2016, 'Dead eye', 'deadeye', 'post', 1),\n (2016, 'The Underground Railroad', 'undergroundrailroad', 'post', 13),\n (2016, 'Anna Karenina', 'annakarenina', 'post', 30),\n (2016, 'Chalk', 'chalk', 'post', 8),\n (2016, 'Decipher', 'decipher', 'post', 15),\n (2016, 'Sudden death', 'suddendeath', 'post', 4),\n (2016, 'Chill', 'chill', 'post', 73),\n (2016, 'Parched', 'parched', 'post', 1),\n (2016, 'Caravaggio', 'caravaggio', 'post', 1),\n (2016, 'Suspicion', 'suspicion', 'post', 17),\n (2016, 'Prose', 'prose', 'post', 185),\n (2016, 'Cousins', 'cousins', 'post', 11),\n (2016, 'The Boxcar Children', 'boxcarchildren', 'post', 5),\n (2016, \"The Baby-Sitter's Club\", 'babysittersclub', 'post', 9),\n (2016, 'Nancy Drew', 'nancydrew', 'post', 20),\n (2016, 'Anne of Green Gables', 'anneofgreengables', 'post', 10),\n (2016, 'Tycoon', 'tycoon', 'post', 6),\n (2016, 'White trash', 'whitetrash', 'post', 6),\n (2016, 'The red book =', 'redbook', 'post', 42),\n (2016, 'Stella', 'stella', 'post', 35),\n (2016, 'Ariana', 'ariana', 'post', 10),\n (2016, 'Pingo', 'pingo', 'post', 77),\n (2016, 'Microbiology', 'microbiology', 'post', 5),\n (2016, 'Thirteen', 'thirteen', 'post', 15),\n (2016, 'English grammar', 'englishgrammar', 'post', 11),\n (2016, 'Smartphones', 'smartphones', 'post', 13),\n (2016, 'Pines', 'pines', 'post', 113),\n (2016, 'Darke', 'darke', 'post', 55),\n (2016, 'The organized mind', 'organizedmind', 'post', 2),\n (2016, 'Advent', 'advent', 'post', 265),\n (2016, 'Deep Thoughts', 'deepthoughts', 'post', 1),\n (2016, 'Effortless', 'effortless', 'post', 4),\n (2016, \"The Children's Book\", 'childrensbook', 'post', 167),\n (2016, 'Isabella', 'isabella', 'post', 3),\n (2016, 'On friendship', 'onfriendship', 'post', 2),\n (2016, 'Twilight', 'twilight', 'post', 48),\n (2016, 'Mastery', 'mastery', 'post', 16),\n (2016, 'Seveneves', 'seveneves', 'post', 24),\n (2016, 'Diggers', 'diggers', 'post', 3),\n (2016, 'Hard rain', 'hardrain', 'post', 2),\n (2016, 'Reamde', 'reamde', 'post', 6),\n (2016, 'Anathem', 'anathem', 'post', 7),\n (2016, 'Another Chance', 'anotherchance', 'post', 7),\n (2016, 'Awakenings', 'awakenings', 'post', 2),\n (2016, 'In My Hands', 'inmyhands', 'post', 10),\n (2016, 'The Count of Monte Cristo', 'countofmontecristo', 'post', 65),\n (2016, 'House of Leaves', 'houseofleaves', 'post', 56),\n (2016, 'Every last word', 'everylastword', 'post', 1),\n (2016, 'The dark is rising', 'darkisrising', 'post', 2),\n (2016, 'A Wrinkle in Time', 'wrinkleintime', 'post', 26),\n (2016, 'Sarek', 'sarek', 'post', 9),\n (2016,\n  'Tales of a Fourth Grade Nothing',\n  'talesofafourthgradenothing',\n  'post',\n  1),\n (2016, 'Fudge-a-mania', 'fudgeamania', 'post', 1),\n (2016, 'Maniac Magee', 'maniacmagee', 'post', 1),\n (2016, 'Valor', 'valor', 'post', 7),\n (2016, 'Romantic fiction', 'romanticfiction', 'post', 1),\n (2016, 'Robin Hood', 'robinhood', 'post', 1),\n (2016, 'Cat in the Hat', 'catinthehat', 'post', 3),\n (2016, 'Oryx and Crake', 'oryxandcrake', 'post', 10),\n (2016, 'Decadent', 'decadent', 'post', 6),\n (2016, 'The stand-in', 'standin', 'post', 306),\n (2016, 'Leonardo', 'leonardo', 'post', 5),\n (2016, '28 Days Later', '28dayslater', 'post', 2),\n (2016, 'Eragon', 'eragon', 'post', 34),\n (2016, 'Flowers for Algernon', 'flowersforalgernon', 'post', 26),\n (2016, '\"1984\"', '1984', 'post', 149),\n (2016, 'Fahrenheit 451', 'fahrenheit451', 'post', 42),\n (2016, 'Brave New World', 'bravenewworld', 'post', 61),\n (2016, 'Like a charm', 'likeacharm', 'post', 1),\n (2016, 'Where you are', 'whereyouare', 'post', 8),\n (2016, 'Hades', 'hades', 'post', 33),\n (2016, 'Originator', 'originator', 'post', 1),\n (2016, 'On knowing', 'onknowing', 'post', 3),\n (2016, 'The burdens', 'burdens', 'post', 3),\n (2016, 'Raven', 'raven', 'post', 38),\n (2016, 'Getting to Yes', 'gettingtoyes', 'post', 2),\n (2016, 'The Great Hunt', 'greathunt', 'post', 4),\n (2016, 'Nocturnal', 'nocturnal', 'post', 5),\n (2016, 'High Profile', 'highprofile', 'post', 3),\n (2016, 'Reminiscences', 'reminiscences', 'post', 1),\n (2016, 'AngularJS', 'angularjs', 'post', 31),\n (2016, 'The Bottoms', 'bottoms', 'post', 5),\n (2016, 'Confessions', 'confessions', 'post', 21),\n (2016, 'The one way', 'oneway', 'post', 27),\n (2016, 'Romans', 'romans', 'post', 7),\n (2016, 'A Visit from the Goon Squad', 'visitfromthegoonsquad', 'post', 6),\n (2016, 'Magic for beginners', 'magicforbeginners', 'post', 2),\n (2016, 'All-time favorites', 'alltimefavorites', 'post', 10),\n (2016, 'The old man and the sea', 'oldmanandthesea', 'post', 33),\n (2016, 'Lolita', 'lolita', 'post', 68),\n (2016, 'Sons and lovers', 'sonsandlovers', 'post', 1),\n (2016, 'Dante', 'dante', 'post', 92),\n (2016, 'The inferno', 'inferno', 'post', 31),\n (2016, 'Crime and Punishment', 'crimeandpunishment', 'post', 43),\n (2016, 'The jazz age', 'jazzage', 'post', 2),\n (2016, 'Madame Bovary', 'madamebovary', 'post', 11),\n (2016,\n  'The marriage of Heaven and Hell',\n  'marriageofheavenandhell',\n  'post',\n  1),\n (2016, 'Astra', 'astra', 'post', 98),\n (2016, 'The breakthrough', 'breakthrough', 'post', 11),\n (2016, 'Reflexology', 'reflexology', 'post', 16),\n (2016, 'Nineteen Eighty-Four', 'nineteeneightyfour', 'post', 16),\n (2016, 'Reading Harry Potter', 'readingharrypotter', 'post', 9),\n (2016, 'True or False', 'trueorfalse', 'post', 1),\n (2016, 'The Twilight Saga', 'twilightsaga', 'post', 4),\n (2016, 'The Hunger Games', 'hungergames', 'post', 56),\n (2016, 'Sense and Sensibility', 'senseandsensibility', 'post', 6),\n (2016, 'Head over Heels', 'headoverheels', 'post', 1),\n (2016, 'company profile', 'companyprofile', 'post', 6),\n (2016, 'Vow Unbroken', 'vowunbroken', 'post', 1),\n (2016, 'A Perfect Family', 'perfectfamily', 'post', 2),\n (2016, 'Close to you', 'closetoyou', 'post', 2),\n (2016, 'Binge', 'binge', 'post', 48),\n (2016, 'The Bad Guys', 'badguys', 'post', 12),\n (2016, 'Good Omens', 'goodomens', 'post', 22),\n (2016, 'Terry Pratchett', 'terrypratchett', 'post', 68),\n (2016, 'Logica', 'logica', 'post', 195),\n (2016, 'Fibromyalgia', 'fibromyalgia', 'post', 2),\n (2016, 'Middle ground', 'middleground', 'post', 2),\n (2016, \"Rosemary's Baby\", 'rosemarysbaby', 'post', 6),\n (2016, 'Son of Rosemary', 'sonofrosemary', 'post', 2),\n (2016, 'Memories of You', 'memoriesofyou', 'post', 1),\n (2016, 'My Story', 'mystory', 'post', 131),\n (2016, 'William Shakespeare', 'williamshakespeare', 'post', 21),\n (2016, 'Civil Rights', 'civilrights', 'post', 12),\n (2016, 'Good to Great', 'goodtogreat', 'post', 2),\n (2016, 'First Break All the Rules', 'firstbreakalltherules', 'post', 1),\n (2016, 'His Way', 'hisway', 'post', 130),\n (2016, 'Amelia Earhart', 'ameliaearhart', 'post', 1),\n (2016, 'Looking for Alaska', 'lookingforalaska', 'post', 19),\n (2016, 'The Fellowship of the Ring', 'fellowshipofthering', 'post', 13),\n (2016, 'The Two Towers', 'twotowers', 'post', 5),\n (2016, 'The Return of the King', 'returnoftheking', 'post', 5),\n (2016, 'The Silmarillion', 'silmarillion', 'post', 11),\n (2016, 'The Hobbit', 'hobbit', 'post', 65),\n (2016, 'The Christmas Book', 'christmasbook', 'post', 5),\n (2016, 'Livia', 'livia', 'post', 1),\n (2016, 'I, Claudius', 'iclaudius', 'post', 3),\n (2016, 'The Only Man', 'onlyman', 'post', 6),\n (2016, 'Is this normal?', 'isthisnormal', 'post', 8),\n (2016, 'Photographic Memory', 'photographicmemory', 'post', 2),\n (2016, 'Bit by bit', 'bitbybit', 'post', 2),\n (2016, 'Time out', 'timeout', 'post', 5),\n (2016, 'Clean room', 'cleanroom', 'post', 2),\n (2016, 'Patchwork', 'patchwork', 'post', 2),\n (2016, 'Adolf Hitler', 'adolfhitler', 'post', 10),\n (2016, 'The Jungle Book', 'junglebook', 'post', 11),\n (2016, 'Beasts', 'beasts', 'post', 8),\n (2016, 'Timor', 'timor', 'post', 15),\n (2016, 'The Ables', 'ables', 'post', 149),\n (2016, 'Culture shock!', 'cultureshock', 'post', 2),\n (2016, 'Jurassic Park', 'jurassicpark', 'post', 28),\n (2016, 'Blown', 'blown', 'post', 79),\n (2016, 'Esther', 'esther', 'post', 124),\n (2016, 'Mountain Man', 'mountainman', 'post', 1),\n (2016, 'Tasty', 'tasty', 'post', 82),\n (2016, 'Reckless', 'reckless', 'post', 6),\n (2016, 'The chosen one', 'chosenone', 'post', 7),\n (2016, 'Troll', 'troll', 'post', 86),\n (2016, 'Bandits', 'bandits', 'post', 7),\n (2016, 'Gone too far', 'gonetoofar', 'post', 4),\n (2016, 'Catch-22', 'catch22', 'post', 92),\n (2016,\n  'Harry potter and the cursed child',\n  'harrypotterandthecursedchild',\n  'post',\n  59),\n (2016, 'Particle Physics', 'particlephysics', 'post', 1),\n (2016,\n  \"Life's Little Instruction Book\",\n  'lifeslittleinstructionbook',\n  'post',\n  1),\n (2016, 'The amateurs', 'amateurs', 'post', 4),\n (2016, 'Make money online', 'makemoneyonline', 'post', 12),\n (2016, 'Taboo!', 'taboo', 'post', 209),\n (2016, 'Bounce', 'bounce', 'post', 7),\n (2016, 'Fences', 'fences', 'post', 4),\n (2016, 'Last Ride', 'lastride', 'post', 1),\n (2016, 'The physics book', 'physicsbook', 'post', 2),\n (2016, 'Almond', 'almond', 'post', 4),\n (2016, 'The parrot', 'parrot', 'post', 7),\n (2016, 'All the Pretty Horses', 'alltheprettyhorses', 'post', 12),\n (2016, 'Blindfold', 'blindfold', 'post', 1),\n (2016, 'The heron', 'heron', 'post', 100),\n (2016,\n  'One Hundred Years of Solitude',\n  'onehundredyearsofsolitude',\n  'post',\n  21),\n (2016, 'Gabriel Garcia Marquez', 'gabrielgarciamarquez', 'post', 22),\n (2016, 'Make Time', 'maketime', 'post', 8),\n (2016, 'The red car', 'redcar', 'post', 4),\n (2016, 'Feared', 'feared', 'post', 10),\n (2016, 'The descendants', 'descendants', 'post', 6),\n (2016, 'The gypsies', 'gypsies', 'post', 2),\n (2016, 'Fishes', 'fishes', 'post', 2),\n (2016, 'Laurel', 'laurel', 'post', 11),\n (2016, 'Nomade', 'nomade', 'post', 1),\n (2016, 'The turning point', 'turningpoint', 'post', 7),\n (2016, 'Love in the Time of Cholera', 'loveinthetimeofcholera', 'post', 7),\n (2016, 'Impulsive', 'impulsive', 'post', 8),\n (2016, 'Jealousy', 'jealousy', 'post', 12),\n (2016, 'Outlander', 'outlander', 'post', 19),\n (2016, 'After the Coup', 'afterthecoup', 'post', 1),\n (2016, 'Domestic Violence', 'domesticviolence', 'post', 5),\n (2016, 'César', 'cesar', 'post', 44),\n (2016, '50 shades of gray', '50shadesofgray', 'post', 1),\n (2016, 'Unbearable Lightness', 'unbearablelightness', 'post', 19),\n (2016, 'The Lightness', 'lightness', 'post', 4),\n (2016, 'Existentialism', 'existentialism', 'post', 15),\n (2016, 'NEW LIFE', 'newlife', 'post', 8),\n (2016, 'Spiced', 'spiced', 'post', 1),\n (2016, 'In the forest', 'intheforest', 'post', 6),\n (2016, 'Boot Camp', 'bootcamp', 'post', 8),\n (2016, 'Mean Girl', 'meangirl', 'post', 3),\n (2016, '(un)Fashion', 'unfashion', 'post', 1),\n (2016, 'Year of Wonders', 'yearofwonders', 'post', 3),\n (2016, 'The Cheer Leader', 'cheerleader', 'post', 3),\n (2016, 'Bleachers', 'bleachers', 'post', 2),\n (2016, 'Girl with a Pearl Earring', 'girlwithapearlearring', 'post', 1),\n (2016, 'Jane Eyre', 'janeeyre', 'post', 43),\n (2016, 'The Fountainhead', 'fountainhead', 'post', 23),\n (2016, 'The Rivals', 'rivals', 'post', 10),\n (2016, 'Smack', 'smack', 'post', 7),\n (2016, 'The Fulfillment', 'fulfillment', 'post', 12),\n (2016, 'As Good As Dead', 'asgoodasdead', 'post', 1),\n (2016, 'A Non Entity', 'nonentity', 'post', 1),\n (2016, 'Charles Bukowski', 'charlesbukowski', 'post', 17),\n (2016, 'Seduced', 'seduced', 'post', 6),\n (2016, 'Margaret Atwood', 'margaretatwood', 'post', 67),\n (2016, \"The Handmaid's Tale\", 'handmaidstale', 'post', 38),\n (2016, 'Just for Kicks', 'justforkicks', 'post', 1),\n (2016, 'The Sluts', 'sluts', 'post', 2),\n (2016, 'Clumsy', 'clumsy', 'post', 6),\n (2016, 'I Do! I Do!', 'idoido', 'post', 2),\n (2016, 'Thedal', 'thedal', 'post', 3),\n (2016, 'Desmond', 'desmond', 'post', 6),\n (2016, 'The book of joy', 'bookofjoy', 'post', 2),\n (2016, 'Conversations with God', 'conversationswithgod', 'post', 1),\n (2016, 'The Baron in the Trees', 'baroninthetrees', 'post', 3),\n (2016, 'Fight club', 'fightclub', 'post', 51),\n (2016, 'The Colour of Magic', 'colourofmagic', 'post', 11),\n (2016, 'Sometimes a Great Notion', 'sometimesagreatnotion', 'post', 5),\n (2016,\n  \"One Flew Over the Cuckoo's Nest\",\n  'oneflewoverthecuckoosnest',\n  'post',\n  22),\n (2016, 'The Narrator', 'narrator', 'post', 213),\n (2016, 'Last seen--', 'lastseen', 'post', 1),\n (2016, 'I am kind', 'iamkind', 'post', 3),\n (2016, 'A Scanner Darkly', 'scannerdarkly', 'post', 10),\n (2016, 'You shall know our velocity', 'youshallknowourvelocity', 'post', 2),\n (2016, 'Verdi', 'verdi', 'post', 36),\n (2016,\n  'A heartbreaking work of staggering genius',\n  'heartbreakingworkofstaggeringgenius',\n  'post',\n  3),\n (2016, 'Look Away', 'lookaway', 'post', 3),\n (2016, 'The Gladiator', 'gladiator', 'post', 25),\n (2016, 'Spiral', 'spiral', 'post', 15),\n (2016, 'The Storyteller', 'storyteller', 'post', 33),\n (2016, 'Norwegian wood', 'norwegianwood', 'post', 32),\n (2016, 'Emergence', 'emergence', 'post', 2),\n (2016, 'The Bone Clocks', 'boneclocks', 'post', 10),\n (2016, 'David Mitchell', 'davidmitchell', 'post', 18),\n (2016, 'Cloud Atlas', 'cloudatlas', 'post', 17),\n (2016, 'Page Turners!', 'pageturners', 'post', 6),\n (2016, 'The tenants', 'tenants', 'post', 6),\n (2016, 'At the End of the Day', 'attheendoftheday', 'post', 7),\n (2016, 'Make a difference', 'makeadifference', 'post', 7),\n (2016, 'The Divine Comedy', 'divinecomedy', 'post', 16),\n (2016, 'Dracula', 'dracula', 'post', 60),\n (2016, 'Frankenstein', 'frankenstein', 'post', 78),\n (2016, 'Phantom of the Opera', 'phantomoftheopera', 'post', 1),\n (2016, 'The Hunchback of Notre Dame', 'hunchbackofnotredame', 'post', 4),\n (2016, 'Parasite', 'parasite', 'post', 3),\n (2016, 'The metamorphosis', 'metamorphosis', 'post', 22),\n (2016, 'Behind the scenes', 'behindthescenes', 'post', 9),\n (2016, 'Substitute Bride', 'substitutebride', 'post', 1),\n (2016, 'Batik', 'batik', 'post', 3),\n (2016, 'The Riddle', 'riddle', 'post', 28),\n (2016, 'The Enigma', 'enigma', 'post', 29),\n (2016, 'Witch-hunt', 'witchhunt', 'post', 1),\n (2016, 'Winger', 'winger', 'post', 6),\n (2016, \"Cormac McCarthy's The road\", 'cormacmccarthystheroad', 'post', 5),\n (2016, 'Ingles', 'ingles', 'post', 101),\n (2016, 'Time and again', 'timeandagain', 'post', 8),\n (2016, 'Keep Going', 'keepgoing', 'post', 20),\n (2016, 'Nameless', 'nameless', 'post', 10),\n (2016, 'Brilliance', 'brilliance', 'post', 13),\n (2016, 'Intuition', 'intuition', 'post', 9),\n (2016, 'The Waste Land', 'wasteland', 'post', 5),\n (2016, 'Nomad', 'nomad', 'post', 11),\n (2016, 'From the Ashes', 'fromtheashes', 'post', 2),\n (2016, 'Misery', 'misery', 'post', 36),\n (2016, 'Safe Haven', 'safehaven', 'post', 2),\n (2016, 'The Hidden House', 'hiddenhouse', 'post', 1),\n (2016, 'Waterfall', 'waterfall', 'post', 5),\n (2016, 'Filth', 'filth', 'post', 18),\n (2016, 'Carrie', 'carrie', 'post', 66),\n (2016, 'Meteor!', 'meteor', 'post', 4),\n (2016, 'The Other Man', 'otherman', 'post', 3),\n (2016, 'Catastrophe', 'catastrophe', 'post', 11),\n (2016, 'Killing Eve', 'killingeve', 'post', 1),\n (2016, 'Abundance', 'abundance', 'post', 6),\n (2016, 'Forever lost', 'foreverlost', 'post', 1),\n (2016, 'Elementals', 'elementals', 'post', 1),\n (2016, 'Moby Dick', 'mobydick', 'post', 95),\n (2016, 'Slack', 'slack', 'post', 35),\n (2016, 'Whales', 'whales', 'post', 13),\n (2016, 'Blubber', 'blubber', 'post', 4),\n (2016, 'Cannibal', 'cannibal', 'post', 7),\n (2016, 'To Sir, with love', 'tosirwithlove', 'post', 2),\n (2016, 'They tell no tales', 'theytellnotales', 'post', 2),\n (2016, 'The other world', 'otherworld', 'post', 21),\n (2016, 'Infidel', 'infidel', 'post', 4),\n (2016, 'The Immortals', 'immortals', 'post', 8),\n (2016, '三体', 'santi', 'post', 34),\n (2016, 'The Dwelling', 'dwelling', 'post', 5),\n (2016, 'Unspeakable', 'unspeakable', 'post', 8),\n (2016, 'Bliss', 'bliss', 'post', 16),\n (2016, 'Ishmael', 'ishmael', 'post', 18),\n (2016, 'Knave of hearts', 'knaveofhearts', 'post', 3),\n (2016, 'Saville', 'saville', 'post', 7),\n (2016, 'Creative writing', 'creativewriting', 'post', 13),\n (2016, 'Animal behavior', 'animalbehavior', 'post', 1),\n (2016, 'Rescued', 'rescued', 'post', 14),\n (2016, 'Thermodynamics', 'thermodynamics', 'post', 3),\n (2016, 'Nevernever', 'nevernever', 'post', 8),\n (2016, 'Assassins', 'assassins', 'post', 4),\n (2016, \"Assassin's Creed\", 'assassinscreed', 'post', 4),\n (2016, 'The Name of the Wind', 'nameofthewind', 'post', 45),\n (2016, 'American Psycho', 'americanpsycho', 'post', 43),\n (2016, 'The Sound and the Fury', 'soundandthefury', 'post', 21),\n (2016, 'Now is the Time', 'nowisthetime', 'post', 2),\n (2016, 'Go For It!', 'goforit', 'post', 5),\n (2016, 'The Great Escape', 'greatescape', 'post', 1),\n (2016, 'Cardboard', 'cardboard', 'post', 16),\n (2016, 'The real story', 'realstory', 'post', 5),\n (2016, 'From the Corner of His Eye', 'fromthecornerofhiseye', 'post', 1),\n (2016, 'Stomp!', 'stomp', 'post', 12),\n (2016,\n  'I hope they serve beer in Hell',\n  'ihopetheyservebeerinhell',\n  'post',\n  1),\n (2016, 'Tyrant', 'tyrant', 'post', 4),\n (2016, 'Crush', 'crush', 'post', 49),\n (2016, 'Satta matka', 'sattamatka', 'post', 7),\n (2016, 'Dear data', 'deardata', 'post', 2),\n (2016, 'With Love', 'withlove', 'post', 10),\n (2016, 'The Old Man', 'oldman', 'post', 39),\n (2016, 'End-game', 'endgame', 'post', 3),\n (2016, 'Come with me', 'comewithme', 'post', 1),\n (2016, 'Starters', 'starters', 'post', 12),\n (2016, 'Dark Towers', 'darktowers', 'post', 74),\n (2016, 'Song of Susannah', 'songofsusannah', 'post', 7),\n (2016, 'Wolves of the Calla', 'wolvesofthecalla', 'post', 5),\n (2016, 'Angelfall', 'angelfall', 'post', 3),\n (2016,\n  'Business Intelligence And Analytics Systems For Decision Support',\n  'businessintelligenceandanalyticssystemsfordecisionsupport',\n  'post',\n  1),\n (2016, 'Yeats', 'yeats', 'post', 8),\n (2016, 'Blurred lines', 'blurredlines', 'post', 1),\n (2016, 'Computer networking', 'computernetworking', 'post', 3),\n (2016, 'Towers Of Midnight', 'towersofmidnight', 'post', 1),\n (2016, 'Brando', 'brando', 'post', 113),\n (2016, 'A Memory of Light', 'memoryoflight', 'post', 2),\n (2016, 'The Martian', 'martian', 'post', 67),\n (2016, 'Wild card', 'wildcard', 'post', 9),\n (2016, 'Anne Rice', 'annerice', 'post', 18),\n (2016, 'We, the Drowned', 'wethedrowned', 'post', 1),\n (2016, 'Sharp Objects', 'sharpobjects', 'post', 4),\n (2016, 'Dark Places', 'darkplaces', 'post', 12),\n (2016, 'Gone Girl', 'gonegirl', 'post', 47),\n (2016, 'The Bourne Identity', 'bourneidentity', 'post', 2),\n (2016, 'The Way of Kings', 'wayofkings', 'post', 27),\n (2016, 'Words of Radiance', 'wordsofradiance', 'post', 8),\n (2016, 'Warbreaker', 'warbreaker', 'post', 8),\n (2016, 'The Final Empire', 'finalempire', 'post', 7),\n (2016, 'The Hero of Ages', 'heroofages', 'post', 2),\n (2016, 'The Well of Ascension', 'wellofascension', 'post', 5),\n (2016, 'The Alloy of Law', 'alloyoflaw', 'post', 4),\n (2016, 'Shadows of Self', 'shadowsofself', 'post', 5),\n (2016, 'The Bands of Mourning', 'bandsofmourning', 'post', 4),\n (2016, 'Afterlife', 'afterlife', 'post', 9),\n (2016, 'Be a writer', 'beawriter', 'post', 6),\n (2016, 'On Writing Well', 'onwritingwell', 'post', 1),\n (2016, 'Hamlet', 'hamlet', 'post', 26),\n (2016, 'Ethic', 'ethic', 'post', 52),\n (2016, 'The Pelican Brief', 'pelicanbrief', 'post', 2),\n (2016, 'John Grisham', 'johngrisham', 'post', 15),\n (2016, 'Lexicon', 'lexicon', 'post', 23),\n (2016, 'World War Z', 'worldwarz', 'post', 17),\n (2016, 'H Is for Hawk', 'hisforhawk', 'post', 6),\n (2016, 'After dark', 'afterdark', 'post', 10),\n (2016, 'Politeness', 'politeness', 'post', 2),\n (2016, 'Japanese Culture', 'japaneseculture', 'post', 6),\n (2016, 'Quran', 'quran', 'post', 38),\n (2016, 'Snaps', 'snaps', 'post', 14),\n (2016, 'OFF LIMITS', 'offlimits', 'post', 4),\n (2016, 'Dream Big!', 'dreambig', 'post', 4),\n (2016, 'Faust', 'faust', 'post', 26),\n (2016, 'Life times', 'lifetimes', 'post', 7),\n (2016, 'A Clash of Kings', 'clashofkings', 'post', 12),\n (2016, 'Me Before You', 'mebeforeyou', 'post', 22),\n (2016, 'Anne Frank', 'annefrank', 'post', 14),\n (2016, 'Frida', 'frida', 'post', 84),\n (2016, 'Netherland', 'netherland', 'post', 8),\n (2016, 'The Second World War', 'secondworldwar', 'post', 11),\n (2016, 'The Goldfinch', 'goldfinch', 'post', 17),\n (2016, 'The Little Prince', 'littleprince', 'post', 13),\n (2016, 'Scars', 'scars', 'post', 13),\n (2016, 'Wuthering Heights', 'wutheringheights', 'post', 20),\n (2016, 'Shella', 'shella', 'post', 6),\n (2016, 'Unbearable!', 'unbearable', 'post', 3),\n (2016, 'Amores', 'amores', 'post', 16),\n (2016, 'Gandhi', 'gandhi', 'post', 11),\n (2016, 'Folds', 'folds', 'post', 14),\n (2016, 'Patience', 'patience', 'post', 30),\n (2016, 'No More Secrets', 'nomoresecrets', 'post', 1),\n (2016, 'A promise to keep', 'promisetokeep', 'post', 1),\n (2016, 'Saddam Hussein', 'saddamhussein', 'post', 3),\n (2016, 'House of cards', 'houseofcards', 'post', 1),\n (2016, 'Calus', 'calus', 'post', 14),\n (2016, 'Ulysses', 'ulysses', 'post', 61),\n (2016, 'Heretic', 'heretic', 'post', 9),\n (2016, 'The Public Domain', 'publicdomain', 'post', 27),\n (2016, 'Equis', 'equis', 'post', 4),\n (2016, 'Criminology', 'criminology', 'post', 2),\n (2016, 'Crash course', 'crashcourse', 'post', 14),\n (2016, 'Indian polity', 'indianpolity', 'post', 1),\n (2016, 'Writers on writing', 'writersonwriting', 'post', 1),\n (2016, 'The dinosaur', 'dinosaur', 'post', 1),\n (2016, 'Rabid', 'rabid', 'post', 6),\n (2016, 'Unseen', 'unseen', 'post', 15),\n (2016, 'Peter Rabbit', 'peterrabbit', 'post', 2),\n (2016, 'The haunted house', 'hauntedhouse', 'post', 6),\n (2016,\n  \"The hitchhiker's guide to the galaxy\",\n  'hitchhikersguidetothegalaxy',\n  'post',\n  61),\n (2016, 'Alexandra', 'alexandra', 'post', 15),\n (2016, 'God Delusion', 'goddelusion', 'post', 7),\n (2016, 'United Kingdom', 'unitedkingdom', 'post', 8),\n (2016, 'Gemina', 'gemina', 'post', 4),\n (2016, 'The Amityville Horror', 'amityvillehorror', 'post', 1),\n (2016, 'Scary book', 'scarybook', 'post', 15),\n (2016, 'Los Angeles', 'losangeles', 'post', 37),\n (2016, \"Don't panic\", 'dontpanic', 'post', 3),\n (2016, 'Where the Red Fern Grows', 'wheretheredferngrows', 'post', 8),\n (2016, 'Coconut', 'coconut', 'post', 4),\n (2016, 'Carrion comfort', 'carrioncomfort', 'post', 1),\n (2016, 'My mum', 'mymum', 'post', 11),\n (2016, 'Contracted', 'contracted', 'post', 2),\n (2016, 'Middlemarch', 'middlemarch', 'post', 13),\n (2016, 'Effective C++', 'effectivec', 'post', 7),\n (2016, 'Siren', 'siren', 'post', 12),\n (2016, 'Tiger Man', 'tigerman', 'post', 1),\n (2016, 'Honeybees', 'honeybees', 'post', 1),\n (2016, 'Introduction to algorithms', 'introductiontoalgorithms', 'post', 2),\n (2016, 'Too perfect', 'tooperfect', 'post', 3),\n (2016, 'Moris', 'moris', 'post', 11),\n (2016, 'First Bad Man', 'firstbadman', 'post', 7),\n (2016, 'Miranda', 'miranda', 'post', 16),\n (2016, 'Unicorn', 'unicorn', 'post', 8),\n (2016, 'IMAGINE THAT!', 'imaginethat', 'post', 13),\n (2016, 'United as One', 'unitedasone', 'post', 4),\n (2016, 'I am number four', 'iamnumberfour', 'post', 3),\n (2016, 'Five Point Someone', 'fivepointsomeone', 'post', 3),\n (2016, 'Infomocracy', 'infomocracy', 'post', 4),\n (2016, 'The antidote', 'antidote', 'post', 5),\n (2016, 'Submerged', 'submerged', 'post', 2),\n (2016, 'End of Watch', 'endofwatch', 'post', 14),\n (2016, 'Cherish', 'cherish', 'post', 4),\n (2016, 'Lord of the Flies', 'lordoftheflies', 'post', 27),\n (2016, 'Human Nature', 'humannature', 'post', 16),\n (2016,\n  'A Constellation of Vital Phenomena',\n  'constellationofvitalphenomena',\n  'post',\n  5),\n (2016, 'No name', 'noname', 'post', 5),\n (2016, 'Incidences', 'incidences', 'post', 6),\n (2016, 'Décoration', 'decoration', 'post', 10),\n (2016, 'Cheer!', 'cheer', 'post', 56),\n (2016, 'Rainbows', 'rainbows', 'post', 6),\n (2016, 'Ill Catch You', 'illcatchyou', 'post', 2),\n (2016, 'The Coven', 'coven', 'post', 2),\n (2016, 'Walkers', 'walkers', 'post', 8),\n (2016, 'Hillary', 'hillary', 'post', 16),\n (2016, 'The Semai', 'semai', 'post', 12),\n (2016, 'The Creeps', 'creeps', 'post', 3),\n (2016, 'Sketches', 'sketches', 'post', 9),\n (2016, 'War and Peace', 'warandpeace', 'post', 77),\n (2016, 'Brothers Karamazov', 'brotherskaramazov', 'post', 37),\n (2016, 'The other hand', 'otherhand', 'post', 44),\n (2016, 'Dead or Alive', 'deadoralive', 'post', 1),\n (2016, 'Marketing strategy', 'marketingstrategy', 'post', 7),\n (2016, 'The Scarlet Letter', 'scarletletter', 'post', 8),\n (2016, 'Nathaniel Hawthorne', 'nathanielhawthorne', 'post', 3),\n (2016, 'Gone With the Wind', 'gonewiththewind', 'post', 17),\n (2016, 'Birth of a nation', 'birthofanation', 'post', 2),\n (2016, 'Propaganda', 'propaganda', 'post', 25),\n (2016, 'Epidemic', 'epidemic', 'post', 6),\n (2016, 'White Women', 'whitewomen', 'post', 2),\n (2016, 'Acting out', 'actingout', 'post', 5),\n (2016, 'Afterworld', 'afterworld', 'post', 1),\n (2016, 'Landmark', 'landmark', 'post', 10),\n (2016, 'Finnegans wake', 'finneganswake', 'post', 24),\n (2016, 'Defenders', 'defenders', 'post', 1),\n (2016, 'The real thing', 'realthing', 'post', 9),\n (2016, 'Three Genres', 'threegenres', 'post', 1),\n (2016, 'Belonging', 'belonging', 'post', 12),\n (2016, 'The secret life of bees', 'secretlifeofbees', 'post', 2),\n (2016, 'Little Women', 'littlewomen', 'post', 11),\n (2016, 'The Eye of the World', 'eyeoftheworld', 'post', 5),\n (2016, \"Ender's Game\", 'endersgame', 'post', 35),\n (2016, 'Fallen Angels', 'fallenangels', 'post', 1),\n (2016, 'Life of Pi', 'lifeofpi', 'post', 13),\n (2016, \"It's Kind of a Funny Story\", 'itskindofafunnystory', 'post', 2),\n (2016,\n  'Aristotle and Dante discover the secrets of the universe',\n  'aristotleanddantediscoverthesecretsoftheuniverse',\n  'post',\n  1),\n (2016, 'The Forest of Hands and Teeth', 'forestofhandsandteeth', 'post', 1),\n (2016, \"My Sister's Keeper\", 'mysisterskeeper', 'post', 2),\n (2016, 'Touching Spirit Bear', 'touchingspiritbear', 'post', 1),\n (2016, 'Everything, Everything', 'everythingeverything', 'post', 3),\n (2016, 'Family Tree', 'familytree', 'post', 4),\n (2016,\n  'The miseducation of Cameron Post',\n  'miseducationofcameronpost',\n  'post',\n  1),\n (2016, 'Tortuga', 'tortuga', 'post', 1),\n (2016, 'Rudolf', 'rudolf', 'post', 4),\n (2016, 'Rhapsody', 'rhapsody', 'post', 4),\n (2016, 'Mosquito', 'mosquito', 'post', 2),\n (2016, 'Heidi', 'heidi', 'post', 21),\n (2016, 'Graceling', 'graceling', 'post', 1),\n (2016, 'Delirium', 'delirium', 'post', 4),\n (2016, 'The House on Mango Street', 'houseonmangostreet', 'post', 5),\n (2016, 'The Rest of Us Just Live Here', 'restofusjustlivehere', 'post', 1),\n (2016, \"Assassin's Apprentice\", 'assassinsapprentice', 'post', 4),\n (2016, 'A time for dancing', 'timefordancing', 'post', 1),\n (2016, 'Unwind', 'unwind', 'post', 3),\n (2016, 'The sky is everywhere', 'skyiseverywhere', 'post', 1),\n (2016, \"I'll Give You the Sun\", 'illgiveyouthesun', 'post', 2),\n (2016, 'The outsiders', 'outsiders', 'post', 16),\n (2016, 'Wait until spring, Bandini', 'waituntilspringbandini', 'post', 1),\n (2016, 'Skippy dies', 'skippydies', 'post', 3),\n (2016, \"DUMPLIN'\", 'dumplin', 'post', 5),\n (2016, 'Pride and Prejudice', 'prideandprejudice', 'post', 44),\n (2016, 'The can man', 'canman', 'post', 10),\n (2016, 'Stoner', 'stoner', 'post', 24),\n (2016, \"Gravity's Rainbow\", 'gravitysrainbow', 'post', 38),\n (2016, 'Sasha', 'sasha', 'post', 32),\n (2016, 'Paradise Lost', 'paradiselost', 'post', 34),\n (2016, 'An Ideal Marriage?', 'idealmarriage', 'post', 2),\n (2016, 'Open Book', 'openbook', 'post', 5),\n (2016, 'Fantastic Beasts', 'fantasticbeasts', 'post', 4),\n (2016, 'Shadowbahn', 'shadowbahn', 'post', 1),\n (2016, 'Press on!', 'presson', 'post', 16),\n (2016, 'The Good Daughter', 'gooddaughter', 'post', 1),\n (2016, 'The dreamers', 'dreamers', 'post', 4),\n (2016, 'Punished!', 'punished', 'post', 9),\n (2016,\n  \"Stephen King's The Dark Tower\",\n  'stephenkingsthedarktower',\n  'post',\n  7),\n (2016, 'The Drawing of the Three', 'drawingofthethree', 'post', 10),\n (2016, 'The Mail-Order Brides', 'mailorderbrides', 'post', 9),\n (2016, 'Psycho', 'psycho', 'post', 162),\n (2016, 'The liberation', 'liberation', 'post', 6),\n (2016, 'Almost Everything', 'almosteverything', 'post', 12),\n (2016, 'Get real', 'getreal', 'post', 10),\n (2016, 'Unbound', 'unbound', 'post', 9),\n (2016, 'Demon', 'demon', 'post', 122),\n (2016, 'Shanna', 'shanna', 'post', 22),\n (2016, 'Lilah', 'lilah', 'post', 2),\n (2016, 'The Octopus', 'octopus', 'post', 14),\n (2016, 'The Protector', 'protector', 'post', 15),\n (2016,\n  'The watchmaker of Filigree Street',\n  'watchmakeroffiligreestreet',\n  'post',\n  2),\n (2016, 'Werewolves', 'werewolves', 'post', 2),\n (2016, 'Madame', 'madame', 'post', 30),\n (2016, 'Too small', 'toosmall', 'post', 8),\n (2016, 'Marry Christmas', 'marrychristmas', 'post', 1),\n (2016, '...And a Happy New Year ?', 'andahappynewyear', 'post', 1),\n (2016, 'The howling', 'howling', 'post', 3),\n (2016, 'Blitz', 'blitz', 'post', 13),\n (2016, 'Scattered', 'scattered', 'post', 22),\n (2016, 'Finch', 'finch', 'post', 13),\n (2016, 'Rapid Fire', 'rapidfire', 'post', 1),\n (2016, 'What will be', 'whatwillbe', 'post', 4),\n (2016, 'Titan', 'titan', 'post', 76),\n (2016, \"Allah n'est pas obligé\", 'allahnestpasoblige', 'post', 1),\n (2016, 'Child Soldier', 'childsoldier', 'post', 1),\n (2016, 'Step by Step', 'stepbystep', 'post', 23),\n (2016, 'I will teach you to be rich', 'iwillteachyoutoberich', 'post', 1),\n (2016, 'MONEY Master the Game', 'moneymasterthegame', 'post', 2),\n (2016, 'The millionaire next door', 'millionairenextdoor', 'post', 2),\n (2016, 'Rich Dad, Poor Dad', 'richdadpoordad', 'post', 8),\n (2016, 'The voyeurs', 'voyeurs', 'post', 5),\n (2016, 'The Photo Book', 'photobook', 'post', 3),\n (2016, 'Titch', 'titch', 'post', 11),\n (2016, 'Vladimir Nabokov', 'vladimirnabokov', 'post', 21),\n (2016, 'Making Connections', 'makingconnections', 'post', 1),\n (2016, 'The Western Front', 'westernfront', 'post', 26),\n (2016, 'Hellhole', 'hellhole', 'post', 3),\n (2016, 'Deadman', 'deadman', 'post', 2),\n (2016, 'Rommel', 'rommel', 'post', 3),\n (2016, 'Skylight', 'skylight', 'post', 2),\n (2016, 'Ponyo', 'ponyo', 'post', 11),\n (2016, 'The Emigrants', 'emigrants', 'post', 4),\n (2016, 'Adrift!', 'adrift', 'post', 4),\n (2016, 'Our Stars', 'ourstars', 'post', 4),\n (2016, 'Angelo', 'angelo', 'post', 14),\n (2016, 'Little Mouse', 'littlemouse', 'post', 1),\n (2016, 'The showdown', 'showdown', 'post', 4),\n (2016, 'Callum', 'callum', 'post', 3),\n (2016, 'The story book', 'storybook', 'post', 78),\n (2016, 'BEHIND CLOSED DOORS', 'behindcloseddoors', 'post', 4),\n (2016, 'The Wedding Plan', 'weddingplan', 'post', 1),\n (2016, 'Battle Ground', 'battleground', 'post', 3),\n (2016, 'Cyber security', 'cybersecurity', 'post', 10),\n (2016, 'Abduction', 'abduction', 'post', 8),\n (2016,\n  'Adventures of Huckleberry Finn',\n  'adventuresofhuckleberryfinn',\n  'post',\n  13),\n (2016, 'Pinpoint', 'pinpoint', 'post', 5),\n (2016,\n  'Oxford Guide to English Grammar',\n  'oxfordguidetoenglishgrammar',\n  'post',\n  1),\n (2016, 'Vanity fair', 'vanityfair', 'post', 2),\n (2016,\n  'Are We Smart Enough to Know How Smart Animals Are?',\n  'arewesmartenoughtoknowhowsmartanimalsare',\n  'post',\n  5),\n (2016, 'Fathom', 'fathom', 'post', 12),\n (2016, 'Lando', 'lando', 'post', 87),\n (2016, '1996', '1996', 'post', 10),\n (2016, 'Life and Death', 'lifeanddeath', 'post', 10),\n (2016, 'Firefight', 'firefight', 'post', 4),\n (2016, 'Hyperion', 'hyperion', 'post', 57),\n (2016, 'Something extra', 'somethingextra', 'post', 1),\n (2016, 'Belly dance', 'bellydance', 'post', 1),\n (2016, 'Blizzard!', 'blizzard', 'post', 3),\n (2016, 'Watching t.v', 'watchingtv', 'post', 4),\n (2016, 'Donald Duck', 'donaldduck', 'post', 4),\n (2016, 'Avenger', 'avenger', 'post', 3),\n (2016, 'Girl on fire', 'girlonfire', 'post', 1),\n (2016, 'Goose', 'goose', 'post', 42),\n (2016, 'Employment Law', 'employmentlaw', 'post', 2),\n (2016, 'Freud', 'freud', 'post', 10),\n (2016, 'Interview with the Vampire', 'interviewwiththevampire', 'post', 4),\n (2016, 'The Vampire Lestat', 'vampirelestat', 'post', 1),\n (2016, 'Consolation', 'consolation', 'post', 2),\n (2016, 'Whirlwind', 'whirlwind', 'post', 6),\n (2016, 'Beautiful Creatures', 'beautifulcreatures', 'post', 1),\n (2016, 'Zodiac', 'zodiac', 'post', 6),\n (2016, 'Mein Kampf', 'meinkampf', 'post', 32),\n (2016, 'Life Lessons', 'lifelessons', 'post', 8),\n (2016,\n  'Fantastic Beasts and Where to Find Them',\n  'fantasticbeastsandwheretofindthem',\n  'post',\n  7),\n (2016, 'Just In Case', 'justincase', 'post', 10),\n (2016, 'Diving in', 'divingin', 'post', 9),\n (2016, 'Hacking', 'hacking', 'post', 22),\n (2016, 'David Bowie', 'davidbowie', 'post', 13),\n (2016, \"Why Don't We\", 'whydontwe', 'post', 3),\n (2016, 'Red Rising', 'redrising', 'post', 47),\n (2016, 'Winter Wolf', 'winterwolf', 'post', 1),\n (2016, 'Shifter', 'shifter', 'post', 19),\n (2016, 'Jacaranda', 'jacaranda', 'post', 1),\n (2016, 'The Prince of Tides', 'princeoftides', 'post', 3),\n (2016, 'Hope for the Flowers', 'hopefortheflowers', 'post', 1),\n (2016, 'Fidel Castro', 'fidelcastro', 'post', 5),\n (2016, 'Manners', 'manners', 'post', 15),\n (2016,\n  'The Spy Who Came in from the Cold',\n  'spywhocameinfromthecold',\n  'post',\n  4),\n (2016, 'Alan Moore', 'alanmoore', 'post', 30),\n (2016, 'The Nugget', 'nugget', 'post', 3),\n (2016, 'Reflex', 'reflex', 'post', 6),\n (2016, 'Blossom', 'blossom', 'post', 14),\n (2016, 'The Big Time', 'bigtime', 'post', 6),\n (2016, 'The best place', 'bestplace', 'post', 20),\n (2016, 'Bunnies', 'bunnies', 'post', 1),\n (2016, 'Exquisite', 'exquisite', 'post', 18),\n (2016, 'Spidey', 'spidey', 'post', 1),\n (2016, 'The next big thing', 'nextbigthing', 'post', 2),\n (2016, 'The Phantom Tollbooth', 'phantomtollbooth', 'post', 3),\n (2016, 'Enchanted', 'enchanted', 'post', 7),\n (2016, 'Remembrance', 'remembrance', 'post', 12),\n (2016, 'Little Red Riding Hood', 'littleredridinghood', 'post', 2),\n (2016, 'The shield of Achilles', 'shieldofachilles', 'post', 1),\n (2016, 'Tisha', 'tisha', 'post', 51),\n (2016, 'Tractors', 'tractors', 'post', 11),\n (2016, 'Big Al', 'bigal', 'post', 4),\n (2016, 'Deep South', 'deepsouth', 'post', 3),\n (2016, 'Jude the Obscure', 'judetheobscure', 'post', 9),\n (2016, 'Romanticism', 'romanticism', 'post', 3),\n (2016, 'Show Me', 'showme', 'post', 12),\n (2016, 'Disturbing The Peace', 'disturbingthepeace', 'post', 1),\n (2016, 'Inward', 'inward', 'post', 3),\n (2016, 'The sand lady', 'sandlady', 'post', 1),\n (2016, 'The Book Thief', 'bookthief', 'post', 34),\n (2016, 'O Design', 'odesign', 'post', 16),\n (2016, 'Grimm', 'grimm', 'post', 20),\n (2016, 'Agatha', 'agatha', 'post', 59),\n (2016, 'Dictator', 'dictator', 'post', 8),\n (2016, 'Stalin', 'stalin', 'post', 33),\n (2016, 'The Thrall', 'thrall', 'post', 32),\n (2016, 'The art of racing in the rain', 'artofracingintherain', 'post', 3),\n (2016, 'In their lives', 'intheirlives', 'post', 6),\n (2016, 'Zero K', 'zerok', 'post', 27),\n (2016, 'Greed', 'greed', 'post', 47),\n (2016, 'The defender', 'defender', 'post', 30),\n (2016, 'Reagan', 'reagan', 'post', 8),\n (2016, 'The Path To Power', 'pathtopower', 'post', 1),\n (2016, 'The Dark Ages', 'darkages', 'post', 5),\n (2016, 'Silk Road', 'silkroad', 'post', 4),\n (2016, 'Huckleberry Finn', 'huckleberryfinn', 'post', 11),\n (2016, 'Eleanor', 'eleanor', 'post', 32),\n (2016, 'The Adept', 'adept', 'post', 7),\n (2016, 'Red Flags', 'redflags', 'post', 3),\n (2016, 'Solar system', 'solarsystem', 'post', 7),\n (2016, 'Planetfall', 'planetfall', 'post', 11),\n (2016, 'After atlas', 'afteratlas', 'post', 1),\n (2016, 'Jeopardy!', 'jeopardy', 'post', 5),\n (2016, 'Sterne', 'sterne', 'post', 25),\n (2016, 'Tai Chi', 'taichi', 'post', 5),\n (2016, 'Apples', 'apples', 'post', 9),\n (2016, 'Forgiveness', 'forgiveness', 'post', 9),\n (2016, 'Stung', 'stung', 'post', 2),\n (2016, 'Forensic Science', 'forensicscience', 'post', 2),\n (2016, 'The Stormlight Archive', 'stormlightarchive', 'post', 24),\n (2016, 'The snatch', 'snatch', 'post', 3),\n (2016, 'Book Lovers', 'booklovers', 'post', 82),\n (2016, \"It's not fair\", 'itsnotfair', 'post', 1),\n (2016, 'No Going Back', 'nogoingback', 'post', 2),\n (2016, 'Teach me', 'teachme', 'post', 5),\n (2016, 'selena', 'selena', 'post', 5),\n (2016, '1947', '1947', 'post', 16),\n (2016, 'Priceless', 'priceless', 'post', 5),\n (2016, 'Artifacts', 'artifacts', 'post', 6),\n (2016, 'Crown jewels', 'crownjewels', 'post', 1),\n (2016, 'Codex', 'codex', 'post', 11),\n (2016, 'Matilda', 'matilda', 'post', 9),\n (2016, 'The War of the Worlds', 'waroftheworlds', 'post', 10),\n (2016, 'Relatos', 'relatos', 'post', 2),\n (2016, 'Virtual reality', 'virtualreality', 'post', 24),\n (2016, '2030', '2030', 'post', 8),\n (2016, 'Baxter', 'baxter', 'post', 18),\n (2016, 'The Shadow of the Torturer', 'shadowofthetorturer', 'post', 3),\n (2016, 'James Bond', 'jamesbond', 'post', 8),\n (2016, 'Interior Design', 'interiordesign', 'post', 8),\n (2016, 'Insomnia', 'insomnia', 'post', 11),\n (2016, 'Peeled', 'peeled', 'post', 4),\n (2016, 'Solid Foundation', 'solidfoundation', 'post', 2),\n (2016, 'Holy cow', 'holycow', 'post', 6),\n (2016, 'Among Us', 'amongus', 'post', 12),\n (2016, 'In Order to Live', 'inordertolive', 'post', 1),\n (2016, 'Penguins', 'penguins', 'post', 12),\n (2016, 'On Call', 'oncall', 'post', 6),\n (2016, 'Mercy Thompson', 'mercythompson', 'post', 3),\n (2016, \"Children's Hospital\", 'childrenshospital', 'post', 2),\n (2016, 'P. G. Wodehouse', 'pgwodehouse', 'post', 5),\n (2016, 'Beton', 'beton', 'post', 7),\n (2016, 'The Locals', 'locals', 'post', 30),\n (2016, 'Sidérations', 'siderations', 'post', 7),\n (2016, 'How late it was, how late', 'howlateitwashowlate', 'post', 1),\n (2016, 'Talon', 'talon', 'post', 86),\n (2016, 'Amelia Bedelia', 'ameliabedelia', 'post', 5),\n (2016,\n  'The Stinky Cheese Man and Other Fairly Stupid Tales',\n  'stinkycheesemanandotherfairlystupidtales',\n  'post',\n  2),\n (2016,\n  'Scary stories to tell in the dark',\n  'scarystoriestotellinthedark',\n  'post',\n  8),\n (2016, 'Bitten', 'bitten', 'post', 8),\n (2016, 'Neville', 'neville', 'post', 12),\n (2016, 'The Arabian Nights', 'arabiannights', 'post', 7),\n (2016, 'Whirlpool', 'whirlpool', 'post', 3),\n (2016, 'Stillwater', 'stillwater', 'post', 3),\n (2016, 'Vortex', 'vortex', 'post', 1),\n (2016, 'Homage to Catalonia', 'homagetocatalonia', 'post', 4),\n (2016, 'Spanish Civil War', 'spanishcivilwar', 'post', 6),\n (2016, 'A Girl Is a Half-formed Thing', 'girlisahalfformedthing', 'post', 3),\n (2016, 'Nutshell', 'nutshell', 'post', 19),\n (2016, 'Humankind', 'humankind', 'post', 16),\n (2016, 'Plato', 'plato', 'post', 28),\n (2016, 'J.R.R. Tolkien', 'jrrtolkien', 'post', 42),\n (2016, \"Hell's Angels\", 'hellsangels', 'post', 8),\n (2016, 'The Hunters', 'hunters', 'post', 47),\n (2016, 'On The Run', 'ontherun', 'post', 5),\n (2016, 'Ancient Greece', 'ancientgreece', 'post', 3),\n (2016, 'The Odyssey', 'odyssey', 'post', 42),\n (2016, 'Fragments', 'fragments', 'post', 12),\n (2016, 'Malgudi days', 'malgudidays', 'post', 1),\n (2016, 'R.K. Narayan', 'rknarayan', 'post', 1),\n (2016, 'The X Factor', 'xfactor', 'post', 8),\n (2016, 'Vagina', 'vagina', 'post', 24),\n (2016, 'Would You Rather?', 'wouldyourather', 'post', 3),\n (2016, 'Shadow Hunter', 'shadowhunter', 'post', 17),\n (2016, 'Human Resources', 'humanresources', 'post', 1),\n (2016, 'Blood pressure', 'bloodpressure', 'post', 3),\n (2016, 'The World Trade Center', 'worldtradecenter', 'post', 1),\n (2016, 'Superman', 'superman', 'post', 9),\n (2016, 'DC Comics', 'dccomics', 'post', 4),\n (2016, 'Is it Because?', 'isitbecause', 'post', 10),\n (2016, 'Common Sense', 'commonsense', 'post', 8),\n (2016, 'King Kong', 'kingkong', 'post', 1),\n (2016, 'The one for me', 'oneforme', 'post', 12),\n (2016, 'Kafka on the Shore', 'kafkaontheshore', 'post', 24),\n (2016, 'Les Misérables', 'lesmiserables', 'post', 18),\n (2016, 'Condemnation', 'condemnation', 'post', 3),\n (2016, 'Totalitarianism', 'totalitarianism', 'post', 3),\n (2016, 'Brainwash', 'brainwash', 'post', 8),\n (2016, 'Intellectuals', 'intellectuals', 'post', 5),\n (2016, 'The common good', 'commongood', 'post', 1),\n (2016, 'The Devil in the White City', 'devilinthewhitecity', 'post', 12),\n (2016, 'The California Gold Rush', 'californiagoldrush', 'post', 1),\n (2016, 'Get smart!', 'getsmart', 'post', 5),\n (2016, 'Hard facts', 'hardfacts', 'post', 1),\n (2016, 'My autobiography', 'myautobiography', 'post', 3),\n (2016, 'Cannery Row', 'canneryrow', 'post', 14),\n (2016, 'Tortilla Flat', 'tortillaflat', 'post', 8),\n (2016, 'King Lear', 'kinglear', 'post', 10),\n (2016, 'Vanish', 'vanish', 'post', 8),\n (2016, 'Into Thin Air', 'intothinair', 'post', 8),\n (2016, 'Masquerade', 'masquerade', 'post', 3),\n (2016, 'Ramones', 'ramones', 'post', 2),\n (2016,\n  'We Have Always Lived in the Castle',\n  'wehavealwayslivedinthecastle',\n  'post',\n  8),\n (2016, 'Shirley Jackson', 'shirleyjackson', 'post', 23),\n (2016, 'The Dark One', 'darkone', 'post', 3),\n (2016, 'Upside Down', 'upsidedown', 'post', 10),\n (2016, 'Corrupted', 'corrupted', 'post', 6),\n (2016, 'Adolescence', 'adolescence', 'post', 7),\n (2016, 'In Focus', 'infocus', 'post', 11),\n (2016, '2666', '2666', 'post', 9),\n (2016, 'Irresistible', 'irresistible', 'post', 11),\n (2016, 'Bambi', 'bambi', 'post', 8),\n (2016, 'The newbies', 'newbies', 'post', 5),\n (2016, 'Bastian', 'bastian', 'post', 16),\n (2016, 'The underdogs', 'underdogs', 'post', 7),\n (2016, 'All I Want', 'alliwant', 'post', 8),\n (2016, 'Act one', 'actone', 'post', 4),\n (2016, 'Español', 'espanol', 'post', 93),\n (2016, 'Parable of the Talents', 'parableofthetalents', 'post', 2),\n (2016, 'Snark', 'snark', 'post', 14),\n (2016, 'Why Read?', 'whyread', 'post', 31),\n (2016, 'Cyberbullying', 'cyberbullying', 'post', 2),\n (2016, 'Polly', 'polly', 'post', 3),\n (2016, 'Violet', 'violet', 'post', 19),\n (2016,\n  'A short history of nearly everything',\n  'shorthistoryofnearlyeverything',\n  'post',\n  9),\n (2016, \"Aesop's fables\", 'aesopsfables', 'post', 3),\n (2016, 'The deeper meaning of liff', 'deepermeaningofliff', 'post', 1),\n (2016, 'Ballad', 'ballad', 'post', 4),\n (2016, 'Over the Edge of the World', 'overtheedgeoftheworld', 'post', 1),\n (2016, 'The Call of the Wild', 'callofthewild', 'post', 16),\n (2016, 'Jack London', 'jacklondon', 'post', 24),\n (2016, 'Georgette', 'georgette', 'post', 3),\n (2016, 'Bully', 'bully', 'post', 22),\n (2016, 'Side Jobs', 'sidejobs', 'post', 2),\n (2016, 'A walk in the woods', 'walkinthewoods', 'post', 5),\n (2016, 'Forged', 'forged', 'post', 6),\n (2016, 'The Princess Bride', 'princessbride', 'post', 17),\n (2016, 'Misquoting Jesus', 'misquotingjesus', 'post', 1),\n (2016, 'Legacy of Ashes', 'legacyofashes', 'post', 1),\n (2016, 'Jesus, interrupted', 'jesusinterrupted', 'post', 1),\n (2016, 'The Lost World', 'lostworld', 'post', 11),\n (2016, 'The Greatest Show on Earth', 'greatestshowonearth', 'post', 3),\n (2016, 'The Lost Continent', 'lostcontinent', 'post', 1),\n (2016, 'Master and Commander', 'masterandcommander', 'post', 3),\n (2016, 'Three Men in a Boat', 'threemeninaboat', 'post', 3),\n (2016,\n  'The rise of Theodore Roosevelt',\n  'riseoftheodoreroosevelt',\n  'post',\n  2),\n (2016,\n  'History of the Conquest of Mexico',\n  'historyoftheconquestofmexico',\n  'post',\n  3),\n (2016, 'Theodore Rex', 'theodorerex', 'post', 2),\n (2016, 'Colonel Roosevelt', 'colonelroosevelt', 'post', 3),\n (2016,\n  \"Surely You're Joking, Mr. Feynman\",\n  'surelyyourejokingmrfeynman',\n  'post',\n  3),\n (2016, 'Feynman', 'feynman', 'post', 3),\n (2016, '2001', '2001', 'post', 24),\n (2016, 'Space Odyssey', 'spaceodyssey', 'post', 8),\n (2016, 'The Mother Tongue', 'mothertongue', 'post', 5),\n (2016, 'The Hot Zone', 'hotzone', 'post', 1),\n (2016, 'Presto!', 'presto', 'post', 8),\n (2016, 'The Hardy boys', 'hardyboys', 'post', 5),\n (2016, 'The Tower Treasure', 'towertreasure', 'post', 2),\n (2016, 'A voyage long and strange', 'voyagelongandstrange', 'post', 1),\n (2016, 'The Lost City of Z', 'lostcityofz', 'post', 2),\n (2016, 'Rubicon', 'rubicon', 'post', 2),\n (2016, 'The Roman Empire', 'romanempire', 'post', 6),\n (2016, 'The umpire strikes back', 'umpirestrikesback', 'post', 1),\n (2016, 'Byron', 'byron', 'post', 22),\n (2016, 'Stiff', 'stiff', 'post', 20),\n (2016, 'White horse', 'whitehorse', 'post', 1),\n (2016, 'Gunslinger', 'gunslinger', 'post', 55),\n (2016, 'Why I am not a Christian', 'whyiamnotachristian', 'post', 1),\n (2016, 'Undaunted Courage', 'undauntedcourage', 'post', 1),\n (2016, 'Thomas Jefferson', 'thomasjefferson', 'post', 2),\n (2016, 'American West', 'americanwest', 'post', 6),\n (2016,\n  'The original adventures of Hank the Cowdog',\n  'originaladventuresofhankthecowdog',\n  'post',\n  1),\n (2016, 'Shrub', 'shrub', 'post', 1),\n (2016, 'Mediterranean Caper', 'mediterraneancaper', 'post', 1),\n (2016, 'Rafael', 'rafael', 'post', 4),\n (2016, 'The Three Musketeers', 'threemusketeers', 'post', 8),\n (2016, 'One for the Money', 'oneforthemoney', 'post', 2),\n (2016, 'Out of the blue', 'outoftheblue', 'post', 4),\n (2016,\n  \"Harry Potter and the Philosopher's Stone\",\n  'harrypotterandthephilosophersstone',\n  'post',\n  9),\n (2016,\n  'Harry Potter and the Chamber of Secrets',\n  'harrypotterandthechamberofsecrets',\n  'post',\n  4),\n (2016,\n  'Harry Potter and the Prisoner of Azkaban',\n  'harrypotterandtheprisonerofazkaban',\n  'post',\n  4),\n (2016,\n  'Harry Potter and the Goblet of Fire',\n  'harrypotterandthegobletoffire',\n  'post',\n  3),\n (2016, 'The baseball card', 'baseballcard', 'post', 1),\n (2016, 'The First Year', 'firstyear', 'post', 10),\n (2016, 'Ty Cobb', 'tycobb', 'post', 1),\n (2016,\n  'Harry Potter and the Order of the Phoenix',\n  'harrypotterandtheorderofthephoenix',\n  'post',\n  2),\n (2016, 'Investing for dummies', 'investingfordummies', 'post', 1),\n (2016, '1066 and All That', '1066andallthat', 'post', 1),\n (2016, 'Crank', 'crank', 'post', 6),\n (2016, 'Rogues', 'rogues', 'post', 10),\n (2016, 'Blue Latitudes', 'bluelatitudes', 'post', 1),\n (2016, 'One summer', 'onesummer', 'post', 4),\n (2016, 'The fatal shore', 'fatalshore', 'post', 1),\n (2016, 'Charlie Brown', 'charliebrown', 'post', 5),\n (2016,\n  \"William Shakespeare's Star Wars\",\n  'williamshakespearesstarwars',\n  'post',\n  4),\n (2016, 'The American People', 'americanpeople', 'post', 1),\n (2016, 'The Great Gatsby', 'greatgatsby', 'post', 50),\n (2016, 'Risk Management', 'riskmanagement', 'post', 15),\n (2016, 'Spear', 'spear', 'post', 196),\n (2016, 'Macbeth', 'macbeth', 'post', 12),\n (2016, 'Behold the Dreamers', 'beholdthedreamers', 'post', 2),\n (2016, 'The Wangs vs The World', 'wangsvstheworld', 'post', 2),\n (2016, 'The Fall of Hyperion', 'fallofhyperion', 'post', 9),\n (2016, 'Mass effect', 'masseffect', 'post', 1),\n ...]"
     },
     "execution_count": 11,
     "metadata": {},
     "output_type": "execute_result"
    },
    {
     "name": "stdout",
     "output_type": "stream",
     "text": [
      "time: 53.6 ms (started: 2022-10-30 14:44:58 +01:00)\n"
     ]
    }
   ],
   "source": [
    "book_ranking"
   ],
   "metadata": {
    "collapsed": false
   }
  },
  {
   "cell_type": "code",
   "execution_count": 12,
   "outputs": [
    {
     "data": {
      "text/plain": "        Year                    Title      Normalized Title Post or Comment  \\\n0       2020                    Dread                 dread            post   \n1       2021                    Dread                 dread            post   \n2       2018                    Dread                 dread            post   \n3       2022                    Dread                 dread            post   \n4       2022                    Dread                 dread         comment   \n...      ...                      ...                   ...             ...   \n101553  2021          Small Victories        smallvictories            post   \n101554  2021                Dark days              darkdays            post   \n101555  2021  Africa's Tarnished Name  africastarnishedname            post   \n101556  2021        Perfect strangers      perfectstrangers            post   \n101557  2015               The fresco                fresco            post   \n\n        Occurrences  \n0              6361  \n1              5834  \n2              3411  \n3              3235  \n4              3224  \n...             ...  \n101553            1  \n101554            1  \n101555            1  \n101556            1  \n101557            1  \n\n[101558 rows x 5 columns]",
      "text/html": "<div>\n<style scoped>\n    .dataframe tbody tr th:only-of-type {\n        vertical-align: middle;\n    }\n\n    .dataframe tbody tr th {\n        vertical-align: top;\n    }\n\n    .dataframe thead th {\n        text-align: right;\n    }\n</style>\n<table border=\"1\" class=\"dataframe\">\n  <thead>\n    <tr style=\"text-align: right;\">\n      <th></th>\n      <th>Year</th>\n      <th>Title</th>\n      <th>Normalized Title</th>\n      <th>Post or Comment</th>\n      <th>Occurrences</th>\n    </tr>\n  </thead>\n  <tbody>\n    <tr>\n      <th>0</th>\n      <td>2020</td>\n      <td>Dread</td>\n      <td>dread</td>\n      <td>post</td>\n      <td>6361</td>\n    </tr>\n    <tr>\n      <th>1</th>\n      <td>2021</td>\n      <td>Dread</td>\n      <td>dread</td>\n      <td>post</td>\n      <td>5834</td>\n    </tr>\n    <tr>\n      <th>2</th>\n      <td>2018</td>\n      <td>Dread</td>\n      <td>dread</td>\n      <td>post</td>\n      <td>3411</td>\n    </tr>\n    <tr>\n      <th>3</th>\n      <td>2022</td>\n      <td>Dread</td>\n      <td>dread</td>\n      <td>post</td>\n      <td>3235</td>\n    </tr>\n    <tr>\n      <th>4</th>\n      <td>2022</td>\n      <td>Dread</td>\n      <td>dread</td>\n      <td>comment</td>\n      <td>3224</td>\n    </tr>\n    <tr>\n      <th>...</th>\n      <td>...</td>\n      <td>...</td>\n      <td>...</td>\n      <td>...</td>\n      <td>...</td>\n    </tr>\n    <tr>\n      <th>101553</th>\n      <td>2021</td>\n      <td>Small Victories</td>\n      <td>smallvictories</td>\n      <td>post</td>\n      <td>1</td>\n    </tr>\n    <tr>\n      <th>101554</th>\n      <td>2021</td>\n      <td>Dark days</td>\n      <td>darkdays</td>\n      <td>post</td>\n      <td>1</td>\n    </tr>\n    <tr>\n      <th>101555</th>\n      <td>2021</td>\n      <td>Africa's Tarnished Name</td>\n      <td>africastarnishedname</td>\n      <td>post</td>\n      <td>1</td>\n    </tr>\n    <tr>\n      <th>101556</th>\n      <td>2021</td>\n      <td>Perfect strangers</td>\n      <td>perfectstrangers</td>\n      <td>post</td>\n      <td>1</td>\n    </tr>\n    <tr>\n      <th>101557</th>\n      <td>2015</td>\n      <td>The fresco</td>\n      <td>fresco</td>\n      <td>post</td>\n      <td>1</td>\n    </tr>\n  </tbody>\n</table>\n<p>101558 rows × 5 columns</p>\n</div>"
     },
     "execution_count": 12,
     "metadata": {},
     "output_type": "execute_result"
    },
    {
     "name": "stdout",
     "output_type": "stream",
     "text": [
      "time: 1.54 s (started: 2022-10-30 14:44:58 +01:00)\n"
     ]
    }
   ],
   "source": [
    "merged_frame = pd.DataFrame(book_ranking, columns=['Year', 'Title', 'Normalized Title', 'Post or Comment', 'Occurrences'])\n",
    "merged_frame.sort_values('Occurrences', inplace=True, ascending=False, ignore_index=False)\n",
    "merged_frame.reset_index(drop='index', inplace=True)\n",
    "merged_frame"
   ],
   "metadata": {
    "collapsed": false
   }
  },
  {
   "cell_type": "code",
   "execution_count": 13,
   "outputs": [
    {
     "name": "stdout",
     "output_type": "stream",
     "text": [
      "time: 279 ms (started: 2022-10-30 14:45:00 +01:00)\n"
     ]
    }
   ],
   "source": [
    "merged_frame.to_csv(BOOK_COUNT_DF)"
   ],
   "metadata": {
    "collapsed": false
   }
  }
 ],
 "metadata": {
  "kernelspec": {
   "display_name": "Python 3 (ipykernel)",
   "language": "python",
   "name": "python3"
  },
  "language_info": {
   "codemirror_mode": {
    "name": "ipython",
    "version": 2
   },
   "file_extension": ".py",
   "mimetype": "text/x-python",
   "name": "python",
   "nbconvert_exporter": "python",
   "pygments_lexer": "ipython2",
   "version": "2.7.6"
  }
 },
 "nbformat": 4,
 "nbformat_minor": 1
}
