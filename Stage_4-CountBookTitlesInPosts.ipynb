{
 "cells": [
  {
   "cell_type": "markdown",
   "metadata": {},
   "source": [
    "# Extract Book Titles from The Posts\n",
    "\n",
    "For every post id: get the actual version of the post, normalize it and search for book titles."
   ]
  },
  {
   "cell_type": "code",
   "execution_count": 1,
   "metadata": {},
   "outputs": [
    {
     "name": "stdout",
     "output_type": "stream",
     "text": [
      "time: 605 µs (started: 2022-10-14 20:51:44 +02:00)\n"
     ]
    }
   ],
   "source": [
    "import multiprocessing\n",
    "import re\n",
    "from collections import Counter\n",
    "from functools import partial\n",
    "from pathlib import Path\n",
    "\n",
    "import pandas as pd\n",
    "from tqdm.contrib.concurrent import process_map\n",
    "\n",
    "from Functions import normalize_text, get_occurrences_for_post\n",
    "\n",
    "NON_ALPHANUMERIC = re.compile(r'[\\W_]+')\n",
    "SUBREDDIT_NAME = 'books'\n",
    "EXTRACTED_BOOKS_PATH = './data/books.csv'\n",
    "IDS_PATH = './data/post_ids.csv'\n",
    "STORED_POSTS_PATH = './data/stored_posts.csv'\n",
    "FAUX_TITLES_PATH = Path('./data/faux_book_titles')\n",
    "BOOK_COUNT_DF = './data/book_counts_raw.csv'\n",
    "\n",
    "%load_ext autotime"
   ]
  },
  {
   "cell_type": "markdown",
   "metadata": {},
   "source": [
    "### Prepare Book Titles\n",
    "\n",
    "And compile them into a regex."
   ]
  },
  {
   "cell_type": "code",
   "execution_count": 2,
   "metadata": {},
   "outputs": [
    {
     "data": {
      "text/plain": "                                                    Title  \\\n0                                          006 and a Half   \n1                                                01-01-00   \n2                                                   05:58   \n3       08 the Planet of the Tortoise Driver Little Pr...   \n4                           10,000 ways to say I love you   \n...                                                   ...   \n110919                         Zvezdy--kholodnye igrushki   \n110920                                           Zvirahwe   \n110921                                   The Z Was Zapped   \n110922  Zweite Auflage im Altertum; kulturgeschichtlic...   \n110923                           Zyj wystarczajaco dobrze   \n\n                                               Normalized  \n0                                             006andahalf  \n1                                                  010100  \n2                                                    0558  \n3              08theplanetofthetortoisedriverlittleprince  \n4                                  10000waystosayiloveyou  \n...                                                   ...  \n110919                            zvezdykholodnyeigrushki  \n110920                                           zvirahwe  \n110921                                         zwaszapped  \n110922  zweiteauflageimaltertumkulturgeschichtlichestu...  \n110923                             zyjwystarczajacodobrze  \n\n[110924 rows x 2 columns]",
      "text/html": "<div>\n<style scoped>\n    .dataframe tbody tr th:only-of-type {\n        vertical-align: middle;\n    }\n\n    .dataframe tbody tr th {\n        vertical-align: top;\n    }\n\n    .dataframe thead th {\n        text-align: right;\n    }\n</style>\n<table border=\"1\" class=\"dataframe\">\n  <thead>\n    <tr style=\"text-align: right;\">\n      <th></th>\n      <th>Title</th>\n      <th>Normalized</th>\n    </tr>\n  </thead>\n  <tbody>\n    <tr>\n      <th>0</th>\n      <td>006 and a Half</td>\n      <td>006andahalf</td>\n    </tr>\n    <tr>\n      <th>1</th>\n      <td>01-01-00</td>\n      <td>010100</td>\n    </tr>\n    <tr>\n      <th>2</th>\n      <td>05:58</td>\n      <td>0558</td>\n    </tr>\n    <tr>\n      <th>3</th>\n      <td>08 the Planet of the Tortoise Driver Little Pr...</td>\n      <td>08theplanetofthetortoisedriverlittleprince</td>\n    </tr>\n    <tr>\n      <th>4</th>\n      <td>10,000 ways to say I love you</td>\n      <td>10000waystosayiloveyou</td>\n    </tr>\n    <tr>\n      <th>...</th>\n      <td>...</td>\n      <td>...</td>\n    </tr>\n    <tr>\n      <th>110919</th>\n      <td>Zvezdy--kholodnye igrushki</td>\n      <td>zvezdykholodnyeigrushki</td>\n    </tr>\n    <tr>\n      <th>110920</th>\n      <td>Zvirahwe</td>\n      <td>zvirahwe</td>\n    </tr>\n    <tr>\n      <th>110921</th>\n      <td>The Z Was Zapped</td>\n      <td>zwaszapped</td>\n    </tr>\n    <tr>\n      <th>110922</th>\n      <td>Zweite Auflage im Altertum; kulturgeschichtlic...</td>\n      <td>zweiteauflageimaltertumkulturgeschichtlichestu...</td>\n    </tr>\n    <tr>\n      <th>110923</th>\n      <td>Zyj wystarczajaco dobrze</td>\n      <td>zyjwystarczajacodobrze</td>\n    </tr>\n  </tbody>\n</table>\n<p>110924 rows × 2 columns</p>\n</div>"
     },
     "execution_count": 2,
     "metadata": {},
     "output_type": "execute_result"
    },
    {
     "name": "stdout",
     "output_type": "stream",
     "text": [
      "time: 147 ms (started: 2022-10-14 20:51:44 +02:00)\n"
     ]
    }
   ],
   "source": [
    "book_titles_df = pd.read_csv(EXTRACTED_BOOKS_PATH, index_col=0)\n",
    "book_titles_df"
   ]
  },
  {
   "cell_type": "code",
   "execution_count": 3,
   "metadata": {},
   "outputs": [
    {
     "name": "stdout",
     "output_type": "stream",
     "text": [
      "Found 110,730 book titles.\n",
      "time: 82.6 ms (started: 2022-10-14 20:51:45 +02:00)\n"
     ]
    }
   ],
   "source": [
    "title_dict = dict(zip(book_titles_df.Normalized, book_titles_df.Title))\n",
    "if FAUX_TITLES_PATH.exists():\n",
    "    faux_titles = {normalize_text(faux_title) for faux_title in FAUX_TITLES_PATH.read_text().splitlines(keepends=False)}\n",
    "else:\n",
    "    faux_titles = set()\n",
    "\n",
    "all_normalized_titles = list(set(book_titles_df.Normalized) - faux_titles)\n",
    "all_normalized_titles.sort(reverse=True, key=lambda x: len(x))\n",
    "print(f'Found {len(all_normalized_titles):,} book titles.')"
   ]
  },
  {
   "cell_type": "code",
   "execution_count": 4,
   "metadata": {},
   "outputs": [
    {
     "name": "stderr",
     "output_type": "stream",
     "text": [
      "/scratch/slurm_tmpdir/job_21121799/ipykernel_2113853/3677812895.py:1: DtypeWarning: Columns (4) have mixed types. Specify dtype option on import or set low_memory=False.\n",
      "  posts_df = pd.read_csv(STORED_POSTS_PATH, index_col=0)\n"
     ]
    },
    {
     "data": {
      "text/plain": "            ID  Year                                          Post Text  \\\n0        7cexh  2008                               funnyparodysffcovers   \n1        72bqq  2008  pirateshortfictionfromfantasymagazineshimmerfr...   \n2        6sr73  2008                            reviewihatedavidsedaris   \n3        6dpea  2008    sevendeadlywordsofbookreviewingnewyorktimesblog   \n4        7mbbb  2008                                    2008discoveries   \n...        ...   ...                                                ...   \n289576  x3c279  2022  the2022hugoawardwinnerstobeannouncedonsunday4s...   \n289577  tozgxo  2022  juststartedthevegetarianandiwishthehusbandallt...   \n289578  xagcox  2022  neverjudgeabookbyitsauthorsfatherearlierthisye...   \n289579  xe8nhv  2022  somebriefthoughtsonthewomenofthecoppercountrya...   \n289580  vpm27k  2022              howreadingfantasybooksmakesyousmarter   \n\n       Comment Text  \n0                    \n1                    \n2                    \n3                    \n4                    \n...             ...  \n289576               \n289577               \n289578               \n289579               \n289580               \n\n[289581 rows x 4 columns]",
      "text/html": "<div>\n<style scoped>\n    .dataframe tbody tr th:only-of-type {\n        vertical-align: middle;\n    }\n\n    .dataframe tbody tr th {\n        vertical-align: top;\n    }\n\n    .dataframe thead th {\n        text-align: right;\n    }\n</style>\n<table border=\"1\" class=\"dataframe\">\n  <thead>\n    <tr style=\"text-align: right;\">\n      <th></th>\n      <th>ID</th>\n      <th>Year</th>\n      <th>Post Text</th>\n      <th>Comment Text</th>\n    </tr>\n  </thead>\n  <tbody>\n    <tr>\n      <th>0</th>\n      <td>7cexh</td>\n      <td>2008</td>\n      <td>funnyparodysffcovers</td>\n      <td></td>\n    </tr>\n    <tr>\n      <th>1</th>\n      <td>72bqq</td>\n      <td>2008</td>\n      <td>pirateshortfictionfromfantasymagazineshimmerfr...</td>\n      <td></td>\n    </tr>\n    <tr>\n      <th>2</th>\n      <td>6sr73</td>\n      <td>2008</td>\n      <td>reviewihatedavidsedaris</td>\n      <td></td>\n    </tr>\n    <tr>\n      <th>3</th>\n      <td>6dpea</td>\n      <td>2008</td>\n      <td>sevendeadlywordsofbookreviewingnewyorktimesblog</td>\n      <td></td>\n    </tr>\n    <tr>\n      <th>4</th>\n      <td>7mbbb</td>\n      <td>2008</td>\n      <td>2008discoveries</td>\n      <td></td>\n    </tr>\n    <tr>\n      <th>...</th>\n      <td>...</td>\n      <td>...</td>\n      <td>...</td>\n      <td>...</td>\n    </tr>\n    <tr>\n      <th>289576</th>\n      <td>x3c279</td>\n      <td>2022</td>\n      <td>the2022hugoawardwinnerstobeannouncedonsunday4s...</td>\n      <td></td>\n    </tr>\n    <tr>\n      <th>289577</th>\n      <td>tozgxo</td>\n      <td>2022</td>\n      <td>juststartedthevegetarianandiwishthehusbandallt...</td>\n      <td></td>\n    </tr>\n    <tr>\n      <th>289578</th>\n      <td>xagcox</td>\n      <td>2022</td>\n      <td>neverjudgeabookbyitsauthorsfatherearlierthisye...</td>\n      <td></td>\n    </tr>\n    <tr>\n      <th>289579</th>\n      <td>xe8nhv</td>\n      <td>2022</td>\n      <td>somebriefthoughtsonthewomenofthecoppercountrya...</td>\n      <td></td>\n    </tr>\n    <tr>\n      <th>289580</th>\n      <td>vpm27k</td>\n      <td>2022</td>\n      <td>howreadingfantasybooksmakesyousmarter</td>\n      <td></td>\n    </tr>\n  </tbody>\n</table>\n<p>289581 rows × 4 columns</p>\n</div>"
     },
     "execution_count": 4,
     "metadata": {},
     "output_type": "execute_result"
    },
    {
     "name": "stdout",
     "output_type": "stream",
     "text": [
      "time: 965 ms (started: 2022-10-14 20:51:45 +02:00)\n"
     ]
    }
   ],
   "source": [
    "posts_df = pd.read_csv(STORED_POSTS_PATH, index_col=0)\n",
    "posts_df.fillna('', inplace=True)\n",
    "posts_df"
   ]
  },
  {
   "cell_type": "code",
   "execution_count": 5,
   "outputs": [
    {
     "name": "stdout",
     "output_type": "stream",
     "text": [
      "time: 285 ms (started: 2022-10-14 20:51:46 +02:00)\n"
     ]
    }
   ],
   "source": [
    "posts = list(posts_df.sample(frac=1).itertuples(index=False, name=None))    # shuffle for better time estimate for the process bar"
   ],
   "metadata": {
    "collapsed": false
   }
  },
  {
   "cell_type": "markdown",
   "metadata": {},
   "source": [
    "### Compile the Book Titles to RegEx\n",
    "\n",
    "The longest book title is first, the shortest is last. The resulting RegEx always returns the longest non-overlapping matches. This way, we always match on the longest title, even if a shorter title is a substring of the long title. (e.g. Only match for 'Pride and Prejudice and Zombies' and not for 'Pride and Prejudice' in the string: 'My favourite book is \"Pride and Prejudice and Zombies\"')"
   ]
  },
  {
   "cell_type": "code",
   "execution_count": 6,
   "metadata": {},
   "outputs": [
    {
     "name": "stdout",
     "output_type": "stream",
     "text": [
      "time: 4.18 s (started: 2022-10-14 20:51:46 +02:00)\n"
     ]
    }
   ],
   "source": [
    "title_regex = '|'.join(all_normalized_titles)\n",
    "title_regex = re.compile(title_regex)"
   ]
  },
  {
   "cell_type": "markdown",
   "metadata": {},
   "source": [
    "### Search Posts for Book Titles"
   ]
  },
  {
   "cell_type": "code",
   "execution_count": 7,
   "outputs": [
    {
     "data": {
      "text/plain": "  0%|          | 0/289581 [00:00<?, ?it/s]",
      "application/vnd.jupyter.widget-view+json": {
       "version_major": 2,
       "version_minor": 0,
       "model_id": "854f88fadb6949599d4cfefa5b6a4b22"
      }
     },
     "metadata": {},
     "output_type": "display_data"
    },
    {
     "name": "stdout",
     "output_type": "stream",
     "text": [
      "time: 2h 53min 48s (started: 2022-10-14 20:51:50 +02:00)\n"
     ]
    }
   ],
   "source": [
    "results = process_map(\n",
    "    partial(get_occurrences_for_post, title_regex=title_regex),\n",
    "    posts,\n",
    "    max_workers=multiprocessing.cpu_count(),\n",
    "    chunksize=250\n",
    ")"
   ],
   "metadata": {
    "collapsed": false
   }
  },
  {
   "cell_type": "code",
   "execution_count": 8,
   "outputs": [
    {
     "name": "stdout",
     "output_type": "stream",
     "text": [
      "time: 3min 26s (started: 2022-10-14 23:45:39 +02:00)\n"
     ]
    }
   ],
   "source": [
    "year, post_occ, comment_occ = zip(*results)\n",
    "\n",
    "per_year_posts = dict()\n",
    "per_year_comments = dict()\n",
    "\n",
    "for y in set(year):\n",
    "    per_year_posts[y] = dict()\n",
    "    per_year_comments[y] = dict()\n",
    "\n",
    "for y, p, c in results:\n",
    "    if p:\n",
    "        per_year_posts[y] = Counter(per_year_posts[y]) + Counter(p)\n",
    "    if c:\n",
    "        per_year_comments[y] = Counter(per_year_posts[y]) + Counter(p)"
   ],
   "metadata": {
    "collapsed": false
   }
  },
  {
   "cell_type": "code",
   "execution_count": 9,
   "metadata": {},
   "outputs": [
    {
     "name": "stdout",
     "output_type": "stream",
     "text": [
      "time: 366 µs (started: 2022-10-14 23:49:06 +02:00)\n"
     ]
    }
   ],
   "source": [
    "# print(\"Ranked from posts:\", sorted(list(post_occ.items()), key=lambda x: x[1], reverse=True))\n",
    "# print(\"Ranked from comments:\", sorted(list(post_occ.items()), key=lambda x: x[1], reverse=True))\n",
    "# print(\"Ranked from posts and comments:\",\n",
    "#       sorted(list((Counter(comment_occ) + Counter(post_occ))\n",
    "#                   .items()), key=lambda x: x[1], reverse=True))"
   ]
  },
  {
   "cell_type": "code",
   "execution_count": 10,
   "outputs": [
    {
     "name": "stdout",
     "output_type": "stream",
     "text": [
      "time: 128 ms (started: 2022-10-14 23:49:06 +02:00)\n"
     ]
    }
   ],
   "source": [
    "book_ranking = []\n",
    "for y in set(year):\n",
    "    book_ranking.extend([(y, title_dict[book_title], book_title, 'post', occurrences)\n",
    "                    for book_title, occurrences in per_year_posts[y].items()])\n",
    "    book_ranking.extend([(y, title_dict[book_title], book_title, 'comment', occurrences)\n",
    "                         for book_title, occurrences in per_year_comments[y].items()])"
   ],
   "metadata": {
    "collapsed": false
   }
  },
  {
   "cell_type": "code",
   "execution_count": 11,
   "outputs": [
    {
     "data": {
      "text/plain": "[(2016, 'The Heir', 'heir', 'post', 1961),\n (2016, 'Addicted', 'addicted', 'post', 24),\n (2016, 'Tron', 'tron', 'post', 738),\n (2016, 'The Omen', 'omen', 'post', 1132),\n (2016, 'Owed', 'owed', 'post', 276),\n (2016, 'Poemas', 'poemas', 'post', 8),\n (2016, 'Namesake', 'namesake', 'post', 10),\n (2016, 'Discus', 'discus', 'post', 1098),\n (2016, 'How to make money', 'howtomakemoney', 'post', 44),\n (2016, 'The coma', 'coma', 'post', 282),\n (2016, 'Rant', 'rant', 'post', 435),\n (2016, 'Erec', 'erec', 'post', 612),\n (2016, 'Need to know', 'needtoknow', 'post', 46),\n (2016, 'Comet', 'comet', 'post', 540),\n (2016, 'Head on', 'headon', 'post', 59),\n (2016, 'Infinite jest', 'infinitejest', 'post', 172),\n (2016, 'Two Years Ago', 'twoyearsago', 'post', 18),\n (2016, 'The Tain', 'tain', 'post', 1240),\n (2016, 'Where you are', 'whereyouare', 'post', 8),\n (2016, 'Hell', 'hell', 'post', 764),\n (2016, 'One Day', 'oneday', 'post', 63),\n (2016, 'Mean Girl', 'meangirl', 'post', 3),\n (2016, 'The pact', 'pact', 'post', 164),\n (2016, 'I like', 'ilike', 'post', 443),\n (2016, 'Hench', 'hench', 'post', 26),\n (2016, 'The Goon', 'goon', 'post', 84),\n (2016, 'Happy Ending', 'happyending', 'post', 23),\n (2016, 'Desperation', 'desperation', 'post', 14),\n (2016, 'The Raft', 'raft', 'post', 260),\n (2016, 'Redemption', 'redemption', 'post', 36),\n (2016, '\"1984\"', '1984', 'post', 149),\n (2016, 'Anise', 'anise', 'post', 22),\n (2016, 'The lice', 'lice', 'post', 180),\n (2016, 'Computer architecture', 'computerarchitecture', 'post', 2),\n (2016, 'The stand-in', 'standin', 'post', 305),\n (2016, 'Ogres', 'ogres', 'post', 102),\n (2016, 'Intern', 'intern', 'post', 534),\n (2016, 'Phonics', 'phonics', 'post', 1),\n (2016, 'IONI', 'ioni', 'post', 1785),\n (2016, 'On/Me', 'onme', 'post', 230),\n (2016, 'Good-Bye', 'goodbye', 'post', 30),\n (2016, 'The Flirt', 'flirt', 'post', 10),\n (2016, 'Shyness', 'shyness', 'post', 9),\n (2016, 'Iced', 'iced', 'post', 298),\n (2016, 'The Dark Wild', 'darkwild', 'post', 1),\n (2016, 'East of Eden', 'eastofeden', 'post', 79),\n (2016, 'Oona', 'oona', 'post', 114),\n (2016, 'The art of social media', 'artofsocialmedia', 'post', 1),\n (2016, 'Ruse', 'ruse', 'post', 101),\n (2016, 'H Is for Hawk', 'hisforhawk', 'post', 6),\n (2016, 'I will', 'iwill', 'post', 308),\n (2016, 'Vlad', 'vlad', 'post', 50),\n (2016, 'The Fellowship of the Ring', 'fellowshipofthering', 'post', 13),\n (2016, 'Almost Everything', 'almosteverything', 'post', 12),\n (2016, 'Trust Me', 'trustme', 'post', 11),\n (2016, 'Heban', 'heban', 'post', 45),\n (2016, 'Mysteries', 'mysteries', 'post', 59),\n (2016, 'In plain sight', 'inplainsight', 'post', 3),\n (2016, 'Search Engine Optimization', 'searchengineoptimization', 'post', 4),\n (2016, '...isms', 'isms', 'post', 59),\n (2016, 'Impro', 'impro', 'post', 210),\n (2016, 'Timeo', 'timeo', 'post', 162),\n (2016, 'Never let me go', 'neverletmego', 'post', 29),\n (2016, 'Goth', 'goth', 'post', 298),\n (2016, 'Pula', 'pula', 'post', 399),\n (2016, 'I Am N', 'iamn', 'post', 154),\n (2016, 'Sult', 'sult', 'post', 291),\n (2016, 'The Grump', 'grump', 'post', 8),\n (2016, 'Le But', 'lebut', 'post', 181),\n (2016, 'My own', 'myown', 'post', 204),\n (2016, 'Harem', 'harem', 'post', 54),\n (2016, 'Ultima', 'ultima', 'post', 164),\n (2016, \"A writer's notebook\", 'writersnotebook', 'post', 2),\n (2016, 'Dragonfly in Amber', 'dragonflyinamber', 'post', 1),\n (2016, 'Aldo', 'aldo', 'post', 101),\n (2016, 'Five lessons', 'fivelessons', 'post', 1),\n (2016, 'The 4-Hour Work Week', '4hourworkweek', 'post', 5),\n (2016, 'Sars', 'sars', 'post', 9),\n (2016, 'You do!', 'youdo', 'post', 349),\n (2016, 'The Hardy boys', 'hardyboys', 'post', 5),\n (2016, 'Sandman Slim', 'sandmanslim', 'post', 2),\n (2016, 'Edible', 'edible', 'post', 159),\n (2016, 'Unseen', 'unseen', 'post', 15),\n (2016, 'Ghosts', 'ghosts', 'post', 40),\n (2016, \"Caliban's war\", 'calibanswar', 'post', 4),\n (2016, 'Cibola burn', 'cibolaburn', 'post', 4),\n (2016, 'The Last Anniversary', 'lastanniversary', 'post', 2),\n (2016, 'Fan art', 'fanart', 'post', 10),\n (2016, 'Red Rising', 'redrising', 'post', 47),\n (2016, 'Golden Son', 'goldenson', 'post', 14),\n (2016, 'The Folly of Loving', 'follyofloving', 'post', 1),\n (2016, 'The Rake', 'rake', 'post', 56),\n (2016, 'The six pillars of self-esteem', 'sixpillarsofselfesteem', 'post', 1),\n (2016, 'The Hat Book', 'hatbook', 'post', 620),\n (2016, 'Ready Player One', 'readyplayerone', 'post', 71),\n (2016, 'Devoured', 'devoured', 'post', 18),\n (2016, 'How to Live', 'howtolive', 'post', 6),\n (2016, 'Ninja', 'ninja', 'post', 16),\n (2016, 'Ritual', 'ritual', 'post', 83),\n (2016, 'Popular culture', 'popularculture', 'post', 8),\n (2016, \"The Mind's I\", 'mindsi', 'post', 7),\n (2016, 'Hip-hop', 'hiphop', 'post', 19),\n (2016, 'Hilo', 'hilo', 'post', 272),\n (2016, 'SLAN', 'slan', 'post', 150),\n (2016, 'A Long Way Down', 'longwaydown', 'post', 1),\n (2016, 'For Sale', 'forsale', 'post', 57),\n (2016, 'Gone Girl', 'gonegirl', 'post', 47),\n (2016, 'Taur', 'taur', 'post', 48),\n (2016, 'Googled', 'googled', 'post', 38),\n (2016, 'Tell me', 'tellme', 'post', 150),\n (2016, 'Flashbacks', 'flashbacks', 'post', 13),\n (2016, 'Asunder', 'asunder', 'post', 20),\n (2016, 'Duna', 'duna', 'post', 14),\n (2016, 'Unreal!', 'unreal', 'post', 31),\n (2016, 'Toes', 'toes', 'post', 63),\n (2016, 'Make Me', 'makeme', 'post', 83),\n (2016, 'Arthas', 'arthas', 'post', 10),\n (2016, 'Captivated', 'captivated', 'post', 14),\n (2016, 'The Littles', 'littles', 'post', 59),\n (2016, 'Devour', 'devour', 'post', 15),\n (2016, 'Fight club', 'fightclub', 'post', 51),\n (2016, 'PARANORMAL', 'paranormal', 'post', 60),\n (2016, 'Deeper and Deeper', 'deeperanddeeper', 'post', 1),\n (2016, 'Interview with the Vampire', 'interviewwiththevampire', 'post', 4),\n (2016, 'Vampire chronicle', 'vampirechronicle', 'post', 3),\n (2016, 'Dune', 'dune', 'post', 225),\n (2016, 'NERDS', 'nerds', 'post', 23),\n (2016, 'Zombie', 'zombie', 'post', 51),\n (2016, 'Mandarin Chinese', 'mandarinchinese', 'post', 16),\n (2016, 'The New You', 'newyou', 'post', 4),\n (2016, 'The Hobbit', 'hobbit', 'post', 65),\n (2016, 'The Rift', 'rift', 'post', 169),\n (2016, 'Aptitude', 'aptitude', 'post', 17),\n (2016, 'Evermore', 'evermore', 'post', 6),\n (2016, 'The underdogs', 'underdogs', 'post', 7),\n (2016, 'The Sword of the Lictor', 'swordofthelictor', 'post', 2),\n (2016, 'Narnia', 'narnia', 'post', 13),\n (2016, 'The heist', 'heist', 'post', 79),\n (2016, 'The chosen one', 'chosenone', 'post', 7),\n (2016, 'Wizards', 'wizards', 'post', 15),\n (2016, 'Bandits', 'bandits', 'post', 7),\n (2016, 'Tsar', 'tsar', 'post', 226),\n (2016, 'Gone too far', 'gonetoofar', 'post', 3),\n (2016, 'The liar', 'liar', 'post', 189),\n (2016, 'Oddly', 'oddly', 'post', 15),\n (2016, 'Postmortem', 'postmortem', 'post', 5),\n (2016, 'The deed', 'deed', 'post', 53),\n (2016, 'Grunt', 'grunt', 'post', 13),\n (2016, 'Mrs. Dalloway', 'mrsdalloway', 'post', 4),\n (2016, 'Chic', 'chic', 'post', 144),\n (2016, 'Our Lit', 'ourlit', 'post', 10),\n (2016, 'Racism', 'racism', 'post', 40),\n (2016, 'The Shearing', 'shearing', 'post', 8),\n (2016, 'The Important Book', 'importantbook', 'post', 13),\n (2016, 'Larf', 'larf', 'post', 39),\n (2016, 'On writing', 'onwriting', 'post', 104),\n (2016, 'Mermaids', 'mermaids', 'post', 3),\n (2016, 'We the living', 'wetheliving', 'post', 2),\n (2016, 'Scat', 'scat', 'post', 80),\n (2016, 'Belonging', 'belonging', 'post', 12),\n (2016, 'Toad', 'toad', 'post', 226),\n (2016, 'A Member of the Family', 'memberofthefamily', 'post', 1),\n (2016, 'Upheaval', 'upheaval', 'post', 3),\n (2016, 'Flourish', 'flourish', 'post', 5),\n (2016, 'The Aristocrat', 'aristocrat', 'post', 6),\n (2016, 'Black market', 'blackmarket', 'post', 3),\n (2016, 'Roar', 'roar', 'post', 16),\n (2016, 'In the distance', 'inthedistance', 'post', 3),\n (2016, 'Passages', 'passages', 'post', 114),\n (2016, 'Fallen hero', 'fallenhero', 'post', 1),\n (2016, '11/22/63', '112263', 'post', 75),\n (2016, 'Sacrifices', 'sacrifices', 'post', 9),\n (2016, 'The One Thing', 'onething', 'post', 92),\n (2016, 'Lurking', 'lurking', 'post', 16),\n (2016, 'Staying on', 'stayingon', 'post', 1),\n (2016, 'Excuse me!', 'excuseme', 'post', 6),\n (2016, 'One L', 'onel', 'post', 303),\n (2016, 'The Bazaar of Bad Dreams', 'bazaarofbaddreams', 'post', 11),\n (2016, 'Dark Towers', 'darktowers', 'post', 74),\n (2016, 'Gunslinger', 'gunslinger', 'post', 55),\n (2016, 'Aztec', 'aztec', 'post', 5),\n (2016, 'The Conquest of Mexico', 'conquestofmexico', 'post', 1),\n (2016, 'Ever after', 'everafter', 'post', 13),\n (2016, 'Force of nature', 'forceofnature', 'post', 1),\n (2016, 'Burned', 'burned', 'post', 33),\n (2016, 'The garden of Eden', 'gardenofeden', 'post', 4),\n (2016, 'Pyramids', 'pyramids', 'post', 7),\n (2016, 'Electrical engineering', 'electricalengineering', 'post', 3),\n (2016, 'The power of the dog', 'powerofthedog', 'post', 3),\n (2016, 'Puto', 'puto', 'post', 70),\n (2016, '1980s', '1980s', 'post', 15),\n (2016, 'Shadow of the Wind', 'shadowofthewind', 'post', 14),\n (2016, 'Kite Runner', 'kiterunner', 'post', 18),\n (2016, 'Mexico City', 'mexicocity', 'post', 2),\n (2016, 'Bitch', 'bitch', 'post', 22),\n (2016, 'The Rival', 'rival', 'post', 34),\n (2016, 'The showdown', 'showdown', 'post', 4),\n (2016, 'All the Pretty Horses', 'alltheprettyhorses', 'post', 12),\n (2016, 'The masterpiece', 'masterpiece', 'post', 71),\n (2016, 'Blindfold', 'blindfold', 'post', 1),\n (2016, 'Rape', 'rape', 'post', 104),\n (2016, 'The Ultimates', 'ultimates', 'post', 12),\n (2016, 'Self Improvement', 'selfimprovement', 'post', 17),\n (2016, 'Supernatural', 'supernatural', 'post', 50),\n (2016, 'Glue', 'glue', 'post', 11),\n (2016, 'Leap Of Faith', 'leapoffaith', 'post', 1),\n (2016, 'Soldier Spy', 'soldierspy', 'post', 1),\n (2016, 'Her stories', 'herstories', 'post', 40),\n (2016, 'Where the Red Fern Grows', 'wheretheredferngrows', 'post', 8),\n (2016, 'Cursed', 'cursed', 'post', 45),\n (2016, 'Billionaires', 'billionaires', 'post', 26),\n (2016, 'Re-Collection', 'recollection', 'post', 15),\n (2016, 'Gapo', 'gapo', 'post', 114),\n (2016, 'Lady Susan', 'ladysusan', 'post', 3),\n (2016, 'COSM', 'cosm', 'post', 79),\n (2016, 'Under Construction', 'underconstruction', 'post', 1),\n (2016, 'Soul music', 'soulmusic', 'post', 3),\n (2016, 'Orca', 'orca', 'post', 122),\n (2016, 'Light in August', 'lightinaugust', 'post', 2),\n (2016, 'Last Evenings on Earth', 'lasteveningsonearth', 'post', 1),\n (2016, 'The Robe', 'robe', 'post', 377),\n (2016, 'Wise blood', 'wiseblood', 'post', 1),\n (2016, 'CUSP', 'cusp', 'post', 5),\n (2016, 'The Companions of Jehu', 'companionsofjehu', 'post', 3),\n (2016, 'Hooked', 'hooked', 'post', 76),\n (2016, 'Second Time Around', 'secondtimearound', 'post', 7),\n (2016, 'Assholes', 'assholes', 'post', 7),\n (2016, 'Rumo', 'rumo', 'post', 37),\n (2016, 'True grit.', 'truegrit', 'post', 2),\n (2016, 'Now I know', 'nowiknow', 'post', 23),\n (2016, 'The Underground Railroad', 'undergroundrailroad', 'post', 13),\n (2016, 'The Sunset Limited', 'sunsetlimited', 'post', 1),\n (2016, 'Sleeping Beauty', 'sleepingbeauty', 'post', 3),\n (2016, 'Adapt', 'adapt', 'post', 278),\n (2016, 'The Tale of Genji', 'taleofgenji', 'post', 5),\n (2016, 'Behemoth', 'behemoth', 'post', 7),\n (2016, 'The sanctuary', 'sanctuary', 'post', 14),\n (2016, 'The Accidental', 'accidental', 'post', 41),\n (2016, 'Flipped', 'flipped', 'post', 5),\n (2016, 'Ruined', 'ruined', 'post', 50),\n (2016, 'My year', 'myyear', 'post', 11),\n (2016, 'The 5th Wave', '5thwave', 'post', 3),\n (2016, 'Quicksilver', 'quicksilver', 'post', 2),\n (2016, 'Ruin', 'ruin', 'post', 75),\n (2016, 'Up all night', 'upallnight', 'post', 4),\n (2016, 'Little Bo-peep', 'littlebopeep', 'post', 1),\n (2016, 'Elly', 'elly', 'post', 211),\n (2016, 'Is it just me?', 'isitjustme', 'post', 25),\n (2016, 'Stand up!', 'standup', 'post', 13),\n (2016, 'What Is It?', 'whatisit', 'post', 43),\n (2016, 'Gemina', 'gemina', 'post', 4),\n (2016, 'Left Behind', 'leftbehind', 'post', 18),\n (2016, 'Smash', 'smash', 'post', 148),\n (2016, 'Romeo and', 'romeoand', 'post', 14),\n (2016, 'Dune Messiah', 'dunemessiah', 'post', 12),\n (2016, 'Jurassic Park', 'jurassicpark', 'post', 28),\n (2016, 'Raptors', 'raptors', 'post', 1),\n (2016, 'The Andromeda Strain', 'andromedastrain', 'post', 1),\n (2016, 'Loser', 'loser', 'post', 59),\n (2016, 'Ariah', 'ariah', 'post', 3),\n (2016, 'Animal Farm', 'animalfarm', 'post', 50),\n (2016, 'The Good Earth', 'goodearth', 'post', 5),\n (2016, 'Godan', 'godan', 'post', 23),\n (2016, 'Commute', 'commute', 'post', 37),\n (2016, 'Off Armageddon Reef', 'offarmageddonreef', 'post', 1),\n (2016, 'Brainwashed', 'brainwashed', 'post', 5),\n (2016, 'Good guys', 'goodguys', 'post', 6),\n (2016, 'The Bad Guys', 'badguys', 'post', 12),\n (2016, 'Simplify Your Life', 'simplifyyourlife', 'post', 1),\n (2016, \"L'occasion\", 'loccasion', 'post', 5),\n (2016, 'The Nuer', 'nuer', 'post', 32),\n (2016, 'Back Pain', 'backpain', 'post', 5),\n (2016, 'Something More', 'somethingmore', 'post', 16),\n (2016, 'The Last Word', 'lastword', 'post', 7),\n (2016, 'Guts', 'guts', 'post', 55),\n (2016, \"Cat's Cradle\", 'catscradle', 'post', 34),\n (2016, 'Fallout', 'fallout', 'post', 19),\n (2016, 'Ultrasound', 'ultrasound', 'post', 1),\n (2016, 'Meno', 'meno', 'post', 140),\n (2016, 'Everfound', 'everfound', 'post', 19),\n (2016, 'Being dead', 'beingdead', 'post', 1),\n (2016, 'Uncovered!', 'uncovered', 'post', 5),\n (2016, 'Flyte', 'flyte', 'post', 2),\n (2016, 'City of Glass', 'cityofglass', 'post', 2),\n (2016, 'Life of Pi', 'lifeofpi', 'post', 13),\n (2016, 'Hollywood kids', 'hollywoodkids', 'post', 1),\n (2016, 'Bitcoin', 'bitcoin', 'post', 15),\n (2016, 'Thermodynamics', 'thermodynamics', 'post', 3),\n (2016, 'Under fire', 'underfire', 'post', 3),\n (2016, 'The final day', 'finalday', 'post', 1),\n (2016, 'The undiscovered country', 'undiscoveredcountry', 'post', 1),\n (2016, 'A Spy Among Friends', 'spyamongfriends', 'post', 2),\n (2016, 'AK-47', 'ak47', 'post', 2),\n (2016, 'Carry on', 'carryon', 'post', 14),\n (2016, 'Seven years in Tibet', 'sevenyearsintibet', 'post', 2),\n (2016, 'Wind-Up Bird Chronicle', 'windupbirdchronicle', 'post', 24),\n (2016, 'Confluence', 'confluence', 'post', 1),\n (2016, 'It begins', 'itbegins', 'post', 8),\n (2016, 'The Hunger Games', 'hungergames', 'post', 56),\n (2016,\n  'I Know What You Did Last Summer',\n  'iknowwhatyoudidlastsummer',\n  'post',\n  1),\n (2016, 'Outsider', 'outsider', 'post', 32),\n (2016, 'Go with the Flow', 'gowiththeflow', 'post', 2),\n (2016, 'Beton', 'beton', 'post', 7),\n (2016, 'Lgbt', 'lgbt', 'post', 22),\n (2016, 'Good Omens', 'goodomens', 'post', 22),\n (2016, 'BORAT', 'borat', 'post', 65),\n (2016, 'As I am', 'asiam', 'post', 37),\n (2016, 'Heroes of Olympus', 'heroesofolympus', 'post', 8),\n (2016, 'The chronicles of Narnia', 'chroniclesofnarnia', 'post', 14),\n (2016, 'To the Sea', 'tothesea', 'post', 13),\n (2016, 'Citing', 'citing', 'post', 81),\n (2016, 'The World of Ā', 'worldofa', 'post', 7),\n (2016, 'Ebène', 'ebene', 'post', 62),\n (2016, \"The Handmaid's Tale\", 'handmaidstale', 'post', 38),\n (2016, 'Nothing Special', 'nothingspecial', 'post', 3),\n (2016, 'Artifact', 'artifact', 'post', 5),\n (2016, 'Zona', 'zona', 'post', 89),\n (2016, 'The Victorian Novel', 'victoriannovel', 'post', 2),\n (2016, 'The immortal', 'immortal', 'post', 42),\n (2016,\n  'It Was a Dark and Stormy Night',\n  'itwasadarkandstormynight',\n  'post',\n  1),\n (2016, 'Dedication', 'dedication', 'post', 14),\n (2016,\n  'An Introduction to Algebraic Topology',\n  'introductiontoalgebraictopology',\n  'post',\n  1),\n (2016, 'Badass', 'badass', 'post', 31),\n (2016,\n  'Harry potter and the cursed child',\n  'harrypotterandthecursedchild',\n  'post',\n  59),\n (2016, 'The Hero with a Thousand Faces', 'herowithathousandfaces', 'post', 2),\n (2016, 'Love is--', 'loveis', 'post', 15),\n (2016, 'Consumed', 'consumed', 'post', 14),\n (2016, 'Dams', 'dams', 'post', 115),\n (2016, 'The Hike', 'hike', 'post', 55),\n (2016, 'The rehearsal', 'rehearsal', 'post', 6),\n (2016, 'Hypnosis', 'hypnosis', 'post', 3),\n (2016, 'Superheroes', 'superheroes', 'post', 5),\n (2016, 'Junky', 'junky', 'post', 1),\n (2016, 'Filth', 'filth', 'post', 18),\n (2016, 'To Kill a Mockingbird', 'tokillamockingbird', 'post', 83),\n (2016, 'Rebel of the sands', 'rebelofthesands', 'post', 1),\n (2016, 'Wyst', 'wyst', 'post', 1),\n (2016, 'The Rhine', 'rhine', 'post', 2),\n (2016, 'Lita', 'lita', 'post', 215),\n (2016, 'Kyrie', 'kyrie', 'post', 3),\n (2016, 'Charade', 'charade', 'post', 1),\n (2016, 'Vicious Circle', 'viciouscircle', 'post', 1),\n (2016, 'The Good People', 'goodpeople', 'post', 10),\n (2016, \"Man's World\", 'mansworld', 'post', 1),\n (2016, 'Blackout', 'blackout', 'post', 10),\n (2016, 'Sapiens', 'sapiens', 'post', 10),\n (2016, 'Chernobyl', 'chernobyl', 'post', 20),\n (2016, 'Into the Wild', 'intothewild', 'post', 13),\n (2016, 'Into Thin Air', 'intothinair', 'post', 8),\n (2016, 'In Cold Blood', 'incoldblood', 'post', 18),\n (2016,\n  'Confessions of an Economic Hitman',\n  'confessionsofaneconomichitman',\n  'post',\n  1),\n (2016, 'Get On', 'geton', 'post', 38),\n (2016, 'Legacies', 'legacies', 'post', 7),\n (2016, 'Aliens', 'aliens', 'post', 37),\n (2016, 'Rashomon', 'rashomon', 'post', 4),\n (2016, 'Stupeur et tremblements', 'stupeurettremblements', 'post', 1),\n (2016, 'Japanese Culture', 'japaneseculture', 'post', 6),\n (2016, 'How people change', 'howpeoplechange', 'post', 1),\n (2016, 'Of Mice and Men', 'ofmiceandmen', 'post', 33),\n (2016, 'Donald Duck', 'donaldduck', 'post', 4),\n (2016, 'Reading Power', 'readingpower', 'post', 1),\n (2016, 'Yendi', 'yendi', 'post', 19),\n (2016, 'Secret Obsession', 'secretobsession', 'post', 2),\n (2016, 'A game of thrones', 'gameofthrones', 'post', 161),\n (2016, 'Notorious', 'notorious', 'post', 17),\n (2016, 'Imager', 'imager', 'post', 43),\n (2016, 'That Cat!', 'thatcat', 'post', 16),\n (2016, 'Her way', 'herway', 'post', 62),\n (2016, 'Perfect world', 'perfectworld', 'post', 1),\n (2016, 'After 1', 'after1', 'post', 17),\n (2016, 'The Maddening', 'maddening', 'post', 3),\n (2016, \"It's G!\", 'itsg', 'post', 149),\n (2016, 'Close to home', 'closetohome', 'post', 9),\n (2016, 'Adventure time', 'adventuretime', 'post', 2),\n (2016, 'Going, going, gone', 'goinggoinggone', 'post', 1),\n (2016, 'Minka', 'minka', 'post', 1),\n (2016, 'Just a little bit', 'justalittlebit', 'post', 2),\n (2016, 'Magical Negro', 'magicalnegro', 'post', 1),\n (2016, 'Mr. Mercedes', 'mrmercedes', 'post', 15),\n (2016, 'Smack', 'smack', 'post', 7),\n (2016, 'Ice cream', 'icecream', 'post', 8),\n (2016, 'Candida', 'candida', 'post', 35),\n (2016, 'A coming of age', 'comingofage', 'post', 21),\n (2016, 'Queer', 'queer', 'post', 13),\n (2016, 'The Five-Star Review', 'fivestarreview', 'post', 2),\n (2016, 'Our Stars', 'ourstars', 'post', 4),\n (2016, 'Owly', 'owly', 'post', 89),\n (2016, 'EAP now!', 'eapnow', 'post', 1),\n (2016, 'Raisin', 'raisin', 'post', 34),\n (2016,\n  'The Ocean at the End of the Lane',\n  'oceanattheendofthelane',\n  'post',\n  12),\n (2016, 'The way I am', 'wayiam', 'post', 9),\n (2016, 'The Fires of Heaven', 'firesofheaven', 'post', 1),\n (2016, 'So many books', 'somanybooks', 'post', 27),\n (2016, 'Dorothy Must Die', 'dorothymustdie', 'post', 3),\n (2016, 'The Stars My Destination', 'starsmydestination', 'post', 4),\n (2016, 'Spaceship', 'spaceship', 'post', 9),\n (2016, 'Stranded', 'stranded', 'post', 4),\n (2016, 'Burning desire', 'burningdesire', 'post', 2),\n (2016, 'Deep space', 'deepspace', 'post', 6),\n (2016, 'The Dwelling', 'dwelling', 'post', 5),\n (2016, 'Absolution', 'absolution', 'post', 4),\n (2016, 'Segu', 'segu', 'post', 30),\n (2016, 'Masks', 'masks', 'post', 15),\n (2016, 'Raising Caine', 'raisingcaine', 'post', 3),\n (2016, 'Tom and Jerry', 'tomandjerry', 'post', 2),\n (2016, 'All the Light We Cannot See', 'allthelightwecannotsee', 'post', 4),\n (2016,\n  'The curious charms of Arthur Pepper',\n  'curiouscharmsofarthurpepper',\n  'post',\n  2),\n (2016, 'Ashes', 'ashes', 'post', 46),\n (2016, 'Terrific', 'terrific', 'post', 12),\n (2016, 'Adina', 'adina', 'post', 75),\n (2016, 'The Rivals', 'rivals', 'post', 10),\n (2016, 'The keeper', 'keeper', 'post', 25),\n (2016, 'Tutunamayanlar', 'tutunamayanlar', 'post', 2),\n (2016, 'Canticle', 'canticle', 'post', 3),\n (2016, 'The Last Week', 'lastweek', 'post', 52),\n (2016, 'Encounters', 'encounters', 'post', 17),\n (2016, 'Judaism', 'judaism', 'post', 9),\n (2016, 'Vimy', 'vimy', 'post', 4),\n (2016, 'A Song of Ice and Fire', 'songoficeandfire', 'post', 74),\n (2016, 'Fractured', 'fractured', 'post', 10),\n (2016, 'Small Great Things', 'smallgreatthings', 'post', 4),\n (2016, 'The second time', 'secondtime', 'post', 28),\n (2016, 'Whisper', 'whisper', 'post', 28),\n (2016, 'The Night Before Christmas', 'nightbeforechristmas', 'post', 1),\n (2016, 'Flowers for Algernon', 'flowersforalgernon', 'post', 26),\n (2016, 'Guilt', 'guilt', 'post', 74),\n (2016, \"'GIFTED\", 'gifted', 'post', 35),\n (2016, 'Galore', 'galore', 'post', 52),\n (2016, 'IELTS Practice Tests', 'ieltspracticetests', 'post', 1),\n (2016, 'Werke', 'werke', 'post', 7),\n (2016, 'Darkly dreaming Dexter', 'darklydreamingdexter', 'post', 5),\n (2016, 'The redeeming', 'redeeming', 'post', 20),\n (2016, 'Uglies', 'uglies', 'post', 5),\n (2016, 'Divergent', 'divergent', 'post', 14),\n (2016, 'The Maze Runner', 'mazerunner', 'post', 14),\n (2016, 'Thud!', 'thud', 'post', 54),\n (2016, 'Porn!', 'porn', 'post', 91),\n (2016, 'Lament', 'lament', 'post', 9),\n (2016, 'Besieged', 'besieged', 'post', 2),\n (2016, 'Rescued', 'rescued', 'post', 14),\n (2016, 'Japanese literature', 'japaneseliterature', 'post', 16),\n (2016, 'Epidemic', 'epidemic', 'post', 6),\n (2016, 'The King and I', 'kingandi', 'post', 14),\n (2016, 'Crashed', 'crashed', 'post', 3),\n (2016, 'The books in my life', 'booksinmylife', 'post', 3),\n (2016, 'Caucasia', 'caucasia', 'post', 1),\n (2016, 'The realist', 'realist', 'post', 85),\n (2016, 'HVAC', 'hvac', 'post', 3),\n (2016, 'Clean room', 'cleanroom', 'post', 2),\n (2016, 'My Family and other Animals', 'myfamilyandotheranimals', 'post', 4),\n (2016, 'Death by Black Hole', 'deathbyblackhole', 'post', 4),\n (2016, 'Asleep', 'asleep', 'post', 40),\n (2016, \"James Joyce's Ulysses\", 'jamesjoycesulysses', 'post', 4),\n (2016, 'Go For It!', 'goforit', 'post', 5),\n (2016, 'Heartfire', 'heartfire', 'post', 1),\n (2016,\n  'Your Fathers Where Are They and the Prophets Do They Live Forever',\n  'yourfatherswherearetheyandtheprophetsdotheyliveforever',\n  'post',\n  2),\n (2016, 'Franny and Zooey', 'frannyandzooey', 'post', 8),\n (2016, 'Awaken', 'awaken', 'post', 41),\n (2016, 'Beowulf', 'beowulf', 'post', 21),\n (2016, 'Risk Management', 'riskmanagement', 'post', 15),\n (2016, 'Aloft', 'aloft', 'post', 45),\n (2016, 'El Príncipe', 'elprincipe', 'post', 1),\n (2016, 'Hey, Al', 'heyal', 'post', 127),\n (2016, 'Hard Boiled', 'hardboiled', 'post', 28),\n (2016, 'A Stab in the Dark', 'stabinthedark', 'post', 1),\n (2016, 'Book four', 'bookfour', 'post', 4),\n (2016, 'The Grapes of Wrath', 'grapesofwrath', 'post', 35),\n (2016,\n  \"The hitchhiker's guide to the galaxy\",\n  'hitchhikersguidetothegalaxy',\n  'post',\n  61),\n (2016, 'My Car', 'mycar', 'post', 9),\n (2016, 'Computer science', 'computerscience', 'post', 4),\n (2016, 'The Complete Poems', 'completepoems', 'post', 4),\n (2016, 'The Last Unicorn', 'lastunicorn', 'post', 9),\n (2016, 'Beagle', 'beagle', 'post', 10),\n (2016, 'Dept of Speculation', 'deptofspeculation', 'post', 2),\n (2016, 'Caught up', 'caughtup', 'post', 16),\n (2016, 'Loneliness', 'loneliness', 'post', 17),\n (2016, 'Scream', 'scream', 'post', 45),\n (2016, 'At Night', 'atnight', 'post', 38),\n (2016, 'Primer', 'primer', 'post', 24),\n (2016,\n  'Do Androids Dream of Electric Sheep?',\n  'doandroidsdreamofelectricsheep',\n  'post',\n  27),\n (2016, 'False memory', 'falsememory', 'post', 1),\n (2016, 'Otus', 'otus', 'post', 37),\n (2016, 'The Gladiator', 'gladiator', 'post', 25),\n (2016, 'The Oath', 'oath', 'post', 60),\n (2016, 'My belief', 'mybelief', 'post', 1),\n (2016, 'Conundrum', 'conundrum', 'post', 8),\n (2016, 'Cherished', 'cherished', 'post', 4),\n (2016, 'Dead set', 'deadset', 'post', 1),\n (2016, 'Letting Go', 'lettinggo', 'post', 4),\n (2016, 'Captive', 'captive', 'post', 7),\n (2016, 'Seduction', 'seduction', 'post', 21),\n (2016, 'The Recruit', 'recruit', 'post', 54),\n (2016, 'Comix', 'comix', 'post', 3),\n (2016, 'A Tale of Two Cities', 'taleoftwocities', 'post', 18),\n (2016, 'Quimica', 'quimica', 'post', 2),\n (2016, 'Slated', 'slated', 'post', 162),\n (2016, '1985', '1985', 'post', 9),\n (2016, 'StarCraft', 'starcraft', 'post', 1),\n (2016, 'Eater', 'eater', 'post', 115),\n (2016, \"Lord Foul's Bane\", 'lordfoulsbane', 'post', 1),\n (2016, 'Lovecraft', 'lovecraft', 'post', 120),\n (2016,\n  'Ten days that Shook the World',\n  'tendaysthatshooktheworld',\n  'post',\n  1),\n (2016, 'Rambo', 'rambo', 'post', 2),\n (2016, 'Five Point Someone', 'fivepointsomeone', 'post', 3),\n (2016, 'The Count of Monte Cristo', 'countofmontecristo', 'post', 65),\n (2016, 'Vengeance', 'vengeance', 'post', 9),\n (2016, 'Fern', 'fern', 'post', 44),\n (2016, 'Talking as fast as I can', 'talkingasfastasican', 'post', 1),\n (2016, 'Neuromancer', 'neuromancer', 'post', 21),\n (2016, '亜人', 'yaren', 'post', 61),\n (2016, 'Exquisite', 'exquisite', 'post', 18),\n (2016, 'Golden state', 'goldenstate', 'post', 1),\n (2016, 'Magick', 'magick', 'post', 5),\n (2016, 'Ebola', 'ebola', 'post', 10),\n (2016, 'Wanderings', 'wanderings', 'post', 3),\n (2016, 'Barking', 'barking', 'post', 13),\n (2016, 'Home front', 'homefront', 'post', 1),\n (2016, 'Date Night', 'datenight', 'post', 3),\n (2016,\n  \"Stephen King's The Dark Tower\",\n  'stephenkingsthedarktower',\n  'post',\n  7),\n (2016, 'The Drawing of the Three', 'drawingofthethree', 'post', 10),\n (2016, 'Lean In', 'leanin', 'post', 46),\n (2016, 'Amok', 'amok', 'post', 3),\n (2016, 'Dragon ball super', 'dragonballsuper', 'post', 6),\n (2016, 'After midnight', 'aftermidnight', 'post', 5),\n (2016, 'Extreme Prey', 'extremeprey', 'post', 1),\n (2016, 'Pirate', 'pirate', 'post', 36),\n (2016, 'Accounting made simple', 'accountingmadesimple', 'post', 2),\n (2016, 'Inorganic chemistry', 'inorganicchemistry', 'post', 1),\n (2016, 'Her: A Novel', 'heranovel', 'post', 3),\n (2016, 'Catch-22', 'catch22', 'post', 78),\n (2016, 'Spiritual growth', 'spiritualgrowth', 'post', 2),\n (2016, 'The Maler', 'maler', 'post', 19),\n (2016, 'Sophist', 'sophist', 'post', 17),\n (2016, 'The forgotten garden', 'forgottengarden', 'post', 1),\n (2016, 'A thousand miles to freedom', 'thousandmilestofreedom', 'post', 1),\n (2016, 'Succes', 'succes', 'post', 320),\n (2016, 'Extremes', 'extremes', 'post', 6),\n (2016, 'The Blade Itself', 'bladeitself', 'post', 6),\n (2016, 'Fing', 'fing', 'post', 102),\n (2016, 'Vintage Style', 'vintagestyle', 'post', 1),\n (2016, 'Bad Boy', 'badboy', 'post', 21),\n (2016, 'After dark', 'afterdark', 'post', 10),\n (2016, 'Catcher in the Rye', 'catcherintherye', 'post', 78),\n (2016, 'Perv', 'perv', 'post', 58),\n (2016, 'The king and us', 'kingandus', 'post', 2),\n (2016, 'The Hollow Hills', 'hollowhills', 'post', 1),\n (2016, 'Going rogue', 'goingrogue', 'post', 1),\n (2016, 'Weirdo', 'weirdo', 'post', 13),\n (2016, 'Everlasting', 'everlasting', 'post', 6),\n (2016, 'Ubuntu!', 'ubuntu', 'post', 3),\n (2016, 'Dermatology', 'dermatology', 'post', 6),\n (2016, 'Exercised', 'exercised', 'post', 2),\n (2016, 'The way of the superior man', 'wayofthesuperiorman', 'post', 1),\n (2016, 'Overload', 'overload', 'post', 4),\n (2016, 'Curious George', 'curiousgeorge', 'post', 3),\n (2016, 'On fire', 'onfire', 'post', 21),\n (2016, 'Keras', 'keras', 'post', 6),\n (2016, 'Baby In Her Arms', 'babyinherarms', 'post', 1),\n (2016, 'The Surrendered', 'surrendered', 'post', 2),\n (2016, 'Deadhouse gates', 'deadhousegates', 'post', 1),\n (2016,\n  'Things no one will tell fat girls',\n  'thingsnoonewilltellfatgirls',\n  'post',\n  1),\n (2016, 'Messi', 'messi', 'post', 43),\n (2016, 'Gotcha!', 'gotcha', 'post', 3),\n (2016, 'Paranoia', 'paranoia', 'post', 9),\n (2016, 'The Caves of Steel', 'cavesofsteel', 'post', 2),\n (2016, 'The Naked Sun', 'nakedsun', 'post', 3),\n (2016, 'The Guardians', 'guardians', 'post', 23),\n (2016, 'The Quartet', 'quartet', 'post', 12),\n (2016, 'Perfidia', 'perfidia', 'post', 2),\n (2016, 'Spaced Out', 'spacedout', 'post', 3),\n (2016, 'Courageous', 'courageous', 'post', 9),\n (2016,\n  'Better Living Through Criticism',\n  'betterlivingthroughcriticism',\n  'post',\n  2),\n (2016, 'Shades of darkness', 'shadesofdarkness', 'post', 1),\n (2016, 'Beach Read', 'beachread', 'post', 14),\n (2016, 'Hard to get', 'hardtoget', 'post', 26),\n (2016, 'Word by word', 'wordbyword', 'post', 2),\n (2016, 'In Too Deep', 'intoodeep', 'post', 4),\n (2016, 'The Once and Future King', 'onceandfutureking', 'post', 12),\n (2016, 'American Gods', 'americangods', 'post', 52),\n (2016, 'His Dark Materials', 'hisdarkmaterials', 'post', 36),\n (2016, 'Brave New World', 'bravenewworld', 'post', 61),\n (2016, \"The Android's Dream\", 'androidsdream', 'post', 3),\n (2016, 'Fahrenheit 451', 'fahrenheit451', 'post', 42),\n (2016, 'The Revenant', 'revenant', 'post', 10),\n (2016, 'The Zombie Survival Guide', 'zombiesurvivalguide', 'post', 2),\n (2016, 'American Psycho', 'americanpsycho', 'post', 42),\n (2016, 'Tragic', 'tragic', 'post', 58),\n (2016, 'Love Story', 'lovestory', 'post', 53),\n (2016, 'Falling in Love', 'fallinginlove', 'post', 17),\n (2016, 'Veins', 'veins', 'post', 34),\n (2016, 'Stomp!', 'stomp', 'post', 12),\n (2016, 'Everywoman', 'everywoman', 'post', 6),\n (2016, 'Ill will', 'illwill', 'post', 2),\n (2016, 'Aphrodite', 'aphrodite', 'post', 6),\n (2016, 'Lysistrata', 'lysistrata', 'post', 2),\n (2016, 'Medea', 'medea', 'post', 7),\n (2016, 'Feminism', 'feminism', 'post', 18),\n (2016,\n  'A vindication of the rights of woman',\n  'vindicationoftherightsofwoman',\n  'post',\n  2),\n (2016, \"A Room of One's Own\", 'roomofonesown', 'post', 2),\n (2016, 'The Human Condition', 'humancondition', 'post', 13),\n (2016, 'Five Love Languages', 'fivelovelanguages', 'post', 2),\n (2016, 'The Gift of Fear', 'giftoffear', 'post', 1),\n (2016, 'Queen bees and wannabes', 'queenbeesandwannabes', 'post', 1),\n (2016, 'Harriet the Spy', 'harrietthespy', 'post', 9),\n (2016, 'A Wrinkle in Time', 'wrinkleintime', 'post', 25),\n (2016, 'Little House on the Prairie', 'littlehouseontheprairie', 'post', 6),\n (2016,\n  \"Are You There God? It's Me, Margaret.\",\n  'areyoutheregoditsmemargaret',\n  'post',\n  3),\n (2016, 'Little Women', 'littlewomen', 'post', 11),\n (2016, 'Alice in Wonderland', 'aliceinwonderland', 'post', 17),\n (2016, \"The Doll's House\", 'dollshouse', 'post', 5),\n (2016, 'A Raisin in the Sun', 'raisininthesun', 'post', 3),\n (2016, 'The Crucible', 'crucible', 'post', 5),\n (2016, 'The color purple', 'colorpurple', 'post', 8),\n (2016, 'Americanah', 'americanah', 'post', 4),\n (2016, 'The hour of the star', 'hourofthestar', 'post', 1),\n (2016, 'The House on Mango Street', 'houseonmangostreet', 'post', 5),\n (2016, 'The Joy Luck Club', 'joyluckclub', 'post', 3),\n (2016,\n  'Snow flower and the secret fan',\n  'snowflowerandthesecretfan',\n  'post',\n  1),\n (2016, 'The God of Small Things', 'godofsmallthings', 'post', 9),\n (2016, 'A Thousand Splendid Suns', 'thousandsplendidsuns', 'post', 10),\n (2016, 'Black Unicorn', 'blackunicorn', 'post', 1),\n (2016, 'Gone With the Wind', 'gonewiththewind', 'post', 18),\n (2016, \"Lady Chatterley's Lover\", 'ladychatterleyslover', 'post', 3),\n (2016, 'Marjorie Morningstar', 'marjoriemorningstar', 'post', 3),\n (2016, 'Pride/Prejudice', 'prideprejudice', 'post', 9),\n (2016, 'The Bell Jar', 'belljar', 'post', 18),\n (2016, 'The Fountainhead', 'fountainhead', 'post', 23),\n (2016, 'Middlemarch', 'middlemarch', 'post', 13),\n (2016, 'Collected Stories', 'collectedstories', 'post', 3),\n (2016, 'The Feud', 'feud', 'post', 10),\n (2016, 'Delta of Venus', 'deltaofvenus', 'post', 1),\n (2016, 'The haunting of Hill House', 'hauntingofhillhouse', 'post', 7),\n (2016, \"Tess of the d'Urbervilles\", 'tessofthedurbervilles', 'post', 4),\n (2016, 'Madame Bovary', 'madamebovary', 'post', 11),\n (2016, 'The Confession', 'confession', 'post', 32),\n (2016,\n  'Hateship, Friendship, Courtship, Loveship, Marriage',\n  'hateshipfriendshipcourtshiploveshipmarriage',\n  'post',\n  3),\n (2016, 'Diary of Anne Frank', 'diaryofannefrank', 'post', 5),\n (2016, 'The Clan of the Cave Bear', 'clanofthecavebear', 'post', 2),\n (2016, 'If Tomorrow Comes', 'iftomorrowcomes', 'post', 1),\n (2016, 'Peyton Place', 'peytonplace', 'post', 1),\n (2016, 'One for the Money', 'oneforthemoney', 'post', 2),\n (2016, 'The fury', 'fury', 'post', 10),\n (2016, 'Wonder Woman', 'wonderwoman', 'post', 7),\n (2016, 'On revolution', 'onrevolution', 'post', 1),\n (2016, 'Fruits basket', 'fruitsbasket', 'post', 2),\n (2016, 'PERSEPOLIS', 'persepolis', 'post', 3),\n (2016, 'Madame Curie', 'madamecurie', 'post', 1),\n (2016, 'The diary of Frida Kahlo', 'diaryoffridakahlo', 'post', 1),\n (2016, 'Self-Portrait', 'selfportrait', 'post', 1),\n (2016, 'The Left Hand of Darkness', 'lefthandofdarkness', 'post', 7),\n (2016, 'The mists of Avalon', 'mistsofavalon', 'post', 5),\n (2016, 'Ancillary Justice', 'ancillaryjustice', 'post', 5),\n (2016, 'All I Want Is Everything', 'alliwantiseverything', 'post', 1),\n (2016, 'Vampirates', 'vampirates', 'post', 2),\n (2016, 'Goldfinger', 'goldfinger', 'post', 10),\n (2016, 'Speed reading', 'speedreading', 'post', 41),\n (2016, 'Horrors!', 'horrors', 'post', 43),\n (2016, 'Repo', 'repo', 'post', 366),\n (2016, 'The Immortals', 'immortals', 'post', 8),\n (2016, 'Jealousy', 'jealousy', 'post', 12),\n (2016, 'Jungles', 'jungles', 'post', 3),\n (2016, 'Swimmers', 'swimmers', 'post', 2),\n (2016, 'Versed', 'versed', 'post', 23),\n (2016, 'The Vicar of Wakefield', 'vicarofwakefield', 'post', 1),\n (2016, 'Never Say Goodbye', 'neversaygoodbye', 'post', 1),\n (2016, 'Cures', 'cures', 'post', 9),\n (2016, 'Introduction to Data Mining', 'introductiontodatamining', 'post', 1),\n (2016, 'Ardour', 'ardour', 'post', 2),\n (2016, 'BOUNTY HUNTER', 'bountyhunter', 'post', 4),\n (2016, 'Flawless', 'flawless', 'post', 6),\n (2016, 'Act one', 'actone', 'post', 4),\n (2016, 'Final target', 'finaltarget', 'post', 1),\n (2016, 'Indica', 'indica', 'post', 47),\n (2016, 'Washed away', 'washedaway', 'post', 2),\n (2016, 'Plague', 'plague', 'post', 30),\n (2016, 'The Believers', 'believers', 'post', 4),\n (2016, \"In God's name\", 'ingodsname', 'post', 1),\n (2016, 'Famine', 'famine', 'post', 3),\n (2016, 'The ancient curse', 'ancientcurse', 'post', 1),\n (2016, 'I never', 'inever', 'post', 227),\n (2016, 'What If?', 'whatif', 'post', 79),\n (2016, 'Hallucinations', 'hallucinations', 'post', 5),\n (2016, 'Ancient Rome', 'ancientrome', 'post', 7),\n (2016, 'Taken Over', 'takenover', 'post', 7),\n (2016,\n  'Flow my tears, the policeman said',\n  'flowmytearsthepolicemansaid',\n  'post',\n  3),\n (2016, 'Until the End', 'untiltheend', 'post', 13),\n (2016, 'Blade Runner', 'bladerunner', 'post', 11),\n (2016, 'Stripped', 'stripped', 'post', 5),\n (2016, 'Dialogues', 'dialogues', 'post', 14),\n (2016, 'Equus', 'equus', 'post', 2),\n (2016, 'The Bloody Chamber', 'bloodychamber', 'post', 1),\n (2016, 'Tactile', 'tactile', 'post', 3),\n (2016, 'Infernal', 'infernal', 'post', 3),\n (2016, 'Back in time', 'backintime', 'post', 12),\n (2016, 'Inheritance', 'inheritance', 'post', 23),\n (2016, 'The torso', 'torso', 'post', 54),\n (2016, 'The Disappearance', 'disappearance', 'post', 13),\n (2016, 'Deserts', 'deserts', 'post', 9),\n (2016, 'The American South', 'americansouth', 'post', 3),\n (2016, 'Everyday life.', 'everydaylife', 'post', 6),\n (2016, 'Modern Romance', 'modernromance', 'post', 7),\n (2016, 'Kyoto', 'kyoto', 'post', 2),\n (2016, 'The sages', 'sages', 'post', 46),\n (2016, 'First Bad Man', 'firstbadman', 'post', 7),\n (2016, 'Bombshell', 'bombshell', 'post', 3),\n (2016, 'Dead Things', 'deadthings', 'post', 1),\n (2016, 'Nimona', 'nimona', 'post', 4),\n (2016, 'Noelle', 'noelle', 'post', 2),\n (2016, 'Impulsive', 'impulsive', 'post', 8),\n (2016, 'Shifter', 'shifter', 'post', 27),\n (2016, 'Vendetta', 'vendetta', 'post', 3),\n (2016, 'Buddies', 'buddies', 'post', 4),\n (2016, 'Livia', 'livia', 'post', 7),\n (2016, 'Trigger Warning', 'triggerwarning', 'post', 10),\n (2016, 'Samaj', 'samaj', 'post', 17),\n (2016, 'Between the World and Me', 'betweentheworldandme', 'post', 7),\n (2016, 'American History', 'americanhistory', 'post', 10),\n (2016, 'Slavery', 'slavery', 'post', 24),\n (2016,\n  \"So You've Been Publicly Shamed\",\n  'soyouvebeenpubliclyshamed',\n  'post',\n  6),\n (2016, 'Sweep', 'sweep', 'post', 15),\n (2016, 'Merciless', 'merciless', 'post', 3),\n (2016, 'Social Control', 'socialcontrol', 'post', 3),\n (2016, 'The Flinch', 'flinch', 'post', 7),\n (2016, 'Magnetism', 'magnetism', 'post', 3),\n (2016, 'Ordinary Beast', 'ordinarybeast', 'post', 1),\n (2016, 'Missoula', 'missoula', 'post', 3),\n (2016, 'Thing Explainer', 'thingexplainer', 'post', 10),\n (2016, 'Cockpit', 'cockpit', 'post', 1),\n (2016, 'Remade', 'remade', 'post', 39),\n (2016, 'Shadows of Self', 'shadowsofself', 'post', 5),\n (2016, 'Strife', 'strife', 'post', 5),\n (2016, 'Forged', 'forged', 'post', 6),\n (2016, 'The overlord', 'overlord', 'post', 16),\n (2016, 'The ruling class', 'rulingclass', 'post', 3),\n (2016, 'Seveneves', 'seveneves', 'post', 24),\n (2016, 'Evita', 'evita', 'post', 61),\n (2016, 'The pioneers', 'pioneers', 'post', 6),\n (2016, 'Traces', 'traces', 'post', 10),\n (2016, 'Bark', 'bark', 'post', 40),\n (2016, 'Into the Unknown', 'intotheunknown', 'post', 5),\n (2016, 'The Transformed', 'transformed', 'post', 13),\n (2016, 'A Little Life', 'littlelife', 'post', 24),\n (2016, 'Adrift!', 'adrift', 'post', 4),\n (2016, 'Center of gravity', 'centerofgravity', 'post', 2),\n (2016, 'Gator', 'gator', 'post', 32),\n (2016, 'Unspeakable', 'unspeakable', 'post', 8),\n (2016, 'The Attic', 'attic', 'post', 37),\n (2016, 'Firefight', 'firefight', 'post', 6),\n (2016, 'Invincible', 'invincible', 'post', 5),\n (2016, 'The big ones', 'bigones', 'post', 5),\n (2016, 'Career of Evil', 'careerofevil', 'post', 9),\n (2016, 'Severed', 'severed', 'post', 7),\n (2016, 'Stained', 'stained', 'post', 14),\n (2016, 'Into The Dark', 'intothedark', 'post', 7),\n (2016,\n  'Two years eight months and twenty-eight nights',\n  'twoyearseightmonthsandtwentyeightnights',\n  'post',\n  1),\n (2016, 'Spellbinding', 'spellbinding', 'post', 6),\n (2016, 'Unleashed', 'unleashed', 'post', 4),\n (2016, 'The Power of Love', 'poweroflove', 'post', 2),\n (2016, 'Red Mars', 'redmars', 'post', 8),\n (2016, 'Too Like the Lightning', 'toolikethelightning', 'post', 1),\n (2016, 'Indian summer', 'indiansummer', 'post', 1),\n (2016, \"L'expérience\", 'lexperience', 'post', 51),\n (2016,\n  'A Portrait of the Artist as a Young Man',\n  'portraitoftheartistasayoungman',\n  'post',\n  8),\n (2016, 'Atlas Shrugged', 'atlasshrugged', 'post', 26),\n (2016, 'Crime and Punishment', 'crimeandpunishment', 'post', 43),\n (2016,\n  'Fear and Loathing in Las Vegas',\n  'fearandloathinginlasvegas',\n  'post',\n  16),\n (2016, 'The Great Gatsby', 'greatgatsby', 'post', 50),\n (2016, 'The visible man', 'visibleman', 'post', 15),\n (2016, 'The old man and the sea', 'oldmanandthesea', 'post', 33),\n (2016, 'Civil Disobedience', 'civildisobedience', 'post', 2),\n (2016, 'The sniper', 'sniper', 'post', 8),\n (2016, 'The Naming', 'naming', 'post', 10),\n (2016, 'At last', 'atlast', 'post', 22),\n (2016, 'A new name', 'newname', 'post', 4),\n (2016, 'Tapas', 'tapas', 'post', 7),\n (2016, 'Thaw', 'thaw', 'post', 49),\n (2016, 'The snatch', 'snatch', 'post', 3),\n (2016, \"Cormac McCarthy's The road\", 'cormacmccarthystheroad', 'post', 5),\n (2016, 'The ghost of Fossil Glen', 'ghostoffossilglen', 'post', 1),\n (2016, 'The Creep', 'creep', 'post', 66),\n (2016, 'Manufacturing processes', 'manufacturingprocesses', 'post', 1),\n (2016, 'Backpack', 'backpack', 'post', 15),\n (2016, 'The Boy Book', 'boybook', 'post', 2),\n (2016, 'Consonants', 'consonants', 'post', 8),\n (2016, 'Seven Devils', 'sevendevils', 'post', 1),\n (2016,\n  'The Curious Incident of the Dog in the Night-Time',\n  'curiousincidentofthedoginthenighttime',\n  'post',\n  11),\n (2016, 'Watching t.v', 'watchingtv', 'post', 4),\n (2016, 'The Idiot', 'idiot', 'post', 43),\n (2016,\n  'Jonathan Strange and Mr. Norrell',\n  'jonathanstrangeandmrnorrell',\n  'post',\n  3),\n (2016, 'WhatsApp', 'whatsapp', 'post', 11),\n (2016, 'Figuring', 'figuring', 'post', 21),\n (2016,\n  'A Constellation of Vital Phenomena',\n  'constellationofvitalphenomena',\n  'post',\n  5),\n (2016, 'Incidences', 'incidences', 'post', 6),\n (2016,\n  'Crooked letter, crooked letter',\n  'crookedlettercrookedletter',\n  'post',\n  2),\n (2016, 'What I Loved', 'whatiloved', 'post', 6),\n (2016, 'Payoff', 'payoff', 'post', 27),\n (2016, 'The North water', 'northwater', 'post', 2),\n (2016, 'Euphoria', 'euphoria', 'post', 1),\n (2016, 'Captivating', 'captivating', 'post', 29),\n (2016, 'The giver', 'giver', 'post', 50),\n (2016, 'A Farewell to Arms', 'farewelltoarms', 'post', 34),\n (2016, 'Me I am!', 'meiam', 'post', 16),\n (2016, 'The Haunting', 'haunting', 'post', 21),\n (2016, 'Powerless', 'powerless', 'post', 6),\n (2016, 'The skull throne', 'skullthrone', 'post', 2),\n (2016,\n  'A Series of Unfortunate Events',\n  'seriesofunfortunateevents',\n  'post',\n  35),\n (2016, 'A Woman in Charge', 'womanincharge', 'post', 1),\n (2016, 'Callum', 'callum', 'post', 3),\n (2016, 'The new journalism', 'newjournalism', 'post', 1),\n (2016, 'Naturopathy', 'naturopathy', 'post', 2),\n (2016, 'The Library Book', 'librarybook', 'post', 40),\n (2016, 'Stamped', 'stamped', 'post', 1),\n (2016, 'The Ungodly', 'ungodly', 'post', 3),\n (2016, 'The unwanted', 'unwanted', 'post', 12),\n (2016, 'Hindsight', 'hindsight', 'post', 5),\n (2016, 'The one that got away', 'onethatgotaway', 'post', 1),\n (2016, 'Fundamentals of Physics', 'fundamentalsofphysics', 'post', 1),\n (2016, 'Beauty and the beast', 'beautyandthebeast', 'post', 3),\n (2016, 'Extraterrestrial', 'extraterrestrial', 'post', 6),\n (2016, 'Moral stories', 'moralstories', 'post', 5),\n (2016, 'Theatres', 'theatres', 'post', 1),\n (2016, 'Creating a character', 'creatingacharacter', 'post', 1),\n (2016, 'Come along!', 'comealong', 'post', 8),\n (2016, 'Assassin', 'assassin', 'post', 35),\n (2016, 'The Name of the Wind', 'nameofthewind', 'post', 45),\n (2016, 'Gangster', 'gangster', 'post', 9),\n (2016, 'My Novel', 'mynovel', 'post', 24),\n (2016, 'Vampire hunt', 'vampirehunt', 'post', 1),\n (2016, 'Time and Time Again', 'timeandtimeagain', 'post', 4),\n (2016, 'Ailleurs', 'ailleurs', 'post', 1),\n (2016, 'NETHER', 'nether', 'post', 32),\n (2016, 'Monument', 'monument', 'post', 11),\n (2016, 'Watership Down', 'watershipdown', 'post', 43),\n (2016, 'The Bees: A Novel', 'beesanovel', 'post', 1),\n (2016, 'Brothers Karamazov', 'brotherskaramazov', 'post', 37),\n (2016, 'The charmer', 'charmer', 'post', 1),\n (2016, 'Multiple choice', 'multiplechoice', 'post', 5),\n (2016, 'The Hundred Thousand Kingdoms', 'hundredthousandkingdoms', 'post', 3),\n (2016, 'Anthem', 'anthem', 'post', 48),\n (2016, 'Under the bridge', 'underthebridge', 'post', 2),\n (2016, 'Binary Options', 'binaryoptions', 'post', 18),\n (2016, 'Law of attraction', 'lawofattraction', 'post', 10),\n (2016, 'The Virtu', 'virtu', 'post', 108),\n (2016, 'The Bone Season', 'boneseason', 'post', 1),\n (2016, 'A dark and hungry god arises', 'darkandhungrygodarises', 'post', 1),\n (2016, 'Misery', 'misery', 'post', 36),\n (2016, 'Hit me', 'hitme', 'post', 46),\n (2016, 'Waking Up', 'wakingup', 'post', 6),\n (2016, 'The antagonists', 'antagonists', 'post', 17),\n (2016, 'The antagonist', 'antagonist', 'post', 17),\n (2016, 'The Summons', 'summons', 'post', 1),\n (2016, 'My mom', 'mymom', 'post', 46),\n (2016, 'reviver', 'reviver', 'post', 1),\n (2016, 'Borka', 'borka', 'post', 5),\n (2016, 'Light Online', 'lightonline', 'post', 1),\n (2016, \"Who's Afraid?\", 'whosafraid', 'post', 3),\n (2016, 'Sacre bleu', 'sacrebleu', 'post', 1),\n (2016, 'Capitalist Realism', 'capitalistrealism', 'post', 1),\n (2016, 'No Alternative', 'noalternative', 'post', 1),\n (2016, '50 Shades of Grey', '50shadesofgrey', 'post', 6),\n (2016, 'Pops', 'pops', 'post', 29),\n (2016, 'Grief', 'grief', 'post', 28),\n (2016, 'Mein Kampf', 'meinkampf', 'post', 32),\n (2016, 'The State of the Art', 'stateoftheart', 'post', 2),\n (2016, 'The Alchemist', 'alchemist', 'post', 36),\n (2016, 'American Pastoral', 'americanpastoral', 'post', 3),\n (2016, 'Ted & me', 'tedme', 'post', 65),\n (2016, 'The Human Stain', 'humanstain', 'post', 2),\n (2016, 'I married a communist', 'imarriedacommunist', 'post', 1),\n (2016, 'Kith', 'kith', 'post', 96),\n (2016, 'Brave Enough', 'braveenough', 'post', 2),\n (2016, 'Big Box', 'bigbox', 'post', 2),\n (2016, 'To America', 'toamerica', 'post', 18),\n (2016, 'How To Talk To Anyone', 'howtotalktoanyone', 'post', 2),\n (2016,\n  'Who Put That Hair in My Toothbrush?',\n  'whoputthathairinmytoothbrush',\n  'post',\n  2),\n (2016, 'Smashed', 'smashed', 'post', 5),\n (2016, 'The Incal', 'incal', 'post', 26),\n (2016, 'Punished!', 'punished', 'post', 9),\n (2016, 'Tricked', 'tricked', 'post', 4),\n (2016, 'The day before', 'daybefore', 'post', 7),\n (2016, 'Pediatrics', 'pediatrics', 'post', 13),\n (2016, 'O Design', 'odesign', 'post', 16),\n (2016, 'Caste', 'caste', 'post', 33),\n (2016, 'Starpower', 'starpower', 'post', 1),\n (2016, 'All-American', 'allamerican', 'post', 2),\n (2016, 'Da Coach', 'dacoach', 'post', 3),\n (2016, 'In the Meantime', 'inthemeantime', 'post', 14),\n (2016, 'The inheritance trilogy', 'inheritancetrilogy', 'post', 1),\n (2016, 'The Fifth Season', 'fifthseason', 'post', 7),\n (2016, 'Wracked', 'wracked', 'post', 2),\n (2016, 'Natural Disaster', 'naturaldisaster', 'post', 3),\n (2016, 'Feared', 'feared', 'post', 10),\n (2016, 'Stock Trading', 'stocktrading', 'post', 4),\n (2016, 'Drach', 'drach', 'post', 19),\n (2016, 'Her Fearful Symmetry', 'herfearfulsymmetry', 'post', 2),\n (2016, 'The outfit', 'outfit', 'post', 8),\n (2016, 'Entwined', 'entwined', 'post', 4),\n (2016, 'Those Who Save Us', 'thosewhosaveus', 'post', 1),\n (2016, 'Surprises', 'surprises', 'post', 13),\n (2016,\n  'Zen and the Art of Motorcycle Maintenance',\n  'zenandtheartofmotorcyclemaintenance',\n  'post',\n  20),\n (2016, 'Cognition', 'cognition', 'post', 8),\n (2016, 'Nightstalkers', 'nightstalkers', 'post', 6),\n (2016, 'Valiant', 'valiant', 'post', 1),\n (2016, 'Gillian', 'gillian', 'post', 29),\n (2016, 'The other hand', 'otherhand', 'post', 44),\n (2016, 'Straight Man', 'straightman', 'post', 2),\n (2016, 'Bureaucracy', 'bureaucracy', 'post', 5),\n (2016, 'Strega', 'strega', 'post', 4),\n (2016, 'Pragmatism', 'pragmatism', 'post', 2),\n (2016, \"Neil Gaiman's Neverwhere\", 'neilgaimansneverwhere', 'post', 3),\n (2016,\n  'The death and life of Zebulon Finch',\n  'deathandlifeofzebulonfinch',\n  'post',\n  1),\n (2016, 'Fascinated', 'fascinated', 'post', 24),\n (2016, 'His Eyes', 'hiseyes', 'post', 16),\n (2016, 'After Effects', 'aftereffects', 'post', 3),\n (2016, '1979', '1979', 'post', 8),\n (2016, 'Under my skin', 'undermyskin', 'post', 2),\n (2016, 'Full circle', 'fullcircle', 'post', 5),\n (2016, 'The Picture of Dorian Gray', 'pictureofdoriangray', 'post', 16),\n (2016, 'On the fence', 'onthefence', 'post', 10),\n (2016, 'Noir', 'noir', 'post', 55),\n (2016, 'Warhol', 'warhol', 'post', 4),\n (2016, 'A matter of days', 'matterofdays', 'post', 3),\n (2016, 'I think, I am!', 'ithinkiam', 'post', 5),\n (2016, 'Driving force', 'drivingforce', 'post', 7),\n (2016, 'Soaps', 'soaps', 'post', 2),\n (2016, 'Feeld', 'feeld', 'post', 22),\n (2016, 'Pet Peeves', 'petpeeves', 'post', 7),\n (2016, 'On Liberty', 'onliberty', 'post', 1),\n (2016, 'How to fight presidents', 'howtofightpresidents', 'post', 1),\n (2016,\n  'Alternating-current circuits',\n  'alternatingcurrentcircuits',\n  'post',\n  1),\n (2016, 'Release It!', 'releaseit', 'post', 5),\n (2016, 'Paddington', 'paddington', 'post', 1),\n (2016, 'Penguins', 'penguins', 'post', 12),\n (2016, 'The way of men', 'wayofmen', 'post', 1),\n (2016, 'Sanctus', 'sanctus', 'post', 2),\n (2016, 'Caterpillars', 'caterpillars', 'post', 1),\n (2016, 'Know it all', 'knowitall', 'post', 1),\n (2016, 'Fyodor Dostoevsky', 'fyodordostoevsky', 'post', 7),\n (2016, 'Masterpieces', 'masterpieces', 'post', 14),\n (2016, 'Calvin and Hobbes', 'calvinandhobbes', 'post', 6),\n (2016, 'Fifty Shades of Grey', 'fiftyshadesofgrey', 'post', 16),\n (2016, 'Heroine', 'heroine', 'post', 23),\n (2016, 'Ibuk', 'ibuk', 'post', 24),\n (2016, 'Torment', 'torment', 'post', 16),\n (2016,\n  'A short history of nearly everything',\n  'shorthistoryofnearlyeverything',\n  'post',\n  9),\n (2016, 'Kobo', 'kobo', 'post', 47),\n (2016, 'Tintin', 'tintin', 'post', 11),\n (2016, 'There There', 'therethere', 'post', 7),\n (2016, 'Clumsy', 'clumsy', 'post', 6),\n (2016, 'Mixed messages', 'mixedmessages', 'post', 1),\n (2016, 'Relapse', 'relapse', 'post', 5),\n (2016, 'The Empath', 'empath', 'post', 53),\n (2016, 'Der Butt', 'derbutt', 'post', 12),\n (2016, 'Smarter', 'smarter', 'post', 30),\n (2016, 'Life, after', 'lifeafter', 'post', 13),\n (2016, 'The other side', 'otherside', 'post', 25),\n (2016, \"Humboldt's gift\", 'humboldtsgift', 'post', 1),\n (2016, 'Something new', 'somethingnew', 'post', 36),\n (2016,\n  'Wherever You Go, There You Are',\n  'whereveryougothereyouare',\n  'post',\n  1),\n (2016, 'Letters from a Stoic', 'lettersfromastoic', 'post', 3),\n (2016, 'The Third Time', 'thirdtime', 'post', 11),\n (2016,\n  'Customer relationship management',\n  'customerrelationshipmanagement',\n  'post',\n  1),\n (2016, 'The 3 Mistakes of My Life', '3mistakesofmylife', 'post', 1),\n (2016, 'Azadi', 'azadi', 'post', 1),\n (2016, 'Public Space', 'publicspace', 'post', 1),\n (2016, 'The Unwanteds', 'unwanteds', 'post', 2),\n (2016, 'Love Relations', 'loverelations', 'post', 3),\n (2016, 'November 9', 'november9', 'post', 2),\n (2016, 'Whatever Comes', 'whatevercomes', 'post', 2),\n (2016, 'The New Girl In Town', 'newgirlintown', 'post', 1),\n (2016, 'Live Longer', 'livelonger', 'post', 12),\n (2016, 'Nazism', 'nazism', 'post', 4),\n (2016, 'Song of Solomon', 'songofsolomon', 'post', 2),\n (2016, 'Unbroken', 'unbroken', 'post', 3),\n (2016, 'When Breath Becomes Air', 'whenbreathbecomesair', 'post', 11),\n (2016, \"Salem's Lot\", 'salemslot', 'post', 24),\n (2016, \"DUMPLIN'\", 'dumplin', 'post', 5),\n (2016, 'The Big Time', 'bigtime', 'post', 6),\n (2016, 'Countdown', 'countdown', 'post', 6),\n (2016, 'Difficult Conversations', 'difficultconversations', 'post', 1),\n (2016, 'Intentions', 'intentions', 'post', 14),\n (2016, 'Problem Solving', 'problemsolving', 'post', 6),\n (2016, 'Shifting', 'shifting', 'post', 19),\n (2016, 'Either/Or', 'eitheror', 'post', 3),\n (2016, 'All-time favorites', 'alltimefavorites', 'post', 10),\n (2016,\n  'The history of the devil and the idea of evil',\n  'historyofthedevilandtheideaofevil',\n  'post',\n  1),\n (2016, 'Rewind', 'rewind', 'post', 9),\n (2016, 'The playbook', 'playbook', 'post', 15),\n (2016, 'The Fall of Hyperion', 'fallofhyperion', 'post', 9),\n (2016,\n  'Been down so long it looks like up to me',\n  'beendownsolongitlookslikeuptome',\n  'post',\n  1),\n (2016, 'Power of Now', 'powerofnow', 'post', 3),\n (2016,\n  'This book will save your life',\n  'thisbookwillsaveyourlife',\n  'post',\n  1),\n (2016, 'The Nobodies', 'nobodies', 'post', 2),\n (2016, 'Company law', 'companylaw', 'post', 8),\n (2016, 'In Pursuit of the Unknown', 'inpursuitoftheunknown', 'post', 2),\n (2016, 'The Mummy', 'mummy', 'post', 2),\n (2016, 'The Man in the High Castle', 'maninthehighcastle', 'post', 25),\n (2016, 'Roadside picnic', 'roadsidepicnic', 'post', 7),\n (2016, 'Forgive Me', 'forgiveme', 'post', 13),\n (2016, 'Pesme', 'pesme', 'post', 4),\n ...]"
     },
     "execution_count": 11,
     "metadata": {},
     "output_type": "execute_result"
    },
    {
     "name": "stdout",
     "output_type": "stream",
     "text": [
      "time: 55.6 ms (started: 2022-10-14 23:49:06 +02:00)\n"
     ]
    }
   ],
   "source": [
    "book_ranking"
   ],
   "metadata": {
    "collapsed": false
   }
  },
  {
   "cell_type": "code",
   "execution_count": 12,
   "outputs": [
    {
     "data": {
      "text/plain": "       Year                    Title      Normalized Title Post or Comment  \\\n0      2021                 The Heir                  heir            post   \n1      2020                 The Heir                  heir            post   \n2      2022                 The Heir                  heir            post   \n3      2022                 The Heir                  heir         comment   \n4      2021                     IONI                  ioni            post   \n...     ...                      ...                   ...             ...   \n89779  2021  Skeletons on the Zahara  skeletonsonthezahara            post   \n89780  2021               White Gold             whitegold            post   \n89781  2021         The church mouse           churchmouse            post   \n89782  2021           Vampire's kiss          vampireskiss            post   \n89783  2015              Sightseeing           sightseeing            post   \n\n       Occurrences  \n0             4080  \n1             3236  \n2             3153  \n3             3130  \n4             2615  \n...            ...  \n89779            1  \n89780            1  \n89781            1  \n89782            1  \n89783            1  \n\n[89784 rows x 5 columns]",
      "text/html": "<div>\n<style scoped>\n    .dataframe tbody tr th:only-of-type {\n        vertical-align: middle;\n    }\n\n    .dataframe tbody tr th {\n        vertical-align: top;\n    }\n\n    .dataframe thead th {\n        text-align: right;\n    }\n</style>\n<table border=\"1\" class=\"dataframe\">\n  <thead>\n    <tr style=\"text-align: right;\">\n      <th></th>\n      <th>Year</th>\n      <th>Title</th>\n      <th>Normalized Title</th>\n      <th>Post or Comment</th>\n      <th>Occurrences</th>\n    </tr>\n  </thead>\n  <tbody>\n    <tr>\n      <th>0</th>\n      <td>2021</td>\n      <td>The Heir</td>\n      <td>heir</td>\n      <td>post</td>\n      <td>4080</td>\n    </tr>\n    <tr>\n      <th>1</th>\n      <td>2020</td>\n      <td>The Heir</td>\n      <td>heir</td>\n      <td>post</td>\n      <td>3236</td>\n    </tr>\n    <tr>\n      <th>2</th>\n      <td>2022</td>\n      <td>The Heir</td>\n      <td>heir</td>\n      <td>post</td>\n      <td>3153</td>\n    </tr>\n    <tr>\n      <th>3</th>\n      <td>2022</td>\n      <td>The Heir</td>\n      <td>heir</td>\n      <td>comment</td>\n      <td>3130</td>\n    </tr>\n    <tr>\n      <th>4</th>\n      <td>2021</td>\n      <td>IONI</td>\n      <td>ioni</td>\n      <td>post</td>\n      <td>2615</td>\n    </tr>\n    <tr>\n      <th>...</th>\n      <td>...</td>\n      <td>...</td>\n      <td>...</td>\n      <td>...</td>\n      <td>...</td>\n    </tr>\n    <tr>\n      <th>89779</th>\n      <td>2021</td>\n      <td>Skeletons on the Zahara</td>\n      <td>skeletonsonthezahara</td>\n      <td>post</td>\n      <td>1</td>\n    </tr>\n    <tr>\n      <th>89780</th>\n      <td>2021</td>\n      <td>White Gold</td>\n      <td>whitegold</td>\n      <td>post</td>\n      <td>1</td>\n    </tr>\n    <tr>\n      <th>89781</th>\n      <td>2021</td>\n      <td>The church mouse</td>\n      <td>churchmouse</td>\n      <td>post</td>\n      <td>1</td>\n    </tr>\n    <tr>\n      <th>89782</th>\n      <td>2021</td>\n      <td>Vampire's kiss</td>\n      <td>vampireskiss</td>\n      <td>post</td>\n      <td>1</td>\n    </tr>\n    <tr>\n      <th>89783</th>\n      <td>2015</td>\n      <td>Sightseeing</td>\n      <td>sightseeing</td>\n      <td>post</td>\n      <td>1</td>\n    </tr>\n  </tbody>\n</table>\n<p>89784 rows × 5 columns</p>\n</div>"
     },
     "execution_count": 12,
     "metadata": {},
     "output_type": "execute_result"
    },
    {
     "name": "stdout",
     "output_type": "stream",
     "text": [
      "time: 1.62 s (started: 2022-10-14 23:49:06 +02:00)\n"
     ]
    }
   ],
   "source": [
    "merged_frame = pd.DataFrame(book_ranking, columns=['Year', 'Title', 'Normalized Title', 'Post or Comment', 'Occurrences'])\n",
    "merged_frame.sort_values('Occurrences', inplace=True, ascending=False, ignore_index=False)\n",
    "merged_frame.reset_index(drop='index', inplace=True)\n",
    "merged_frame"
   ],
   "metadata": {
    "collapsed": false
   }
  },
  {
   "cell_type": "code",
   "execution_count": 13,
   "outputs": [
    {
     "name": "stdout",
     "output_type": "stream",
     "text": [
      "time: 287 ms (started: 2022-10-14 23:49:08 +02:00)\n"
     ]
    }
   ],
   "source": [
    "merged_frame.to_csv(BOOK_COUNT_DF)"
   ],
   "metadata": {
    "collapsed": false
   }
  }
 ],
 "metadata": {
  "kernelspec": {
   "display_name": "Python 3 (ipykernel)",
   "language": "python",
   "name": "python3"
  },
  "language_info": {
   "codemirror_mode": {
    "name": "ipython",
    "version": 2
   },
   "file_extension": ".py",
   "mimetype": "text/x-python",
   "name": "python",
   "nbconvert_exporter": "python",
   "pygments_lexer": "ipython2",
   "version": "2.7.6"
  }
 },
 "nbformat": 4,
 "nbformat_minor": 1
}
