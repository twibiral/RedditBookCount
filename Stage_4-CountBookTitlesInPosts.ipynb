{
 "cells": [
  {
   "cell_type": "markdown",
   "metadata": {},
   "source": [
    "# Extract Book Titles from The Posts\n",
    "\n",
    "For every post id: get the actual version of the post, normalize it and search for book titles."
   ]
  },
  {
   "cell_type": "code",
   "execution_count": null,
   "metadata": {},
   "outputs": [],
   "source": [
    "import multiprocessing\n",
    "import re\n",
    "from collections import Counter\n",
    "from functools import partial\n",
    "from pathlib import Path\n",
    "\n",
    "import pandas as pd\n",
    "from tqdm.contrib.concurrent import process_map\n",
    "\n",
    "from Functions import normalize_text, get_occurrences_for_post\n",
    "\n",
    "NON_ALPHANUMERIC = re.compile(r'[\\W_]+')\n",
    "SUBREDDIT_NAME = 'books'\n",
    "EXTRACTED_BOOKS_PATH = './data/books.csv'\n",
    "IDS_PATH = './data/post_ids.csv'\n",
    "STORED_POSTS_PATH = './data/stored_posts.csv'\n",
    "FAUX_TITLES_PATH = Path('./data/faux_book_titles')\n",
    "BOOK_COUNT_DF = './data/book_counts_raw.csv'\n",
    "\n",
    "%load_ext autotime"
   ]
  },
  {
   "cell_type": "markdown",
   "metadata": {},
   "source": [
    "### Prepare Book Titles\n",
    "\n",
    "And compile them into a regex."
   ]
  },
  {
   "cell_type": "code",
   "execution_count": 2,
   "metadata": {},
   "outputs": [
    {
     "data": {
      "text/plain": "                                                    Title  \\\n0                                          006 and a Half   \n1                                                01-01-00   \n2                                                   05:58   \n3       08 the Planet of the Tortoise Driver Little Pr...   \n4                           10,000 ways to say I love you   \n...                                                   ...   \n110477                         Zvezdy--kholodnye igrushki   \n110478                                           Zvirahwe   \n110479                                   The Z Was Zapped   \n110480  Zweite Auflage im Altertum; kulturgeschichtlic...   \n110481                           Zyj wystarczajaco dobrze   \n\n                                               Normalized  \n0                                             006andahalf  \n1                                                  010100  \n2                                                    0558  \n3              08theplanetofthetortoisedriverlittleprince  \n4                                  10000waystosayiloveyou  \n...                                                   ...  \n110477                            zvezdykholodnyeigrushki  \n110478                                           zvirahwe  \n110479                                         zwaszapped  \n110480  zweiteauflageimaltertumkulturgeschichtlichestu...  \n110481                             zyjwystarczajacodobrze  \n\n[110482 rows x 2 columns]",
      "text/html": "<div>\n<style scoped>\n    .dataframe tbody tr th:only-of-type {\n        vertical-align: middle;\n    }\n\n    .dataframe tbody tr th {\n        vertical-align: top;\n    }\n\n    .dataframe thead th {\n        text-align: right;\n    }\n</style>\n<table border=\"1\" class=\"dataframe\">\n  <thead>\n    <tr style=\"text-align: right;\">\n      <th></th>\n      <th>Title</th>\n      <th>Normalized</th>\n    </tr>\n  </thead>\n  <tbody>\n    <tr>\n      <th>0</th>\n      <td>006 and a Half</td>\n      <td>006andahalf</td>\n    </tr>\n    <tr>\n      <th>1</th>\n      <td>01-01-00</td>\n      <td>010100</td>\n    </tr>\n    <tr>\n      <th>2</th>\n      <td>05:58</td>\n      <td>0558</td>\n    </tr>\n    <tr>\n      <th>3</th>\n      <td>08 the Planet of the Tortoise Driver Little Pr...</td>\n      <td>08theplanetofthetortoisedriverlittleprince</td>\n    </tr>\n    <tr>\n      <th>4</th>\n      <td>10,000 ways to say I love you</td>\n      <td>10000waystosayiloveyou</td>\n    </tr>\n    <tr>\n      <th>...</th>\n      <td>...</td>\n      <td>...</td>\n    </tr>\n    <tr>\n      <th>110477</th>\n      <td>Zvezdy--kholodnye igrushki</td>\n      <td>zvezdykholodnyeigrushki</td>\n    </tr>\n    <tr>\n      <th>110478</th>\n      <td>Zvirahwe</td>\n      <td>zvirahwe</td>\n    </tr>\n    <tr>\n      <th>110479</th>\n      <td>The Z Was Zapped</td>\n      <td>zwaszapped</td>\n    </tr>\n    <tr>\n      <th>110480</th>\n      <td>Zweite Auflage im Altertum; kulturgeschichtlic...</td>\n      <td>zweiteauflageimaltertumkulturgeschichtlichestu...</td>\n    </tr>\n    <tr>\n      <th>110481</th>\n      <td>Zyj wystarczajaco dobrze</td>\n      <td>zyjwystarczajacodobrze</td>\n    </tr>\n  </tbody>\n</table>\n<p>110482 rows × 2 columns</p>\n</div>"
     },
     "execution_count": 2,
     "metadata": {},
     "output_type": "execute_result"
    },
    {
     "name": "stdout",
     "output_type": "stream",
     "text": [
      "time: 679 ms (started: 2022-10-26 14:26:28 +02:00)\n"
     ]
    }
   ],
   "source": [
    "book_titles_df = pd.read_csv(EXTRACTED_BOOKS_PATH, index_col=0)\n",
    "book_titles_df"
   ]
  },
  {
   "cell_type": "code",
   "execution_count": 3,
   "metadata": {},
   "outputs": [
    {
     "name": "stdout",
     "output_type": "stream",
     "text": [
      "Found 110,258 book titles.\n",
      "time: 151 ms (started: 2022-10-26 14:26:29 +02:00)\n"
     ]
    }
   ],
   "source": [
    "title_dict = dict(zip(book_titles_df.Normalized, book_titles_df.Title))\n",
    "if FAUX_TITLES_PATH.exists():\n",
    "    faux_titles = {normalize_text(faux_title) for faux_title in FAUX_TITLES_PATH.read_text().splitlines(keepends=False)}\n",
    "else:\n",
    "    faux_titles = set()\n",
    "\n",
    "all_normalized_titles = list(set(book_titles_df.Normalized) - faux_titles)\n",
    "all_normalized_titles.sort(reverse=True, key=lambda x: len(x))\n",
    "print(f'Found {len(all_normalized_titles):,} book titles.')"
   ]
  },
  {
   "cell_type": "code",
   "execution_count": 4,
   "metadata": {},
   "outputs": [
    {
     "name": "stderr",
     "output_type": "stream",
     "text": [
      "/scratch/slurm_tmpdir/job_21150968/ipykernel_458967/3677812895.py:1: DtypeWarning: Columns (4) have mixed types. Specify dtype option on import or set low_memory=False.\n",
      "  posts_df = pd.read_csv(STORED_POSTS_PATH, index_col=0)\n"
     ]
    },
    {
     "data": {
      "text/plain": "            ID  Year                                          Post Text  \\\n0        7cexh  2008                               funnyparodysffcovers   \n1        72bqq  2008  pirateshortfictionfromfantasymagazineshimmerfr...   \n2        6sr73  2008                            reviewihatedavidsedaris   \n3        6dpea  2008    sevendeadlywordsofbookreviewingnewyorktimesblog   \n4        7mbbb  2008                                    2008discoveries   \n...        ...   ...                                                ...   \n289576  x3c279  2022  the2022hugoawardwinnerstobeannouncedonsunday4s...   \n289577  tozgxo  2022  juststartedthevegetarianandiwishthehusbandallt...   \n289578  xagcox  2022  neverjudgeabookbyitsauthorsfatherearlierthisye...   \n289579  xe8nhv  2022  somebriefthoughtsonthewomenofthecoppercountrya...   \n289580  vpm27k  2022              howreadingfantasybooksmakesyousmarter   \n\n       Comment Text  \n0                    \n1                    \n2                    \n3                    \n4                    \n...             ...  \n289576               \n289577               \n289578               \n289579               \n289580               \n\n[289581 rows x 4 columns]",
      "text/html": "<div>\n<style scoped>\n    .dataframe tbody tr th:only-of-type {\n        vertical-align: middle;\n    }\n\n    .dataframe tbody tr th {\n        vertical-align: top;\n    }\n\n    .dataframe thead th {\n        text-align: right;\n    }\n</style>\n<table border=\"1\" class=\"dataframe\">\n  <thead>\n    <tr style=\"text-align: right;\">\n      <th></th>\n      <th>ID</th>\n      <th>Year</th>\n      <th>Post Text</th>\n      <th>Comment Text</th>\n    </tr>\n  </thead>\n  <tbody>\n    <tr>\n      <th>0</th>\n      <td>7cexh</td>\n      <td>2008</td>\n      <td>funnyparodysffcovers</td>\n      <td></td>\n    </tr>\n    <tr>\n      <th>1</th>\n      <td>72bqq</td>\n      <td>2008</td>\n      <td>pirateshortfictionfromfantasymagazineshimmerfr...</td>\n      <td></td>\n    </tr>\n    <tr>\n      <th>2</th>\n      <td>6sr73</td>\n      <td>2008</td>\n      <td>reviewihatedavidsedaris</td>\n      <td></td>\n    </tr>\n    <tr>\n      <th>3</th>\n      <td>6dpea</td>\n      <td>2008</td>\n      <td>sevendeadlywordsofbookreviewingnewyorktimesblog</td>\n      <td></td>\n    </tr>\n    <tr>\n      <th>4</th>\n      <td>7mbbb</td>\n      <td>2008</td>\n      <td>2008discoveries</td>\n      <td></td>\n    </tr>\n    <tr>\n      <th>...</th>\n      <td>...</td>\n      <td>...</td>\n      <td>...</td>\n      <td>...</td>\n    </tr>\n    <tr>\n      <th>289576</th>\n      <td>x3c279</td>\n      <td>2022</td>\n      <td>the2022hugoawardwinnerstobeannouncedonsunday4s...</td>\n      <td></td>\n    </tr>\n    <tr>\n      <th>289577</th>\n      <td>tozgxo</td>\n      <td>2022</td>\n      <td>juststartedthevegetarianandiwishthehusbandallt...</td>\n      <td></td>\n    </tr>\n    <tr>\n      <th>289578</th>\n      <td>xagcox</td>\n      <td>2022</td>\n      <td>neverjudgeabookbyitsauthorsfatherearlierthisye...</td>\n      <td></td>\n    </tr>\n    <tr>\n      <th>289579</th>\n      <td>xe8nhv</td>\n      <td>2022</td>\n      <td>somebriefthoughtsonthewomenofthecoppercountrya...</td>\n      <td></td>\n    </tr>\n    <tr>\n      <th>289580</th>\n      <td>vpm27k</td>\n      <td>2022</td>\n      <td>howreadingfantasybooksmakesyousmarter</td>\n      <td></td>\n    </tr>\n  </tbody>\n</table>\n<p>289581 rows × 4 columns</p>\n</div>"
     },
     "execution_count": 4,
     "metadata": {},
     "output_type": "execute_result"
    },
    {
     "name": "stdout",
     "output_type": "stream",
     "text": [
      "time: 1.41 s (started: 2022-10-26 14:26:29 +02:00)\n"
     ]
    }
   ],
   "source": [
    "posts_df = pd.read_csv(STORED_POSTS_PATH, index_col=0)\n",
    "posts_df.fillna('', inplace=True)\n",
    "posts_df"
   ]
  },
  {
   "cell_type": "code",
   "execution_count": 5,
   "outputs": [
    {
     "name": "stdout",
     "output_type": "stream",
     "text": [
      "time: 363 ms (started: 2022-10-26 14:26:31 +02:00)\n"
     ]
    }
   ],
   "source": [
    "posts = list(posts_df.sample(frac=1).itertuples(index=False, name=None))    # shuffle for better time estimate for the process bar"
   ],
   "metadata": {
    "collapsed": false
   }
  },
  {
   "cell_type": "markdown",
   "metadata": {},
   "source": [
    "### Compile the Book Titles to RegEx\n",
    "\n",
    "The longest book title is first, the shortest is last. The resulting RegEx always returns the longest non-overlapping matches. This way, we always match on the longest title, even if a shorter title is a substring of the long title. (e.g. Only match for 'Pride and Prejudice and Zombies' and not for 'Pride and Prejudice' in the string: 'My favourite book is \"Pride and Prejudice and Zombies\"')"
   ]
  },
  {
   "cell_type": "code",
   "execution_count": 6,
   "metadata": {},
   "outputs": [
    {
     "name": "stdout",
     "output_type": "stream",
     "text": [
      "time: 4.2 s (started: 2022-10-26 14:26:31 +02:00)\n"
     ]
    }
   ],
   "source": [
    "title_regex = '|'.join(all_normalized_titles)\n",
    "title_regex = re.compile(title_regex)"
   ]
  },
  {
   "cell_type": "markdown",
   "metadata": {},
   "source": [
    "### Search Posts for Book Titles"
   ]
  },
  {
   "cell_type": "code",
   "execution_count": 7,
   "outputs": [
    {
     "data": {
      "text/plain": "  0%|          | 0/289581 [00:00<?, ?it/s]",
      "application/vnd.jupyter.widget-view+json": {
       "version_major": 2,
       "version_minor": 0,
       "model_id": "68892c2a5bad4103b09cf8363476a9f7"
      }
     },
     "metadata": {},
     "output_type": "display_data"
    },
    {
     "name": "stdout",
     "output_type": "stream",
     "text": [
      "time: 2h 42min 53s (started: 2022-10-26 14:26:35 +02:00)\n"
     ]
    }
   ],
   "source": [
    "results = process_map(\n",
    "    partial(get_occurrences_for_post, title_regex=title_regex),\n",
    "    posts,\n",
    "    max_workers=multiprocessing.cpu_count()//2,\n",
    "    chunksize=250\n",
    ")"
   ],
   "metadata": {
    "collapsed": false
   }
  },
  {
   "cell_type": "code",
   "execution_count": 8,
   "outputs": [
    {
     "name": "stdout",
     "output_type": "stream",
     "text": [
      "time: 2min 19s (started: 2022-10-26 17:09:29 +02:00)\n"
     ]
    }
   ],
   "source": [
    "year, post_occ, comment_occ = zip(*results)\n",
    "\n",
    "per_year_posts = dict()\n",
    "per_year_comments = dict()\n",
    "\n",
    "for y in set(year):\n",
    "    per_year_posts[y] = dict()\n",
    "    per_year_comments[y] = dict()\n",
    "\n",
    "for y, p, c in results:\n",
    "    if p:\n",
    "        per_year_posts[y] = Counter(per_year_posts[y]) + Counter(p)\n",
    "    if c:\n",
    "        per_year_comments[y] = Counter(per_year_posts[y]) + Counter(p)"
   ],
   "metadata": {
    "collapsed": false
   }
  },
  {
   "cell_type": "code",
   "execution_count": 9,
   "metadata": {},
   "outputs": [
    {
     "name": "stdout",
     "output_type": "stream",
     "text": [
      "time: 391 µs (started: 2022-10-26 17:11:48 +02:00)\n"
     ]
    }
   ],
   "source": [
    "# print(\"Ranked from posts:\", sorted(list(post_occ.items()), key=lambda x: x[1], reverse=True))\n",
    "# print(\"Ranked from comments:\", sorted(list(post_occ.items()), key=lambda x: x[1], reverse=True))\n",
    "# print(\"Ranked from posts and comments:\",\n",
    "#       sorted(list((Counter(comment_occ) + Counter(post_occ))\n",
    "#                   .items()), key=lambda x: x[1], reverse=True))"
   ]
  },
  {
   "cell_type": "code",
   "execution_count": 10,
   "outputs": [
    {
     "name": "stdout",
     "output_type": "stream",
     "text": [
      "time: 104 ms (started: 2022-10-26 17:11:48 +02:00)\n"
     ]
    }
   ],
   "source": [
    "book_ranking = []\n",
    "for y in set(year):\n",
    "    book_ranking.extend([(y, title_dict[book_title], book_title, 'post', occurrences)\n",
    "                    for book_title, occurrences in per_year_posts[y].items()])\n",
    "    book_ranking.extend([(y, title_dict[book_title], book_title, 'comment', occurrences)\n",
    "                         for book_title, occurrences in per_year_comments[y].items()])"
   ],
   "metadata": {
    "collapsed": false
   }
  },
  {
   "cell_type": "code",
   "execution_count": 11,
   "outputs": [
    {
     "data": {
      "text/plain": "[(2016, 'Infinite jest', 'infinitejest', 'post', 173),\n (2016, 'The Tain', 'tain', 'post', 1242),\n (2016,\n  'The Adventures of Sherlock Holmes',\n  'adventuresofsherlockholmes',\n  'post',\n  1),\n (2016, 'Cryptic', 'cryptic', 'post', 4),\n (2016, 'Necromance', 'necromance', 'post', 4),\n (2016, 'Radiance', 'radiance', 'post', 16),\n (2016, 'Shortcut', 'shortcut', 'post', 4),\n (2016, 'Stung', 'stung', 'post', 2),\n (2016, \"The Handmaid's Tale\", 'handmaidstale', 'post', 38),\n (2016, 'A Clockwork Orange', 'clockworkorange', 'post', 35),\n (2016, 'Fahrenheit 451', 'fahrenheit451', 'post', 42),\n (2016, 'The Omen', 'omen', 'post', 1132),\n (2016, 'The Heir', 'heir', 'post', 1962),\n (2016, 'Mistresses', 'mistresses', 'post', 3),\n (2016, 'Preaching', 'preaching', 'post', 10),\n (2016, 'Fading', 'fading', 'post', 7),\n (2016, 'The Outside World', 'outsideworld', 'post', 3),\n (2016, 'Punished!', 'punished', 'post', 9),\n (2016,\n  'Harry potter and the cursed child',\n  'harrypotterandthecursedchild',\n  'post',\n  59),\n (2016, 'I Do! I Do!', 'idoido', 'post', 2),\n (2016, 'Norse mythology', 'norsemythology', 'post', 5),\n (2016, 'The Raft', 'raft', 'post', 382),\n (2016, 'Chronicles of Narnia, The', 'chroniclesofnarniathe', 'post', 1),\n (2016, 'The stand-in', 'standin', 'post', 306),\n (2016, 'The old man and the sea', 'oldmanandthesea', 'post', 33),\n (2016, 'The lice', 'lice', 'post', 179),\n (2016, 'Open Secrets', 'opensecrets', 'post', 1),\n (2016, 'Lupercal', 'lupercal', 'post', 1),\n (2016, 'Mother Night', 'mothernight', 'post', 12),\n (2016, 'The fifth child', 'fifthchild', 'post', 1),\n (2016, 'Birthday letters', 'birthdayletters', 'post', 1),\n (2016, 'Romeo and', 'romeoand', 'post', 14),\n (2016, 'The Quiet American', 'quietamerican', 'post', 3),\n (2016, 'Tar Baby', 'tarbaby', 'post', 1),\n (2016, 'Between the World and Me', 'betweentheworldandme', 'post', 7),\n (2016, 'The Quartet', 'quartet', 'post', 12),\n (2016, 'Too Much Happiness', 'toomuchhappiness', 'post', 1),\n (2016, 'Wind-Up Bird Chronicle', 'windupbirdchronicle', 'post', 24),\n (2016, 'The Screwtape Letters', 'screwtapeletters', 'post', 5),\n (2016, 'The Argonauts', 'argonauts', 'post', 3),\n (2016, 'Me Talk Pretty One Day', 'metalkprettyoneday', 'post', 2),\n (2016, 'Night train', 'nighttrain', 'post', 2),\n (2016, 'The Robe', 'robe', 'post', 378),\n (2016, 'By night in Chile', 'bynightinchile', 'post', 1),\n (2016, 'Train Dreams', 'traindreams', 'post', 3),\n (2016, 'The Sense of an Ending', 'senseofanending', 'post', 10),\n (2016, 'A Wrinkle in Time', 'wrinkleintime', 'post', 26),\n (2016,\n  'Self-portrait in a convex mirror',\n  'selfportraitinaconvexmirror',\n  'post',\n  2),\n (2016, 'Sex, Drugs, and Cocoa Puffs', 'sexdrugsandcocoapuffs', 'post', 4),\n (2016, 'The Man Who Was Thursday', 'manwhowasthursday', 'post', 1),\n (2016, 'A Grief Observed', 'griefobserved', 'post', 1),\n (2016, 'On Chesil Beach', 'onchesilbeach', 'post', 1),\n (2016, 'Oscar and Lucinda', 'oscarandlucinda', 'post', 4),\n (2016, 'Status anxiety', 'statusanxiety', 'post', 1),\n (2016, 'I, Robot', 'irobot', 'post', 3),\n (2016, 'The Caves of Steel', 'cavesofsteel', 'post', 2),\n (2016, 'A murder of quality', 'murderofquality', 'post', 1),\n (2016, 'The Naked Sun', 'nakedsun', 'post', 3),\n (2016,\n  'The Spy Who Came in from the Cold',\n  'spywhocameinfromthecold',\n  'post',\n  4),\n (2016, 'The Elegant Universe', 'elegantuniverse', 'post', 2),\n (2016, 'Call for the Dead', 'callforthedead', 'post', 1),\n (2016, 'The Childhood of Jesus', 'childhoodofjesus', 'post', 1),\n (2016, 'Gun, with occasional music', 'gunwithoccasionalmusic', 'post', 1),\n (2016, \"Mr. Sammler's planet\", 'mrsammlersplanet', 'post', 1),\n (2016, \"Breakfast at Tiffany's\", 'breakfastattiffanys', 'post', 3),\n (2016, 'The Cement Garden', 'cementgarden', 'post', 1),\n (2016, 'Samson Agonistes', 'samsonagonistes', 'post', 1),\n (2016, 'The Second World War', 'secondworldwar', 'post', 11),\n (2016, 'Maelstrom', 'maelstrom', 'post', 1),\n (2016, 'Whirlpool', 'whirlpool', 'post', 3),\n (2016, 'Pirates of the Caribbean', 'piratesofthecaribbean', 'post', 1),\n (2016, \"World's end\", 'worldsend', 'post', 1),\n (2016, 'Jaws', 'jaws', 'post', 3),\n (2016, 'Nerves', 'nerves', 'post', 9),\n (2016, 'Blush', 'blush', 'post', 9),\n (2016, 'Occupy', 'occupy', 'post', 8),\n (2016, 'Neuromancer', 'neuromancer', 'post', 21),\n (2016, 'Fruition', 'fruition', 'post', 4),\n (2016, 'The Welcoming', 'welcoming', 'post', 4),\n (2016, 'Midnight Star', 'midnightstar', 'post', 4),\n (2016, 'Scattered', 'scattered', 'post', 22),\n (2016, 'Falling Apart', 'fallingapart', 'post', 5),\n (2016, 'Virtual reality', 'virtualreality', 'post', 24),\n (2016, '2030', '2030', 'post', 8),\n (2016, 'Angel Catbird', 'angelcatbird', 'post', 2),\n (2016, 'Guilty pleasures', 'guiltypleasures', 'post', 3),\n (2016, 'Catch-22', 'catch22', 'post', 92),\n (2016, 'The forever war', 'foreverwar', 'post', 12),\n (2016, 'xkcd', 'xkcd', 'post', 6),\n (2016, 'World War Z', 'worldwarz', 'post', 17),\n (2016, 'The richest man in Babylon', 'richestmaninbabylon', 'post', 3),\n (2016, 'Bedtime Stories', 'bedtimestories', 'post', 8),\n (2016, 'The Captains', 'captains', 'post', 6),\n (2016, \"Stephen King's Dark Tower\", 'stephenkingsdarktower', 'post', 4),\n (2016, 'Gunslinger', 'gunslinger', 'post', 55),\n (2016, 'Dark Towers', 'darktowers', 'post', 74),\n (2016, 'Re-imagine!', 'reimagine', 'post', 13),\n (2016, 'Brisingr', 'brisingr', 'post', 2),\n (2016, 'The unremembered', 'unremembered', 'post', 1),\n (2016, 'Adjectives', 'adjectives', 'post', 10),\n (2016, 'The Virgin Suicides', 'virginsuicides', 'post', 2),\n (2016, 'Scary Stories', 'scarystories', 'post', 7),\n (2016, 'A Farewell to Arms', 'farewelltoarms', 'post', 34),\n (2016, 'Samurai', 'samurai', 'post', 12),\n (2016, 'Senso', 'senso', 'post', 11),\n (2016, 'American Psycho', 'americanpsycho', 'post', 43),\n (2016, 'Serial killers', 'serialkillers', 'post', 3),\n (2016, 'Lamentation', 'lamentation', 'post', 2),\n (2016, 'High society', 'highsociety', 'post', 2),\n (2016, 'With the Light', 'withthelight', 'post', 3),\n (2016, 'Junkie', 'junkie', 'post', 14),\n (2016, 'The Hat Book', 'hatbook', 'post', 620),\n (2016, 'Unseen', 'unseen', 'post', 15),\n (2016, 'Binary Options', 'binaryoptions', 'post', 18),\n (2016, \"Cat's Cradle\", 'catscradle', 'post', 37),\n (2016, 'Choke', 'choke', 'post', 16),\n (2016, 'Storm Front', 'stormfront', 'post', 1),\n (2016, 'The cheerleaders', 'cheerleaders', 'post', 2),\n (2016, 'One summer', 'onesummer', 'post', 4),\n (2016, 'The outfit', 'outfit', 'post', 8),\n (2016, 'Skin tight', 'skintight', 'post', 1),\n (2016, 'Be cool', 'becool', 'post', 10),\n (2016, 'Dhalgren', 'dhalgren', 'post', 11),\n (2016, \"Gravity's Rainbow\", 'gravitysrainbow', 'post', 38),\n (2016, 'Lower Ed', 'lowered', 'post', 3),\n (2016, 'Never Change', 'neverchange', 'post', 3),\n (2016, 'Postmodernism', 'postmodernism', 'post', 11),\n (2016, 'Havemercy', 'havemercy', 'post', 4),\n (2016, 'Dermatology', 'dermatology', 'post', 6),\n (2016, 'Ready Player One', 'readyplayerone', 'post', 71),\n (2016, 'The big battle', 'bigbattle', 'post', 2),\n (2016, 'Trust Me', 'trustme', 'post', 11),\n (2016, 'White trash', 'whitetrash', 'post', 6),\n (2016, 'Inequality', 'inequality', 'post', 7),\n (2016, 'Have Space Suit, Will Travel', 'havespacesuitwilltravel', 'post', 1),\n (2016, 'The caregiver', 'caregiver', 'post', 3),\n (2016, 'Hostage', 'hostage', 'post', 6),\n (2016, \"What's Left?\", 'whatsleft', 'post', 2),\n (2016, 'Planetside', 'planetside', 'post', 1),\n (2016, 'The movie book', 'moviebook', 'post', 1),\n (2016, 'The Alchemist', 'alchemist', 'post', 36),\n (2016, 'Pinpoint', 'pinpoint', 'post', 5),\n (2016, 'Dune', 'dune', 'post', 226),\n (2016, 'To Kill a Mockingbird', 'tokillamockingbird', 'post', 83),\n (2016, 'Invisible Monsters', 'invisiblemonsters', 'post', 8),\n (2016, 'Invisible monsters remix', 'invisiblemonstersremix', 'post', 4),\n (2016, 'Staking his claim', 'stakinghisclaim', 'post', 2),\n (2016, 'Jurisprudence', 'jurisprudence', 'post', 4),\n (2016, 'Storyworlds', 'storyworlds', 'post', 1),\n (2016, 'Basic Chinese', 'basicchinese', 'post', 10),\n (2016, 'Madame Bovary', 'madamebovary', 'post', 11),\n (2016, 'Fabrications', 'fabrications', 'post', 3),\n (2016, 'Inland', 'inland', 'post', 11),\n (2016, 'Salesforce', 'salesforce', 'post', 22),\n (2016, 'Lego City', 'legocity', 'post', 1),\n (2016, 'Fight this fire!', 'fightthisfire', 'post', 1),\n (2016, 'LikeWar', 'likewar', 'post', 5),\n (2016, 'About time', 'abouttime', 'post', 10),\n (2016, 'Night After Night', 'nightafternight', 'post', 1),\n (2016, 'Unnatural', 'unnatural', 'post', 8),\n (2016, 'Body Language', 'bodylanguage', 'post', 8),\n (2016, 'Pediatrics', 'pediatrics', 'post', 13),\n (2016, 'The Alibi', 'alibi', 'post', 4),\n (2016, 'Shiver', 'shiver', 'post', 8),\n (2016, 'The Right Time', 'righttime', 'post', 15),\n (2016, 'Ancillary Justice', 'ancillaryjustice', 'post', 5),\n (2016, 'Relish', 'relish', 'post', 4),\n (2016, 'Big Data', 'bigdata', 'post', 13),\n (2016, 'Just Listen', 'justlisten', 'post', 7),\n (2016, 'Burnout', 'burnout', 'post', 6),\n (2016, 'The Gladiator', 'gladiator', 'post', 25),\n (2016, 'Jango', 'jango', 'post', 2),\n (2016, 'Breaker', 'breaker', 'post', 8),\n (2016, 'Awakened Mage', 'awakenedmage', 'post', 1),\n (2016, 'Prodigal', 'prodigal', 'post', 2),\n (2016, 'A blight of mages', 'blightofmages', 'post', 1),\n (2016, 'Omnibus', 'omnibus', 'post', 19),\n (2016, 'My year', 'myyear', 'post', 11),\n (2016, 'Rhyme and Reason', 'rhymeandreason', 'post', 1),\n (2016, 'Anybody out there?', 'anybodyoutthere', 'post', 2),\n (2016, 'Electric Machines', 'electricmachines', 'post', 3),\n (2016, 'Blended', 'blended', 'post', 8),\n (2016, 'Surrender', 'surrender', 'post', 15),\n (2016, 'Cunt', 'cunt', 'post', 6),\n (2016, 'ELECTRONIC COMPONENTS', 'electroniccomponents', 'post', 6),\n (2016, 'Seeking asylum', 'seekingasylum', 'post', 1),\n (2016, 'Beowulf', 'beowulf', 'post', 21),\n (2016, 'Tomcat', 'tomcat', 'post', 2),\n (2016, 'Textbook of biochemistry', 'textbookofbiochemistry', 'post', 3),\n (2016, 'Of Mice and Men', 'ofmiceandmen', 'post', 33),\n (2016, 'Oryx and Crake', 'oryxandcrake', 'post', 10),\n (2016, 'The Witcher', 'witcher', 'post', 13),\n (2016, 'Fanny Hill', 'fannyhill', 'post', 1),\n (2016, 'Jurassic Park', 'jurassicpark', 'post', 28),\n (2016, 'The Meaning of Life', 'meaningoflife', 'post', 4),\n (2016, '\"1984\"', '1984', 'post', 149),\n (2016, 'Relapse', 'relapse', 'post', 5),\n (2016, 'All the bright places', 'allthebrightplaces', 'post', 13),\n (2016, 'Holding Up the Universe', 'holdinguptheuniverse', 'post', 3),\n (2016, 'Fangirl', 'fangirl', 'post', 2),\n (2016, 'Join Me', 'joinme', 'post', 18),\n (2016, 'Dune Messiah', 'dunemessiah', 'post', 12),\n (2016, 'Cat and Mouse', 'catandmouse', 'post', 2),\n (2016, 'Mercenaries', 'mercenaries', 'post', 2),\n (2016, 'Battle royale', 'battleroyale', 'post', 11),\n (2016, 'The Hunger Games', 'hungergames', 'post', 56),\n (2016, 'Meatball', 'meatball', 'post', 1),\n (2016,\n  'Scary stories to tell in the dark',\n  'scarystoriestotellinthedark',\n  'post',\n  8),\n (2016, 'Impulsive', 'impulsive', 'post', 8),\n (2016, 'CUSP', 'cusp', 'post', 5),\n (2016, 'Head First design patterns', 'headfirstdesignpatterns', 'post', 1),\n (2016, \"L'Ignorance\", 'lignorance', 'post', 1),\n (2016, 'Gone Girl', 'gonegirl', 'post', 47),\n (2016, 'Blood, Bones & Butter', 'bloodbonesbutter', 'post', 2),\n (2016, 'Condemnation', 'condemnation', 'post', 3),\n (2016, 'Totalitarianism', 'totalitarianism', 'post', 3),\n (2016, 'Intellectuals', 'intellectuals', 'post', 5),\n (2016, 'The common good', 'commongood', 'post', 1),\n (2016, 'Dim Sum', 'dimsum', 'post', 1),\n (2016, 'Rio 2', 'rio2', 'post', 15),\n (2016, 'The Book Thief', 'bookthief', 'post', 34),\n (2016, 'Six chapters', 'sixchapters', 'post', 2),\n (2016, 'Dark Lord', 'darklord', 'post', 1),\n (2016, 'Raymie Nightingale', 'raymienightingale', 'post', 1),\n (2016, 'Captive', 'captive', 'post', 7),\n (2016, 'Double Cross', 'doublecross', 'post', 1),\n (2016, 'Making Money', 'makingmoney', 'post', 13),\n (2016, 'A call to arms', 'calltoarms', 'post', 1),\n (2016, 'Leverage', 'leverage', 'post', 6),\n (2016, 'Auditing', 'auditing', 'post', 12),\n (2016, 'La Sirène', 'lasirene', 'post', 1),\n (2016, 'Hotshot', 'hotshot', 'post', 2),\n (2016, 'The Fiery Heart', 'fieryheart', 'post', 1),\n (2016, 'Unrequited', 'unrequited', 'post', 6),\n (2016, 'Creative life', 'creativelife', 'post', 1),\n (2016,\n  'Me and Earl and the Dying Girl',\n  'meandearlandthedyinggirl',\n  'post',\n  3),\n (2016, 'The Fault in Our Stars', 'faultinourstars', 'post', 18),\n (2016, 'Looking for Alaska', 'lookingforalaska', 'post', 19),\n (2016, 'Just friends', 'justfriends', 'post', 1),\n (2016, 'Mean Girl', 'meangirl', 'post', 3),\n (2016, 'The Shearing', 'shearing', 'post', 8),\n (2016, 'Precious gems', 'preciousgems', 'post', 3),\n (2016, 'The City of Mirrors', 'cityofmirrors', 'post', 15),\n (2016, 'Sonnets', 'sonnets', 'post', 7),\n (2016, 'Billionaires', 'billionaires', 'post', 26),\n (2016, 'Scarpetta', 'scarpetta', 'post', 9),\n (2016, 'Red dust', 'reddust', 'post', 3),\n (2016, 'Two novels', 'twonovels', 'post', 16),\n (2016, 'A Confederacy of Dunces', 'confederacyofdunces', 'post', 17),\n (2016, 'Be a writer', 'beawriter', 'post', 6),\n (2016, 'Beach Read', 'beachread', 'post', 14),\n (2016, 'Word by word', 'wordbyword', 'post', 2),\n (2016, 'Overload', 'overload', 'post', 4),\n (2016, 'In Too Deep', 'intoodeep', 'post', 4),\n (2016, 'Dear America', 'dearamerica', 'post', 2),\n (2016, 'Pet Sematary', 'petsematary', 'post', 9),\n (2016, 'Deal With This', 'dealwiththis', 'post', 5),\n (2016, 'pasar', 'pasar', 'post', 9),\n (2016, 'American Gods', 'americangods', 'post', 54),\n (2016, 'Sabriel', 'sabriel', 'post', 4),\n (2016, 'Abhorsen', 'abhorsen', 'post', 4),\n (2016, 'Flowers in the Attic', 'flowersintheattic', 'post', 2),\n (2016, 'Poisoned', 'poisoned', 'post', 5),\n (2016, 'Donuts', 'donuts', 'post', 3),\n (2016, 'A Love Affair', 'loveaffair', 'post', 14),\n (2016, 'The tiger lily', 'tigerlily', 'post', 1),\n (2016, 'Seduction', 'seduction', 'post', 21),\n (2016, 'Thinking of You', 'thinkingofyou', 'post', 1),\n (2016, 'A Song of Ice and Fire', 'songoficeandfire', 'post', 74),\n (2016, 'Thud!', 'thud', 'post', 54),\n (2016, 'East of Eden', 'eastofeden', 'post', 79),\n (2016, 'Herpetology', 'herpetology', 'post', 1),\n (2016, 'Dietetics', 'dietetics', 'post', 4),\n (2016, 'Fundamentals of Physics', 'fundamentalsofphysics', 'post', 1),\n (2016, 'Troika', 'troika', 'post', 4),\n (2016, 'Sidérations', 'siderations', 'post', 7),\n (2016, 'State of Fear', 'stateoffear', 'post', 4),\n (2016, 'I think, I am!', 'ithinkiam', 'post', 5),\n (2016, 'Player Piano', 'playerpiano', 'post', 11),\n (2016, 'Alan Turing', 'alanturing', 'post', 2),\n (2016, 'The Jewel of Seven Stars', 'jewelofsevenstars', 'post', 2),\n (2016, 'Fiendish', 'fiendish', 'post', 1),\n (2016, 'To pay the price', 'topaytheprice', 'post', 1),\n (2016, 'The Executor', 'executor', 'post', 1),\n (2016, 'The dead house', 'deadhouse', 'post', 3),\n (2016, 'Paperwork', 'paperwork', 'post', 3),\n (2016, 'Alias Grace', 'aliasgrace', 'post', 1),\n (2016, 'Whatever Comes', 'whatevercomes', 'post', 2),\n (2016, 'The Night Manager', 'nightmanager', 'post', 6),\n (2016, 'Flashback', 'flashback', 'post', 17),\n (2016, '1Q84', '1q84', 'post', 22),\n (2016, 'Without warning', 'withoutwarning', 'post', 3),\n (2016, 'The last human', 'lasthuman', 'post', 2),\n (2016, 'Boot Camp', 'bootcamp', 'post', 8),\n (2016, 'Retribution', 'retribution', 'post', 4),\n (2016, 'Past Midnight', 'pastmidnight', 'post', 1),\n (2016, 'Precursor', 'precursor', 'post', 4),\n (2016, 'This Side of Paradise', 'thissideofparadise', 'post', 5),\n (2016, 'The last wish', 'lastwish', 'post', 11),\n (2016, 'Out of Order', 'outoforder', 'post', 14),\n (2016, 'Sword of Destiny', 'swordofdestiny', 'post', 1),\n (2016, 'Blood of elves', 'bloodofelves', 'post', 2),\n (2016, 'The Time Of Contempt', 'timeofcontempt', 'post', 1),\n (2016, 'Baptism of fire', 'baptismoffire', 'post', 2),\n (2016, 'The Lady of the Lake', 'ladyofthelake', 'post', 3),\n (2016, 'Pay it forward', 'payitforward', 'post', 2),\n (2016, 'Aptitude', 'aptitude', 'post', 18),\n (2016, 'On the Beach', 'onthebeach', 'post', 18),\n (2016, 'Less than Zero', 'lessthanzero', 'post', 7),\n (2016, 'Neverwhere', 'neverwhere', 'post', 8),\n (2016, 'Mogworld', 'mogworld', 'post', 3),\n (2016, 'Book of the New Sun', 'bookofthenewsun', 'post', 9),\n (2016, 'The Wolfen', 'wolfen', 'post', 1),\n (2016, 'The Sword of the Lictor', 'swordofthelictor', 'post', 2),\n (2016, 'Does It Matter?', 'doesitmatter', 'post', 5),\n (2016, 'Speechless', 'speechless', 'post', 8),\n (2016, 'Celtic myths', 'celticmyths', 'post', 1),\n (2016, \"The heroine's journey\", 'heroinesjourney', 'post', 1),\n (2016, \"The hero's journey\", 'herosjourney', 'post', 3),\n (2016, 'Heartburn', 'heartburn', 'post', 7),\n (2016, 'Pawns', 'pawns', 'post', 4),\n (2016, 'The uprooted', 'uprooted', 'post', 10),\n (2016, 'Angelfall', 'angelfall', 'post', 3),\n (2016, 'One Night at the Call Center', 'onenightatthecallcenter', 'post', 1),\n (2016, 'Recondo', 'recondo', 'post', 3),\n (2016, 'Entranced', 'entranced', 'post', 8),\n (2016, 'Stigma', 'stigma', 'post', 7),\n (2016, 'Atheism', 'atheism', 'post', 7),\n (2016, 'Enslaved', 'enslaved', 'post', 6),\n (2016, 'Lightfall', 'lightfall', 'post', 1),\n (2016, 'Dressmaking', 'dressmaking', 'post', 1),\n (2016, 'His Woman', 'hiswoman', 'post', 13),\n (2016, 'Enslave', 'enslave', 'post', 2),\n (2016, 'That night', 'thatnight', 'post', 8),\n (2016, 'Primer', 'primer', 'post', 24),\n (2016, 'Borka', 'borka', 'post', 5),\n (2016, 'The other side', 'otherside', 'post', 25),\n (2016, 'Breaking Dawn', 'breakingdawn', 'post', 1),\n (2016,\n  'One Hundred Years of Solitude',\n  'onehundredyearsofsolitude',\n  'post',\n  21),\n (2016, 'Countdown', 'countdown', 'post', 6),\n (2016, 'Blood Rites', 'bloodrites', 'post', 2),\n (2016, 'My man', 'myman', 'post', 6),\n (2016, 'In Conversation', 'inconversation', 'post', 16),\n (2016, 'Splatoon', 'splatoon', 'post', 1),\n (2016, 'Red ink', 'redink', 'post', 2),\n (2016, 'Ship it!', 'shipit', 'post', 10),\n (2016, 'The Inner Game of Tennis', 'innergameoftennis', 'post', 2),\n (2016, 'Multiple choice', 'multiplechoice', 'post', 5),\n (2016, 'The dark tower', 'darktower', 'post', 80),\n (2016, 'A Class Act', 'classact', 'post', 4),\n (2016, 'Shifter', 'shifter', 'post', 27),\n (2016, 'Relatos', 'relatos', 'post', 2),\n (2016, 'Dark Age', 'darkage', 'post', 1),\n (2016, 'Triangles', 'triangles', 'post', 7),\n (2016, 'Copy Cat', 'copycat', 'post', 3),\n (2016, 'Sand Castles', 'sandcastles', 'post', 1),\n (2016, 'Those Who Love', 'thosewholove', 'post', 6),\n (2016, 'Because of you', 'becauseofyou', 'post', 4),\n (2016, 'Wuthering Heights', 'wutheringheights', 'post', 20),\n (2016, 'Inversions', 'inversions', 'post', 2),\n (2016, 'Defending the Undefendable', 'defendingtheundefendable', 'post', 1),\n (2016,\n  'Brief Interviews With Hideous Men',\n  'briefinterviewswithhideousmen',\n  'post',\n  2),\n (2016, 'Close to home', 'closetohome', 'post', 9),\n (2016, 'Shadow of the Wind', 'shadowofthewind', 'post', 14),\n (2016, 'The Amber Spyglass', 'amberspyglass', 'post', 10),\n (2016, 'Atonement', 'atonement', 'post', 10),\n (2016, 'A beautiful wedding', 'beautifulwedding', 'post', 2),\n (2016, 'Civil Rights', 'civilrights', 'post', 12),\n (2016, 'Tyrant', 'tyrant', 'post', 4),\n (2016, 'Tyrants', 'tyrants', 'post', 2),\n (2016, 'The way I feel', 'wayifeel', 'post', 4),\n (2016, 'The Ultimates', 'ultimates', 'post', 12),\n (2016, 'The Missing Heir', 'missingheir', 'post', 1),\n (2016, 'Navigators of Dune', 'navigatorsofdune', 'post', 6),\n (2016, 'The unwanted', 'unwanted', 'post', 12),\n (2016, 'A night without stars', 'nightwithoutstars', 'post', 3),\n (2016, 'At the End of the Day', 'attheendoftheday', 'post', 7),\n (2016, 'Working Class', 'workingclass', 'post', 5),\n (2016, 'Secondhand Souls', 'secondhandsouls', 'post', 4),\n (2016, 'Finnegans wake', 'finneganswake', 'post', 24),\n (2016, 'Long shot', 'longshot', 'post', 4),\n (2016, 'Jiu-jitsu', 'jiujitsu', 'post', 1),\n (2016, 'Wastelands', 'wastelands', 'post', 6),\n (2016, 'Tarot', 'tarot', 'post', 15),\n (2016, 'Rising Sun', 'risingsun', 'post', 5),\n (2016, 'BEHIND CLOSED DOORS', 'behindcloseddoors', 'post', 4),\n (2016, 'Marketing online', 'marketingonline', 'post', 2),\n (2016, 'Acting out', 'actingout', 'post', 5),\n (2016,\n  \"The hitchhiker's guide to the galaxy\",\n  'hitchhikersguidetothegalaxy',\n  'post',\n  61),\n (2016, 'The Troubleshooter', 'troubleshooter', 'post', 1),\n (2016, 'Accelerate', 'accelerate', 'post', 6),\n (2016, 'The Pillars of the Earth', 'pillarsoftheearth', 'post', 16),\n (2016, 'On the fence', 'onthefence', 'post', 10),\n (2016, 'Without a doubt', 'withoutadoubt', 'post', 3),\n (2016, 'Horrorstör', 'horrorstor', 'post', 11),\n (2016, '11/22/63', '112263', 'post', 76),\n (2016, 'Curious George', 'curiousgeorge', 'post', 3),\n (2016, 'West Side Story', 'westsidestory', 'post', 1),\n (2016, 'American dreams', 'americandreams', 'post', 1),\n (2016, 'Chaos Walking', 'chaoswalking', 'post', 4),\n (2016, 'Monsters of men', 'monstersofmen', 'post', 1),\n (2016, 'Totality', 'totality', 'post', 2),\n (2016, 'Being and time', 'beingandtime', 'post', 1),\n (2016, 'Okko', 'okko', 'post', 3),\n (2016, 'Aesthetics', 'aesthetics', 'post', 7),\n (2016, 'Behind You', 'behindyou', 'post', 4),\n (2016, 'The Food Lab', 'foodlab', 'post', 2),\n (2016, 'Dibs', 'dibs', 'post', 2),\n (2016, 'the Great Depression', 'greatdepression', 'post', 2),\n (2016, 'Animal Farm', 'animalfarm', 'post', 50),\n (2016, 'Lord of the Flies', 'lordoftheflies', 'post', 27),\n (2016, 'Tuck Everlasting', 'tuckeverlasting', 'post', 3),\n (2016, 'The Reckoning', 'reckoning', 'post', 3),\n (2016, 'The Name of the Wind', 'nameofthewind', 'post', 45),\n (2016, 'Show Me', 'showme', 'post', 12),\n (2016, 'Shrine', 'shrine', 'post', 4),\n (2016, 'Legal Tender', 'legaltender', 'post', 1),\n (2016, 'Thorn Queen', 'thornqueen', 'post', 2),\n (2016, 'The World of Ā', 'worldofa', 'post', 7),\n (2016, 'The Perfect Fit', 'perfectfit', 'post', 2),\n (2016, 'Intimate Details', 'intimatedetails', 'post', 2),\n (2016, 'Fated', 'fated', 'post', 5),\n (2016, 'New Kid', 'newkid', 'post', 3),\n (2016, 'Crackers', 'crackers', 'post', 5),\n (2016, 'The vampire diaries', 'vampirediaries', 'post', 4),\n (2016, 'Shadow Hunter', 'shadowhunter', 'post', 17),\n (2016, 'Crosses', 'crosses', 'post', 5),\n (2016, 'World order', 'worldorder', 'post', 2),\n (2016, 'HHhH', 'hhhh', 'post', 3),\n (2016, 'Persistence', 'persistence', 'post', 3),\n (2016, 'Blackout', 'blackout', 'post', 10),\n (2016, 'Girl With the Dragon Tattoo', 'girlwiththedragontattoo', 'post', 14),\n (2016, 'Best of the best', 'bestofthebest', 'post', 2),\n (2016, 'The Prefect', 'prefect', 'post', 3),\n (2016, 'Be Prepared', 'beprepared', 'post', 13),\n (2016, 'Trey of Swords', 'treyofswords', 'post', 2),\n (2016, 'Witch World', 'witchworld', 'post', 2),\n (2016,\n  'A heartbreaking work of staggering genius',\n  'heartbreakingworkofstaggeringgenius',\n  'post',\n  3),\n (2016, 'Flipped', 'flipped', 'post', 5),\n (2016, 'Rainbow Dash', 'rainbowdash', 'post', 2),\n (2016, \"Ender's Game\", 'endersgame', 'post', 34),\n (2016, 'Prelude to Foundation', 'preludetofoundation', 'post', 2),\n (2016, 'Odd hours', 'oddhours', 'post', 3),\n (2016, 'The Buried Giant', 'buriedgiant', 'post', 16),\n (2016, 'The Last Unicorn', 'lastunicorn', 'post', 9),\n (2016, 'Namal', 'namal', 'post', 15),\n (2016, 'Unicorns', 'unicorns', 'post', 3),\n (2016, 'Real Magic', 'realmagic', 'post', 3),\n (2016, 'Enraged', 'enraged', 'post', 2),\n (2016, 'Bit of a Stretch', 'bitofastretch', 'post', 1),\n (2016, 'All-time favorites', 'alltimefavorites', 'post', 10),\n (2016, 'High Rise', 'highrise', 'post', 10),\n (2016, 'The New Father', 'newfather', 'post', 2),\n (2016, 'Is it Because?', 'isitbecause', 'post', 10),\n (2016, 'Orphans', 'orphans', 'post', 8),\n (2016, 'The long earth', 'longearth', 'post', 10),\n (2016, 'Griffin & Sabine', 'griffinsabine', 'post', 1),\n (2016, 'Space Odyssey', 'spaceodyssey', 'post', 8),\n (2016, 'Gamechanger', 'gamechanger', 'post', 1),\n (2016, 'Graveyard shift', 'graveyardshift', 'post', 1),\n (2016, 'To the Stars', 'tothestars', 'post', 6),\n (2016, 'Light years', 'lightyears', 'post', 6),\n (2016, 'Humankind', 'humankind', 'post', 16),\n (2016, 'Now & Then', 'nowthen', 'post', 8),\n (2016, 'Mindbend', 'mindbend', 'post', 9),\n (2016, 'Namesake', 'namesake', 'post', 10),\n (2016, 'Altered Carbon', 'alteredcarbon', 'post', 4),\n (2016, 'Calibre', 'calibre', 'post', 15),\n (2016, 'Everlasting', 'everlasting', 'post', 6),\n (2016, 'Recycled!', 'recycled', 'post', 6),\n (2016, 'Difficult decision', 'difficultdecision', 'post', 3),\n (2016, \"It's a wonderful life!\", 'itsawonderfullife', 'post', 1),\n (2016, 'North and South', 'northandsouth', 'post', 3),\n (2016, 'Catcher in the Rye', 'catcherintherye', 'post', 87),\n (2016, 'Shut Up', 'shutup', 'post', 6),\n (2016, 'Solipsist', 'solipsist', 'post', 3),\n (2016, 'Shortcomings', 'shortcomings', 'post', 6),\n (2016, 'Epidemic', 'epidemic', 'post', 6),\n (2016, 'The big short', 'bigshort', 'post', 7),\n (2016, 'Drifter', 'drifter', 'post', 4),\n (2016, 'Mail Order Bride', 'mailorderbride', 'post', 11),\n (2016, 'Thinking, fast and slow', 'thinkingfastandslow', 'post', 8),\n (2016, 'Smuggler', 'smuggler', 'post', 4),\n (2016, 'My experiences', 'myexperiences', 'post', 3),\n (2016, 'Brave New World', 'bravenewworld', 'post', 61),\n (2016, 'Heart of Darkness', 'heartofdarkness', 'post', 26),\n (2016, 'The Red Pony', 'redpony', 'post', 2),\n (2016, 'The Winds of Winter', 'windsofwinter', 'post', 32),\n (2016, 'Consider Phlebas', 'considerphlebas', 'post', 2),\n (2016, 'Yuck!', 'yuck', 'post', 2),\n (2016, 'Space Opera', 'spaceopera', 'post', 16),\n (2016, 'Parasite', 'parasite', 'post', 3),\n (2016, 'Time to say goodbye', 'timetosaygoodbye', 'post', 3),\n (2016, 'All the Birds in the Sky', 'allthebirdsinthesky', 'post', 6),\n (2016, 'Necronomicon', 'necronomicon', 'post', 3),\n (2016, 'Kick-Ass', 'kickass', 'post', 10),\n (2016, 'Rewind', 'rewind', 'post', 9),\n (2016, 'Skinny Legs and All', 'skinnylegsandall', 'post', 1),\n (2016, 'Still Life with Woodpecker', 'stilllifewithwoodpecker', 'post', 5),\n (2016, 'Taken Over', 'takenover', 'post', 7),\n (2016, 'Crimson Peak', 'crimsonpeak', 'post', 1),\n (2016, 'The Secret Agent', 'secretagent', 'post', 2),\n (2016, 'Down the rabbit hole', 'downtherabbithole', 'post', 1),\n (2016, 'No one knows', 'nooneknows', 'post', 8),\n (2016, 'Crusade', 'crusade', 'post', 16),\n (2016, 'Love me never', 'lovemenever', 'post', 6),\n (2016, 'Haters', 'haters', 'post', 6),\n (2016, 'Homo Faber', 'homofaber', 'post', 1),\n (2016, 'Valor', 'valor', 'post', 7),\n (2016, 'Thinner', 'thinner', 'post', 6),\n (2016, 'Edition 1', 'edition1', 'post', 3),\n (2016, 'Starting Over', 'startingover', 'post', 3),\n (2016, 'Fight club', 'fightclub', 'post', 51),\n (2016, 'Eat Fat', 'eatfat', 'post', 4),\n (2016, 'Ember in the Ashes', 'emberintheashes', 'post', 5),\n (2016, 'Throne of glass', 'throneofglass', 'post', 6),\n (2016, 'In My Hands', 'inmyhands', 'post', 10),\n (2016, 'Space Jam', 'spacejam', 'post', 1),\n (2016, 'Us and Them', 'usandthem', 'post', 1),\n (2016, 'Uncontrollable', 'uncontrollable', 'post', 3),\n (2016, 'On history', 'onhistory', 'post', 6),\n (2016, 'Children of Dune', 'childrenofdune', 'post', 6),\n (2016, 'The One I Want', 'oneiwant', 'post', 5),\n (2016, 'Ajin', 'ajin', 'post', 8),\n (2016, 'The Illustrated Man', 'illustratedman', 'post', 7),\n (2016, 'Blackwater', 'blackwater', 'post', 2),\n (2016, 'Mein Kampf', 'meinkampf', 'post', 32),\n (2016, 'Half-Moon Investigations', 'halfmooninvestigations', 'post', 1),\n (2016, 'Fifty Shades Freed', 'fiftyshadesfreed', 'post', 1),\n (2016, 'A history of reading', 'historyofreading', 'post', 1),\n (2016, 'Tweak', 'tweak', 'post', 12),\n (2016, 'The most dangerous game', 'mostdangerousgame', 'post', 5),\n (2016, 'Monster Manual', 'monstermanual', 'post', 1),\n (2016, 'The geek feminist revolution', 'geekfeministrevolution', 'post', 1),\n (2016, 'Twelve against the gods', 'twelveagainstthegods', 'post', 4),\n (2016, 'Sold out', 'soldout', 'post', 5),\n (2016, 'Crime and Punishment', 'crimeandpunishment', 'post', 43),\n (2016, 'Scoundrel', 'scoundrel', 'post', 6),\n (2016, 'Kali Linux', 'kalilinux', 'post', 1),\n (2016,\n  'We Have Always Lived in the Castle',\n  'wehavealwayslivedinthecastle',\n  'post',\n  8),\n (2016, 'The one and only', 'oneandonly', 'post', 7),\n (2016, 'Corrupted', 'corrupted', 'post', 6),\n (2016, 'The Originals', 'originals', 'post', 37),\n (2016, 'Rayuela', 'rayuela', 'post', 2),\n (2016, 'The Saturdays', 'saturdays', 'post', 4),\n (2016, 'On intelligence', 'onintelligence', 'post', 1),\n (2016, 'Norwegian wood', 'norwegianwood', 'post', 32),\n (2016, 'Jeopardy!', 'jeopardy', 'post', 5),\n (2016, 'Why Read?', 'whyread', 'post', 31),\n (2016, 'Under the Sea', 'underthesea', 'post', 3),\n (2016, 'Art Dog', 'artdog', 'post', 2),\n (2016, 'Friend Request', 'friendrequest', 'post', 2),\n (2016, 'The watcher', 'watcher', 'post', 2),\n (2016, 'The one tree', 'onetree', 'post', 2),\n (2016, 'Gossip Girl', 'gossipgirl', 'post', 1),\n (2016, 'Person Of Interest', 'personofinterest', 'post', 1),\n (2016, 'Blue remembered Earth', 'bluerememberedearth', 'post', 1),\n (2016, 'Elephants', 'elephants', 'post', 2),\n (2016, 'On the Moon', 'onthemoon', 'post', 9),\n (2016, 'The Simulacra', 'simulacra', 'post', 1),\n (2016,\n  'Do Androids Dream of Electric Sheep?',\n  'doandroidsdreamofelectricsheep',\n  'post',\n  28),\n (2016, 'The Man in the High Castle', 'maninthehighcastle', 'post', 25),\n (2016, 'A Scanner Darkly', 'scannerdarkly', 'post', 10),\n (2016, 'Another Chance', 'anotherchance', 'post', 7),\n (2016,\n  'Down and Out in Paris and London',\n  'downandoutinparisandlondon',\n  'post',\n  3),\n (2016, 'Burmese Days', 'burmesedays', 'post', 3),\n (2016, 'Number the Stars', 'numberthestars', 'post', 1),\n (2016, 'Empire Falls', 'empirefalls', 'post', 3),\n (2016, 'Bridge to Terabithia', 'bridgetoterabithia', 'post', 9),\n (2016, 'Dollhouse', 'dollhouse', 'post', 1),\n (2016, 'Shades of Gray', 'shadesofgray', 'post', 3),\n (2016, 'Under the Influence', 'undertheinfluence', 'post', 2),\n (2016, 'The lynching', 'lynching', 'post', 1),\n (2016, 'The tunnels', 'tunnels', 'post', 8),\n (2016, 'Entrepreneurship', 'entrepreneurship', 'post', 7),\n (2016, 'New Rules', 'newrules', 'post', 2),\n (2016, 'Pebble in the Sky', 'pebbleinthesky', 'post', 2),\n (2016, 'The Scarlet Letter', 'scarletletter', 'post', 8),\n (2016, 'The inferno', 'inferno', 'post', 31),\n (2016, 'The Lost Symbol', 'lostsymbol', 'post', 4),\n (2016, 'Against the rules', 'againsttherules', 'post', 18),\n (2016, 'The Atlantis Gene', 'atlantisgene', 'post', 2),\n (2016, 'Look at You!', 'lookatyou', 'post', 3),\n (2016, 'Band of Brothers', 'bandofbrothers', 'post', 4),\n (2016, 'Little Red Riding Hood', 'littleredridinghood', 'post', 2),\n (2016, 'A Thousand Splendid Suns', 'thousandsplendidsuns', 'post', 10),\n (2016, 'Speak to me', 'speaktome', 'post', 2),\n (2016, 'Jaguars', 'jaguars', 'post', 2),\n (2016, 'Everlost', 'everlost', 'post', 3),\n (2016, 'Backpack', 'backpack', 'post', 15),\n (2016, 'For Whom the Bell Tolls', 'forwhomthebelltolls', 'post', 23),\n (2016, 'Pride and Prejudice', 'prideandprejudice', 'post', 44),\n (2016, 'The Great Gatsby', 'greatgatsby', 'post', 50),\n (2016, 'Red Rising', 'redrising', 'post', 47),\n (2016, 'One by One', 'onebyone', 'post', 4),\n (2016, 'Tintin', 'tintin', 'post', 11),\n (2016, 'Bear Hunt', 'bearhunt', 'post', 2),\n (2016, \"Foundation's Edge\", 'foundationsedge', 'post', 1),\n (2016, 'Foundation and Empire', 'foundationandempire', 'post', 3),\n (2016, 'Confrontation', 'confrontation', 'post', 11),\n (2016, 'Second Foundation', 'secondfoundation', 'post', 1),\n (2016, 'Standoff', 'standoff', 'post', 3),\n (2016, 'Foundation and Earth', 'foundationandearth', 'post', 1),\n (2016, 'Precaution', 'precaution', 'post', 2),\n (2016, \"We're Alive\", 'werealive', 'post', 3),\n (2016, 'Suspicious', 'suspicious', 'post', 7),\n (2016, 'Monday Begins on Saturday', 'mondaybeginsonsaturday', 'post', 2),\n (2016, 'Waiting for you', 'waitingforyou', 'post', 5),\n (2016, 'Marketing management', 'marketingmanagement', 'post', 2),\n (2016, 'The last days of Pompeii', 'lastdaysofpompeii', 'post', 2),\n (2016, 'Whispering', 'whispering', 'post', 6),\n (2016,\n  'Leadership and Self Deception',\n  'leadershipandselfdeception',\n  'post',\n  1),\n (2016, 'Our Kind', 'ourkind', 'post', 11),\n (2016, 'The undoing project', 'undoingproject', 'post', 2),\n (2016, 'London fields', 'londonfields', 'post', 1),\n (2016, 'Visiting Mrs Nabokov', 'visitingmrsnabokov', 'post', 2),\n (2016, 'The traitor', 'traitor', 'post', 3),\n (2016, 'Two-faced', 'twofaced', 'post', 1),\n (2016, 'Wracked', 'wracked', 'post', 2),\n (2016, 'Water Crisis', 'watercrisis', 'post', 1),\n (2016,\n  '1001 books you must read before you die',\n  '1001booksyoumustreadbeforeyoudie',\n  'post',\n  1),\n (2016, 'No country for old men', 'nocountryforoldmen', 'post', 12),\n (2016, 'Never Too Late', 'nevertoolate', 'post', 4),\n (2016, 'Death with interruptions', 'deathwithinterruptions', 'post', 1),\n (2016, 'Cellist', 'cellist', 'post', 2),\n (2016, 'A dark and hungry god arises', 'darkandhungrygodarises', 'post', 1),\n (2016, 'The magician', 'magician', 'post', 53),\n (2016, 'Wanderings', 'wanderings', 'post', 3),\n (2016, 'Remake', 'remake', 'post', 10),\n (2016, 'The Body Keeps the Score', 'bodykeepsthescore', 'post', 1),\n (2016, 'Saham', 'saham', 'post', 2),\n (2016, 'Parallel Worlds', 'parallelworlds', 'post', 4),\n (2016, 'Other selves', 'otherselves', 'post', 1),\n (2016, 'Gargoyles', 'gargoyles', 'post', 1),\n (2016, 'Phantoms', 'phantoms', 'post', 3),\n (2016, 'Three children', 'threechildren', 'post', 4),\n (2016, 'Spontaneous', 'spontaneous', 'post', 12),\n (2016, 'The haunted house', 'hauntedhouse', 'post', 6),\n (2016, 'About a Boy', 'aboutaboy', 'post', 6),\n (2016, 'Menagerie', 'menagerie', 'post', 12),\n (2016, 'So cool', 'socool', 'post', 11),\n (2016, 'H Is for Hawk', 'hisforhawk', 'post', 6),\n (2016, 'Katy', 'katy', 'post', 5),\n (2016, 'Aromatherapy', 'aromatherapy', 'post', 5),\n (2016, 'The Locked Room', 'lockedroom', 'post', 1),\n (2016, 'Smashed', 'smashed', 'post', 5),\n (2016, 'Letters from a Stoic', 'lettersfromastoic', 'post', 3),\n (2016, 'Cellulite', 'cellulite', 'post', 3),\n (2016, 'The worm Ouroboros', 'wormouroboros', 'post', 2),\n (2016, 'Paroles', 'paroles', 'post', 14),\n (2016, 'Yes Please', 'yesplease', 'post', 3),\n (2016, 'Lord Jim', 'lordjim', 'post', 2),\n (2016, 'Branding', 'branding', 'post', 5),\n (2016, 'The Botany of Desire', 'botanyofdesire', 'post', 2),\n (2016, 'The way I am', 'wayiam', 'post', 9),\n (2016, 'Mind Time', 'mindtime', 'post', 1),\n (2016, 'The Vikings', 'vikings', 'post', 4),\n (2016, 'Tropic of Capricorn', 'tropicofcapricorn', 'post', 1),\n (2016, 'The Godfather', 'godfather', 'post', 16),\n (2016, 'Towering', 'towering', 'post', 4),\n (2016, 'The skating rink', 'skatingrink', 'post', 1),\n (2016,\n  'The Ocean at the End of the Lane',\n  'oceanattheendofthelane',\n  'post',\n  12),\n (2016, 'The housemaid', 'housemaid', 'post', 3),\n (2016, 'O Design', 'odesign', 'post', 16),\n (2016, 'The Odyssey', 'odyssey', 'post', 42),\n (2016, 'Uncanny!', 'uncanny', 'post', 6),\n (2016, 'Monument', 'monument', 'post', 11),\n (2016,\n  'The code of the extraordinary mind',\n  'codeoftheextraordinarymind',\n  'post',\n  1),\n (2016, 'Breakfast of Champions', 'breakfastofchampions', 'post', 20),\n (2016, 'As you wish', 'asyouwish', 'post', 4),\n (2016, 'The Princess Bride', 'princessbride', 'post', 17),\n (2016, 'The princess diarist', 'princessdiarist', 'post', 2),\n (2016, 'Assassins', 'assassins', 'post', 4),\n (2016, 'Lost It', 'lostit', 'post', 8),\n (2016, 'The Boxcar Children', 'boxcarchildren', 'post', 5),\n (2016, 'The spirit of C', 'spiritofc', 'post', 1),\n (2016, 'Dog behavior', 'dogbehavior', 'post', 3),\n (2016, 'Fables', 'fables', 'post', 13),\n (2016, 'Plugged', 'plugged', 'post', 4),\n (2016, 'Time Windows', 'timewindows', 'post', 1),\n (2016, 'The Sea of Monsters', 'seaofmonsters', 'post', 1),\n (2016, 'Cloud Computing', 'cloudcomputing', 'post', 4),\n (2016, 'Flowers for Algernon', 'flowersforalgernon', 'post', 26),\n (2016, 'Les Misérables', 'lesmiserables', 'post', 21),\n (2016, 'ZeroZeroZero', 'zerozerozero', 'post', 1),\n (2016, 'Superintelligence', 'superintelligence', 'post', 4),\n (2016, 'Microeconomics', 'microeconomics', 'post', 1),\n (2016,\n  'My Father, the Pornographer: A Memoir',\n  'myfatherthepornographeramemoir',\n  'post',\n  1),\n (2016, 'Asking for it', 'askingforit', 'post', 2),\n (2016, 'Chiaroscuro', 'chiaroscuro', 'post', 1),\n (2016, 'Letting Go', 'lettinggo', 'post', 4),\n (2016, \"Hell's Angels\", 'hellsangels', 'post', 8),\n (2016, 'Good Girls', 'goodgirls', 'post', 1),\n (2016, 'Deep space', 'deepspace', 'post', 6),\n (2016, 'Push back', 'pushback', 'post', 2),\n (2016, 'The Courtesan', 'courtesan', 'post', 1),\n (2016, 'Talion', 'talion', 'post', 2),\n (2016, 'Forbidden Love', 'forbiddenlove', 'post', 1),\n (2016, 'Good Omens', 'goodomens', 'post', 22),\n (2016, 'Silenced', 'silenced', 'post', 3),\n (2016, 'Minion', 'minion', 'post', 1),\n (2016, 'company profile', 'companyprofile', 'post', 6),\n (2016,\n  'Harry Potter and the Deathly Hallows',\n  'harrypotterandthedeathlyhallows',\n  'post',\n  2),\n (2016, 'Auschwitz', 'auschwitz', 'post', 5),\n (2016, 'The Story of Islam', 'storyofislam', 'post', 1),\n (2016, 'Timbuktu', 'timbuktu', 'post', 4),\n (2016, 'The vandals', 'vandals', 'post', 3),\n (2016, 'Hellbent', 'hellbent', 'post', 2),\n (2016, 'Indian art', 'indianart', 'post', 1),\n (2016, 'Until Friday Night', 'untilfridaynight', 'post', 1),\n (2016, 'Ficciones', 'ficciones', 'post', 4),\n (2016, 'Mumbo jumbo', 'mumbojumbo', 'post', 4),\n (2016, 'Pnin', 'pnin', 'post', 6),\n (2016, 'Palm-of-the-hand stories', 'palmofthehandstories', 'post', 1),\n (2016, 'The Collected Poems', 'collectedpoems', 'post', 3),\n (2016, \"Where I'm Calling From\", 'whereimcallingfrom', 'post', 7),\n (2016, 'Human interaction', 'humaninteraction', 'post', 3),\n (2016,\n  'How to Win Friends and Influence People',\n  'howtowinfriendsandinfluencepeople',\n  'post',\n  21),\n (2016, 'Do Nothing', 'donothing', 'post', 4),\n (2016, 'Biochemistry', 'biochemistry', 'post', 11),\n (2016, 'Adolphe', 'adolphe', 'post', 1),\n (2016, 'Me first', 'mefirst', 'post', 17),\n (2016, 'The wasp factory', 'waspfactory', 'post', 8),\n (2016, 'Red plenty', 'redplenty', 'post', 1),\n (2016, 'The other hand', 'otherhand', 'post', 44),\n (2016, 'The Water Knife', 'waterknife', 'post', 12),\n (2016, 'The Windup Girl', 'windupgirl', 'post', 10),\n (2016, 'Ship breaker', 'shipbreaker', 'post', 1),\n (2016, 'The American South', 'americansouth', 'post', 3),\n (2016, 'For the record', 'fortherecord', 'post', 2),\n (2016, 'Screwed', 'screwed', 'post', 9),\n (2016, 'Marketing strategy', 'marketingstrategy', 'post', 7),\n (2016, 'The Age of Reason', 'ageofreason', 'post', 1),\n (2016, '2 Minutes', '2minutes', 'post', 3),\n (2016, 'Driving force', 'drivingforce', 'post', 7),\n (2016, 'Nihilism', 'nihilism', 'post', 5),\n (2016, 'Nocturnal', 'nocturnal', 'post', 5),\n (2016, 'High Profile', 'highprofile', 'post', 3),\n (2016, 'The second generation', 'secondgeneration', 'post', 3),\n (2016,\n  'Stories of Your Life and Others',\n  'storiesofyourlifeandothers',\n  'post',\n  2),\n (2016, 'Valis', 'valis', 'post', 13),\n (2016, 'Memily', 'memily', 'post', 3),\n (2016, 'Unbound', 'unbound', 'post', 9),\n (2016, 'Yellow Brick War', 'yellowbrickwar', 'post', 4),\n (2016, 'Heart of glass', 'heartofglass', 'post', 4),\n (2016, 'Salt to the Sea', 'salttothesea', 'post', 5),\n (2016, 'Ascend', 'ascend', 'post', 11),\n (2016, 'Saga, volume two', 'sagavolumetwo', 'post', 1),\n (2016, 'Hiyas', 'hiyas', 'post', 1),\n (2016, 'The Seagull', 'seagull', 'post', 2),\n (2016, 'Untrue', 'untrue', 'post', 3),\n (2016, 'True Names', 'truenames', 'post', 1),\n (2016, 'The Dwelling', 'dwelling', 'post', 5),\n (2016, 'God Delusion', 'goddelusion', 'post', 7),\n (2016, 'The Picture of Dorian Gray', 'pictureofdoriangray', 'post', 16),\n (2016, 'Fates and furies', 'fatesandfuries', 'post', 7),\n (2016, 'Between the lines', 'betweenthelines', 'post', 5),\n (2016, 'My love for you', 'myloveforyou', 'post', 1),\n (2016, 'Wishful drinking', 'wishfuldrinking', 'post', 1),\n (2016,\n  'A Knight of the Seven Kingdoms',\n  'knightofthesevenkingdoms',\n  'post',\n  1),\n (2016, 'The Throwback', 'throwback', 'post', 2),\n (2016, 'Innocents', 'innocents', 'post', 3),\n (2016, 'Seduction of the innocent', 'seductionoftheinnocent', 'post', 1),\n (2016, 'Academic writing', 'academicwriting', 'post', 4),\n (2016, 'Fire touched', 'firetouched', 'post', 4),\n (2016, 'Mercy Thompson', 'mercythompson', 'post', 3),\n (2016, 'The Bazaar of Bad Dreams', 'bazaarofbaddreams', 'post', 11),\n (2016, 'Huntress', 'huntress', 'post', 6),\n (2016, 'Electronic Devices', 'electronicdevices', 'post', 1),\n (2016, 'In my pocket', 'inmypocket', 'post', 5),\n (2016, 'Rat catcher', 'ratcatcher', 'post', 1),\n (2016, 'Zom-B', 'zomb', 'post', 59),\n (2016, 'Barbie and the secret door', 'barbieandthesecretdoor', 'post', 1),\n (2016, 'All I Want', 'alliwant', 'post', 8),\n (2016, 'Lies, Inc', 'liesinc', 'post', 4),\n (2016, \"DUMPLIN'\", 'dumplin', 'post', 5),\n (2016, 'Maus I', 'mausi', 'post', 2),\n (2016, 'Imajica', 'imajica', 'post', 2),\n (2016, 'Whales', 'whales', 'post', 13),\n (2016, 'Yearning', 'yearning', 'post', 4),\n (2016, 'The Twilight Saga', 'twilightsaga', 'post', 4),\n (2016, 'Sense and Sensibility', 'senseandsensibility', 'post', 6),\n (2016, 'Head over Heels', 'headoverheels', 'post', 1),\n (2016, 'Egomaniac', 'egomaniac', 'post', 1),\n (2016, 'Benchmarking', 'benchmarking', 'post', 1),\n (2016, 'Infomocracy', 'infomocracy', 'post', 4),\n (2016, 'The antidote', 'antidote', 'post', 5),\n (2016, 'In One Person', 'inoneperson', 'post', 1),\n (2016, 'Harlem', 'harlem', 'post', 3),\n (2016, 'Stars Above', 'starsabove', 'post', 5),\n (2016, 'Paradise Lost', 'paradiselost', 'post', 34),\n (2016, 'Born a Crime', 'bornacrime', 'post', 4),\n (2016, 'Mort(e)', 'morte', 'post', 7),\n (2016, 'The Flinch', 'flinch', 'post', 7),\n (2016, 'Left Behind', 'leftbehind', 'post', 18),\n (2016, 'The late show', 'lateshow', 'post', 1),\n (2016, 'Filth', 'filth', 'post', 18),\n (2016, 'Desserts', 'desserts', 'post', 1),\n (2016, 'Skyscraper', 'skyscraper', 'post', 2),\n (2016, 'Gilead', 'gilead', 'post', 14),\n (2016, 'Wizard and Glass', 'wizardandglass', 'post', 14),\n (2016, 'Crimson death', 'crimsondeath', 'post', 1),\n (2016, \"The tiger's child\", 'tigerschild', 'post', 1),\n (2016, 'Saturday Night', 'saturdaynight', 'post', 3),\n (2016, 'Out of the blue', 'outoftheblue', 'post', 4),\n (2016, 'Bandits', 'bandits', 'post', 7),\n (2016, 'Forgiveness', 'forgiveness', 'post', 9),\n (2016, 'The Dark Wild', 'darkwild', 'post', 1),\n (2016, 'AQAAB', 'aqaab', 'post', 1),\n (2016, 'The Cask of Amontillado', 'caskofamontillado', 'post', 4),\n (2016, 'A Rose for Emily', 'roseforemily', 'post', 3),\n (2016, 'A Streetcar Named Desire', 'streetcarnameddesire', 'post', 1),\n (2016, 'Chindi', 'chindi', 'post', 7),\n (2016, 'The Count of Monte Cristo', 'countofmontecristo', 'post', 65),\n (2016, 'Vengeance', 'vengeance', 'post', 9),\n (2016, 'Reamde', 'reamde', 'post', 6),\n (2016, 'Pet Peeves', 'petpeeves', 'post', 7),\n (2016, 'Ibuk', 'ibuk', 'post', 24),\n (2016, 'Bad habits', 'badhabits', 'post', 8),\n (2016, 'Illustrated C', 'illustratedc', 'post', 5),\n (2016, 'Avatar, the last airbender', 'avatarthelastairbender', 'post', 3),\n (2016, 'Off Armageddon Reef', 'offarmageddonreef', 'post', 1),\n (2016, 'Brainwashed', 'brainwashed', 'post', 5),\n (2016, 'Good guys', 'goodguys', 'post', 6),\n (2016, 'The Bad Guys', 'badguys', 'post', 12),\n (2016, 'The day before', 'daybefore', 'post', 8),\n (2016, 'Run fast', 'runfast', 'post', 2),\n (2016, 'Doctor Sleep', 'doctorsleep', 'post', 14),\n (2016, 'A darker shade of magic', 'darkershadeofmagic', 'post', 4),\n (2016, 'A dance of cloaks', 'danceofcloaks', 'post', 1),\n (2016, \"The Baby-Sitter's Club\", 'babysittersclub', 'post', 9),\n (2016, 'Frontiers', 'frontiers', 'post', 4),\n (2016, 'SOLAS', 'solas', 'post', 5),\n (2016, 'About Looking', 'aboutlooking', 'post', 5),\n (2016, 'After Tex', 'aftertex', 'post', 1),\n (2016, 'Fallen in love', 'falleninlove', 'post', 3),\n (2016, 'Fan art', 'fanart', 'post', 10),\n (2016, 'A Monster Calls', 'monstercalls', 'post', 6),\n (2016, 'Beautiful lies', 'beautifullies', 'post', 1),\n (2016, 'The shattering', 'shattering', 'post', 3),\n (2016, 'The newbies', 'newbies', 'post', 5),\n (2016, 'Condensed Chaos', 'condensedchaos', 'post', 1),\n (2016, 'My Struggle', 'mystruggle', 'post', 13),\n (2016, 'Swimmers', 'swimmers', 'post', 2),\n (2016, 'Internet of things', 'internetofthings', 'post', 6),\n (2016, 'Pain Management', 'painmanagement', 'post', 1),\n (2016, 'Law of attraction', 'lawofattraction', 'post', 10),\n (2016, 'In danger', 'indanger', 'post', 5),\n (2016, 'It was Jake!', 'itwasjake', 'post', 1),\n (2016, \"Just can't get enough\", 'justcantgetenough', 'post', 1),\n (2016, 'Nineteen Eighty-Four', 'nineteeneightyfour', 'post', 16),\n (2016, 'Fired up', 'firedup', 'post', 2),\n (2016, 'The Last Kingdom', 'lastkingdom', 'post', 3),\n (2016, 'Autopilot', 'autopilot', 'post', 5),\n (2016, 'A whole new world', 'wholenewworld', 'post', 2),\n (2016, 'Mysterious skin', 'mysteriousskin', 'post', 1),\n (2016, 'Dead eye', 'deadeye', 'post', 1),\n (2016, 'Treachery', 'treachery', 'post', 5),\n (2016, 'Married By Midnight', 'marriedbymidnight', 'post', 1),\n (2016, 'The Dark Ages', 'darkages', 'post', 5),\n (2016,\n  'Shirley Jackson\\'s \"The Lottery\"',\n  'shirleyjacksonsthelottery',\n  'post',\n  2),\n (2016, 'Haunt Fox', 'hauntfox', 'post', 1),\n (2016, 'Into the Wild', 'intothewild', 'post', 13),\n (2016, 'The Things They Carried', 'thingstheycarried', 'post', 12),\n (2016, 'In the garden of beasts', 'inthegardenofbeasts', 'post', 5),\n (2016, 'Face Of Danger', 'faceofdanger', 'post', 1),\n (2016, 'That Cat!', 'thatcat', 'post', 16),\n (2016, 'Seduced', 'seduced', 'post', 6),\n (2016, 'Exquisite', 'exquisite', 'post', 18),\n (2016,\n  \"So You've Been Publicly Shamed\",\n  'soyouvebeenpubliclyshamed',\n  'post',\n  6),\n (2016, 'Rationality', 'rationality', 'post', 4),\n (2016, 'The Comedians', 'comedians', 'post', 5),\n (2016, 'You can do anything', 'youcandoanything', 'post', 2),\n (2016, 'Arabella', 'arabella', 'post', 1),\n (2016, 'The Boarding House', 'boardinghouse', 'post', 1),\n (2016, 'Juju', 'juju', 'post', 3),\n (2016, 'The last days of Jack Sparks', 'lastdaysofjacksparks', 'post', 1),\n (2016, 'Vipers', 'vipers', 'post', 1),\n (2016, 'Outliers', 'outliers', 'post', 3),\n (2016, 'A Clash of Kings', 'clashofkings', 'post', 12),\n (2016, 'Smarter faster better', 'smarterfasterbetter', 'post', 2),\n (2016, 'Apples', 'apples', 'post', 9),\n (2016, 'Intimations', 'intimations', 'post', 2),\n (2016, 'Bloodlines', 'bloodlines', 'post', 6),\n (2016, 'Now is the Time', 'nowisthetime', 'post', 2),\n (2016, 'Sleeping Giants', 'sleepinggiants', 'post', 8),\n (2016, 'Howard Who?', 'howardwho', 'post', 1),\n (2016, 'I-God', 'igod', 'post', 10),\n (2016, 'The Library Book', 'librarybook', 'post', 40),\n (2016, 'The card catalog', 'cardcatalog', 'post', 2),\n (2016, 'For the love of God', 'fortheloveofgod', 'post', 1),\n (2016, \"Who's Afraid?\", 'whosafraid', 'post', 3),\n (2016, \"Here's how\", 'hereshow', 'post', 18),\n (2016, 'Everything, Everything', 'everythingeverything', 'post', 3),\n (2016,\n  'A Series of Unfortunate Events',\n  'seriesofunfortunateevents',\n  'post',\n  35),\n (2016,\n  \"Alice's Adventures in Wonderland\",\n  'alicesadventuresinwonderland',\n  'post',\n  6),\n (2016, 'Esperanto', 'esperanto', 'post', 1),\n (2016, \"Hitler's second book\", 'hitlerssecondbook', 'post', 1),\n (2016, 'Ever after', 'everafter', 'post', 13),\n (2016, 'The Loner', 'loner', 'post', 9),\n (2016, 'Elemental', 'elemental', 'post', 8),\n (2016, \"L'Ogre\", 'logre', 'post', 11),\n (2016, 'The Way of Kings', 'wayofkings', 'post', 27),\n (2016, 'The recognitions', 'recognitions', 'post', 8),\n (2016, '50 Shades of Grey', '50shadesofgrey', 'post', 6),\n (2016, 'Behemoth', 'behemoth', 'post', 7),\n (2016, 'Half-Blood', 'halfblood', 'post', 8),\n (2016,\n  'Zen and the Art of Motorcycle Maintenance',\n  'zenandtheartofmotorcyclemaintenance',\n  'post',\n  20),\n (2016, 'How to make money', 'howtomakemoney', 'post', 44),\n (2016, 'Penguins', 'penguins', 'post', 12),\n (2016, 'A brief history of time', 'briefhistoryoftime', 'post', 10),\n (2016, 'Teen idol', 'teenidol', 'post', 1),\n (2016, 'How we do it', 'howwedoit', 'post', 1),\n (2016, 'The Goldfinch', 'goldfinch', 'post', 17),\n (2016, 'The Dunwich Horror', 'dunwichhorror', 'post', 2),\n (2016, 'Miracles', 'miracles', 'post', 15),\n (2016, 'Ergonomics', 'ergonomics', 'post', 1),\n (2016, 'Save Me', 'saveme', 'post', 3),\n (2016, 'Wolverine', 'wolverine', 'post', 2),\n (2016, 'Black Widow', 'blackwidow', 'post', 3),\n (2016, 'Astonishing X-Men', 'astonishingxmen', 'post', 1),\n (2016, 'Will Grayson, Will Grayson', 'willgraysonwillgrayson', 'post', 2),\n (2016, 'The Sound and the Fury', 'soundandthefury', 'post', 21),\n (2016, 'A Tale of Two Cities', 'taleoftwocities', 'post', 18),\n (2016, 'Oliver Twist', 'olivertwist', 'post', 4),\n (2016, 'Avengers', 'avengers', 'post', 2),\n (2016, \"Salem's Lot\", 'salemslot', 'post', 24),\n (2016, 'The Pale King', 'paleking', 'post', 17),\n (2016, 'Closer to home', 'closertohome', 'post', 1),\n (2016, 'Speaker for the Dead', 'speakerforthedead', 'post', 7),\n (2016, 'Friend Me', 'friendme', 'post', 2),\n (2016,\n  'The Flame Bearer (The Last Kingdom Series)',\n  'flamebearerthelastkingdomseries',\n  'post',\n  1),\n (2016, 'Phonics Comics', 'phonicscomics', 'post', 1),\n (2016, 'Enchantress', 'enchantress', 'post', 1),\n (2016, 'Seal Island', 'sealisland', 'post', 1),\n (2016, 'Homegoing', 'homegoing', 'post', 6),\n (2016, 'The real story', 'realstory', 'post', 5),\n (2016, 'Grey Wolves', 'greywolves', 'post', 1),\n (2016, 'Bare bones', 'barebones', 'post', 3),\n (2016, 'You Belong', 'youbelong', 'post', 3),\n (2016, 'The hermit crab', 'hermitcrab', 'post', 1),\n (2016, 'How to read a book', 'howtoreadabook', 'post', 16),\n (2016,\n  \"William Shakespeare's A midsummer night's dream\",\n  'williamshakespearesamidsummernightsdream',\n  'post',\n  1),\n (2016, 'Effective C++', 'effectivec', 'post', 7),\n (2016, 'Sudden death', 'suddendeath', 'post', 4),\n (2016, 'Reaver', 'reaver', 'post', 3),\n (2016, 'Eating animals', 'eatinganimals', 'post', 2),\n (2016, 'King Lear', 'kinglear', 'post', 10),\n (2016, '1607', '1607', 'post', 13),\n (2016, 'Poemw', 'poemw', 'post', 11),\n (2016, 'The Hound of the Baskervilles', 'houndofthebaskervilles', 'post', 2),\n (2016, 'The First Deadly Sin', 'firstdeadlysin', 'post', 1),\n (2016, 'The second deadly sin', 'seconddeadlysin', 'post', 1),\n (2016, 'Police procedurals', 'policeprocedurals', 'post', 2),\n (2016, 'Side effects', 'sideeffects', 'post', 5),\n (2016, 'I CAN ONLY IMAGINE', 'icanonlyimagine', 'post', 6),\n (2016, 'Think and grow rich', 'thinkandgrowrich', 'post', 5),\n (2016, 'Area 51', 'area51', 'post', 1),\n (2016, 'A Long Way Gone', 'longwaygone', 'post', 3),\n (2016, '\"Pulp Fiction\"', 'pulpfiction', 'post', 11),\n (2016, 'The lovely bones', 'lovelybones', 'post', 3),\n (2016, 'Our Kind of Traitor', 'ourkindoftraitor', 'post', 1),\n (2016, 'A walk in the woods', 'walkinthewoods', 'post', 5),\n (2016, 'The Tipping Point', 'tippingpoint', 'post', 6),\n (2016, 'Too busy', 'toobusy', 'post', 2),\n (2016, 'The Best fairy tales', 'bestfairytales', 'post', 1),\n (2016, 'The Stormlight Archive', 'stormlightarchive', 'post', 24),\n (2016, 'Me Before You', 'mebeforeyou', 'post', 22),\n (2016, \"Gulliver's Travels\", 'gulliverstravels', 'post', 5),\n (2016, 'The Hobbit', 'hobbit', 'post', 65),\n (2016, 'The Fellowship of the Ring', 'fellowshipofthering', 'post', 13),\n (2016, 'The Two Towers', 'twotowers', 'post', 5),\n (2016, 'The Return of the King', 'returnoftheking', 'post', 5),\n (2016, 'The Lathe of Heaven', 'latheofheaven', 'post', 1),\n (2016, 'Watership Down', 'watershipdown', 'post', 43),\n (2016, 'Royals', 'royals', 'post', 5),\n (2016, 'The Little Prince', 'littleprince', 'post', 13),\n (2016, 'The dying of the light', 'dyingofthelight', 'post', 4),\n (2016, 'Fevre Dream', 'fevredream', 'post', 2),\n (2016, 'The Wise Man’s Fear', 'wisemansfear', 'post', 14),\n (2016,\n  'A Slow Regard of Silent Things',\n  'slowregardofsilentthings',\n  'post',\n  3),\n (2016, 'Dead End', 'deadend', 'post', 3),\n (2016, 'Yaban', 'yaban', 'post', 7),\n (2016, 'Life and Death', 'lifeanddeath', 'post', 10),\n (2016, 'Nothing at all', 'nothingatall', 'post', 5),\n (2016, 'The Maltese Falcon', 'maltesefalcon', 'post', 7),\n (2016, 'Reading the wind', 'readingthewind', 'post', 4),\n (2016, 'The hiccup', 'hiccup', 'post', 1),\n (2016, 'Lost in translation', 'lostintranslation', 'post', 3),\n (2016, 'Daniel X', 'danielx', 'post', 1),\n (2016, 'Lights out', 'lightsout', 'post', 5),\n (2016, 'How it ends', 'howitends', 'post', 3),\n (2016, 'Reflexology', 'reflexology', 'post', 16),\n (2016, 'Mickey Mouse', 'mickeymouse', 'post', 5),\n (2016, 'The Shallows', 'shallows', 'post', 4),\n (2016, 'Haunted houses', 'hauntedhouses', 'post', 3),\n (2016, 'Dead Souls', 'deadsouls', 'post', 2),\n (2016, 'The charisma myth', 'charismamyth', 'post', 1),\n (2016, 'On looking', 'onlooking', 'post', 6),\n (2016, 'Guards! Guards!', 'guardsguards', 'post', 3),\n ...]"
     },
     "execution_count": 11,
     "metadata": {},
     "output_type": "execute_result"
    },
    {
     "name": "stdout",
     "output_type": "stream",
     "text": [
      "time: 53.6 ms (started: 2022-10-26 17:11:48 +02:00)\n"
     ]
    }
   ],
   "source": [
    "book_ranking"
   ],
   "metadata": {
    "collapsed": false
   }
  },
  {
   "cell_type": "code",
   "execution_count": 12,
   "outputs": [
    {
     "data": {
      "text/plain": "       Year                     Title     Normalized Title Post or Comment  \\\n0      2021                  The Heir                 heir            post   \n1      2020                  The Heir                 heir            post   \n2      2022                  The Heir                 heir            post   \n3      2022                  The Heir                 heir         comment   \n4      2018                  The Heir                 heir            post   \n...     ...                       ...                  ...             ...   \n83564  2021   All the President's Men  allthepresidentsmen            post   \n83565  2021             Show-Stopper!          showstopper            post   \n83566  2021    The Angel of the Crows      angelofthecrows            post   \n83567  2021  The Witness for the Dead    witnessforthedead            post   \n83568  2015                 Greyhound            greyhound            post   \n\n       Occurrences  \n0             4084  \n1             3237  \n2             3153  \n3             3151  \n4             2221  \n...            ...  \n83564            1  \n83565            1  \n83566            1  \n83567            1  \n83568            1  \n\n[83569 rows x 5 columns]",
      "text/html": "<div>\n<style scoped>\n    .dataframe tbody tr th:only-of-type {\n        vertical-align: middle;\n    }\n\n    .dataframe tbody tr th {\n        vertical-align: top;\n    }\n\n    .dataframe thead th {\n        text-align: right;\n    }\n</style>\n<table border=\"1\" class=\"dataframe\">\n  <thead>\n    <tr style=\"text-align: right;\">\n      <th></th>\n      <th>Year</th>\n      <th>Title</th>\n      <th>Normalized Title</th>\n      <th>Post or Comment</th>\n      <th>Occurrences</th>\n    </tr>\n  </thead>\n  <tbody>\n    <tr>\n      <th>0</th>\n      <td>2021</td>\n      <td>The Heir</td>\n      <td>heir</td>\n      <td>post</td>\n      <td>4084</td>\n    </tr>\n    <tr>\n      <th>1</th>\n      <td>2020</td>\n      <td>The Heir</td>\n      <td>heir</td>\n      <td>post</td>\n      <td>3237</td>\n    </tr>\n    <tr>\n      <th>2</th>\n      <td>2022</td>\n      <td>The Heir</td>\n      <td>heir</td>\n      <td>post</td>\n      <td>3153</td>\n    </tr>\n    <tr>\n      <th>3</th>\n      <td>2022</td>\n      <td>The Heir</td>\n      <td>heir</td>\n      <td>comment</td>\n      <td>3151</td>\n    </tr>\n    <tr>\n      <th>4</th>\n      <td>2018</td>\n      <td>The Heir</td>\n      <td>heir</td>\n      <td>post</td>\n      <td>2221</td>\n    </tr>\n    <tr>\n      <th>...</th>\n      <td>...</td>\n      <td>...</td>\n      <td>...</td>\n      <td>...</td>\n      <td>...</td>\n    </tr>\n    <tr>\n      <th>83564</th>\n      <td>2021</td>\n      <td>All the President's Men</td>\n      <td>allthepresidentsmen</td>\n      <td>post</td>\n      <td>1</td>\n    </tr>\n    <tr>\n      <th>83565</th>\n      <td>2021</td>\n      <td>Show-Stopper!</td>\n      <td>showstopper</td>\n      <td>post</td>\n      <td>1</td>\n    </tr>\n    <tr>\n      <th>83566</th>\n      <td>2021</td>\n      <td>The Angel of the Crows</td>\n      <td>angelofthecrows</td>\n      <td>post</td>\n      <td>1</td>\n    </tr>\n    <tr>\n      <th>83567</th>\n      <td>2021</td>\n      <td>The Witness for the Dead</td>\n      <td>witnessforthedead</td>\n      <td>post</td>\n      <td>1</td>\n    </tr>\n    <tr>\n      <th>83568</th>\n      <td>2015</td>\n      <td>Greyhound</td>\n      <td>greyhound</td>\n      <td>post</td>\n      <td>1</td>\n    </tr>\n  </tbody>\n</table>\n<p>83569 rows × 5 columns</p>\n</div>"
     },
     "execution_count": 12,
     "metadata": {},
     "output_type": "execute_result"
    },
    {
     "name": "stdout",
     "output_type": "stream",
     "text": [
      "time: 1.16 s (started: 2022-10-26 17:11:48 +02:00)\n"
     ]
    }
   ],
   "source": [
    "merged_frame = pd.DataFrame(book_ranking, columns=['Year', 'Title', 'Normalized Title', 'Post or Comment', 'Occurrences'])\n",
    "merged_frame.sort_values('Occurrences', inplace=True, ascending=False, ignore_index=False)\n",
    "merged_frame.reset_index(drop='index', inplace=True)\n",
    "merged_frame"
   ],
   "metadata": {
    "collapsed": false
   }
  },
  {
   "cell_type": "code",
   "execution_count": 13,
   "outputs": [
    {
     "name": "stdout",
     "output_type": "stream",
     "text": [
      "time: 229 ms (started: 2022-10-26 17:11:49 +02:00)\n"
     ]
    }
   ],
   "source": [
    "merged_frame.to_csv(BOOK_COUNT_DF)"
   ],
   "metadata": {
    "collapsed": false
   }
  }
 ],
 "metadata": {
  "kernelspec": {
   "display_name": "Python 3 (ipykernel)",
   "language": "python",
   "name": "python3"
  },
  "language_info": {
   "codemirror_mode": {
    "name": "ipython",
    "version": 2
   },
   "file_extension": ".py",
   "mimetype": "text/x-python",
   "name": "python",
   "nbconvert_exporter": "python",
   "pygments_lexer": "ipython2",
   "version": "2.7.6"
  }
 },
 "nbformat": 4,
 "nbformat_minor": 1
}
